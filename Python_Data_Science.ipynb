{
  "nbformat": 4,
  "nbformat_minor": 0,
  "metadata": {
    "colab": {
      "name": "Python Data Science.ipynb",
      "provenance": [],
      "toc_visible": true,
      "authorship_tag": "ABX9TyOC1CIUc4dpZS0Bux6DpGd7",
      "include_colab_link": true
    },
    "kernelspec": {
      "name": "python3",
      "display_name": "Python 3"
    }
  },
  "cells": [
    {
      "cell_type": "markdown",
      "metadata": {
        "id": "view-in-github",
        "colab_type": "text"
      },
      "source": [
        "<a href=\"https://colab.research.google.com/github/albertodiazr/ClasesMaster/blob/main/Python_Data_Science.ipynb\" target=\"_parent\"><img src=\"https://colab.research.google.com/assets/colab-badge.svg\" alt=\"Open In Colab\"/></a>"
      ]
    },
    {
      "cell_type": "code",
      "metadata": {
        "colab": {
          "base_uri": "https://localhost:8080/"
        },
        "id": "7vm48KKUGSr-",
        "outputId": "d2838644-ff7b-4c71-904b-b1cb7c4d6fa5"
      },
      "source": [
        "import os\r\n",
        "drive_loc = '/content/gdrive'\r\n",
        "files_loc = os.path.join(drive_loc, \"MyDrive\", \"pythondsfiles\")\r\n",
        "\r\n",
        "from google.colab import drive\r\n",
        "drive.mount(drive_loc)"
      ],
      "execution_count": 1,
      "outputs": [
        {
          "output_type": "stream",
          "text": [
            "Mounted at /content/gdrive\n"
          ],
          "name": "stdout"
        }
      ]
    },
    {
      "cell_type": "code",
      "metadata": {
        "id": "bLO74gltJAFr"
      },
      "source": [
        "!mkdir -p {files_loc} "
      ],
      "execution_count": null,
      "outputs": []
    },
    {
      "cell_type": "code",
      "metadata": {
        "id": "O87yJjsaJot-",
        "colab": {
          "base_uri": "https://localhost:8080/"
        },
        "outputId": "05fdb8c0-33fa-4c14-c514-a597da6ac92b"
      },
      "source": [
        "!ls {files_loc}"
      ],
      "execution_count": null,
      "outputs": [
        {
          "output_type": "stream",
          "text": [
            "csv_output.csv\texample.db  excel_output.xls  s3.pkl  T100_AIRLINES.csv\n"
          ],
          "name": "stdout"
        }
      ]
    },
    {
      "cell_type": "code",
      "metadata": {
        "colab": {
          "base_uri": "https://localhost:8080/",
          "height": 35
        },
        "id": "zz5_Dn-mJs6o",
        "outputId": "67f3b40b-50f7-450f-d0fc-d341d19c14ef"
      },
      "source": [
        "files_loc"
      ],
      "execution_count": null,
      "outputs": [
        {
          "output_type": "execute_result",
          "data": {
            "application/vnd.google.colaboratory.intrinsic+json": {
              "type": "string"
            },
            "text/plain": [
              "'/content/gdrive/MyDrive/pythondsfiles'"
            ]
          },
          "metadata": {
            "tags": []
          },
          "execution_count": 4
        }
      ]
    },
    {
      "cell_type": "markdown",
      "metadata": {
        "id": "6Hi7QssSKWX0"
      },
      "source": [
        "# Getting started"
      ]
    },
    {
      "cell_type": "code",
      "metadata": {
        "id": "t5zupxZnL-2H"
      },
      "source": [
        "import pandas as pd\r\n",
        "import numpy as np"
      ],
      "execution_count": 2,
      "outputs": []
    },
    {
      "cell_type": "markdown",
      "metadata": {
        "id": "_vcLas-_MTH2"
      },
      "source": [
        "# Series"
      ]
    },
    {
      "cell_type": "code",
      "metadata": {
        "colab": {
          "base_uri": "https://localhost:8080/"
        },
        "id": "kf_AnE_CMR-a",
        "outputId": "6d3e2ff2-f3a6-46aa-fcd6-925bfb9f51f2"
      },
      "source": [
        "s = pd.Series([4,7,-5,3])\r\n",
        "type(s)"
      ],
      "execution_count": null,
      "outputs": [
        {
          "output_type": "execute_result",
          "data": {
            "text/plain": [
              "pandas.core.series.Series"
            ]
          },
          "metadata": {
            "tags": []
          },
          "execution_count": 6
        }
      ]
    },
    {
      "cell_type": "code",
      "metadata": {
        "colab": {
          "base_uri": "https://localhost:8080/"
        },
        "id": "8eXpop1AMR7q",
        "outputId": "4311d02b-8f0f-46a2-bd41-a54802d4666b"
      },
      "source": [
        "s"
      ],
      "execution_count": null,
      "outputs": [
        {
          "output_type": "execute_result",
          "data": {
            "text/plain": [
              "0    4\n",
              "1    7\n",
              "2   -5\n",
              "3    3\n",
              "dtype: int64"
            ]
          },
          "metadata": {
            "tags": []
          },
          "execution_count": 7
        }
      ]
    },
    {
      "cell_type": "code",
      "metadata": {
        "colab": {
          "base_uri": "https://localhost:8080/"
        },
        "id": "8c1_Z9rPMR0b",
        "outputId": "72fb395b-73d2-4a4c-9c63-97eaf90ee036"
      },
      "source": [
        "s.values"
      ],
      "execution_count": null,
      "outputs": [
        {
          "output_type": "execute_result",
          "data": {
            "text/plain": [
              "array([ 4,  7, -5,  3])"
            ]
          },
          "metadata": {
            "tags": []
          },
          "execution_count": 8
        }
      ]
    },
    {
      "cell_type": "code",
      "metadata": {
        "colab": {
          "base_uri": "https://localhost:8080/"
        },
        "id": "NgdYaQlJMRp_",
        "outputId": "7d6d0f65-e9ff-4341-ab8d-20fb7bf2a18c"
      },
      "source": [
        "type(s.values)"
      ],
      "execution_count": null,
      "outputs": [
        {
          "output_type": "execute_result",
          "data": {
            "text/plain": [
              "numpy.ndarray"
            ]
          },
          "metadata": {
            "tags": []
          },
          "execution_count": 9
        }
      ]
    },
    {
      "cell_type": "code",
      "metadata": {
        "id": "x50LujcrNKs4"
      },
      "source": [
        "s2 = pd.Series([1,2,4.5,7,2,23,15,8], index=list('albertod'))"
      ],
      "execution_count": null,
      "outputs": []
    },
    {
      "cell_type": "code",
      "metadata": {
        "colab": {
          "base_uri": "https://localhost:8080/"
        },
        "id": "5ayzv8mqNK1O",
        "outputId": "fb98ac38-ceb5-4b53-807d-d7a513dff6eb"
      },
      "source": [
        "s2"
      ],
      "execution_count": null,
      "outputs": [
        {
          "output_type": "execute_result",
          "data": {
            "text/plain": [
              "a     1.0\n",
              "l     2.0\n",
              "b     4.5\n",
              "e     7.0\n",
              "r     2.0\n",
              "t    23.0\n",
              "o    15.0\n",
              "d     8.0\n",
              "dtype: float64"
            ]
          },
          "metadata": {
            "tags": []
          },
          "execution_count": 11
        }
      ]
    },
    {
      "cell_type": "code",
      "metadata": {
        "colab": {
          "base_uri": "https://localhost:8080/"
        },
        "id": "NFoeFTmsOAxH",
        "outputId": "47d60e3e-c54a-47d7-a0e3-830925ea11e3"
      },
      "source": [
        "s2['e'] # Ahora el índice es una letra"
      ],
      "execution_count": null,
      "outputs": [
        {
          "output_type": "execute_result",
          "data": {
            "text/plain": [
              "7.0"
            ]
          },
          "metadata": {
            "tags": []
          },
          "execution_count": 12
        }
      ]
    },
    {
      "cell_type": "code",
      "metadata": {
        "colab": {
          "base_uri": "https://localhost:8080/"
        },
        "id": "6TMGle5UOAzy",
        "outputId": "75cc9b44-5bd3-484a-b1ae-4c755c4078c6"
      },
      "source": [
        "s2 % 2 == 0"
      ],
      "execution_count": null,
      "outputs": [
        {
          "output_type": "execute_result",
          "data": {
            "text/plain": [
              "a    False\n",
              "l     True\n",
              "b    False\n",
              "e    False\n",
              "r     True\n",
              "t    False\n",
              "o    False\n",
              "d     True\n",
              "dtype: bool"
            ]
          },
          "metadata": {
            "tags": []
          },
          "execution_count": 13
        }
      ]
    },
    {
      "cell_type": "code",
      "metadata": {
        "colab": {
          "base_uri": "https://localhost:8080/"
        },
        "id": "iyFczCoIOA2r",
        "outputId": "40afb204-914c-49ff-f7d0-8598d1affc28"
      },
      "source": [
        "s2[s2 % 2 == 0] # Filtro"
      ],
      "execution_count": null,
      "outputs": [
        {
          "output_type": "execute_result",
          "data": {
            "text/plain": [
              "l    2.0\n",
              "r    2.0\n",
              "d    8.0\n",
              "dtype: float64"
            ]
          },
          "metadata": {
            "tags": []
          },
          "execution_count": 14
        }
      ]
    },
    {
      "cell_type": "code",
      "metadata": {
        "colab": {
          "base_uri": "https://localhost:8080/"
        },
        "id": "vQkJTymGOA8W",
        "outputId": "bb0640a6-005b-45fb-8133-23c1ad8d63fc"
      },
      "source": [
        "s2 * 2"
      ],
      "execution_count": null,
      "outputs": [
        {
          "output_type": "execute_result",
          "data": {
            "text/plain": [
              "a     2.0\n",
              "l     4.0\n",
              "b     9.0\n",
              "e    14.0\n",
              "r     4.0\n",
              "t    46.0\n",
              "o    30.0\n",
              "d    16.0\n",
              "dtype: float64"
            ]
          },
          "metadata": {
            "tags": []
          },
          "execution_count": 15
        }
      ]
    },
    {
      "cell_type": "code",
      "metadata": {
        "colab": {
          "base_uri": "https://localhost:8080/"
        },
        "id": "5MTE8srMOA_H",
        "outputId": "2bc9f59f-28b7-44d7-e609-02ae26f7433d"
      },
      "source": [
        "np.exp(s2)"
      ],
      "execution_count": null,
      "outputs": [
        {
          "output_type": "execute_result",
          "data": {
            "text/plain": [
              "a    2.718282e+00\n",
              "l    7.389056e+00\n",
              "b    9.001713e+01\n",
              "e    1.096633e+03\n",
              "r    7.389056e+00\n",
              "t    9.744803e+09\n",
              "o    3.269017e+06\n",
              "d    2.980958e+03\n",
              "dtype: float64"
            ]
          },
          "metadata": {
            "tags": []
          },
          "execution_count": 16
        }
      ]
    },
    {
      "cell_type": "code",
      "metadata": {
        "colab": {
          "base_uri": "https://localhost:8080/"
        },
        "id": "2OBPofemNK4R",
        "outputId": "62bf8629-f49e-4f7c-bc30-466ed9602cbf"
      },
      "source": [
        "s2 # No se ha modificado"
      ],
      "execution_count": null,
      "outputs": [
        {
          "output_type": "execute_result",
          "data": {
            "text/plain": [
              "a     1.0\n",
              "l     2.0\n",
              "b     4.5\n",
              "e     7.0\n",
              "r     2.0\n",
              "t    23.0\n",
              "o    15.0\n",
              "d     8.0\n",
              "dtype: float64"
            ]
          },
          "metadata": {
            "tags": []
          },
          "execution_count": 17
        }
      ]
    },
    {
      "cell_type": "code",
      "metadata": {
        "colab": {
          "base_uri": "https://localhost:8080/"
        },
        "id": "evZFbGFKNK7P",
        "outputId": "72ed3ed7-fce9-485f-cbc7-17d0f0ba9bd9"
      },
      "source": [
        "'i' in s2"
      ],
      "execution_count": null,
      "outputs": [
        {
          "output_type": "execute_result",
          "data": {
            "text/plain": [
              "False"
            ]
          },
          "metadata": {
            "tags": []
          },
          "execution_count": 18
        }
      ]
    },
    {
      "cell_type": "code",
      "metadata": {
        "colab": {
          "base_uri": "https://localhost:8080/"
        },
        "id": "UIWmemycPokf",
        "outputId": "88751b4e-3791-416f-f1ca-7cffc28dfd47"
      },
      "source": [
        "'o' in s2"
      ],
      "execution_count": null,
      "outputs": [
        {
          "output_type": "execute_result",
          "data": {
            "text/plain": [
              "True"
            ]
          },
          "metadata": {
            "tags": []
          },
          "execution_count": 19
        }
      ]
    },
    {
      "cell_type": "code",
      "metadata": {
        "colab": {
          "base_uri": "https://localhost:8080/"
        },
        "id": "fB6vBFUrPonh",
        "outputId": "b10b1412-a6db-4a7d-8657-e8ccaee54a03"
      },
      "source": [
        "sdata = {\r\n",
        "    'Zaragoza': 2.5e5,\r\n",
        "    'Sevilla': 5e5,\r\n",
        "    'Cordoba': 3e5,\r\n",
        "    'Madrid': 6e6\r\n",
        "}\r\n",
        "\r\n",
        "s3 = pd.Series(sdata)\r\n",
        "s3"
      ],
      "execution_count": null,
      "outputs": [
        {
          "output_type": "execute_result",
          "data": {
            "text/plain": [
              "Zaragoza     250000.0\n",
              "Sevilla      500000.0\n",
              "Cordoba      300000.0\n",
              "Madrid      6000000.0\n",
              "dtype: float64"
            ]
          },
          "metadata": {
            "tags": []
          },
          "execution_count": 20
        }
      ]
    },
    {
      "cell_type": "code",
      "metadata": {
        "id": "aJrGVml6QPrE"
      },
      "source": [
        "s3.to_pickle(os.path.join(files_loc, \"s3.pkl\")) # Almacenamiento de datos de Python, guardado en Google Drive"
      ],
      "execution_count": null,
      "outputs": []
    },
    {
      "cell_type": "code",
      "metadata": {
        "colab": {
          "base_uri": "https://localhost:8080/"
        },
        "id": "iOwc6qEfQPtl",
        "outputId": "18d58e7b-a137-4e88-e2bc-ea17d8a4e255"
      },
      "source": [
        "!ls {files_loc}/s3.pkl"
      ],
      "execution_count": null,
      "outputs": [
        {
          "output_type": "stream",
          "text": [
            "/content/gdrive/MyDrive/pythondsfiles/s3.pkl\n"
          ],
          "name": "stdout"
        }
      ]
    },
    {
      "cell_type": "code",
      "metadata": {
        "colab": {
          "base_uri": "https://localhost:8080/"
        },
        "id": "coWw8UTVQPwG",
        "outputId": "9cf4c5f3-94ad-4a40-d3d6-3d1a6fac3c3b"
      },
      "source": [
        "s3 = pd.Series(sdata).sort_index() # Ordenar los datos por el índice\r\n",
        "s3"
      ],
      "execution_count": null,
      "outputs": [
        {
          "output_type": "execute_result",
          "data": {
            "text/plain": [
              "Cordoba      300000.0\n",
              "Madrid      6000000.0\n",
              "Sevilla      500000.0\n",
              "Zaragoza     250000.0\n",
              "dtype: float64"
            ]
          },
          "metadata": {
            "tags": []
          },
          "execution_count": 23
        }
      ]
    },
    {
      "cell_type": "code",
      "metadata": {
        "id": "C5SRQb7hQPy0"
      },
      "source": [
        "cities = ['Cordoba', 'Madrid', 'Valencia', 'Zaragoza']"
      ],
      "execution_count": null,
      "outputs": []
    },
    {
      "cell_type": "code",
      "metadata": {
        "colab": {
          "base_uri": "https://localhost:8080/"
        },
        "id": "BFg4zXoRSuAZ",
        "outputId": "cbd6a6cd-1436-4086-899a-a5e49fac3b69"
      },
      "source": [
        "s4 = pd.Series(sdata, index = cities)\r\n",
        "s4"
      ],
      "execution_count": null,
      "outputs": [
        {
          "output_type": "execute_result",
          "data": {
            "text/plain": [
              "Cordoba      300000.0\n",
              "Madrid      6000000.0\n",
              "Valencia          NaN\n",
              "Zaragoza     250000.0\n",
              "dtype: float64"
            ]
          },
          "metadata": {
            "tags": []
          },
          "execution_count": 25
        }
      ]
    },
    {
      "cell_type": "code",
      "metadata": {
        "colab": {
          "base_uri": "https://localhost:8080/"
        },
        "id": "qN3iuTUxSuFc",
        "outputId": "a150af6f-2363-473f-cbea-66ed3e79c492"
      },
      "source": [
        "pd.isnull(s4)"
      ],
      "execution_count": null,
      "outputs": [
        {
          "output_type": "execute_result",
          "data": {
            "text/plain": [
              "Cordoba     False\n",
              "Madrid      False\n",
              "Valencia     True\n",
              "Zaragoza    False\n",
              "dtype: bool"
            ]
          },
          "metadata": {
            "tags": []
          },
          "execution_count": 26
        }
      ]
    },
    {
      "cell_type": "code",
      "metadata": {
        "colab": {
          "base_uri": "https://localhost:8080/"
        },
        "id": "isk8EsPgSuOf",
        "outputId": "a1700ce3-c86f-4621-9914-b6e02d99ba6f"
      },
      "source": [
        "pd.notnull(s4)"
      ],
      "execution_count": null,
      "outputs": [
        {
          "output_type": "execute_result",
          "data": {
            "text/plain": [
              "Cordoba      True\n",
              "Madrid       True\n",
              "Valencia    False\n",
              "Zaragoza     True\n",
              "dtype: bool"
            ]
          },
          "metadata": {
            "tags": []
          },
          "execution_count": 27
        }
      ]
    },
    {
      "cell_type": "code",
      "metadata": {
        "colab": {
          "base_uri": "https://localhost:8080/"
        },
        "id": "kG80ZB59QP1s",
        "outputId": "1303f050-4a09-4b11-acc8-d3a3214960f6"
      },
      "source": [
        "s3"
      ],
      "execution_count": null,
      "outputs": [
        {
          "output_type": "execute_result",
          "data": {
            "text/plain": [
              "Cordoba      300000.0\n",
              "Madrid      6000000.0\n",
              "Sevilla      500000.0\n",
              "Zaragoza     250000.0\n",
              "dtype: float64"
            ]
          },
          "metadata": {
            "tags": []
          },
          "execution_count": 28
        }
      ]
    },
    {
      "cell_type": "code",
      "metadata": {
        "colab": {
          "base_uri": "https://localhost:8080/"
        },
        "id": "FxlP2ccGPoqy",
        "outputId": "3d9ccb4f-0e3a-4514-b2b8-c8e34814cb44"
      },
      "source": [
        "s4"
      ],
      "execution_count": null,
      "outputs": [
        {
          "output_type": "execute_result",
          "data": {
            "text/plain": [
              "Cordoba      300000.0\n",
              "Madrid      6000000.0\n",
              "Valencia          NaN\n",
              "Zaragoza     250000.0\n",
              "dtype: float64"
            ]
          },
          "metadata": {
            "tags": []
          },
          "execution_count": 29
        }
      ]
    },
    {
      "cell_type": "code",
      "metadata": {
        "colab": {
          "base_uri": "https://localhost:8080/"
        },
        "id": "9L00Xm8cTyXo",
        "outputId": "e84dc92f-428c-4feb-9617-dc857d6dd406"
      },
      "source": [
        "s3 + s4"
      ],
      "execution_count": null,
      "outputs": [
        {
          "output_type": "execute_result",
          "data": {
            "text/plain": [
              "Cordoba       600000.0\n",
              "Madrid      12000000.0\n",
              "Sevilla            NaN\n",
              "Valencia           NaN\n",
              "Zaragoza      500000.0\n",
              "dtype: float64"
            ]
          },
          "metadata": {
            "tags": []
          },
          "execution_count": 30
        }
      ]
    },
    {
      "cell_type": "code",
      "metadata": {
        "id": "shE6I5mKTyaY"
      },
      "source": [
        "s4.name = 'Population' # Cambio de nombre para los datos de la serie"
      ],
      "execution_count": null,
      "outputs": []
    },
    {
      "cell_type": "code",
      "metadata": {
        "colab": {
          "base_uri": "https://localhost:8080/"
        },
        "id": "TwnHEp3VTydN",
        "outputId": "d830033f-47f3-4187-acbd-27e44daeb36f"
      },
      "source": [
        "s4"
      ],
      "execution_count": null,
      "outputs": [
        {
          "output_type": "execute_result",
          "data": {
            "text/plain": [
              "Cordoba      300000.0\n",
              "Madrid      6000000.0\n",
              "Valencia          NaN\n",
              "Zaragoza     250000.0\n",
              "Name: Population, dtype: float64"
            ]
          },
          "metadata": {
            "tags": []
          },
          "execution_count": 32
        }
      ]
    },
    {
      "cell_type": "code",
      "metadata": {
        "colab": {
          "base_uri": "https://localhost:8080/"
        },
        "id": "B77oIy8KTyf4",
        "outputId": "eb2d5e61-794b-475a-e096-4bcb9988f549"
      },
      "source": [
        "s4.index.name = 'Province' # Nombre para el índice de la serie\r\n",
        "s4"
      ],
      "execution_count": null,
      "outputs": [
        {
          "output_type": "execute_result",
          "data": {
            "text/plain": [
              "Province\n",
              "Cordoba      300000.0\n",
              "Madrid      6000000.0\n",
              "Valencia          NaN\n",
              "Zaragoza     250000.0\n",
              "Name: Population, dtype: float64"
            ]
          },
          "metadata": {
            "tags": []
          },
          "execution_count": 33
        }
      ]
    },
    {
      "cell_type": "markdown",
      "metadata": {
        "id": "XfBgrH3pVc50"
      },
      "source": [
        "# Dataframes"
      ]
    },
    {
      "cell_type": "code",
      "metadata": {
        "id": "Bkh_THKCU8SW"
      },
      "source": [
        "dfdata = {\r\n",
        "    'province': ['M', 'M', 'M', 'B', 'B'],\r\n",
        "    'population': [1.5e6, 2e6, 3e6, 5e6, 1.5e6],\r\n",
        "    'year': [1900, 1950, 2000, 1900, 2000]\r\n",
        "}"
      ],
      "execution_count": null,
      "outputs": []
    },
    {
      "cell_type": "code",
      "metadata": {
        "colab": {
          "base_uri": "https://localhost:8080/",
          "height": 195
        },
        "id": "PGhZbSCaU8Y1",
        "outputId": "a8c4c4e8-9a88-409f-fbad-ab795c22c54d"
      },
      "source": [
        "df = pd.DataFrame(dfdata)\r\n",
        "df"
      ],
      "execution_count": null,
      "outputs": [
        {
          "output_type": "execute_result",
          "data": {
            "text/html": [
              "<div>\n",
              "<style scoped>\n",
              "    .dataframe tbody tr th:only-of-type {\n",
              "        vertical-align: middle;\n",
              "    }\n",
              "\n",
              "    .dataframe tbody tr th {\n",
              "        vertical-align: top;\n",
              "    }\n",
              "\n",
              "    .dataframe thead th {\n",
              "        text-align: right;\n",
              "    }\n",
              "</style>\n",
              "<table border=\"1\" class=\"dataframe\">\n",
              "  <thead>\n",
              "    <tr style=\"text-align: right;\">\n",
              "      <th></th>\n",
              "      <th>province</th>\n",
              "      <th>population</th>\n",
              "      <th>year</th>\n",
              "    </tr>\n",
              "  </thead>\n",
              "  <tbody>\n",
              "    <tr>\n",
              "      <th>0</th>\n",
              "      <td>M</td>\n",
              "      <td>1500000.0</td>\n",
              "      <td>1900</td>\n",
              "    </tr>\n",
              "    <tr>\n",
              "      <th>1</th>\n",
              "      <td>M</td>\n",
              "      <td>2000000.0</td>\n",
              "      <td>1950</td>\n",
              "    </tr>\n",
              "    <tr>\n",
              "      <th>2</th>\n",
              "      <td>M</td>\n",
              "      <td>3000000.0</td>\n",
              "      <td>2000</td>\n",
              "    </tr>\n",
              "    <tr>\n",
              "      <th>3</th>\n",
              "      <td>B</td>\n",
              "      <td>5000000.0</td>\n",
              "      <td>1900</td>\n",
              "    </tr>\n",
              "    <tr>\n",
              "      <th>4</th>\n",
              "      <td>B</td>\n",
              "      <td>1500000.0</td>\n",
              "      <td>2000</td>\n",
              "    </tr>\n",
              "  </tbody>\n",
              "</table>\n",
              "</div>"
            ],
            "text/plain": [
              "  province  population  year\n",
              "0        M   1500000.0  1900\n",
              "1        M   2000000.0  1950\n",
              "2        M   3000000.0  2000\n",
              "3        B   5000000.0  1900\n",
              "4        B   1500000.0  2000"
            ]
          },
          "metadata": {
            "tags": []
          },
          "execution_count": 35
        }
      ]
    },
    {
      "cell_type": "code",
      "metadata": {
        "colab": {
          "base_uri": "https://localhost:8080/",
          "height": 195
        },
        "id": "qMVZBNB-U8az",
        "outputId": "3c2c02fa-aa88-44b6-d835-7f4632b218dd"
      },
      "source": [
        "df2 = pd.DataFrame(dfdata, columns=['province', 'population', 'year', 'debt'])\r\n",
        "df2"
      ],
      "execution_count": null,
      "outputs": [
        {
          "output_type": "execute_result",
          "data": {
            "text/html": [
              "<div>\n",
              "<style scoped>\n",
              "    .dataframe tbody tr th:only-of-type {\n",
              "        vertical-align: middle;\n",
              "    }\n",
              "\n",
              "    .dataframe tbody tr th {\n",
              "        vertical-align: top;\n",
              "    }\n",
              "\n",
              "    .dataframe thead th {\n",
              "        text-align: right;\n",
              "    }\n",
              "</style>\n",
              "<table border=\"1\" class=\"dataframe\">\n",
              "  <thead>\n",
              "    <tr style=\"text-align: right;\">\n",
              "      <th></th>\n",
              "      <th>province</th>\n",
              "      <th>population</th>\n",
              "      <th>year</th>\n",
              "      <th>debt</th>\n",
              "    </tr>\n",
              "  </thead>\n",
              "  <tbody>\n",
              "    <tr>\n",
              "      <th>0</th>\n",
              "      <td>M</td>\n",
              "      <td>1500000.0</td>\n",
              "      <td>1900</td>\n",
              "      <td>NaN</td>\n",
              "    </tr>\n",
              "    <tr>\n",
              "      <th>1</th>\n",
              "      <td>M</td>\n",
              "      <td>2000000.0</td>\n",
              "      <td>1950</td>\n",
              "      <td>NaN</td>\n",
              "    </tr>\n",
              "    <tr>\n",
              "      <th>2</th>\n",
              "      <td>M</td>\n",
              "      <td>3000000.0</td>\n",
              "      <td>2000</td>\n",
              "      <td>NaN</td>\n",
              "    </tr>\n",
              "    <tr>\n",
              "      <th>3</th>\n",
              "      <td>B</td>\n",
              "      <td>5000000.0</td>\n",
              "      <td>1900</td>\n",
              "      <td>NaN</td>\n",
              "    </tr>\n",
              "    <tr>\n",
              "      <th>4</th>\n",
              "      <td>B</td>\n",
              "      <td>1500000.0</td>\n",
              "      <td>2000</td>\n",
              "      <td>NaN</td>\n",
              "    </tr>\n",
              "  </tbody>\n",
              "</table>\n",
              "</div>"
            ],
            "text/plain": [
              "  province  population  year debt\n",
              "0        M   1500000.0  1900  NaN\n",
              "1        M   2000000.0  1950  NaN\n",
              "2        M   3000000.0  2000  NaN\n",
              "3        B   5000000.0  1900  NaN\n",
              "4        B   1500000.0  2000  NaN"
            ]
          },
          "metadata": {
            "tags": []
          },
          "execution_count": 36
        }
      ]
    },
    {
      "cell_type": "code",
      "metadata": {
        "colab": {
          "base_uri": "https://localhost:8080/"
        },
        "id": "RachWs5MU8dN",
        "outputId": "0bd29251-b4bf-4546-87bc-9374f28a8032"
      },
      "source": [
        "df2.index # Python construye un índice iterado"
      ],
      "execution_count": null,
      "outputs": [
        {
          "output_type": "execute_result",
          "data": {
            "text/plain": [
              "RangeIndex(start=0, stop=5, step=1)"
            ]
          },
          "metadata": {
            "tags": []
          },
          "execution_count": 37
        }
      ]
    },
    {
      "cell_type": "code",
      "metadata": {
        "colab": {
          "base_uri": "https://localhost:8080/"
        },
        "id": "sh9ue2IVU8f6",
        "outputId": "2b7be86d-c121-4b2a-8d37-5970a0b899b3"
      },
      "source": [
        "df2.columns"
      ],
      "execution_count": null,
      "outputs": [
        {
          "output_type": "execute_result",
          "data": {
            "text/plain": [
              "Index(['province', 'population', 'year', 'debt'], dtype='object')"
            ]
          },
          "metadata": {
            "tags": []
          },
          "execution_count": 38
        }
      ]
    },
    {
      "cell_type": "code",
      "metadata": {
        "colab": {
          "base_uri": "https://localhost:8080/"
        },
        "id": "NtS0nUWUU8if",
        "outputId": "4f67f073-a3df-4a56-9a1e-e8b113ce61ae"
      },
      "source": [
        "type(df2.columns)"
      ],
      "execution_count": null,
      "outputs": [
        {
          "output_type": "execute_result",
          "data": {
            "text/plain": [
              "pandas.core.indexes.base.Index"
            ]
          },
          "metadata": {
            "tags": []
          },
          "execution_count": 39
        }
      ]
    },
    {
      "cell_type": "code",
      "metadata": {
        "colab": {
          "base_uri": "https://localhost:8080/"
        },
        "id": "gSlRFoK0Tyie",
        "outputId": "7fee0e94-f63b-43ca-a8e5-cac52000dd3d"
      },
      "source": [
        "df['population']"
      ],
      "execution_count": null,
      "outputs": [
        {
          "output_type": "execute_result",
          "data": {
            "text/plain": [
              "0    1500000.0\n",
              "1    2000000.0\n",
              "2    3000000.0\n",
              "3    5000000.0\n",
              "4    1500000.0\n",
              "Name: population, dtype: float64"
            ]
          },
          "metadata": {
            "tags": []
          },
          "execution_count": 40
        }
      ]
    },
    {
      "cell_type": "code",
      "metadata": {
        "colab": {
          "base_uri": "https://localhost:8080/"
        },
        "id": "_cjHzYzsYYq6",
        "outputId": "4b97ff8a-8940-4607-efb2-0af595528a84"
      },
      "source": [
        "df.population"
      ],
      "execution_count": null,
      "outputs": [
        {
          "output_type": "execute_result",
          "data": {
            "text/plain": [
              "0    1500000.0\n",
              "1    2000000.0\n",
              "2    3000000.0\n",
              "3    5000000.0\n",
              "4    1500000.0\n",
              "Name: population, dtype: float64"
            ]
          },
          "metadata": {
            "tags": []
          },
          "execution_count": 41
        }
      ]
    },
    {
      "cell_type": "code",
      "metadata": {
        "colab": {
          "base_uri": "https://localhost:8080/",
          "height": 195
        },
        "id": "MO4nlgQlYYt0",
        "outputId": "40dee97d-4b6d-4a8c-a310-9ef2303ce58d"
      },
      "source": [
        "df2['2nd_language'] = np.nan # Añadir una columna\r\n",
        "df2"
      ],
      "execution_count": null,
      "outputs": [
        {
          "output_type": "execute_result",
          "data": {
            "text/html": [
              "<div>\n",
              "<style scoped>\n",
              "    .dataframe tbody tr th:only-of-type {\n",
              "        vertical-align: middle;\n",
              "    }\n",
              "\n",
              "    .dataframe tbody tr th {\n",
              "        vertical-align: top;\n",
              "    }\n",
              "\n",
              "    .dataframe thead th {\n",
              "        text-align: right;\n",
              "    }\n",
              "</style>\n",
              "<table border=\"1\" class=\"dataframe\">\n",
              "  <thead>\n",
              "    <tr style=\"text-align: right;\">\n",
              "      <th></th>\n",
              "      <th>province</th>\n",
              "      <th>population</th>\n",
              "      <th>year</th>\n",
              "      <th>debt</th>\n",
              "      <th>2nd_language</th>\n",
              "    </tr>\n",
              "  </thead>\n",
              "  <tbody>\n",
              "    <tr>\n",
              "      <th>0</th>\n",
              "      <td>M</td>\n",
              "      <td>1500000.0</td>\n",
              "      <td>1900</td>\n",
              "      <td>NaN</td>\n",
              "      <td>NaN</td>\n",
              "    </tr>\n",
              "    <tr>\n",
              "      <th>1</th>\n",
              "      <td>M</td>\n",
              "      <td>2000000.0</td>\n",
              "      <td>1950</td>\n",
              "      <td>NaN</td>\n",
              "      <td>NaN</td>\n",
              "    </tr>\n",
              "    <tr>\n",
              "      <th>2</th>\n",
              "      <td>M</td>\n",
              "      <td>3000000.0</td>\n",
              "      <td>2000</td>\n",
              "      <td>NaN</td>\n",
              "      <td>NaN</td>\n",
              "    </tr>\n",
              "    <tr>\n",
              "      <th>3</th>\n",
              "      <td>B</td>\n",
              "      <td>5000000.0</td>\n",
              "      <td>1900</td>\n",
              "      <td>NaN</td>\n",
              "      <td>NaN</td>\n",
              "    </tr>\n",
              "    <tr>\n",
              "      <th>4</th>\n",
              "      <td>B</td>\n",
              "      <td>1500000.0</td>\n",
              "      <td>2000</td>\n",
              "      <td>NaN</td>\n",
              "      <td>NaN</td>\n",
              "    </tr>\n",
              "  </tbody>\n",
              "</table>\n",
              "</div>"
            ],
            "text/plain": [
              "  province  population  year debt  2nd_language\n",
              "0        M   1500000.0  1900  NaN           NaN\n",
              "1        M   2000000.0  1950  NaN           NaN\n",
              "2        M   3000000.0  2000  NaN           NaN\n",
              "3        B   5000000.0  1900  NaN           NaN\n",
              "4        B   1500000.0  2000  NaN           NaN"
            ]
          },
          "metadata": {
            "tags": []
          },
          "execution_count": 42
        }
      ]
    },
    {
      "cell_type": "code",
      "metadata": {
        "colab": {
          "base_uri": "https://localhost:8080/"
        },
        "id": "QY76EyboYmHd",
        "outputId": "98d2ab77-e3b3-43a8-c1ef-a0f267d4f7e5"
      },
      "source": [
        "df2['2nd_language']"
      ],
      "execution_count": null,
      "outputs": [
        {
          "output_type": "execute_result",
          "data": {
            "text/plain": [
              "0   NaN\n",
              "1   NaN\n",
              "2   NaN\n",
              "3   NaN\n",
              "4   NaN\n",
              "Name: 2nd_language, dtype: float64"
            ]
          },
          "metadata": {
            "tags": []
          },
          "execution_count": 43
        }
      ]
    },
    {
      "cell_type": "code",
      "metadata": {
        "colab": {
          "base_uri": "https://localhost:8080/",
          "height": 128
        },
        "id": "wtl7YcM4YmKM",
        "outputId": "b6e11e33-1fc5-4b7e-b5d2-d3214e4176b9"
      },
      "source": [
        "df2.2nd_language # Error por empezar por un número tras el punto"
      ],
      "execution_count": null,
      "outputs": [
        {
          "output_type": "error",
          "ename": "SyntaxError",
          "evalue": "ignored",
          "traceback": [
            "\u001b[0;36m  File \u001b[0;32m\"<ipython-input-44-393b89256eab>\"\u001b[0;36m, line \u001b[0;32m1\u001b[0m\n\u001b[0;31m    df2.2nd_language # Error por empezar por un número tras el punto\u001b[0m\n\u001b[0m        ^\u001b[0m\n\u001b[0;31mSyntaxError\u001b[0m\u001b[0;31m:\u001b[0m invalid syntax\n"
          ]
        }
      ]
    },
    {
      "cell_type": "code",
      "metadata": {
        "colab": {
          "base_uri": "https://localhost:8080/",
          "height": 195
        },
        "id": "6VCM6GOGYmMc",
        "outputId": "9df1ca9c-d534-4eec-b0bd-5ba814bd282a"
      },
      "source": [
        "df2.index = list('abcde')\r\n",
        "df2"
      ],
      "execution_count": null,
      "outputs": [
        {
          "output_type": "execute_result",
          "data": {
            "text/html": [
              "<div>\n",
              "<style scoped>\n",
              "    .dataframe tbody tr th:only-of-type {\n",
              "        vertical-align: middle;\n",
              "    }\n",
              "\n",
              "    .dataframe tbody tr th {\n",
              "        vertical-align: top;\n",
              "    }\n",
              "\n",
              "    .dataframe thead th {\n",
              "        text-align: right;\n",
              "    }\n",
              "</style>\n",
              "<table border=\"1\" class=\"dataframe\">\n",
              "  <thead>\n",
              "    <tr style=\"text-align: right;\">\n",
              "      <th></th>\n",
              "      <th>province</th>\n",
              "      <th>population</th>\n",
              "      <th>year</th>\n",
              "      <th>debt</th>\n",
              "      <th>2nd_language</th>\n",
              "    </tr>\n",
              "  </thead>\n",
              "  <tbody>\n",
              "    <tr>\n",
              "      <th>a</th>\n",
              "      <td>M</td>\n",
              "      <td>1500000.0</td>\n",
              "      <td>1900</td>\n",
              "      <td>NaN</td>\n",
              "      <td>NaN</td>\n",
              "    </tr>\n",
              "    <tr>\n",
              "      <th>b</th>\n",
              "      <td>M</td>\n",
              "      <td>2000000.0</td>\n",
              "      <td>1950</td>\n",
              "      <td>NaN</td>\n",
              "      <td>NaN</td>\n",
              "    </tr>\n",
              "    <tr>\n",
              "      <th>c</th>\n",
              "      <td>M</td>\n",
              "      <td>3000000.0</td>\n",
              "      <td>2000</td>\n",
              "      <td>NaN</td>\n",
              "      <td>NaN</td>\n",
              "    </tr>\n",
              "    <tr>\n",
              "      <th>d</th>\n",
              "      <td>B</td>\n",
              "      <td>5000000.0</td>\n",
              "      <td>1900</td>\n",
              "      <td>NaN</td>\n",
              "      <td>NaN</td>\n",
              "    </tr>\n",
              "    <tr>\n",
              "      <th>e</th>\n",
              "      <td>B</td>\n",
              "      <td>1500000.0</td>\n",
              "      <td>2000</td>\n",
              "      <td>NaN</td>\n",
              "      <td>NaN</td>\n",
              "    </tr>\n",
              "  </tbody>\n",
              "</table>\n",
              "</div>"
            ],
            "text/plain": [
              "  province  population  year debt  2nd_language\n",
              "a        M   1500000.0  1900  NaN           NaN\n",
              "b        M   2000000.0  1950  NaN           NaN\n",
              "c        M   3000000.0  2000  NaN           NaN\n",
              "d        B   5000000.0  1900  NaN           NaN\n",
              "e        B   1500000.0  2000  NaN           NaN"
            ]
          },
          "metadata": {
            "tags": []
          },
          "execution_count": 45
        }
      ]
    },
    {
      "cell_type": "code",
      "metadata": {
        "colab": {
          "base_uri": "https://localhost:8080/"
        },
        "id": "hGwgNp0BYmPa",
        "outputId": "655d33c3-22ff-451b-87ac-d4cf966d542b"
      },
      "source": [
        "df2.index"
      ],
      "execution_count": null,
      "outputs": [
        {
          "output_type": "execute_result",
          "data": {
            "text/plain": [
              "Index(['a', 'b', 'c', 'd', 'e'], dtype='object')"
            ]
          },
          "metadata": {
            "tags": []
          },
          "execution_count": 46
        }
      ]
    },
    {
      "cell_type": "code",
      "metadata": {
        "colab": {
          "base_uri": "https://localhost:8080/"
        },
        "id": "5QirAbsLYYwo",
        "outputId": "7eb7db54-1943-4b5d-be50-318b9dc5c0ad"
      },
      "source": [
        "df2.loc['c']"
      ],
      "execution_count": null,
      "outputs": [
        {
          "output_type": "execute_result",
          "data": {
            "text/plain": [
              "province            M\n",
              "population      3e+06\n",
              "year             2000\n",
              "debt              NaN\n",
              "2nd_language      NaN\n",
              "Name: c, dtype: object"
            ]
          },
          "metadata": {
            "tags": []
          },
          "execution_count": 47
        }
      ]
    },
    {
      "cell_type": "code",
      "metadata": {
        "colab": {
          "base_uri": "https://localhost:8080/",
          "height": 136
        },
        "id": "wTbEIzlkYYzO",
        "outputId": "9bda460e-2e73-45aa-ff88-835c480ea6f9"
      },
      "source": [
        "df2.loc['a':'c'] # En este caso incluye también la 'c', no como en Python"
      ],
      "execution_count": null,
      "outputs": [
        {
          "output_type": "execute_result",
          "data": {
            "text/html": [
              "<div>\n",
              "<style scoped>\n",
              "    .dataframe tbody tr th:only-of-type {\n",
              "        vertical-align: middle;\n",
              "    }\n",
              "\n",
              "    .dataframe tbody tr th {\n",
              "        vertical-align: top;\n",
              "    }\n",
              "\n",
              "    .dataframe thead th {\n",
              "        text-align: right;\n",
              "    }\n",
              "</style>\n",
              "<table border=\"1\" class=\"dataframe\">\n",
              "  <thead>\n",
              "    <tr style=\"text-align: right;\">\n",
              "      <th></th>\n",
              "      <th>province</th>\n",
              "      <th>population</th>\n",
              "      <th>year</th>\n",
              "      <th>debt</th>\n",
              "      <th>2nd_language</th>\n",
              "    </tr>\n",
              "  </thead>\n",
              "  <tbody>\n",
              "    <tr>\n",
              "      <th>a</th>\n",
              "      <td>M</td>\n",
              "      <td>1500000.0</td>\n",
              "      <td>1900</td>\n",
              "      <td>NaN</td>\n",
              "      <td>NaN</td>\n",
              "    </tr>\n",
              "    <tr>\n",
              "      <th>b</th>\n",
              "      <td>M</td>\n",
              "      <td>2000000.0</td>\n",
              "      <td>1950</td>\n",
              "      <td>NaN</td>\n",
              "      <td>NaN</td>\n",
              "    </tr>\n",
              "    <tr>\n",
              "      <th>c</th>\n",
              "      <td>M</td>\n",
              "      <td>3000000.0</td>\n",
              "      <td>2000</td>\n",
              "      <td>NaN</td>\n",
              "      <td>NaN</td>\n",
              "    </tr>\n",
              "  </tbody>\n",
              "</table>\n",
              "</div>"
            ],
            "text/plain": [
              "  province  population  year debt  2nd_language\n",
              "a        M   1500000.0  1900  NaN           NaN\n",
              "b        M   2000000.0  1950  NaN           NaN\n",
              "c        M   3000000.0  2000  NaN           NaN"
            ]
          },
          "metadata": {
            "tags": []
          },
          "execution_count": 48
        }
      ]
    },
    {
      "cell_type": "code",
      "metadata": {
        "colab": {
          "base_uri": "https://localhost:8080/",
          "height": 77
        },
        "id": "mvR2p_aNYY2C",
        "outputId": "f6ab5eb2-4859-4d07-d909-0f79572aff7f"
      },
      "source": [
        "df2.loc[['c']]"
      ],
      "execution_count": null,
      "outputs": [
        {
          "output_type": "execute_result",
          "data": {
            "text/html": [
              "<div>\n",
              "<style scoped>\n",
              "    .dataframe tbody tr th:only-of-type {\n",
              "        vertical-align: middle;\n",
              "    }\n",
              "\n",
              "    .dataframe tbody tr th {\n",
              "        vertical-align: top;\n",
              "    }\n",
              "\n",
              "    .dataframe thead th {\n",
              "        text-align: right;\n",
              "    }\n",
              "</style>\n",
              "<table border=\"1\" class=\"dataframe\">\n",
              "  <thead>\n",
              "    <tr style=\"text-align: right;\">\n",
              "      <th></th>\n",
              "      <th>province</th>\n",
              "      <th>population</th>\n",
              "      <th>year</th>\n",
              "      <th>debt</th>\n",
              "      <th>2nd_language</th>\n",
              "    </tr>\n",
              "  </thead>\n",
              "  <tbody>\n",
              "    <tr>\n",
              "      <th>c</th>\n",
              "      <td>M</td>\n",
              "      <td>3000000.0</td>\n",
              "      <td>2000</td>\n",
              "      <td>NaN</td>\n",
              "      <td>NaN</td>\n",
              "    </tr>\n",
              "  </tbody>\n",
              "</table>\n",
              "</div>"
            ],
            "text/plain": [
              "  province  population  year debt  2nd_language\n",
              "c        M   3000000.0  2000  NaN           NaN"
            ]
          },
          "metadata": {
            "tags": []
          },
          "execution_count": 49
        }
      ]
    },
    {
      "cell_type": "code",
      "metadata": {
        "colab": {
          "base_uri": "https://localhost:8080/",
          "height": 106
        },
        "id": "4zUo7Jvdad7k",
        "outputId": "26a32ffe-4d33-4fa0-c4e9-38dbc55cabd1"
      },
      "source": [
        "df2.loc[df2['year'] > 1950]"
      ],
      "execution_count": null,
      "outputs": [
        {
          "output_type": "execute_result",
          "data": {
            "text/html": [
              "<div>\n",
              "<style scoped>\n",
              "    .dataframe tbody tr th:only-of-type {\n",
              "        vertical-align: middle;\n",
              "    }\n",
              "\n",
              "    .dataframe tbody tr th {\n",
              "        vertical-align: top;\n",
              "    }\n",
              "\n",
              "    .dataframe thead th {\n",
              "        text-align: right;\n",
              "    }\n",
              "</style>\n",
              "<table border=\"1\" class=\"dataframe\">\n",
              "  <thead>\n",
              "    <tr style=\"text-align: right;\">\n",
              "      <th></th>\n",
              "      <th>province</th>\n",
              "      <th>population</th>\n",
              "      <th>year</th>\n",
              "      <th>debt</th>\n",
              "      <th>2nd_language</th>\n",
              "    </tr>\n",
              "  </thead>\n",
              "  <tbody>\n",
              "    <tr>\n",
              "      <th>c</th>\n",
              "      <td>M</td>\n",
              "      <td>3000000.0</td>\n",
              "      <td>2000</td>\n",
              "      <td>NaN</td>\n",
              "      <td>NaN</td>\n",
              "    </tr>\n",
              "    <tr>\n",
              "      <th>e</th>\n",
              "      <td>B</td>\n",
              "      <td>1500000.0</td>\n",
              "      <td>2000</td>\n",
              "      <td>NaN</td>\n",
              "      <td>NaN</td>\n",
              "    </tr>\n",
              "  </tbody>\n",
              "</table>\n",
              "</div>"
            ],
            "text/plain": [
              "  province  population  year debt  2nd_language\n",
              "c        M   3000000.0  2000  NaN           NaN\n",
              "e        B   1500000.0  2000  NaN           NaN"
            ]
          },
          "metadata": {
            "tags": []
          },
          "execution_count": 50
        }
      ]
    },
    {
      "cell_type": "code",
      "metadata": {
        "colab": {
          "base_uri": "https://localhost:8080/"
        },
        "id": "CzwKSVh0ad-Z",
        "outputId": "4180ef58-a62e-4fd3-ce4b-9d715c6496f0"
      },
      "source": [
        "val = pd.Series([0.1, 0.6, 0.9], index = ['b', 'd', 'e'])\r\n",
        "val"
      ],
      "execution_count": null,
      "outputs": [
        {
          "output_type": "execute_result",
          "data": {
            "text/plain": [
              "b    0.1\n",
              "d    0.6\n",
              "e    0.9\n",
              "dtype: float64"
            ]
          },
          "metadata": {
            "tags": []
          },
          "execution_count": 51
        }
      ]
    },
    {
      "cell_type": "code",
      "metadata": {
        "colab": {
          "base_uri": "https://localhost:8080/",
          "height": 195
        },
        "id": "SR2AG2mWaeCn",
        "outputId": "fa793309-6793-4e38-8372-98113b86b866"
      },
      "source": [
        "df2['debt'] = [1,0,2,0.5,0.7]\r\n",
        "df2"
      ],
      "execution_count": null,
      "outputs": [
        {
          "output_type": "execute_result",
          "data": {
            "text/html": [
              "<div>\n",
              "<style scoped>\n",
              "    .dataframe tbody tr th:only-of-type {\n",
              "        vertical-align: middle;\n",
              "    }\n",
              "\n",
              "    .dataframe tbody tr th {\n",
              "        vertical-align: top;\n",
              "    }\n",
              "\n",
              "    .dataframe thead th {\n",
              "        text-align: right;\n",
              "    }\n",
              "</style>\n",
              "<table border=\"1\" class=\"dataframe\">\n",
              "  <thead>\n",
              "    <tr style=\"text-align: right;\">\n",
              "      <th></th>\n",
              "      <th>province</th>\n",
              "      <th>population</th>\n",
              "      <th>year</th>\n",
              "      <th>debt</th>\n",
              "      <th>2nd_language</th>\n",
              "    </tr>\n",
              "  </thead>\n",
              "  <tbody>\n",
              "    <tr>\n",
              "      <th>a</th>\n",
              "      <td>M</td>\n",
              "      <td>1500000.0</td>\n",
              "      <td>1900</td>\n",
              "      <td>1.0</td>\n",
              "      <td>NaN</td>\n",
              "    </tr>\n",
              "    <tr>\n",
              "      <th>b</th>\n",
              "      <td>M</td>\n",
              "      <td>2000000.0</td>\n",
              "      <td>1950</td>\n",
              "      <td>0.0</td>\n",
              "      <td>NaN</td>\n",
              "    </tr>\n",
              "    <tr>\n",
              "      <th>c</th>\n",
              "      <td>M</td>\n",
              "      <td>3000000.0</td>\n",
              "      <td>2000</td>\n",
              "      <td>2.0</td>\n",
              "      <td>NaN</td>\n",
              "    </tr>\n",
              "    <tr>\n",
              "      <th>d</th>\n",
              "      <td>B</td>\n",
              "      <td>5000000.0</td>\n",
              "      <td>1900</td>\n",
              "      <td>0.5</td>\n",
              "      <td>NaN</td>\n",
              "    </tr>\n",
              "    <tr>\n",
              "      <th>e</th>\n",
              "      <td>B</td>\n",
              "      <td>1500000.0</td>\n",
              "      <td>2000</td>\n",
              "      <td>0.7</td>\n",
              "      <td>NaN</td>\n",
              "    </tr>\n",
              "  </tbody>\n",
              "</table>\n",
              "</div>"
            ],
            "text/plain": [
              "  province  population  year  debt  2nd_language\n",
              "a        M   1500000.0  1900   1.0           NaN\n",
              "b        M   2000000.0  1950   0.0           NaN\n",
              "c        M   3000000.0  2000   2.0           NaN\n",
              "d        B   5000000.0  1900   0.5           NaN\n",
              "e        B   1500000.0  2000   0.7           NaN"
            ]
          },
          "metadata": {
            "tags": []
          },
          "execution_count": 52
        }
      ]
    },
    {
      "cell_type": "code",
      "metadata": {
        "colab": {
          "base_uri": "https://localhost:8080/",
          "height": 195
        },
        "id": "oqL2McQaTykw",
        "outputId": "0f3a565c-2acb-4250-add0-431e3b202739"
      },
      "source": [
        "df2['debt'] = val\r\n",
        "df2"
      ],
      "execution_count": null,
      "outputs": [
        {
          "output_type": "execute_result",
          "data": {
            "text/html": [
              "<div>\n",
              "<style scoped>\n",
              "    .dataframe tbody tr th:only-of-type {\n",
              "        vertical-align: middle;\n",
              "    }\n",
              "\n",
              "    .dataframe tbody tr th {\n",
              "        vertical-align: top;\n",
              "    }\n",
              "\n",
              "    .dataframe thead th {\n",
              "        text-align: right;\n",
              "    }\n",
              "</style>\n",
              "<table border=\"1\" class=\"dataframe\">\n",
              "  <thead>\n",
              "    <tr style=\"text-align: right;\">\n",
              "      <th></th>\n",
              "      <th>province</th>\n",
              "      <th>population</th>\n",
              "      <th>year</th>\n",
              "      <th>debt</th>\n",
              "      <th>2nd_language</th>\n",
              "    </tr>\n",
              "  </thead>\n",
              "  <tbody>\n",
              "    <tr>\n",
              "      <th>a</th>\n",
              "      <td>M</td>\n",
              "      <td>1500000.0</td>\n",
              "      <td>1900</td>\n",
              "      <td>NaN</td>\n",
              "      <td>NaN</td>\n",
              "    </tr>\n",
              "    <tr>\n",
              "      <th>b</th>\n",
              "      <td>M</td>\n",
              "      <td>2000000.0</td>\n",
              "      <td>1950</td>\n",
              "      <td>0.1</td>\n",
              "      <td>NaN</td>\n",
              "    </tr>\n",
              "    <tr>\n",
              "      <th>c</th>\n",
              "      <td>M</td>\n",
              "      <td>3000000.0</td>\n",
              "      <td>2000</td>\n",
              "      <td>NaN</td>\n",
              "      <td>NaN</td>\n",
              "    </tr>\n",
              "    <tr>\n",
              "      <th>d</th>\n",
              "      <td>B</td>\n",
              "      <td>5000000.0</td>\n",
              "      <td>1900</td>\n",
              "      <td>0.6</td>\n",
              "      <td>NaN</td>\n",
              "    </tr>\n",
              "    <tr>\n",
              "      <th>e</th>\n",
              "      <td>B</td>\n",
              "      <td>1500000.0</td>\n",
              "      <td>2000</td>\n",
              "      <td>0.9</td>\n",
              "      <td>NaN</td>\n",
              "    </tr>\n",
              "  </tbody>\n",
              "</table>\n",
              "</div>"
            ],
            "text/plain": [
              "  province  population  year  debt  2nd_language\n",
              "a        M   1500000.0  1900   NaN           NaN\n",
              "b        M   2000000.0  1950   0.1           NaN\n",
              "c        M   3000000.0  2000   NaN           NaN\n",
              "d        B   5000000.0  1900   0.6           NaN\n",
              "e        B   1500000.0  2000   0.9           NaN"
            ]
          },
          "metadata": {
            "tags": []
          },
          "execution_count": 53
        }
      ]
    },
    {
      "cell_type": "code",
      "metadata": {
        "colab": {
          "base_uri": "https://localhost:8080/",
          "height": 195
        },
        "id": "ioyZBvV-ZTgb",
        "outputId": "ab552a59-1307-4e24-ec37-c8fc3aaa0a73"
      },
      "source": [
        "df2['capital'] = df2['province'] == 'M'\r\n",
        "df2"
      ],
      "execution_count": null,
      "outputs": [
        {
          "output_type": "execute_result",
          "data": {
            "text/html": [
              "<div>\n",
              "<style scoped>\n",
              "    .dataframe tbody tr th:only-of-type {\n",
              "        vertical-align: middle;\n",
              "    }\n",
              "\n",
              "    .dataframe tbody tr th {\n",
              "        vertical-align: top;\n",
              "    }\n",
              "\n",
              "    .dataframe thead th {\n",
              "        text-align: right;\n",
              "    }\n",
              "</style>\n",
              "<table border=\"1\" class=\"dataframe\">\n",
              "  <thead>\n",
              "    <tr style=\"text-align: right;\">\n",
              "      <th></th>\n",
              "      <th>province</th>\n",
              "      <th>population</th>\n",
              "      <th>year</th>\n",
              "      <th>debt</th>\n",
              "      <th>2nd_language</th>\n",
              "      <th>capital</th>\n",
              "    </tr>\n",
              "  </thead>\n",
              "  <tbody>\n",
              "    <tr>\n",
              "      <th>a</th>\n",
              "      <td>M</td>\n",
              "      <td>1500000.0</td>\n",
              "      <td>1900</td>\n",
              "      <td>NaN</td>\n",
              "      <td>NaN</td>\n",
              "      <td>True</td>\n",
              "    </tr>\n",
              "    <tr>\n",
              "      <th>b</th>\n",
              "      <td>M</td>\n",
              "      <td>2000000.0</td>\n",
              "      <td>1950</td>\n",
              "      <td>0.1</td>\n",
              "      <td>NaN</td>\n",
              "      <td>True</td>\n",
              "    </tr>\n",
              "    <tr>\n",
              "      <th>c</th>\n",
              "      <td>M</td>\n",
              "      <td>3000000.0</td>\n",
              "      <td>2000</td>\n",
              "      <td>NaN</td>\n",
              "      <td>NaN</td>\n",
              "      <td>True</td>\n",
              "    </tr>\n",
              "    <tr>\n",
              "      <th>d</th>\n",
              "      <td>B</td>\n",
              "      <td>5000000.0</td>\n",
              "      <td>1900</td>\n",
              "      <td>0.6</td>\n",
              "      <td>NaN</td>\n",
              "      <td>False</td>\n",
              "    </tr>\n",
              "    <tr>\n",
              "      <th>e</th>\n",
              "      <td>B</td>\n",
              "      <td>1500000.0</td>\n",
              "      <td>2000</td>\n",
              "      <td>0.9</td>\n",
              "      <td>NaN</td>\n",
              "      <td>False</td>\n",
              "    </tr>\n",
              "  </tbody>\n",
              "</table>\n",
              "</div>"
            ],
            "text/plain": [
              "  province  population  year  debt  2nd_language  capital\n",
              "a        M   1500000.0  1900   NaN           NaN     True\n",
              "b        M   2000000.0  1950   0.1           NaN     True\n",
              "c        M   3000000.0  2000   NaN           NaN     True\n",
              "d        B   5000000.0  1900   0.6           NaN    False\n",
              "e        B   1500000.0  2000   0.9           NaN    False"
            ]
          },
          "metadata": {
            "tags": []
          },
          "execution_count": 54
        }
      ]
    },
    {
      "cell_type": "code",
      "metadata": {
        "colab": {
          "base_uri": "https://localhost:8080/",
          "height": 195
        },
        "id": "ylScFcLtZTi9",
        "outputId": "5a8847ec-9796-4d3e-adb0-6c6aa4be2c18"
      },
      "source": [
        "del df2['2nd_language']\r\n",
        "df2"
      ],
      "execution_count": null,
      "outputs": [
        {
          "output_type": "execute_result",
          "data": {
            "text/html": [
              "<div>\n",
              "<style scoped>\n",
              "    .dataframe tbody tr th:only-of-type {\n",
              "        vertical-align: middle;\n",
              "    }\n",
              "\n",
              "    .dataframe tbody tr th {\n",
              "        vertical-align: top;\n",
              "    }\n",
              "\n",
              "    .dataframe thead th {\n",
              "        text-align: right;\n",
              "    }\n",
              "</style>\n",
              "<table border=\"1\" class=\"dataframe\">\n",
              "  <thead>\n",
              "    <tr style=\"text-align: right;\">\n",
              "      <th></th>\n",
              "      <th>province</th>\n",
              "      <th>population</th>\n",
              "      <th>year</th>\n",
              "      <th>debt</th>\n",
              "      <th>capital</th>\n",
              "    </tr>\n",
              "  </thead>\n",
              "  <tbody>\n",
              "    <tr>\n",
              "      <th>a</th>\n",
              "      <td>M</td>\n",
              "      <td>1500000.0</td>\n",
              "      <td>1900</td>\n",
              "      <td>NaN</td>\n",
              "      <td>True</td>\n",
              "    </tr>\n",
              "    <tr>\n",
              "      <th>b</th>\n",
              "      <td>M</td>\n",
              "      <td>2000000.0</td>\n",
              "      <td>1950</td>\n",
              "      <td>0.1</td>\n",
              "      <td>True</td>\n",
              "    </tr>\n",
              "    <tr>\n",
              "      <th>c</th>\n",
              "      <td>M</td>\n",
              "      <td>3000000.0</td>\n",
              "      <td>2000</td>\n",
              "      <td>NaN</td>\n",
              "      <td>True</td>\n",
              "    </tr>\n",
              "    <tr>\n",
              "      <th>d</th>\n",
              "      <td>B</td>\n",
              "      <td>5000000.0</td>\n",
              "      <td>1900</td>\n",
              "      <td>0.6</td>\n",
              "      <td>False</td>\n",
              "    </tr>\n",
              "    <tr>\n",
              "      <th>e</th>\n",
              "      <td>B</td>\n",
              "      <td>1500000.0</td>\n",
              "      <td>2000</td>\n",
              "      <td>0.9</td>\n",
              "      <td>False</td>\n",
              "    </tr>\n",
              "  </tbody>\n",
              "</table>\n",
              "</div>"
            ],
            "text/plain": [
              "  province  population  year  debt  capital\n",
              "a        M   1500000.0  1900   NaN     True\n",
              "b        M   2000000.0  1950   0.1     True\n",
              "c        M   3000000.0  2000   NaN     True\n",
              "d        B   5000000.0  1900   0.6    False\n",
              "e        B   1500000.0  2000   0.9    False"
            ]
          },
          "metadata": {
            "tags": []
          },
          "execution_count": 55
        }
      ]
    },
    {
      "cell_type": "code",
      "metadata": {
        "colab": {
          "base_uri": "https://localhost:8080/",
          "height": 195
        },
        "id": "QixchVILZTlf",
        "outputId": "b7263e8c-3627-4bca-d691-3dda2dfdeffe"
      },
      "source": [
        "df2['2nd_language'] = np.nan\r\n",
        "df2"
      ],
      "execution_count": null,
      "outputs": [
        {
          "output_type": "execute_result",
          "data": {
            "text/html": [
              "<div>\n",
              "<style scoped>\n",
              "    .dataframe tbody tr th:only-of-type {\n",
              "        vertical-align: middle;\n",
              "    }\n",
              "\n",
              "    .dataframe tbody tr th {\n",
              "        vertical-align: top;\n",
              "    }\n",
              "\n",
              "    .dataframe thead th {\n",
              "        text-align: right;\n",
              "    }\n",
              "</style>\n",
              "<table border=\"1\" class=\"dataframe\">\n",
              "  <thead>\n",
              "    <tr style=\"text-align: right;\">\n",
              "      <th></th>\n",
              "      <th>province</th>\n",
              "      <th>population</th>\n",
              "      <th>year</th>\n",
              "      <th>debt</th>\n",
              "      <th>capital</th>\n",
              "      <th>2nd_language</th>\n",
              "    </tr>\n",
              "  </thead>\n",
              "  <tbody>\n",
              "    <tr>\n",
              "      <th>a</th>\n",
              "      <td>M</td>\n",
              "      <td>1500000.0</td>\n",
              "      <td>1900</td>\n",
              "      <td>NaN</td>\n",
              "      <td>True</td>\n",
              "      <td>NaN</td>\n",
              "    </tr>\n",
              "    <tr>\n",
              "      <th>b</th>\n",
              "      <td>M</td>\n",
              "      <td>2000000.0</td>\n",
              "      <td>1950</td>\n",
              "      <td>0.1</td>\n",
              "      <td>True</td>\n",
              "      <td>NaN</td>\n",
              "    </tr>\n",
              "    <tr>\n",
              "      <th>c</th>\n",
              "      <td>M</td>\n",
              "      <td>3000000.0</td>\n",
              "      <td>2000</td>\n",
              "      <td>NaN</td>\n",
              "      <td>True</td>\n",
              "      <td>NaN</td>\n",
              "    </tr>\n",
              "    <tr>\n",
              "      <th>d</th>\n",
              "      <td>B</td>\n",
              "      <td>5000000.0</td>\n",
              "      <td>1900</td>\n",
              "      <td>0.6</td>\n",
              "      <td>False</td>\n",
              "      <td>NaN</td>\n",
              "    </tr>\n",
              "    <tr>\n",
              "      <th>e</th>\n",
              "      <td>B</td>\n",
              "      <td>1500000.0</td>\n",
              "      <td>2000</td>\n",
              "      <td>0.9</td>\n",
              "      <td>False</td>\n",
              "      <td>NaN</td>\n",
              "    </tr>\n",
              "  </tbody>\n",
              "</table>\n",
              "</div>"
            ],
            "text/plain": [
              "  province  population  year  debt  capital  2nd_language\n",
              "a        M   1500000.0  1900   NaN     True           NaN\n",
              "b        M   2000000.0  1950   0.1     True           NaN\n",
              "c        M   3000000.0  2000   NaN     True           NaN\n",
              "d        B   5000000.0  1900   0.6    False           NaN\n",
              "e        B   1500000.0  2000   0.9    False           NaN"
            ]
          },
          "metadata": {
            "tags": []
          },
          "execution_count": 56
        }
      ]
    },
    {
      "cell_type": "code",
      "metadata": {
        "colab": {
          "base_uri": "https://localhost:8080/",
          "height": 225
        },
        "id": "IfH1KjzljCPa",
        "outputId": "09ac1ee2-4051-4e8a-b388-54fd87e5f22f"
      },
      "source": [
        "df2.T"
      ],
      "execution_count": null,
      "outputs": [
        {
          "output_type": "execute_result",
          "data": {
            "text/html": [
              "<div>\n",
              "<style scoped>\n",
              "    .dataframe tbody tr th:only-of-type {\n",
              "        vertical-align: middle;\n",
              "    }\n",
              "\n",
              "    .dataframe tbody tr th {\n",
              "        vertical-align: top;\n",
              "    }\n",
              "\n",
              "    .dataframe thead th {\n",
              "        text-align: right;\n",
              "    }\n",
              "</style>\n",
              "<table border=\"1\" class=\"dataframe\">\n",
              "  <thead>\n",
              "    <tr style=\"text-align: right;\">\n",
              "      <th></th>\n",
              "      <th>a</th>\n",
              "      <th>b</th>\n",
              "      <th>c</th>\n",
              "      <th>d</th>\n",
              "      <th>e</th>\n",
              "    </tr>\n",
              "  </thead>\n",
              "  <tbody>\n",
              "    <tr>\n",
              "      <th>province</th>\n",
              "      <td>M</td>\n",
              "      <td>M</td>\n",
              "      <td>M</td>\n",
              "      <td>B</td>\n",
              "      <td>B</td>\n",
              "    </tr>\n",
              "    <tr>\n",
              "      <th>population</th>\n",
              "      <td>1.5e+06</td>\n",
              "      <td>2e+06</td>\n",
              "      <td>3e+06</td>\n",
              "      <td>5e+06</td>\n",
              "      <td>1.5e+06</td>\n",
              "    </tr>\n",
              "    <tr>\n",
              "      <th>year</th>\n",
              "      <td>1900</td>\n",
              "      <td>1950</td>\n",
              "      <td>2000</td>\n",
              "      <td>1900</td>\n",
              "      <td>2000</td>\n",
              "    </tr>\n",
              "    <tr>\n",
              "      <th>debt</th>\n",
              "      <td>NaN</td>\n",
              "      <td>0.1</td>\n",
              "      <td>NaN</td>\n",
              "      <td>0.6</td>\n",
              "      <td>0.9</td>\n",
              "    </tr>\n",
              "    <tr>\n",
              "      <th>capital</th>\n",
              "      <td>True</td>\n",
              "      <td>True</td>\n",
              "      <td>True</td>\n",
              "      <td>False</td>\n",
              "      <td>False</td>\n",
              "    </tr>\n",
              "    <tr>\n",
              "      <th>2nd_language</th>\n",
              "      <td>NaN</td>\n",
              "      <td>NaN</td>\n",
              "      <td>NaN</td>\n",
              "      <td>NaN</td>\n",
              "      <td>NaN</td>\n",
              "    </tr>\n",
              "  </tbody>\n",
              "</table>\n",
              "</div>"
            ],
            "text/plain": [
              "                    a      b      c      d        e\n",
              "province            M      M      M      B        B\n",
              "population    1.5e+06  2e+06  3e+06  5e+06  1.5e+06\n",
              "year             1900   1950   2000   1900     2000\n",
              "debt              NaN    0.1    NaN    0.6      0.9\n",
              "capital          True   True   True  False    False\n",
              "2nd_language      NaN    NaN    NaN    NaN      NaN"
            ]
          },
          "metadata": {
            "tags": []
          },
          "execution_count": 57
        }
      ]
    },
    {
      "cell_type": "code",
      "metadata": {
        "colab": {
          "base_uri": "https://localhost:8080/",
          "height": 284
        },
        "id": "X5OEUBb0jRTq",
        "outputId": "8aa809b4-d44f-4598-ad29-c658fab6e3c8"
      },
      "source": [
        "df2.describe()"
      ],
      "execution_count": null,
      "outputs": [
        {
          "output_type": "execute_result",
          "data": {
            "text/html": [
              "<div>\n",
              "<style scoped>\n",
              "    .dataframe tbody tr th:only-of-type {\n",
              "        vertical-align: middle;\n",
              "    }\n",
              "\n",
              "    .dataframe tbody tr th {\n",
              "        vertical-align: top;\n",
              "    }\n",
              "\n",
              "    .dataframe thead th {\n",
              "        text-align: right;\n",
              "    }\n",
              "</style>\n",
              "<table border=\"1\" class=\"dataframe\">\n",
              "  <thead>\n",
              "    <tr style=\"text-align: right;\">\n",
              "      <th></th>\n",
              "      <th>population</th>\n",
              "      <th>year</th>\n",
              "      <th>debt</th>\n",
              "      <th>2nd_language</th>\n",
              "    </tr>\n",
              "  </thead>\n",
              "  <tbody>\n",
              "    <tr>\n",
              "      <th>count</th>\n",
              "      <td>5.000000e+00</td>\n",
              "      <td>5.0</td>\n",
              "      <td>3.000000</td>\n",
              "      <td>0.0</td>\n",
              "    </tr>\n",
              "    <tr>\n",
              "      <th>mean</th>\n",
              "      <td>2.600000e+06</td>\n",
              "      <td>1950.0</td>\n",
              "      <td>0.533333</td>\n",
              "      <td>NaN</td>\n",
              "    </tr>\n",
              "    <tr>\n",
              "      <th>std</th>\n",
              "      <td>1.474788e+06</td>\n",
              "      <td>50.0</td>\n",
              "      <td>0.404145</td>\n",
              "      <td>NaN</td>\n",
              "    </tr>\n",
              "    <tr>\n",
              "      <th>min</th>\n",
              "      <td>1.500000e+06</td>\n",
              "      <td>1900.0</td>\n",
              "      <td>0.100000</td>\n",
              "      <td>NaN</td>\n",
              "    </tr>\n",
              "    <tr>\n",
              "      <th>25%</th>\n",
              "      <td>1.500000e+06</td>\n",
              "      <td>1900.0</td>\n",
              "      <td>0.350000</td>\n",
              "      <td>NaN</td>\n",
              "    </tr>\n",
              "    <tr>\n",
              "      <th>50%</th>\n",
              "      <td>2.000000e+06</td>\n",
              "      <td>1950.0</td>\n",
              "      <td>0.600000</td>\n",
              "      <td>NaN</td>\n",
              "    </tr>\n",
              "    <tr>\n",
              "      <th>75%</th>\n",
              "      <td>3.000000e+06</td>\n",
              "      <td>2000.0</td>\n",
              "      <td>0.750000</td>\n",
              "      <td>NaN</td>\n",
              "    </tr>\n",
              "    <tr>\n",
              "      <th>max</th>\n",
              "      <td>5.000000e+06</td>\n",
              "      <td>2000.0</td>\n",
              "      <td>0.900000</td>\n",
              "      <td>NaN</td>\n",
              "    </tr>\n",
              "  </tbody>\n",
              "</table>\n",
              "</div>"
            ],
            "text/plain": [
              "         population    year      debt  2nd_language\n",
              "count  5.000000e+00     5.0  3.000000           0.0\n",
              "mean   2.600000e+06  1950.0  0.533333           NaN\n",
              "std    1.474788e+06    50.0  0.404145           NaN\n",
              "min    1.500000e+06  1900.0  0.100000           NaN\n",
              "25%    1.500000e+06  1900.0  0.350000           NaN\n",
              "50%    2.000000e+06  1950.0  0.600000           NaN\n",
              "75%    3.000000e+06  2000.0  0.750000           NaN\n",
              "max    5.000000e+06  2000.0  0.900000           NaN"
            ]
          },
          "metadata": {
            "tags": []
          },
          "execution_count": 58
        }
      ]
    },
    {
      "cell_type": "code",
      "metadata": {
        "colab": {
          "base_uri": "https://localhost:8080/"
        },
        "id": "bTVVVMG8jRa7",
        "outputId": "79ccc3f5-7e12-4d26-cede-7fa30fbfe034"
      },
      "source": [
        "df2.count()"
      ],
      "execution_count": null,
      "outputs": [
        {
          "output_type": "execute_result",
          "data": {
            "text/plain": [
              "province        5\n",
              "population      5\n",
              "year            5\n",
              "debt            3\n",
              "capital         5\n",
              "2nd_language    0\n",
              "dtype: int64"
            ]
          },
          "metadata": {
            "tags": []
          },
          "execution_count": 59
        }
      ]
    },
    {
      "cell_type": "code",
      "metadata": {
        "colab": {
          "base_uri": "https://localhost:8080/"
        },
        "id": "JrC4nV-GjReA",
        "outputId": "7b8b6fa0-dfad-40ba-c038-aac21140959e"
      },
      "source": [
        "df2.info()"
      ],
      "execution_count": null,
      "outputs": [
        {
          "output_type": "stream",
          "text": [
            "<class 'pandas.core.frame.DataFrame'>\n",
            "Index: 5 entries, a to e\n",
            "Data columns (total 6 columns):\n",
            " #   Column        Non-Null Count  Dtype  \n",
            "---  ------        --------------  -----  \n",
            " 0   province      5 non-null      object \n",
            " 1   population    5 non-null      float64\n",
            " 2   year          5 non-null      int64  \n",
            " 3   debt          3 non-null      float64\n",
            " 4   capital       5 non-null      bool   \n",
            " 5   2nd_language  0 non-null      float64\n",
            "dtypes: bool(1), float64(3), int64(1), object(1)\n",
            "memory usage: 405.0+ bytes\n"
          ],
          "name": "stdout"
        }
      ]
    },
    {
      "cell_type": "code",
      "metadata": {
        "colab": {
          "base_uri": "https://localhost:8080/",
          "height": 279
        },
        "id": "gYeihnY-jCSL",
        "outputId": "0c87998a-e06c-40b0-e2ad-400cc3e1586d"
      },
      "source": [
        "df2.index[1] = 'x' # Index does not support mutable operations"
      ],
      "execution_count": null,
      "outputs": [
        {
          "output_type": "error",
          "ename": "TypeError",
          "evalue": "ignored",
          "traceback": [
            "\u001b[0;31m---------------------------------------------------------------------------\u001b[0m",
            "\u001b[0;31mTypeError\u001b[0m                                 Traceback (most recent call last)",
            "\u001b[0;32m<ipython-input-61-e158d13d5e66>\u001b[0m in \u001b[0;36m<module>\u001b[0;34m()\u001b[0m\n\u001b[0;32m----> 1\u001b[0;31m \u001b[0mdf2\u001b[0m\u001b[0;34m.\u001b[0m\u001b[0mindex\u001b[0m\u001b[0;34m[\u001b[0m\u001b[0;36m1\u001b[0m\u001b[0;34m]\u001b[0m \u001b[0;34m=\u001b[0m \u001b[0;34m'x'\u001b[0m \u001b[0;31m# Index does not support mutable operations\u001b[0m\u001b[0;34m\u001b[0m\u001b[0;34m\u001b[0m\u001b[0m\n\u001b[0m",
            "\u001b[0;32m/usr/local/lib/python3.6/dist-packages/pandas/core/indexes/base.py\u001b[0m in \u001b[0;36m__setitem__\u001b[0;34m(self, key, value)\u001b[0m\n\u001b[1;32m   4082\u001b[0m \u001b[0;34m\u001b[0m\u001b[0m\n\u001b[1;32m   4083\u001b[0m     \u001b[0;32mdef\u001b[0m \u001b[0m__setitem__\u001b[0m\u001b[0;34m(\u001b[0m\u001b[0mself\u001b[0m\u001b[0;34m,\u001b[0m \u001b[0mkey\u001b[0m\u001b[0;34m,\u001b[0m \u001b[0mvalue\u001b[0m\u001b[0;34m)\u001b[0m\u001b[0;34m:\u001b[0m\u001b[0;34m\u001b[0m\u001b[0;34m\u001b[0m\u001b[0m\n\u001b[0;32m-> 4084\u001b[0;31m         \u001b[0;32mraise\u001b[0m \u001b[0mTypeError\u001b[0m\u001b[0;34m(\u001b[0m\u001b[0;34m\"Index does not support mutable operations\"\u001b[0m\u001b[0;34m)\u001b[0m\u001b[0;34m\u001b[0m\u001b[0;34m\u001b[0m\u001b[0m\n\u001b[0m\u001b[1;32m   4085\u001b[0m \u001b[0;34m\u001b[0m\u001b[0m\n\u001b[1;32m   4086\u001b[0m     \u001b[0;32mdef\u001b[0m \u001b[0m__getitem__\u001b[0m\u001b[0;34m(\u001b[0m\u001b[0mself\u001b[0m\u001b[0;34m,\u001b[0m \u001b[0mkey\u001b[0m\u001b[0;34m)\u001b[0m\u001b[0;34m:\u001b[0m\u001b[0;34m\u001b[0m\u001b[0;34m\u001b[0m\u001b[0m\n",
            "\u001b[0;31mTypeError\u001b[0m: Index does not support mutable operations"
          ]
        }
      ]
    },
    {
      "cell_type": "code",
      "metadata": {
        "colab": {
          "base_uri": "https://localhost:8080/",
          "height": 35
        },
        "id": "ZfgyVN6HjhAx",
        "outputId": "96b2bfe2-7d55-4f3c-899e-f9e57ed27526"
      },
      "source": [
        "df2.index[1]"
      ],
      "execution_count": null,
      "outputs": [
        {
          "output_type": "execute_result",
          "data": {
            "application/vnd.google.colaboratory.intrinsic+json": {
              "type": "string"
            },
            "text/plain": [
              "'b'"
            ]
          },
          "metadata": {
            "tags": []
          },
          "execution_count": 62
        }
      ]
    },
    {
      "cell_type": "code",
      "metadata": {
        "colab": {
          "base_uri": "https://localhost:8080/"
        },
        "id": "hPi_mQCijhH7",
        "outputId": "7e4ffbbe-15a6-4b50-99b6-b3f1ff731de8"
      },
      "source": [
        "series_temp = pd.Series([1.5, -2.5, 0, 1, 2], df2.index)\r\n",
        "series_temp"
      ],
      "execution_count": null,
      "outputs": [
        {
          "output_type": "execute_result",
          "data": {
            "text/plain": [
              "a    1.5\n",
              "b   -2.5\n",
              "c    0.0\n",
              "d    1.0\n",
              "e    2.0\n",
              "dtype: float64"
            ]
          },
          "metadata": {
            "tags": []
          },
          "execution_count": 63
        }
      ]
    },
    {
      "cell_type": "code",
      "metadata": {
        "colab": {
          "base_uri": "https://localhost:8080/",
          "height": 136
        },
        "id": "OtUgnCmrjhJn",
        "outputId": "b8ad106f-33f1-4d16-801c-9f120c8a76cc"
      },
      "source": [
        "df2.iloc[2:]"
      ],
      "execution_count": null,
      "outputs": [
        {
          "output_type": "execute_result",
          "data": {
            "text/html": [
              "<div>\n",
              "<style scoped>\n",
              "    .dataframe tbody tr th:only-of-type {\n",
              "        vertical-align: middle;\n",
              "    }\n",
              "\n",
              "    .dataframe tbody tr th {\n",
              "        vertical-align: top;\n",
              "    }\n",
              "\n",
              "    .dataframe thead th {\n",
              "        text-align: right;\n",
              "    }\n",
              "</style>\n",
              "<table border=\"1\" class=\"dataframe\">\n",
              "  <thead>\n",
              "    <tr style=\"text-align: right;\">\n",
              "      <th></th>\n",
              "      <th>province</th>\n",
              "      <th>population</th>\n",
              "      <th>year</th>\n",
              "      <th>debt</th>\n",
              "      <th>capital</th>\n",
              "      <th>2nd_language</th>\n",
              "    </tr>\n",
              "  </thead>\n",
              "  <tbody>\n",
              "    <tr>\n",
              "      <th>c</th>\n",
              "      <td>M</td>\n",
              "      <td>3000000.0</td>\n",
              "      <td>2000</td>\n",
              "      <td>NaN</td>\n",
              "      <td>True</td>\n",
              "      <td>NaN</td>\n",
              "    </tr>\n",
              "    <tr>\n",
              "      <th>d</th>\n",
              "      <td>B</td>\n",
              "      <td>5000000.0</td>\n",
              "      <td>1900</td>\n",
              "      <td>0.6</td>\n",
              "      <td>False</td>\n",
              "      <td>NaN</td>\n",
              "    </tr>\n",
              "    <tr>\n",
              "      <th>e</th>\n",
              "      <td>B</td>\n",
              "      <td>1500000.0</td>\n",
              "      <td>2000</td>\n",
              "      <td>0.9</td>\n",
              "      <td>False</td>\n",
              "      <td>NaN</td>\n",
              "    </tr>\n",
              "  </tbody>\n",
              "</table>\n",
              "</div>"
            ],
            "text/plain": [
              "  province  population  year  debt  capital  2nd_language\n",
              "c        M   3000000.0  2000   NaN     True           NaN\n",
              "d        B   5000000.0  1900   0.6    False           NaN\n",
              "e        B   1500000.0  2000   0.9    False           NaN"
            ]
          },
          "metadata": {
            "tags": []
          },
          "execution_count": 64
        }
      ]
    },
    {
      "cell_type": "code",
      "metadata": {
        "colab": {
          "base_uri": "https://localhost:8080/"
        },
        "id": "bfUc64KVjhNt",
        "outputId": "4c65533d-ae99-4b9e-bcb9-996906710106"
      },
      "source": [
        "s5 = pd.Series(np.arange(5), list('jduvk'))\r\n",
        "s5"
      ],
      "execution_count": null,
      "outputs": [
        {
          "output_type": "execute_result",
          "data": {
            "text/plain": [
              "j    0\n",
              "d    1\n",
              "u    2\n",
              "v    3\n",
              "k    4\n",
              "dtype: int64"
            ]
          },
          "metadata": {
            "tags": []
          },
          "execution_count": 65
        }
      ]
    },
    {
      "cell_type": "code",
      "metadata": {
        "colab": {
          "base_uri": "https://localhost:8080/"
        },
        "id": "VTp9xYwOjCUh",
        "outputId": "b9cff86b-e081-404b-de23-5e12131fcd95"
      },
      "source": [
        "s6 = s5.drop(['d','k'])\r\n",
        "s6"
      ],
      "execution_count": null,
      "outputs": [
        {
          "output_type": "execute_result",
          "data": {
            "text/plain": [
              "j    0\n",
              "u    2\n",
              "v    3\n",
              "dtype: int64"
            ]
          },
          "metadata": {
            "tags": []
          },
          "execution_count": 66
        }
      ]
    },
    {
      "cell_type": "code",
      "metadata": {
        "colab": {
          "base_uri": "https://localhost:8080/"
        },
        "id": "69sl0uMnjCXT",
        "outputId": "bd53b26c-6040-4306-e2d8-e5cb9a857b03"
      },
      "source": [
        "s6b = s5[s5.index.intersection(['d','k'])]\r\n",
        "s6b"
      ],
      "execution_count": null,
      "outputs": [
        {
          "output_type": "execute_result",
          "data": {
            "text/plain": [
              "d    1\n",
              "k    4\n",
              "dtype: int64"
            ]
          },
          "metadata": {
            "tags": []
          },
          "execution_count": 67
        }
      ]
    },
    {
      "cell_type": "code",
      "metadata": {
        "colab": {
          "base_uri": "https://localhost:8080/"
        },
        "id": "MrI-uqltjCiv",
        "outputId": "9a933542-59e4-42ff-bad4-1a57a01fe636"
      },
      "source": [
        "s5"
      ],
      "execution_count": null,
      "outputs": [
        {
          "output_type": "execute_result",
          "data": {
            "text/plain": [
              "j    0\n",
              "d    1\n",
              "u    2\n",
              "v    3\n",
              "k    4\n",
              "dtype: int64"
            ]
          },
          "metadata": {
            "tags": []
          },
          "execution_count": 68
        }
      ]
    },
    {
      "cell_type": "code",
      "metadata": {
        "colab": {
          "base_uri": "https://localhost:8080/"
        },
        "id": "qBOL-f27lhWt",
        "outputId": "be8deb85-18f9-4c86-8571-f997803ce91d"
      },
      "source": [
        "s6['u'] = 7\r\n",
        "s5"
      ],
      "execution_count": null,
      "outputs": [
        {
          "output_type": "execute_result",
          "data": {
            "text/plain": [
              "j    0\n",
              "d    1\n",
              "u    2\n",
              "v    3\n",
              "k    4\n",
              "dtype: int64"
            ]
          },
          "metadata": {
            "tags": []
          },
          "execution_count": 69
        }
      ]
    },
    {
      "cell_type": "code",
      "metadata": {
        "colab": {
          "base_uri": "https://localhost:8080/",
          "height": 195
        },
        "id": "ZtiFc2YnmaDI",
        "outputId": "a50a816b-cf63-4c5b-d38c-7ba148e13f1c"
      },
      "source": [
        "df2\r\n",
        "# df2 = pd.read_pickle(os.path.join(files_loc, \"df2.pkl\"))"
      ],
      "execution_count": null,
      "outputs": [
        {
          "output_type": "execute_result",
          "data": {
            "text/html": [
              "<div>\n",
              "<style scoped>\n",
              "    .dataframe tbody tr th:only-of-type {\n",
              "        vertical-align: middle;\n",
              "    }\n",
              "\n",
              "    .dataframe tbody tr th {\n",
              "        vertical-align: top;\n",
              "    }\n",
              "\n",
              "    .dataframe thead th {\n",
              "        text-align: right;\n",
              "    }\n",
              "</style>\n",
              "<table border=\"1\" class=\"dataframe\">\n",
              "  <thead>\n",
              "    <tr style=\"text-align: right;\">\n",
              "      <th></th>\n",
              "      <th>province</th>\n",
              "      <th>population</th>\n",
              "      <th>year</th>\n",
              "      <th>debt</th>\n",
              "      <th>capital</th>\n",
              "      <th>2nd_language</th>\n",
              "    </tr>\n",
              "  </thead>\n",
              "  <tbody>\n",
              "    <tr>\n",
              "      <th>a</th>\n",
              "      <td>M</td>\n",
              "      <td>1500000.0</td>\n",
              "      <td>1900</td>\n",
              "      <td>NaN</td>\n",
              "      <td>True</td>\n",
              "      <td>NaN</td>\n",
              "    </tr>\n",
              "    <tr>\n",
              "      <th>b</th>\n",
              "      <td>M</td>\n",
              "      <td>2000000.0</td>\n",
              "      <td>1950</td>\n",
              "      <td>0.1</td>\n",
              "      <td>True</td>\n",
              "      <td>NaN</td>\n",
              "    </tr>\n",
              "    <tr>\n",
              "      <th>c</th>\n",
              "      <td>M</td>\n",
              "      <td>3000000.0</td>\n",
              "      <td>2000</td>\n",
              "      <td>NaN</td>\n",
              "      <td>True</td>\n",
              "      <td>NaN</td>\n",
              "    </tr>\n",
              "    <tr>\n",
              "      <th>d</th>\n",
              "      <td>B</td>\n",
              "      <td>5000000.0</td>\n",
              "      <td>1900</td>\n",
              "      <td>0.6</td>\n",
              "      <td>False</td>\n",
              "      <td>NaN</td>\n",
              "    </tr>\n",
              "    <tr>\n",
              "      <th>e</th>\n",
              "      <td>B</td>\n",
              "      <td>1500000.0</td>\n",
              "      <td>2000</td>\n",
              "      <td>0.9</td>\n",
              "      <td>False</td>\n",
              "      <td>NaN</td>\n",
              "    </tr>\n",
              "  </tbody>\n",
              "</table>\n",
              "</div>"
            ],
            "text/plain": [
              "  province  population  year  debt  capital  2nd_language\n",
              "a        M   1500000.0  1900   NaN     True           NaN\n",
              "b        M   2000000.0  1950   0.1     True           NaN\n",
              "c        M   3000000.0  2000   NaN     True           NaN\n",
              "d        B   5000000.0  1900   0.6    False           NaN\n",
              "e        B   1500000.0  2000   0.9    False           NaN"
            ]
          },
          "metadata": {
            "tags": []
          },
          "execution_count": 70
        }
      ]
    },
    {
      "cell_type": "code",
      "metadata": {
        "colab": {
          "base_uri": "https://localhost:8080/",
          "height": 166
        },
        "id": "xq3POH6MmaFT",
        "outputId": "c1b17d6f-ee1d-4624-b54a-697151d971c0"
      },
      "source": [
        "df2.drop('c')"
      ],
      "execution_count": null,
      "outputs": [
        {
          "output_type": "execute_result",
          "data": {
            "text/html": [
              "<div>\n",
              "<style scoped>\n",
              "    .dataframe tbody tr th:only-of-type {\n",
              "        vertical-align: middle;\n",
              "    }\n",
              "\n",
              "    .dataframe tbody tr th {\n",
              "        vertical-align: top;\n",
              "    }\n",
              "\n",
              "    .dataframe thead th {\n",
              "        text-align: right;\n",
              "    }\n",
              "</style>\n",
              "<table border=\"1\" class=\"dataframe\">\n",
              "  <thead>\n",
              "    <tr style=\"text-align: right;\">\n",
              "      <th></th>\n",
              "      <th>province</th>\n",
              "      <th>population</th>\n",
              "      <th>year</th>\n",
              "      <th>debt</th>\n",
              "      <th>capital</th>\n",
              "      <th>2nd_language</th>\n",
              "    </tr>\n",
              "  </thead>\n",
              "  <tbody>\n",
              "    <tr>\n",
              "      <th>a</th>\n",
              "      <td>M</td>\n",
              "      <td>1500000.0</td>\n",
              "      <td>1900</td>\n",
              "      <td>NaN</td>\n",
              "      <td>True</td>\n",
              "      <td>NaN</td>\n",
              "    </tr>\n",
              "    <tr>\n",
              "      <th>b</th>\n",
              "      <td>M</td>\n",
              "      <td>2000000.0</td>\n",
              "      <td>1950</td>\n",
              "      <td>0.1</td>\n",
              "      <td>True</td>\n",
              "      <td>NaN</td>\n",
              "    </tr>\n",
              "    <tr>\n",
              "      <th>d</th>\n",
              "      <td>B</td>\n",
              "      <td>5000000.0</td>\n",
              "      <td>1900</td>\n",
              "      <td>0.6</td>\n",
              "      <td>False</td>\n",
              "      <td>NaN</td>\n",
              "    </tr>\n",
              "    <tr>\n",
              "      <th>e</th>\n",
              "      <td>B</td>\n",
              "      <td>1500000.0</td>\n",
              "      <td>2000</td>\n",
              "      <td>0.9</td>\n",
              "      <td>False</td>\n",
              "      <td>NaN</td>\n",
              "    </tr>\n",
              "  </tbody>\n",
              "</table>\n",
              "</div>"
            ],
            "text/plain": [
              "  province  population  year  debt  capital  2nd_language\n",
              "a        M   1500000.0  1900   NaN     True           NaN\n",
              "b        M   2000000.0  1950   0.1     True           NaN\n",
              "d        B   5000000.0  1900   0.6    False           NaN\n",
              "e        B   1500000.0  2000   0.9    False           NaN"
            ]
          },
          "metadata": {
            "tags": []
          },
          "execution_count": 71
        }
      ]
    },
    {
      "cell_type": "code",
      "metadata": {
        "colab": {
          "base_uri": "https://localhost:8080/",
          "height": 195
        },
        "id": "wZKmdiyPmaIK",
        "outputId": "796aa867-2ba5-41af-ad92-3a77073ad81d"
      },
      "source": [
        "df2.drop('2nd_language', axis=1)"
      ],
      "execution_count": null,
      "outputs": [
        {
          "output_type": "execute_result",
          "data": {
            "text/html": [
              "<div>\n",
              "<style scoped>\n",
              "    .dataframe tbody tr th:only-of-type {\n",
              "        vertical-align: middle;\n",
              "    }\n",
              "\n",
              "    .dataframe tbody tr th {\n",
              "        vertical-align: top;\n",
              "    }\n",
              "\n",
              "    .dataframe thead th {\n",
              "        text-align: right;\n",
              "    }\n",
              "</style>\n",
              "<table border=\"1\" class=\"dataframe\">\n",
              "  <thead>\n",
              "    <tr style=\"text-align: right;\">\n",
              "      <th></th>\n",
              "      <th>province</th>\n",
              "      <th>population</th>\n",
              "      <th>year</th>\n",
              "      <th>debt</th>\n",
              "      <th>capital</th>\n",
              "    </tr>\n",
              "  </thead>\n",
              "  <tbody>\n",
              "    <tr>\n",
              "      <th>a</th>\n",
              "      <td>M</td>\n",
              "      <td>1500000.0</td>\n",
              "      <td>1900</td>\n",
              "      <td>NaN</td>\n",
              "      <td>True</td>\n",
              "    </tr>\n",
              "    <tr>\n",
              "      <th>b</th>\n",
              "      <td>M</td>\n",
              "      <td>2000000.0</td>\n",
              "      <td>1950</td>\n",
              "      <td>0.1</td>\n",
              "      <td>True</td>\n",
              "    </tr>\n",
              "    <tr>\n",
              "      <th>c</th>\n",
              "      <td>M</td>\n",
              "      <td>3000000.0</td>\n",
              "      <td>2000</td>\n",
              "      <td>NaN</td>\n",
              "      <td>True</td>\n",
              "    </tr>\n",
              "    <tr>\n",
              "      <th>d</th>\n",
              "      <td>B</td>\n",
              "      <td>5000000.0</td>\n",
              "      <td>1900</td>\n",
              "      <td>0.6</td>\n",
              "      <td>False</td>\n",
              "    </tr>\n",
              "    <tr>\n",
              "      <th>e</th>\n",
              "      <td>B</td>\n",
              "      <td>1500000.0</td>\n",
              "      <td>2000</td>\n",
              "      <td>0.9</td>\n",
              "      <td>False</td>\n",
              "    </tr>\n",
              "  </tbody>\n",
              "</table>\n",
              "</div>"
            ],
            "text/plain": [
              "  province  population  year  debt  capital\n",
              "a        M   1500000.0  1900   NaN     True\n",
              "b        M   2000000.0  1950   0.1     True\n",
              "c        M   3000000.0  2000   NaN     True\n",
              "d        B   5000000.0  1900   0.6    False\n",
              "e        B   1500000.0  2000   0.9    False"
            ]
          },
          "metadata": {
            "tags": []
          },
          "execution_count": 72
        }
      ]
    },
    {
      "cell_type": "code",
      "metadata": {
        "colab": {
          "base_uri": "https://localhost:8080/",
          "height": 195
        },
        "id": "VjUEEWvlmaKY",
        "outputId": "54ff1ebe-f9f1-4ab3-f992-0c786d31abce"
      },
      "source": [
        "df2 # No se ha modificado el dataframe original"
      ],
      "execution_count": null,
      "outputs": [
        {
          "output_type": "execute_result",
          "data": {
            "text/html": [
              "<div>\n",
              "<style scoped>\n",
              "    .dataframe tbody tr th:only-of-type {\n",
              "        vertical-align: middle;\n",
              "    }\n",
              "\n",
              "    .dataframe tbody tr th {\n",
              "        vertical-align: top;\n",
              "    }\n",
              "\n",
              "    .dataframe thead th {\n",
              "        text-align: right;\n",
              "    }\n",
              "</style>\n",
              "<table border=\"1\" class=\"dataframe\">\n",
              "  <thead>\n",
              "    <tr style=\"text-align: right;\">\n",
              "      <th></th>\n",
              "      <th>province</th>\n",
              "      <th>population</th>\n",
              "      <th>year</th>\n",
              "      <th>debt</th>\n",
              "      <th>capital</th>\n",
              "      <th>2nd_language</th>\n",
              "    </tr>\n",
              "  </thead>\n",
              "  <tbody>\n",
              "    <tr>\n",
              "      <th>a</th>\n",
              "      <td>M</td>\n",
              "      <td>1500000.0</td>\n",
              "      <td>1900</td>\n",
              "      <td>NaN</td>\n",
              "      <td>True</td>\n",
              "      <td>NaN</td>\n",
              "    </tr>\n",
              "    <tr>\n",
              "      <th>b</th>\n",
              "      <td>M</td>\n",
              "      <td>2000000.0</td>\n",
              "      <td>1950</td>\n",
              "      <td>0.1</td>\n",
              "      <td>True</td>\n",
              "      <td>NaN</td>\n",
              "    </tr>\n",
              "    <tr>\n",
              "      <th>c</th>\n",
              "      <td>M</td>\n",
              "      <td>3000000.0</td>\n",
              "      <td>2000</td>\n",
              "      <td>NaN</td>\n",
              "      <td>True</td>\n",
              "      <td>NaN</td>\n",
              "    </tr>\n",
              "    <tr>\n",
              "      <th>d</th>\n",
              "      <td>B</td>\n",
              "      <td>5000000.0</td>\n",
              "      <td>1900</td>\n",
              "      <td>0.6</td>\n",
              "      <td>False</td>\n",
              "      <td>NaN</td>\n",
              "    </tr>\n",
              "    <tr>\n",
              "      <th>e</th>\n",
              "      <td>B</td>\n",
              "      <td>1500000.0</td>\n",
              "      <td>2000</td>\n",
              "      <td>0.9</td>\n",
              "      <td>False</td>\n",
              "      <td>NaN</td>\n",
              "    </tr>\n",
              "  </tbody>\n",
              "</table>\n",
              "</div>"
            ],
            "text/plain": [
              "  province  population  year  debt  capital  2nd_language\n",
              "a        M   1500000.0  1900   NaN     True           NaN\n",
              "b        M   2000000.0  1950   0.1     True           NaN\n",
              "c        M   3000000.0  2000   NaN     True           NaN\n",
              "d        B   5000000.0  1900   0.6    False           NaN\n",
              "e        B   1500000.0  2000   0.9    False           NaN"
            ]
          },
          "metadata": {
            "tags": []
          },
          "execution_count": 73
        }
      ]
    },
    {
      "cell_type": "code",
      "metadata": {
        "colab": {
          "base_uri": "https://localhost:8080/",
          "height": 195
        },
        "id": "eaApNK9BlhaU",
        "outputId": "f319c18a-2434-49c2-ead7-f7bb1573a3f5"
      },
      "source": [
        "df3 = df2.copy()\r\n",
        "df3"
      ],
      "execution_count": null,
      "outputs": [
        {
          "output_type": "execute_result",
          "data": {
            "text/html": [
              "<div>\n",
              "<style scoped>\n",
              "    .dataframe tbody tr th:only-of-type {\n",
              "        vertical-align: middle;\n",
              "    }\n",
              "\n",
              "    .dataframe tbody tr th {\n",
              "        vertical-align: top;\n",
              "    }\n",
              "\n",
              "    .dataframe thead th {\n",
              "        text-align: right;\n",
              "    }\n",
              "</style>\n",
              "<table border=\"1\" class=\"dataframe\">\n",
              "  <thead>\n",
              "    <tr style=\"text-align: right;\">\n",
              "      <th></th>\n",
              "      <th>province</th>\n",
              "      <th>population</th>\n",
              "      <th>year</th>\n",
              "      <th>debt</th>\n",
              "      <th>capital</th>\n",
              "      <th>2nd_language</th>\n",
              "    </tr>\n",
              "  </thead>\n",
              "  <tbody>\n",
              "    <tr>\n",
              "      <th>a</th>\n",
              "      <td>M</td>\n",
              "      <td>1500000.0</td>\n",
              "      <td>1900</td>\n",
              "      <td>NaN</td>\n",
              "      <td>True</td>\n",
              "      <td>NaN</td>\n",
              "    </tr>\n",
              "    <tr>\n",
              "      <th>b</th>\n",
              "      <td>M</td>\n",
              "      <td>2000000.0</td>\n",
              "      <td>1950</td>\n",
              "      <td>0.1</td>\n",
              "      <td>True</td>\n",
              "      <td>NaN</td>\n",
              "    </tr>\n",
              "    <tr>\n",
              "      <th>c</th>\n",
              "      <td>M</td>\n",
              "      <td>3000000.0</td>\n",
              "      <td>2000</td>\n",
              "      <td>NaN</td>\n",
              "      <td>True</td>\n",
              "      <td>NaN</td>\n",
              "    </tr>\n",
              "    <tr>\n",
              "      <th>d</th>\n",
              "      <td>B</td>\n",
              "      <td>5000000.0</td>\n",
              "      <td>1900</td>\n",
              "      <td>0.6</td>\n",
              "      <td>False</td>\n",
              "      <td>NaN</td>\n",
              "    </tr>\n",
              "    <tr>\n",
              "      <th>e</th>\n",
              "      <td>B</td>\n",
              "      <td>1500000.0</td>\n",
              "      <td>2000</td>\n",
              "      <td>0.9</td>\n",
              "      <td>False</td>\n",
              "      <td>NaN</td>\n",
              "    </tr>\n",
              "  </tbody>\n",
              "</table>\n",
              "</div>"
            ],
            "text/plain": [
              "  province  population  year  debt  capital  2nd_language\n",
              "a        M   1500000.0  1900   NaN     True           NaN\n",
              "b        M   2000000.0  1950   0.1     True           NaN\n",
              "c        M   3000000.0  2000   NaN     True           NaN\n",
              "d        B   5000000.0  1900   0.6    False           NaN\n",
              "e        B   1500000.0  2000   0.9    False           NaN"
            ]
          },
          "metadata": {
            "tags": []
          },
          "execution_count": 74
        }
      ]
    },
    {
      "cell_type": "code",
      "metadata": {
        "id": "3VaIxkCzlhej"
      },
      "source": [
        "df_detour = pd.DataFrame({'x': [1,2]})"
      ],
      "execution_count": null,
      "outputs": []
    },
    {
      "cell_type": "code",
      "metadata": {
        "id": "nBAPhj4ZnnY9"
      },
      "source": [
        "df_sub = df_detour[0:1]"
      ],
      "execution_count": null,
      "outputs": []
    },
    {
      "cell_type": "code",
      "metadata": {
        "colab": {
          "base_uri": "https://localhost:8080/",
          "height": 207
        },
        "id": "s74YaMQxnncA",
        "outputId": "09780eec-2508-49bd-bbb6-0f9b312f48d8"
      },
      "source": [
        "df_sub.x = -1\r\n",
        "df_detour "
      ],
      "execution_count": null,
      "outputs": [
        {
          "output_type": "stream",
          "text": [
            "/usr/local/lib/python3.6/dist-packages/pandas/core/generic.py:5170: SettingWithCopyWarning: \n",
            "A value is trying to be set on a copy of a slice from a DataFrame.\n",
            "Try using .loc[row_indexer,col_indexer] = value instead\n",
            "\n",
            "See the caveats in the documentation: https://pandas.pydata.org/pandas-docs/stable/user_guide/indexing.html#returning-a-view-versus-a-copy\n",
            "  self[name] = value\n"
          ],
          "name": "stderr"
        },
        {
          "output_type": "execute_result",
          "data": {
            "text/html": [
              "<div>\n",
              "<style scoped>\n",
              "    .dataframe tbody tr th:only-of-type {\n",
              "        vertical-align: middle;\n",
              "    }\n",
              "\n",
              "    .dataframe tbody tr th {\n",
              "        vertical-align: top;\n",
              "    }\n",
              "\n",
              "    .dataframe thead th {\n",
              "        text-align: right;\n",
              "    }\n",
              "</style>\n",
              "<table border=\"1\" class=\"dataframe\">\n",
              "  <thead>\n",
              "    <tr style=\"text-align: right;\">\n",
              "      <th></th>\n",
              "      <th>x</th>\n",
              "    </tr>\n",
              "  </thead>\n",
              "  <tbody>\n",
              "    <tr>\n",
              "      <th>0</th>\n",
              "      <td>-1</td>\n",
              "    </tr>\n",
              "    <tr>\n",
              "      <th>1</th>\n",
              "      <td>2</td>\n",
              "    </tr>\n",
              "  </tbody>\n",
              "</table>\n",
              "</div>"
            ],
            "text/plain": [
              "   x\n",
              "0 -1\n",
              "1  2"
            ]
          },
          "metadata": {
            "tags": []
          },
          "execution_count": 77
        }
      ]
    },
    {
      "cell_type": "code",
      "metadata": {
        "colab": {
          "base_uri": "https://localhost:8080/",
          "height": 195
        },
        "id": "kKQxt7BbnnfZ",
        "outputId": "ef3c1e0d-3233-4b3b-b4b1-7ca380012f14"
      },
      "source": [
        "df3.drop('capital', axis = 1, inplace = True) # Cambio inplace, se modifica el dataframe original\r\n",
        "df3"
      ],
      "execution_count": null,
      "outputs": [
        {
          "output_type": "execute_result",
          "data": {
            "text/html": [
              "<div>\n",
              "<style scoped>\n",
              "    .dataframe tbody tr th:only-of-type {\n",
              "        vertical-align: middle;\n",
              "    }\n",
              "\n",
              "    .dataframe tbody tr th {\n",
              "        vertical-align: top;\n",
              "    }\n",
              "\n",
              "    .dataframe thead th {\n",
              "        text-align: right;\n",
              "    }\n",
              "</style>\n",
              "<table border=\"1\" class=\"dataframe\">\n",
              "  <thead>\n",
              "    <tr style=\"text-align: right;\">\n",
              "      <th></th>\n",
              "      <th>province</th>\n",
              "      <th>population</th>\n",
              "      <th>year</th>\n",
              "      <th>debt</th>\n",
              "      <th>2nd_language</th>\n",
              "    </tr>\n",
              "  </thead>\n",
              "  <tbody>\n",
              "    <tr>\n",
              "      <th>a</th>\n",
              "      <td>M</td>\n",
              "      <td>1500000.0</td>\n",
              "      <td>1900</td>\n",
              "      <td>NaN</td>\n",
              "      <td>NaN</td>\n",
              "    </tr>\n",
              "    <tr>\n",
              "      <th>b</th>\n",
              "      <td>M</td>\n",
              "      <td>2000000.0</td>\n",
              "      <td>1950</td>\n",
              "      <td>0.1</td>\n",
              "      <td>NaN</td>\n",
              "    </tr>\n",
              "    <tr>\n",
              "      <th>c</th>\n",
              "      <td>M</td>\n",
              "      <td>3000000.0</td>\n",
              "      <td>2000</td>\n",
              "      <td>NaN</td>\n",
              "      <td>NaN</td>\n",
              "    </tr>\n",
              "    <tr>\n",
              "      <th>d</th>\n",
              "      <td>B</td>\n",
              "      <td>5000000.0</td>\n",
              "      <td>1900</td>\n",
              "      <td>0.6</td>\n",
              "      <td>NaN</td>\n",
              "    </tr>\n",
              "    <tr>\n",
              "      <th>e</th>\n",
              "      <td>B</td>\n",
              "      <td>1500000.0</td>\n",
              "      <td>2000</td>\n",
              "      <td>0.9</td>\n",
              "      <td>NaN</td>\n",
              "    </tr>\n",
              "  </tbody>\n",
              "</table>\n",
              "</div>"
            ],
            "text/plain": [
              "  province  population  year  debt  2nd_language\n",
              "a        M   1500000.0  1900   NaN           NaN\n",
              "b        M   2000000.0  1950   0.1           NaN\n",
              "c        M   3000000.0  2000   NaN           NaN\n",
              "d        B   5000000.0  1900   0.6           NaN\n",
              "e        B   1500000.0  2000   0.9           NaN"
            ]
          },
          "metadata": {
            "tags": []
          },
          "execution_count": 78
        }
      ]
    },
    {
      "cell_type": "code",
      "metadata": {
        "colab": {
          "base_uri": "https://localhost:8080/"
        },
        "id": "aqwHESkHnnhQ",
        "outputId": "54dcf9b3-d6bc-4e9a-881d-9bdc29466b08"
      },
      "source": [
        "s3"
      ],
      "execution_count": null,
      "outputs": [
        {
          "output_type": "execute_result",
          "data": {
            "text/plain": [
              "Cordoba      300000.0\n",
              "Madrid      6000000.0\n",
              "Sevilla      500000.0\n",
              "Zaragoza     250000.0\n",
              "dtype: float64"
            ]
          },
          "metadata": {
            "tags": []
          },
          "execution_count": 79
        }
      ]
    },
    {
      "cell_type": "code",
      "metadata": {
        "colab": {
          "base_uri": "https://localhost:8080/"
        },
        "id": "lm_SZJVRnnjJ",
        "outputId": "2e590cea-cb35-46d1-cf03-61dbaf54cfce"
      },
      "source": [
        "s3[['Zaragoza', 'Madrid']]"
      ],
      "execution_count": null,
      "outputs": [
        {
          "output_type": "execute_result",
          "data": {
            "text/plain": [
              "Zaragoza     250000.0\n",
              "Madrid      6000000.0\n",
              "dtype: float64"
            ]
          },
          "metadata": {
            "tags": []
          },
          "execution_count": 80
        }
      ]
    },
    {
      "cell_type": "code",
      "metadata": {
        "colab": {
          "base_uri": "https://localhost:8080/"
        },
        "id": "uvEzWWPZpPRW",
        "outputId": "d435ea86-c70a-4233-bf2e-780965a0ea74"
      },
      "source": [
        "s3[2:]"
      ],
      "execution_count": null,
      "outputs": [
        {
          "output_type": "execute_result",
          "data": {
            "text/plain": [
              "Sevilla     500000.0\n",
              "Zaragoza    250000.0\n",
              "dtype: float64"
            ]
          },
          "metadata": {
            "tags": []
          },
          "execution_count": 81
        }
      ]
    },
    {
      "cell_type": "code",
      "metadata": {
        "colab": {
          "base_uri": "https://localhost:8080/"
        },
        "id": "jUTJZrIzpPUj",
        "outputId": "3d69d6de-be0b-4321-eff8-f88619232ca7"
      },
      "source": [
        "s3['Cordoba':'Sevilla'] # slice inclusivo"
      ],
      "execution_count": null,
      "outputs": [
        {
          "output_type": "execute_result",
          "data": {
            "text/plain": [
              "Cordoba     300000.0\n",
              "Madrid     6000000.0\n",
              "Sevilla     500000.0\n",
              "dtype: float64"
            ]
          },
          "metadata": {
            "tags": []
          },
          "execution_count": 82
        }
      ]
    },
    {
      "cell_type": "code",
      "metadata": {
        "colab": {
          "base_uri": "https://localhost:8080/"
        },
        "id": "q2kNZhzPpPXh",
        "outputId": "033a6baa-1f82-4456-e9c4-bddbd79cf7d4"
      },
      "source": [
        "s3[1:2] # En este caso no es inclusivo"
      ],
      "execution_count": null,
      "outputs": [
        {
          "output_type": "execute_result",
          "data": {
            "text/plain": [
              "Madrid    6000000.0\n",
              "dtype: float64"
            ]
          },
          "metadata": {
            "tags": []
          },
          "execution_count": 83
        }
      ]
    },
    {
      "cell_type": "code",
      "metadata": {
        "colab": {
          "base_uri": "https://localhost:8080/"
        },
        "id": "94CBkUF3pPZ4",
        "outputId": "41084a39-56f8-4bee-d0bb-36006e2b2309"
      },
      "source": [
        "s3 > 1e6"
      ],
      "execution_count": null,
      "outputs": [
        {
          "output_type": "execute_result",
          "data": {
            "text/plain": [
              "Cordoba     False\n",
              "Madrid       True\n",
              "Sevilla     False\n",
              "Zaragoza    False\n",
              "dtype: bool"
            ]
          },
          "metadata": {
            "tags": []
          },
          "execution_count": 84
        }
      ]
    },
    {
      "cell_type": "code",
      "metadata": {
        "colab": {
          "base_uri": "https://localhost:8080/"
        },
        "id": "D9z9tOrUqnpW",
        "outputId": "e90ad8b0-dfe8-486f-f6f7-2f99d1797c03"
      },
      "source": [
        "df3['year'] > 1950"
      ],
      "execution_count": null,
      "outputs": [
        {
          "output_type": "execute_result",
          "data": {
            "text/plain": [
              "a    False\n",
              "b    False\n",
              "c     True\n",
              "d    False\n",
              "e     True\n",
              "Name: year, dtype: bool"
            ]
          },
          "metadata": {
            "tags": []
          },
          "execution_count": 85
        }
      ]
    },
    {
      "cell_type": "code",
      "metadata": {
        "colab": {
          "base_uri": "https://localhost:8080/",
          "height": 106
        },
        "id": "etnQtl5ZqnsF",
        "outputId": "ce5bf499-b4e6-4159-fb7f-9ef9d17009ea"
      },
      "source": [
        "df3[df3['year'] > 1950] # Utilizado como filtro"
      ],
      "execution_count": null,
      "outputs": [
        {
          "output_type": "execute_result",
          "data": {
            "text/html": [
              "<div>\n",
              "<style scoped>\n",
              "    .dataframe tbody tr th:only-of-type {\n",
              "        vertical-align: middle;\n",
              "    }\n",
              "\n",
              "    .dataframe tbody tr th {\n",
              "        vertical-align: top;\n",
              "    }\n",
              "\n",
              "    .dataframe thead th {\n",
              "        text-align: right;\n",
              "    }\n",
              "</style>\n",
              "<table border=\"1\" class=\"dataframe\">\n",
              "  <thead>\n",
              "    <tr style=\"text-align: right;\">\n",
              "      <th></th>\n",
              "      <th>province</th>\n",
              "      <th>population</th>\n",
              "      <th>year</th>\n",
              "      <th>debt</th>\n",
              "      <th>2nd_language</th>\n",
              "    </tr>\n",
              "  </thead>\n",
              "  <tbody>\n",
              "    <tr>\n",
              "      <th>c</th>\n",
              "      <td>M</td>\n",
              "      <td>3000000.0</td>\n",
              "      <td>2000</td>\n",
              "      <td>NaN</td>\n",
              "      <td>NaN</td>\n",
              "    </tr>\n",
              "    <tr>\n",
              "      <th>e</th>\n",
              "      <td>B</td>\n",
              "      <td>1500000.0</td>\n",
              "      <td>2000</td>\n",
              "      <td>0.9</td>\n",
              "      <td>NaN</td>\n",
              "    </tr>\n",
              "  </tbody>\n",
              "</table>\n",
              "</div>"
            ],
            "text/plain": [
              "  province  population  year  debt  2nd_language\n",
              "c        M   3000000.0  2000   NaN           NaN\n",
              "e        B   1500000.0  2000   0.9           NaN"
            ]
          },
          "metadata": {
            "tags": []
          },
          "execution_count": 86
        }
      ]
    },
    {
      "cell_type": "code",
      "metadata": {
        "colab": {
          "base_uri": "https://localhost:8080/",
          "height": 77
        },
        "id": "vQCd436gqnvF",
        "outputId": "0a47325a-98cd-4d2e-97ed-5437404d5a76"
      },
      "source": [
        "df3[(df3['year'] > 1950) & (df3['debt'] > 0.5)]"
      ],
      "execution_count": null,
      "outputs": [
        {
          "output_type": "execute_result",
          "data": {
            "text/html": [
              "<div>\n",
              "<style scoped>\n",
              "    .dataframe tbody tr th:only-of-type {\n",
              "        vertical-align: middle;\n",
              "    }\n",
              "\n",
              "    .dataframe tbody tr th {\n",
              "        vertical-align: top;\n",
              "    }\n",
              "\n",
              "    .dataframe thead th {\n",
              "        text-align: right;\n",
              "    }\n",
              "</style>\n",
              "<table border=\"1\" class=\"dataframe\">\n",
              "  <thead>\n",
              "    <tr style=\"text-align: right;\">\n",
              "      <th></th>\n",
              "      <th>province</th>\n",
              "      <th>population</th>\n",
              "      <th>year</th>\n",
              "      <th>debt</th>\n",
              "      <th>2nd_language</th>\n",
              "    </tr>\n",
              "  </thead>\n",
              "  <tbody>\n",
              "    <tr>\n",
              "      <th>e</th>\n",
              "      <td>B</td>\n",
              "      <td>1500000.0</td>\n",
              "      <td>2000</td>\n",
              "      <td>0.9</td>\n",
              "      <td>NaN</td>\n",
              "    </tr>\n",
              "  </tbody>\n",
              "</table>\n",
              "</div>"
            ],
            "text/plain": [
              "  province  population  year  debt  2nd_language\n",
              "e        B   1500000.0  2000   0.9           NaN"
            ]
          },
          "metadata": {
            "tags": []
          },
          "execution_count": 87
        }
      ]
    },
    {
      "cell_type": "code",
      "metadata": {
        "colab": {
          "base_uri": "https://localhost:8080/",
          "height": 77
        },
        "id": "mfC5ZRinlhhw",
        "outputId": "67f87565-fd7c-4c6e-9d1b-83a03371f572"
      },
      "source": [
        "recent = df3['year'] > 1950\r\n",
        "indebted = df3['debt'] > 0.5\r\n",
        "\r\n",
        "df3[recent & indebted]"
      ],
      "execution_count": null,
      "outputs": [
        {
          "output_type": "execute_result",
          "data": {
            "text/html": [
              "<div>\n",
              "<style scoped>\n",
              "    .dataframe tbody tr th:only-of-type {\n",
              "        vertical-align: middle;\n",
              "    }\n",
              "\n",
              "    .dataframe tbody tr th {\n",
              "        vertical-align: top;\n",
              "    }\n",
              "\n",
              "    .dataframe thead th {\n",
              "        text-align: right;\n",
              "    }\n",
              "</style>\n",
              "<table border=\"1\" class=\"dataframe\">\n",
              "  <thead>\n",
              "    <tr style=\"text-align: right;\">\n",
              "      <th></th>\n",
              "      <th>province</th>\n",
              "      <th>population</th>\n",
              "      <th>year</th>\n",
              "      <th>debt</th>\n",
              "      <th>2nd_language</th>\n",
              "    </tr>\n",
              "  </thead>\n",
              "  <tbody>\n",
              "    <tr>\n",
              "      <th>e</th>\n",
              "      <td>B</td>\n",
              "      <td>1500000.0</td>\n",
              "      <td>2000</td>\n",
              "      <td>0.9</td>\n",
              "      <td>NaN</td>\n",
              "    </tr>\n",
              "  </tbody>\n",
              "</table>\n",
              "</div>"
            ],
            "text/plain": [
              "  province  population  year  debt  2nd_language\n",
              "e        B   1500000.0  2000   0.9           NaN"
            ]
          },
          "metadata": {
            "tags": []
          },
          "execution_count": 88
        }
      ]
    },
    {
      "cell_type": "code",
      "metadata": {
        "colab": {
          "base_uri": "https://localhost:8080/"
        },
        "id": "OPj0RdEyrNMy",
        "outputId": "60c1829e-aee0-42fa-dee6-537522882ec6"
      },
      "source": [
        "np.sqrt(df3['population'])"
      ],
      "execution_count": null,
      "outputs": [
        {
          "output_type": "execute_result",
          "data": {
            "text/plain": [
              "a    1224.744871\n",
              "b    1414.213562\n",
              "c    1732.050808\n",
              "d    2236.067977\n",
              "e    1224.744871\n",
              "Name: population, dtype: float64"
            ]
          },
          "metadata": {
            "tags": []
          },
          "execution_count": 89
        }
      ]
    },
    {
      "cell_type": "code",
      "metadata": {
        "colab": {
          "base_uri": "https://localhost:8080/",
          "height": 166
        },
        "id": "N7-2hQnbrNPS",
        "outputId": "7a398430-50f5-43e9-b58c-15b4fc5c6f2e"
      },
      "source": [
        "df4 = pd.DataFrame(np.random.randn(4,3)*17 + 15, columns=list('bde'), index = list('BMPZ'))\r\n",
        "df4"
      ],
      "execution_count": null,
      "outputs": [
        {
          "output_type": "execute_result",
          "data": {
            "text/html": [
              "<div>\n",
              "<style scoped>\n",
              "    .dataframe tbody tr th:only-of-type {\n",
              "        vertical-align: middle;\n",
              "    }\n",
              "\n",
              "    .dataframe tbody tr th {\n",
              "        vertical-align: top;\n",
              "    }\n",
              "\n",
              "    .dataframe thead th {\n",
              "        text-align: right;\n",
              "    }\n",
              "</style>\n",
              "<table border=\"1\" class=\"dataframe\">\n",
              "  <thead>\n",
              "    <tr style=\"text-align: right;\">\n",
              "      <th></th>\n",
              "      <th>b</th>\n",
              "      <th>d</th>\n",
              "      <th>e</th>\n",
              "    </tr>\n",
              "  </thead>\n",
              "  <tbody>\n",
              "    <tr>\n",
              "      <th>B</th>\n",
              "      <td>32.614308</td>\n",
              "      <td>36.572501</td>\n",
              "      <td>8.594436</td>\n",
              "    </tr>\n",
              "    <tr>\n",
              "      <th>M</th>\n",
              "      <td>12.916833</td>\n",
              "      <td>28.332179</td>\n",
              "      <td>1.659541</td>\n",
              "    </tr>\n",
              "    <tr>\n",
              "      <th>P</th>\n",
              "      <td>5.652532</td>\n",
              "      <td>-8.099638</td>\n",
              "      <td>36.420970</td>\n",
              "    </tr>\n",
              "    <tr>\n",
              "      <th>Z</th>\n",
              "      <td>23.920058</td>\n",
              "      <td>2.374418</td>\n",
              "      <td>16.783768</td>\n",
              "    </tr>\n",
              "  </tbody>\n",
              "</table>\n",
              "</div>"
            ],
            "text/plain": [
              "           b          d          e\n",
              "B  32.614308  36.572501   8.594436\n",
              "M  12.916833  28.332179   1.659541\n",
              "P   5.652532  -8.099638  36.420970\n",
              "Z  23.920058   2.374418  16.783768"
            ]
          },
          "metadata": {
            "tags": []
          },
          "execution_count": 90
        }
      ]
    },
    {
      "cell_type": "code",
      "metadata": {
        "colab": {
          "base_uri": "https://localhost:8080/"
        },
        "id": "IgrhTRtJrNR2",
        "outputId": "c250b2ec-0f5c-48f8-ba06-07a28c28c0dc"
      },
      "source": [
        "df4.apply(lambda series: series.max() - series.min()) # Aplicar una funcion"
      ],
      "execution_count": null,
      "outputs": [
        {
          "output_type": "execute_result",
          "data": {
            "text/plain": [
              "b    26.961776\n",
              "d    44.672138\n",
              "e    34.761429\n",
              "dtype: float64"
            ]
          },
          "metadata": {
            "tags": []
          },
          "execution_count": 91
        }
      ]
    },
    {
      "cell_type": "code",
      "metadata": {
        "colab": {
          "base_uri": "https://localhost:8080/",
          "height": 166
        },
        "id": "9hSUyQZErNV3",
        "outputId": "7afd1694-ffb9-4b1b-e3d3-8a50e8a7d941"
      },
      "source": [
        "df4.applymap(lambda element: element % 10)"
      ],
      "execution_count": null,
      "outputs": [
        {
          "output_type": "execute_result",
          "data": {
            "text/html": [
              "<div>\n",
              "<style scoped>\n",
              "    .dataframe tbody tr th:only-of-type {\n",
              "        vertical-align: middle;\n",
              "    }\n",
              "\n",
              "    .dataframe tbody tr th {\n",
              "        vertical-align: top;\n",
              "    }\n",
              "\n",
              "    .dataframe thead th {\n",
              "        text-align: right;\n",
              "    }\n",
              "</style>\n",
              "<table border=\"1\" class=\"dataframe\">\n",
              "  <thead>\n",
              "    <tr style=\"text-align: right;\">\n",
              "      <th></th>\n",
              "      <th>b</th>\n",
              "      <th>d</th>\n",
              "      <th>e</th>\n",
              "    </tr>\n",
              "  </thead>\n",
              "  <tbody>\n",
              "    <tr>\n",
              "      <th>B</th>\n",
              "      <td>2.614308</td>\n",
              "      <td>6.572501</td>\n",
              "      <td>8.594436</td>\n",
              "    </tr>\n",
              "    <tr>\n",
              "      <th>M</th>\n",
              "      <td>2.916833</td>\n",
              "      <td>8.332179</td>\n",
              "      <td>1.659541</td>\n",
              "    </tr>\n",
              "    <tr>\n",
              "      <th>P</th>\n",
              "      <td>5.652532</td>\n",
              "      <td>1.900362</td>\n",
              "      <td>6.420970</td>\n",
              "    </tr>\n",
              "    <tr>\n",
              "      <th>Z</th>\n",
              "      <td>3.920058</td>\n",
              "      <td>2.374418</td>\n",
              "      <td>6.783768</td>\n",
              "    </tr>\n",
              "  </tbody>\n",
              "</table>\n",
              "</div>"
            ],
            "text/plain": [
              "          b         d         e\n",
              "B  2.614308  6.572501  8.594436\n",
              "M  2.916833  8.332179  1.659541\n",
              "P  5.652532  1.900362  6.420970\n",
              "Z  3.920058  2.374418  6.783768"
            ]
          },
          "metadata": {
            "tags": []
          },
          "execution_count": 92
        }
      ]
    },
    {
      "cell_type": "code",
      "metadata": {
        "colab": {
          "base_uri": "https://localhost:8080/"
        },
        "id": "juM9B1Avlhjs",
        "outputId": "08204608-9cda-47d0-8be6-c717db9c4a5f"
      },
      "source": [
        "df4.apply(lambda series: series.max() - series.min(), axis = 1)"
      ],
      "execution_count": null,
      "outputs": [
        {
          "output_type": "execute_result",
          "data": {
            "text/plain": [
              "B    27.978064\n",
              "M    26.672637\n",
              "P    44.520607\n",
              "Z    21.545640\n",
              "dtype: float64"
            ]
          },
          "metadata": {
            "tags": []
          },
          "execution_count": 93
        }
      ]
    },
    {
      "cell_type": "code",
      "metadata": {
        "colab": {
          "base_uri": "https://localhost:8080/",
          "height": 106
        },
        "id": "PdAhCFeuqeNI",
        "outputId": "d0a6388d-7c6c-4e6e-85b6-81516bb9cd3f"
      },
      "source": [
        "def f(series):\r\n",
        "  return pd.Series([series.max(), series.min()], index = ['max', 'min'])\r\n",
        "\r\n",
        "df4.apply(f)"
      ],
      "execution_count": null,
      "outputs": [
        {
          "output_type": "execute_result",
          "data": {
            "text/html": [
              "<div>\n",
              "<style scoped>\n",
              "    .dataframe tbody tr th:only-of-type {\n",
              "        vertical-align: middle;\n",
              "    }\n",
              "\n",
              "    .dataframe tbody tr th {\n",
              "        vertical-align: top;\n",
              "    }\n",
              "\n",
              "    .dataframe thead th {\n",
              "        text-align: right;\n",
              "    }\n",
              "</style>\n",
              "<table border=\"1\" class=\"dataframe\">\n",
              "  <thead>\n",
              "    <tr style=\"text-align: right;\">\n",
              "      <th></th>\n",
              "      <th>b</th>\n",
              "      <th>d</th>\n",
              "      <th>e</th>\n",
              "    </tr>\n",
              "  </thead>\n",
              "  <tbody>\n",
              "    <tr>\n",
              "      <th>max</th>\n",
              "      <td>32.614308</td>\n",
              "      <td>36.572501</td>\n",
              "      <td>36.420970</td>\n",
              "    </tr>\n",
              "    <tr>\n",
              "      <th>min</th>\n",
              "      <td>5.652532</td>\n",
              "      <td>-8.099638</td>\n",
              "      <td>1.659541</td>\n",
              "    </tr>\n",
              "  </tbody>\n",
              "</table>\n",
              "</div>"
            ],
            "text/plain": [
              "             b          d          e\n",
              "max  32.614308  36.572501  36.420970\n",
              "min   5.652532  -8.099638   1.659541"
            ]
          },
          "metadata": {
            "tags": []
          },
          "execution_count": 94
        }
      ]
    },
    {
      "cell_type": "code",
      "metadata": {
        "colab": {
          "base_uri": "https://localhost:8080/"
        },
        "id": "BBdgj833tF44",
        "outputId": "6542dea8-6347-424d-d56b-1501152756fd"
      },
      "source": [
        "for item in df4.items():\r\n",
        "  print(item)"
      ],
      "execution_count": null,
      "outputs": [
        {
          "output_type": "stream",
          "text": [
            "('b', B    32.614308\n",
            "M    12.916833\n",
            "P     5.652532\n",
            "Z    23.920058\n",
            "Name: b, dtype: float64)\n",
            "('d', B    36.572501\n",
            "M    28.332179\n",
            "P    -8.099638\n",
            "Z     2.374418\n",
            "Name: d, dtype: float64)\n",
            "('e', B     8.594436\n",
            "M     1.659541\n",
            "P    36.420970\n",
            "Z    16.783768\n",
            "Name: e, dtype: float64)\n"
          ],
          "name": "stdout"
        }
      ]
    },
    {
      "cell_type": "code",
      "metadata": {
        "colab": {
          "base_uri": "https://localhost:8080/"
        },
        "id": "t1yXDVRxtF7u",
        "outputId": "ce4450d9-d718-412a-cb36-7e924f81c26b"
      },
      "source": [
        "for item in df4.iteritems():\r\n",
        "  print(item)"
      ],
      "execution_count": null,
      "outputs": [
        {
          "output_type": "stream",
          "text": [
            "('b', B    32.614308\n",
            "M    12.916833\n",
            "P     5.652532\n",
            "Z    23.920058\n",
            "Name: b, dtype: float64)\n",
            "('d', B    36.572501\n",
            "M    28.332179\n",
            "P    -8.099638\n",
            "Z     2.374418\n",
            "Name: d, dtype: float64)\n",
            "('e', B     8.594436\n",
            "M     1.659541\n",
            "P    36.420970\n",
            "Z    16.783768\n",
            "Name: e, dtype: float64)\n"
          ],
          "name": "stdout"
        }
      ]
    },
    {
      "cell_type": "code",
      "metadata": {
        "colab": {
          "base_uri": "https://localhost:8080/",
          "height": 166
        },
        "id": "oWT3GcNbtF-P",
        "outputId": "fc17b44f-a498-45a3-e41f-f7a5051436cb"
      },
      "source": [
        "df4"
      ],
      "execution_count": null,
      "outputs": [
        {
          "output_type": "execute_result",
          "data": {
            "text/html": [
              "<div>\n",
              "<style scoped>\n",
              "    .dataframe tbody tr th:only-of-type {\n",
              "        vertical-align: middle;\n",
              "    }\n",
              "\n",
              "    .dataframe tbody tr th {\n",
              "        vertical-align: top;\n",
              "    }\n",
              "\n",
              "    .dataframe thead th {\n",
              "        text-align: right;\n",
              "    }\n",
              "</style>\n",
              "<table border=\"1\" class=\"dataframe\">\n",
              "  <thead>\n",
              "    <tr style=\"text-align: right;\">\n",
              "      <th></th>\n",
              "      <th>b</th>\n",
              "      <th>d</th>\n",
              "      <th>e</th>\n",
              "    </tr>\n",
              "  </thead>\n",
              "  <tbody>\n",
              "    <tr>\n",
              "      <th>B</th>\n",
              "      <td>32.614308</td>\n",
              "      <td>36.572501</td>\n",
              "      <td>8.594436</td>\n",
              "    </tr>\n",
              "    <tr>\n",
              "      <th>M</th>\n",
              "      <td>12.916833</td>\n",
              "      <td>28.332179</td>\n",
              "      <td>1.659541</td>\n",
              "    </tr>\n",
              "    <tr>\n",
              "      <th>P</th>\n",
              "      <td>5.652532</td>\n",
              "      <td>-8.099638</td>\n",
              "      <td>36.420970</td>\n",
              "    </tr>\n",
              "    <tr>\n",
              "      <th>Z</th>\n",
              "      <td>23.920058</td>\n",
              "      <td>2.374418</td>\n",
              "      <td>16.783768</td>\n",
              "    </tr>\n",
              "  </tbody>\n",
              "</table>\n",
              "</div>"
            ],
            "text/plain": [
              "           b          d          e\n",
              "B  32.614308  36.572501   8.594436\n",
              "M  12.916833  28.332179   1.659541\n",
              "P   5.652532  -8.099638  36.420970\n",
              "Z  23.920058   2.374418  16.783768"
            ]
          },
          "metadata": {
            "tags": []
          },
          "execution_count": 97
        }
      ]
    },
    {
      "cell_type": "code",
      "metadata": {
        "colab": {
          "base_uri": "https://localhost:8080/",
          "height": 166
        },
        "id": "RipHBpmGtGE8",
        "outputId": "2153ef31-a8af-4d00-800e-539819fa1461"
      },
      "source": [
        "df4.sort_index(ascending=True)"
      ],
      "execution_count": null,
      "outputs": [
        {
          "output_type": "execute_result",
          "data": {
            "text/html": [
              "<div>\n",
              "<style scoped>\n",
              "    .dataframe tbody tr th:only-of-type {\n",
              "        vertical-align: middle;\n",
              "    }\n",
              "\n",
              "    .dataframe tbody tr th {\n",
              "        vertical-align: top;\n",
              "    }\n",
              "\n",
              "    .dataframe thead th {\n",
              "        text-align: right;\n",
              "    }\n",
              "</style>\n",
              "<table border=\"1\" class=\"dataframe\">\n",
              "  <thead>\n",
              "    <tr style=\"text-align: right;\">\n",
              "      <th></th>\n",
              "      <th>b</th>\n",
              "      <th>d</th>\n",
              "      <th>e</th>\n",
              "    </tr>\n",
              "  </thead>\n",
              "  <tbody>\n",
              "    <tr>\n",
              "      <th>B</th>\n",
              "      <td>32.614308</td>\n",
              "      <td>36.572501</td>\n",
              "      <td>8.594436</td>\n",
              "    </tr>\n",
              "    <tr>\n",
              "      <th>M</th>\n",
              "      <td>12.916833</td>\n",
              "      <td>28.332179</td>\n",
              "      <td>1.659541</td>\n",
              "    </tr>\n",
              "    <tr>\n",
              "      <th>P</th>\n",
              "      <td>5.652532</td>\n",
              "      <td>-8.099638</td>\n",
              "      <td>36.420970</td>\n",
              "    </tr>\n",
              "    <tr>\n",
              "      <th>Z</th>\n",
              "      <td>23.920058</td>\n",
              "      <td>2.374418</td>\n",
              "      <td>16.783768</td>\n",
              "    </tr>\n",
              "  </tbody>\n",
              "</table>\n",
              "</div>"
            ],
            "text/plain": [
              "           b          d          e\n",
              "B  32.614308  36.572501   8.594436\n",
              "M  12.916833  28.332179   1.659541\n",
              "P   5.652532  -8.099638  36.420970\n",
              "Z  23.920058   2.374418  16.783768"
            ]
          },
          "metadata": {
            "tags": []
          },
          "execution_count": 98
        }
      ]
    },
    {
      "cell_type": "code",
      "metadata": {
        "colab": {
          "base_uri": "https://localhost:8080/",
          "height": 166
        },
        "id": "G5p6fjVZuYmK",
        "outputId": "446f7b5b-b81c-4e37-c992-4b9a9ab976d9"
      },
      "source": [
        "df4.sort_index(ascending=False)"
      ],
      "execution_count": null,
      "outputs": [
        {
          "output_type": "execute_result",
          "data": {
            "text/html": [
              "<div>\n",
              "<style scoped>\n",
              "    .dataframe tbody tr th:only-of-type {\n",
              "        vertical-align: middle;\n",
              "    }\n",
              "\n",
              "    .dataframe tbody tr th {\n",
              "        vertical-align: top;\n",
              "    }\n",
              "\n",
              "    .dataframe thead th {\n",
              "        text-align: right;\n",
              "    }\n",
              "</style>\n",
              "<table border=\"1\" class=\"dataframe\">\n",
              "  <thead>\n",
              "    <tr style=\"text-align: right;\">\n",
              "      <th></th>\n",
              "      <th>b</th>\n",
              "      <th>d</th>\n",
              "      <th>e</th>\n",
              "    </tr>\n",
              "  </thead>\n",
              "  <tbody>\n",
              "    <tr>\n",
              "      <th>Z</th>\n",
              "      <td>23.920058</td>\n",
              "      <td>2.374418</td>\n",
              "      <td>16.783768</td>\n",
              "    </tr>\n",
              "    <tr>\n",
              "      <th>P</th>\n",
              "      <td>5.652532</td>\n",
              "      <td>-8.099638</td>\n",
              "      <td>36.420970</td>\n",
              "    </tr>\n",
              "    <tr>\n",
              "      <th>M</th>\n",
              "      <td>12.916833</td>\n",
              "      <td>28.332179</td>\n",
              "      <td>1.659541</td>\n",
              "    </tr>\n",
              "    <tr>\n",
              "      <th>B</th>\n",
              "      <td>32.614308</td>\n",
              "      <td>36.572501</td>\n",
              "      <td>8.594436</td>\n",
              "    </tr>\n",
              "  </tbody>\n",
              "</table>\n",
              "</div>"
            ],
            "text/plain": [
              "           b          d          e\n",
              "Z  23.920058   2.374418  16.783768\n",
              "P   5.652532  -8.099638  36.420970\n",
              "M  12.916833  28.332179   1.659541\n",
              "B  32.614308  36.572501   8.594436"
            ]
          },
          "metadata": {
            "tags": []
          },
          "execution_count": 99
        }
      ]
    },
    {
      "cell_type": "code",
      "metadata": {
        "colab": {
          "base_uri": "https://localhost:8080/",
          "height": 166
        },
        "id": "WfLRelf9uYpR",
        "outputId": "29e4736a-6e7d-49e7-fd2e-50b916c4c2a3"
      },
      "source": [
        "df4.sort_index(ascending=False, axis=1)"
      ],
      "execution_count": null,
      "outputs": [
        {
          "output_type": "execute_result",
          "data": {
            "text/html": [
              "<div>\n",
              "<style scoped>\n",
              "    .dataframe tbody tr th:only-of-type {\n",
              "        vertical-align: middle;\n",
              "    }\n",
              "\n",
              "    .dataframe tbody tr th {\n",
              "        vertical-align: top;\n",
              "    }\n",
              "\n",
              "    .dataframe thead th {\n",
              "        text-align: right;\n",
              "    }\n",
              "</style>\n",
              "<table border=\"1\" class=\"dataframe\">\n",
              "  <thead>\n",
              "    <tr style=\"text-align: right;\">\n",
              "      <th></th>\n",
              "      <th>e</th>\n",
              "      <th>d</th>\n",
              "      <th>b</th>\n",
              "    </tr>\n",
              "  </thead>\n",
              "  <tbody>\n",
              "    <tr>\n",
              "      <th>B</th>\n",
              "      <td>8.594436</td>\n",
              "      <td>36.572501</td>\n",
              "      <td>32.614308</td>\n",
              "    </tr>\n",
              "    <tr>\n",
              "      <th>M</th>\n",
              "      <td>1.659541</td>\n",
              "      <td>28.332179</td>\n",
              "      <td>12.916833</td>\n",
              "    </tr>\n",
              "    <tr>\n",
              "      <th>P</th>\n",
              "      <td>36.420970</td>\n",
              "      <td>-8.099638</td>\n",
              "      <td>5.652532</td>\n",
              "    </tr>\n",
              "    <tr>\n",
              "      <th>Z</th>\n",
              "      <td>16.783768</td>\n",
              "      <td>2.374418</td>\n",
              "      <td>23.920058</td>\n",
              "    </tr>\n",
              "  </tbody>\n",
              "</table>\n",
              "</div>"
            ],
            "text/plain": [
              "           e          d          b\n",
              "B   8.594436  36.572501  32.614308\n",
              "M   1.659541  28.332179  12.916833\n",
              "P  36.420970  -8.099638   5.652532\n",
              "Z  16.783768   2.374418  23.920058"
            ]
          },
          "metadata": {
            "tags": []
          },
          "execution_count": 100
        }
      ]
    },
    {
      "cell_type": "code",
      "metadata": {
        "colab": {
          "base_uri": "https://localhost:8080/",
          "height": 166
        },
        "id": "SnVhk3FduYri",
        "outputId": "accf8b10-7dfa-4c97-f4e1-1d81047bae82"
      },
      "source": [
        "df4.sort_values(by='e')"
      ],
      "execution_count": null,
      "outputs": [
        {
          "output_type": "execute_result",
          "data": {
            "text/html": [
              "<div>\n",
              "<style scoped>\n",
              "    .dataframe tbody tr th:only-of-type {\n",
              "        vertical-align: middle;\n",
              "    }\n",
              "\n",
              "    .dataframe tbody tr th {\n",
              "        vertical-align: top;\n",
              "    }\n",
              "\n",
              "    .dataframe thead th {\n",
              "        text-align: right;\n",
              "    }\n",
              "</style>\n",
              "<table border=\"1\" class=\"dataframe\">\n",
              "  <thead>\n",
              "    <tr style=\"text-align: right;\">\n",
              "      <th></th>\n",
              "      <th>b</th>\n",
              "      <th>d</th>\n",
              "      <th>e</th>\n",
              "    </tr>\n",
              "  </thead>\n",
              "  <tbody>\n",
              "    <tr>\n",
              "      <th>M</th>\n",
              "      <td>12.916833</td>\n",
              "      <td>28.332179</td>\n",
              "      <td>1.659541</td>\n",
              "    </tr>\n",
              "    <tr>\n",
              "      <th>B</th>\n",
              "      <td>32.614308</td>\n",
              "      <td>36.572501</td>\n",
              "      <td>8.594436</td>\n",
              "    </tr>\n",
              "    <tr>\n",
              "      <th>Z</th>\n",
              "      <td>23.920058</td>\n",
              "      <td>2.374418</td>\n",
              "      <td>16.783768</td>\n",
              "    </tr>\n",
              "    <tr>\n",
              "      <th>P</th>\n",
              "      <td>5.652532</td>\n",
              "      <td>-8.099638</td>\n",
              "      <td>36.420970</td>\n",
              "    </tr>\n",
              "  </tbody>\n",
              "</table>\n",
              "</div>"
            ],
            "text/plain": [
              "           b          d          e\n",
              "M  12.916833  28.332179   1.659541\n",
              "B  32.614308  36.572501   8.594436\n",
              "Z  23.920058   2.374418  16.783768\n",
              "P   5.652532  -8.099638  36.420970"
            ]
          },
          "metadata": {
            "tags": []
          },
          "execution_count": 101
        }
      ]
    },
    {
      "cell_type": "code",
      "metadata": {
        "colab": {
          "base_uri": "https://localhost:8080/",
          "height": 166
        },
        "id": "_KFc8TDEuYuf",
        "outputId": "c701dc89-2eab-41ce-e084-37b934680f1a"
      },
      "source": [
        "df4.sort_values(by=['e', 'b'])"
      ],
      "execution_count": null,
      "outputs": [
        {
          "output_type": "execute_result",
          "data": {
            "text/html": [
              "<div>\n",
              "<style scoped>\n",
              "    .dataframe tbody tr th:only-of-type {\n",
              "        vertical-align: middle;\n",
              "    }\n",
              "\n",
              "    .dataframe tbody tr th {\n",
              "        vertical-align: top;\n",
              "    }\n",
              "\n",
              "    .dataframe thead th {\n",
              "        text-align: right;\n",
              "    }\n",
              "</style>\n",
              "<table border=\"1\" class=\"dataframe\">\n",
              "  <thead>\n",
              "    <tr style=\"text-align: right;\">\n",
              "      <th></th>\n",
              "      <th>b</th>\n",
              "      <th>d</th>\n",
              "      <th>e</th>\n",
              "    </tr>\n",
              "  </thead>\n",
              "  <tbody>\n",
              "    <tr>\n",
              "      <th>M</th>\n",
              "      <td>12.916833</td>\n",
              "      <td>28.332179</td>\n",
              "      <td>1.659541</td>\n",
              "    </tr>\n",
              "    <tr>\n",
              "      <th>B</th>\n",
              "      <td>32.614308</td>\n",
              "      <td>36.572501</td>\n",
              "      <td>8.594436</td>\n",
              "    </tr>\n",
              "    <tr>\n",
              "      <th>Z</th>\n",
              "      <td>23.920058</td>\n",
              "      <td>2.374418</td>\n",
              "      <td>16.783768</td>\n",
              "    </tr>\n",
              "    <tr>\n",
              "      <th>P</th>\n",
              "      <td>5.652532</td>\n",
              "      <td>-8.099638</td>\n",
              "      <td>36.420970</td>\n",
              "    </tr>\n",
              "  </tbody>\n",
              "</table>\n",
              "</div>"
            ],
            "text/plain": [
              "           b          d          e\n",
              "M  12.916833  28.332179   1.659541\n",
              "B  32.614308  36.572501   8.594436\n",
              "Z  23.920058   2.374418  16.783768\n",
              "P   5.652532  -8.099638  36.420970"
            ]
          },
          "metadata": {
            "tags": []
          },
          "execution_count": 102
        }
      ]
    },
    {
      "cell_type": "code",
      "metadata": {
        "colab": {
          "base_uri": "https://localhost:8080/"
        },
        "id": "DDTztYUJtGGy",
        "outputId": "969817e4-daf1-473b-89bb-3c0ee0c13470"
      },
      "source": [
        "s1 = pd.Series([2,3,8,4,3,2,1], index = list('abcdefg'))\r\n",
        "s1"
      ],
      "execution_count": null,
      "outputs": [
        {
          "output_type": "execute_result",
          "data": {
            "text/plain": [
              "a    2\n",
              "b    3\n",
              "c    8\n",
              "d    4\n",
              "e    3\n",
              "f    2\n",
              "g    1\n",
              "dtype: int64"
            ]
          },
          "metadata": {
            "tags": []
          },
          "execution_count": 103
        }
      ]
    },
    {
      "cell_type": "code",
      "metadata": {
        "colab": {
          "base_uri": "https://localhost:8080/"
        },
        "id": "idUAjMSWvWlc",
        "outputId": "bd85a757-8c08-440f-8eaa-62a77de97285"
      },
      "source": [
        "s1.sort_values()"
      ],
      "execution_count": null,
      "outputs": [
        {
          "output_type": "execute_result",
          "data": {
            "text/plain": [
              "g    1\n",
              "a    2\n",
              "f    2\n",
              "b    3\n",
              "e    3\n",
              "d    4\n",
              "c    8\n",
              "dtype: int64"
            ]
          },
          "metadata": {
            "tags": []
          },
          "execution_count": 104
        }
      ]
    },
    {
      "cell_type": "code",
      "metadata": {
        "colab": {
          "base_uri": "https://localhost:8080/"
        },
        "id": "a2IFOZaGvp0j",
        "outputId": "5ff4fc90-4f6e-4e33-bbea-5c8c94a6697d"
      },
      "source": [
        "s1.rank() # Cuando el elemento no es entero es que está igualado con otros"
      ],
      "execution_count": null,
      "outputs": [
        {
          "output_type": "execute_result",
          "data": {
            "text/plain": [
              "a    2.5\n",
              "b    4.5\n",
              "c    7.0\n",
              "d    6.0\n",
              "e    4.5\n",
              "f    2.5\n",
              "g    1.0\n",
              "dtype: float64"
            ]
          },
          "metadata": {
            "tags": []
          },
          "execution_count": 105
        }
      ]
    },
    {
      "cell_type": "code",
      "metadata": {
        "colab": {
          "base_uri": "https://localhost:8080/"
        },
        "id": "YeMEzkCrvp32",
        "outputId": "80242475-4df4-4f30-be6a-3b9beff54454"
      },
      "source": [
        "pd.Series([1,1,1]).rank()"
      ],
      "execution_count": null,
      "outputs": [
        {
          "output_type": "execute_result",
          "data": {
            "text/plain": [
              "0    2.0\n",
              "1    2.0\n",
              "2    2.0\n",
              "dtype: float64"
            ]
          },
          "metadata": {
            "tags": []
          },
          "execution_count": 106
        }
      ]
    },
    {
      "cell_type": "code",
      "metadata": {
        "colab": {
          "base_uri": "https://localhost:8080/"
        },
        "id": "Fnx2NJx1vp8V",
        "outputId": "56a01fa5-7fa6-45d4-8901-6b053c2d71a7"
      },
      "source": [
        "salaries = pd.Series([150000, 90000, 120000, 30000, 100000, 5000, 40000, 50000, 80000, 35000, 27000, 14000])\r\n",
        "salaries"
      ],
      "execution_count": null,
      "outputs": [
        {
          "output_type": "execute_result",
          "data": {
            "text/plain": [
              "0     150000\n",
              "1      90000\n",
              "2     120000\n",
              "3      30000\n",
              "4     100000\n",
              "5       5000\n",
              "6      40000\n",
              "7      50000\n",
              "8      80000\n",
              "9      35000\n",
              "10     27000\n",
              "11     14000\n",
              "dtype: int64"
            ]
          },
          "metadata": {
            "tags": []
          },
          "execution_count": 107
        }
      ]
    },
    {
      "cell_type": "code",
      "metadata": {
        "colab": {
          "base_uri": "https://localhost:8080/"
        },
        "id": "zsUlCzL1vWon",
        "outputId": "7799be13-13f3-47c4-b4da-89bf2e274389"
      },
      "source": [
        "ranking = salaries.sort_values(ascending=False)\r\n",
        "ranking"
      ],
      "execution_count": null,
      "outputs": [
        {
          "output_type": "execute_result",
          "data": {
            "text/plain": [
              "0     150000\n",
              "2     120000\n",
              "4     100000\n",
              "1      90000\n",
              "8      80000\n",
              "7      50000\n",
              "6      40000\n",
              "9      35000\n",
              "3      30000\n",
              "10     27000\n",
              "11     14000\n",
              "5       5000\n",
              "dtype: int64"
            ]
          },
          "metadata": {
            "tags": []
          },
          "execution_count": 108
        }
      ]
    },
    {
      "cell_type": "code",
      "metadata": {
        "colab": {
          "base_uri": "https://localhost:8080/"
        },
        "id": "K5L0y70zwRHK",
        "outputId": "3b1bd434-3c1e-45d8-b48b-2f5771c06355"
      },
      "source": [
        "ranking[0:10] # Los 10 mejor pagados"
      ],
      "execution_count": null,
      "outputs": [
        {
          "output_type": "execute_result",
          "data": {
            "text/plain": [
              "0     150000\n",
              "2     120000\n",
              "4     100000\n",
              "1      90000\n",
              "8      80000\n",
              "7      50000\n",
              "6      40000\n",
              "9      35000\n",
              "3      30000\n",
              "10     27000\n",
              "dtype: int64"
            ]
          },
          "metadata": {
            "tags": []
          },
          "execution_count": 109
        }
      ]
    },
    {
      "cell_type": "code",
      "metadata": {
        "colab": {
          "base_uri": "https://localhost:8080/"
        },
        "id": "vSZ1sKoXwRJp",
        "outputId": "ed0c3540-ea1e-4cf8-cb9d-cfc4ffb4b899"
      },
      "source": [
        "# El 10% de los mejor pagados\r\n",
        "\r\n",
        "def top_earners(serie):\r\n",
        "  number_to_extract = round(len(salaries) / 10)\r\n",
        "  return salaries.sort_values()[-number_to_extract:]\r\n",
        "\r\n",
        "top_earners(salaries)"
      ],
      "execution_count": null,
      "outputs": [
        {
          "output_type": "execute_result",
          "data": {
            "text/plain": [
              "0    150000\n",
              "dtype: int64"
            ]
          },
          "metadata": {
            "tags": []
          },
          "execution_count": 110
        }
      ]
    },
    {
      "cell_type": "code",
      "metadata": {
        "colab": {
          "base_uri": "https://localhost:8080/"
        },
        "id": "Y4JOmQ5uwRMi",
        "outputId": "86ea110b-6d79-4f2e-cb92-d83e7d7a955b"
      },
      "source": [
        "def top_earners(salaries, percentile=0.9):\r\n",
        "  is_top_earner = salaries.rank(pct=True) > percentile\r\n",
        "  return salaries[is_top_earner]\r\n",
        "\r\n",
        "print(top_earners(salaries))"
      ],
      "execution_count": null,
      "outputs": [
        {
          "output_type": "stream",
          "text": [
            "0    150000\n",
            "2    120000\n",
            "dtype: int64\n"
          ],
          "name": "stdout"
        }
      ]
    },
    {
      "cell_type": "code",
      "metadata": {
        "colab": {
          "base_uri": "https://localhost:8080/"
        },
        "id": "u4-dDFbdwRPB",
        "outputId": "3b28ed2b-589f-4bb1-9480-dd52bbe97cce"
      },
      "source": [
        "print(top_earners(salaries, 0.8))"
      ],
      "execution_count": null,
      "outputs": [
        {
          "output_type": "stream",
          "text": [
            "0    150000\n",
            "2    120000\n",
            "4    100000\n",
            "dtype: int64\n"
          ],
          "name": "stdout"
        }
      ]
    },
    {
      "cell_type": "code",
      "metadata": {
        "id": "Yq4WwTQBvWs9"
      },
      "source": [
        "x = pd.Series([1.2, np.nan, 4, np.nan, 9], index= list('abcde'))\r\n",
        "y = pd.Series([5,3,7,np.nan, 14], index = list('abcde'))"
      ],
      "execution_count": null,
      "outputs": []
    },
    {
      "cell_type": "code",
      "metadata": {
        "colab": {
          "base_uri": "https://localhost:8080/",
          "height": 195
        },
        "id": "LA_Q6jM50Oqm",
        "outputId": "c11f4a09-4a20-4a02-95d1-3764e2e10882"
      },
      "source": [
        "df = pd.DataFrame([x,y], index=['x','y']).T\r\n",
        "df"
      ],
      "execution_count": null,
      "outputs": [
        {
          "output_type": "execute_result",
          "data": {
            "text/html": [
              "<div>\n",
              "<style scoped>\n",
              "    .dataframe tbody tr th:only-of-type {\n",
              "        vertical-align: middle;\n",
              "    }\n",
              "\n",
              "    .dataframe tbody tr th {\n",
              "        vertical-align: top;\n",
              "    }\n",
              "\n",
              "    .dataframe thead th {\n",
              "        text-align: right;\n",
              "    }\n",
              "</style>\n",
              "<table border=\"1\" class=\"dataframe\">\n",
              "  <thead>\n",
              "    <tr style=\"text-align: right;\">\n",
              "      <th></th>\n",
              "      <th>x</th>\n",
              "      <th>y</th>\n",
              "    </tr>\n",
              "  </thead>\n",
              "  <tbody>\n",
              "    <tr>\n",
              "      <th>a</th>\n",
              "      <td>1.2</td>\n",
              "      <td>5.0</td>\n",
              "    </tr>\n",
              "    <tr>\n",
              "      <th>b</th>\n",
              "      <td>NaN</td>\n",
              "      <td>3.0</td>\n",
              "    </tr>\n",
              "    <tr>\n",
              "      <th>c</th>\n",
              "      <td>4.0</td>\n",
              "      <td>7.0</td>\n",
              "    </tr>\n",
              "    <tr>\n",
              "      <th>d</th>\n",
              "      <td>NaN</td>\n",
              "      <td>NaN</td>\n",
              "    </tr>\n",
              "    <tr>\n",
              "      <th>e</th>\n",
              "      <td>9.0</td>\n",
              "      <td>14.0</td>\n",
              "    </tr>\n",
              "  </tbody>\n",
              "</table>\n",
              "</div>"
            ],
            "text/plain": [
              "     x     y\n",
              "a  1.2   5.0\n",
              "b  NaN   3.0\n",
              "c  4.0   7.0\n",
              "d  NaN   NaN\n",
              "e  9.0  14.0"
            ]
          },
          "metadata": {
            "tags": []
          },
          "execution_count": 114
        }
      ]
    },
    {
      "cell_type": "code",
      "metadata": {
        "colab": {
          "base_uri": "https://localhost:8080/"
        },
        "id": "-1AKiyx00OtZ",
        "outputId": "cb4ee0ad-caa9-40e0-b7c8-b5f483c5916f"
      },
      "source": [
        "df.sum(axis=1)"
      ],
      "execution_count": null,
      "outputs": [
        {
          "output_type": "execute_result",
          "data": {
            "text/plain": [
              "a     6.2\n",
              "b     3.0\n",
              "c    11.0\n",
              "d     0.0\n",
              "e    23.0\n",
              "dtype: float64"
            ]
          },
          "metadata": {
            "tags": []
          },
          "execution_count": 115
        }
      ]
    },
    {
      "cell_type": "code",
      "metadata": {
        "colab": {
          "base_uri": "https://localhost:8080/"
        },
        "id": "b3GYmSp40OwM",
        "outputId": "680f0300-d3e0-4030-93b8-70e9ed266c80"
      },
      "source": [
        "df.mean()"
      ],
      "execution_count": null,
      "outputs": [
        {
          "output_type": "execute_result",
          "data": {
            "text/plain": [
              "x    4.733333\n",
              "y    7.250000\n",
              "dtype: float64"
            ]
          },
          "metadata": {
            "tags": []
          },
          "execution_count": 116
        }
      ]
    },
    {
      "cell_type": "code",
      "metadata": {
        "colab": {
          "base_uri": "https://localhost:8080/"
        },
        "id": "O3BvEE2S1akX",
        "outputId": "7e90b288-aa25-4764-f8b2-1a9deb423059"
      },
      "source": [
        "s7 = pd.Series(list('gtacaaaafffkag'))\r\n",
        "s7"
      ],
      "execution_count": null,
      "outputs": [
        {
          "output_type": "execute_result",
          "data": {
            "text/plain": [
              "0     g\n",
              "1     t\n",
              "2     a\n",
              "3     c\n",
              "4     a\n",
              "5     a\n",
              "6     a\n",
              "7     a\n",
              "8     f\n",
              "9     f\n",
              "10    f\n",
              "11    k\n",
              "12    a\n",
              "13    g\n",
              "dtype: object"
            ]
          },
          "metadata": {
            "tags": []
          },
          "execution_count": 117
        }
      ]
    },
    {
      "cell_type": "code",
      "metadata": {
        "colab": {
          "base_uri": "https://localhost:8080/"
        },
        "id": "mZhvyvvU2iQY",
        "outputId": "d34d6604-39b9-41e7-9016-23f8da02a49f"
      },
      "source": [
        "s7.unique()"
      ],
      "execution_count": null,
      "outputs": [
        {
          "output_type": "execute_result",
          "data": {
            "text/plain": [
              "array(['g', 't', 'a', 'c', 'f', 'k'], dtype=object)"
            ]
          },
          "metadata": {
            "tags": []
          },
          "execution_count": 118
        }
      ]
    },
    {
      "cell_type": "code",
      "metadata": {
        "colab": {
          "base_uri": "https://localhost:8080/"
        },
        "id": "aKpEO7B02iTH",
        "outputId": "17677f5c-cbf8-4d59-b39c-39b436b663c6"
      },
      "source": [
        "s7.value_counts()"
      ],
      "execution_count": null,
      "outputs": [
        {
          "output_type": "execute_result",
          "data": {
            "text/plain": [
              "a    6\n",
              "f    3\n",
              "g    2\n",
              "c    1\n",
              "t    1\n",
              "k    1\n",
              "dtype: int64"
            ]
          },
          "metadata": {
            "tags": []
          },
          "execution_count": 119
        }
      ]
    },
    {
      "cell_type": "code",
      "metadata": {
        "id": "rvXAJmI_2iVj"
      },
      "source": [
        "puric_bases = ['g', 'a']"
      ],
      "execution_count": null,
      "outputs": []
    },
    {
      "cell_type": "code",
      "metadata": {
        "colab": {
          "base_uri": "https://localhost:8080/"
        },
        "id": "Grz30-TX2iYf",
        "outputId": "326aa23d-e42f-4f18-9297-41cf0579e4e1"
      },
      "source": [
        "s7.isin(puric_bases)"
      ],
      "execution_count": null,
      "outputs": [
        {
          "output_type": "execute_result",
          "data": {
            "text/plain": [
              "0      True\n",
              "1     False\n",
              "2      True\n",
              "3     False\n",
              "4      True\n",
              "5      True\n",
              "6      True\n",
              "7      True\n",
              "8     False\n",
              "9     False\n",
              "10    False\n",
              "11    False\n",
              "12     True\n",
              "13     True\n",
              "dtype: bool"
            ]
          },
          "metadata": {
            "tags": []
          },
          "execution_count": 121
        }
      ]
    },
    {
      "cell_type": "code",
      "metadata": {
        "colab": {
          "base_uri": "https://localhost:8080/"
        },
        "id": "m_2BDEnl1anZ",
        "outputId": "42a474c0-7049-4f0a-9d7c-673307a128a2"
      },
      "source": [
        "s7[s7.isin(puric_bases)]"
      ],
      "execution_count": null,
      "outputs": [
        {
          "output_type": "execute_result",
          "data": {
            "text/plain": [
              "0     g\n",
              "2     a\n",
              "4     a\n",
              "5     a\n",
              "6     a\n",
              "7     a\n",
              "12    a\n",
              "13    g\n",
              "dtype: object"
            ]
          },
          "metadata": {
            "tags": []
          },
          "execution_count": 122
        }
      ]
    },
    {
      "cell_type": "code",
      "metadata": {
        "colab": {
          "base_uri": "https://localhost:8080/"
        },
        "id": "CcUudmlh28WM",
        "outputId": "faac16f0-8e4b-49c8-eeee-f04bcbb6245c"
      },
      "source": [
        "string_data = pd.Series(['Ma', 'Lu', 'Ca', 'Va', np.nan])\r\n",
        "string_data"
      ],
      "execution_count": null,
      "outputs": [
        {
          "output_type": "execute_result",
          "data": {
            "text/plain": [
              "0     Ma\n",
              "1     Lu\n",
              "2     Ca\n",
              "3     Va\n",
              "4    NaN\n",
              "dtype: object"
            ]
          },
          "metadata": {
            "tags": []
          },
          "execution_count": 123
        }
      ]
    },
    {
      "cell_type": "code",
      "metadata": {
        "colab": {
          "base_uri": "https://localhost:8080/"
        },
        "id": "6LpZwVxa28Y7",
        "outputId": "f7e4e905-09df-4125-f29b-c71278fd9cb8"
      },
      "source": [
        "string_data[~string_data.isnull()]"
      ],
      "execution_count": null,
      "outputs": [
        {
          "output_type": "execute_result",
          "data": {
            "text/plain": [
              "0    Ma\n",
              "1    Lu\n",
              "2    Ca\n",
              "3    Va\n",
              "dtype: object"
            ]
          },
          "metadata": {
            "tags": []
          },
          "execution_count": 124
        }
      ]
    },
    {
      "cell_type": "code",
      "metadata": {
        "colab": {
          "base_uri": "https://localhost:8080/",
          "height": 166
        },
        "id": "ucynxhuV3FnG",
        "outputId": "17055849-557a-4ea3-8eb4-a7c00adbed53"
      },
      "source": [
        "df5 = pd.DataFrame([[1,2,3],[np.nan,8,7],[4, np.nan, 90],[67,42,53]],columns=list('abc'))\r\n",
        "df5"
      ],
      "execution_count": null,
      "outputs": [
        {
          "output_type": "execute_result",
          "data": {
            "text/html": [
              "<div>\n",
              "<style scoped>\n",
              "    .dataframe tbody tr th:only-of-type {\n",
              "        vertical-align: middle;\n",
              "    }\n",
              "\n",
              "    .dataframe tbody tr th {\n",
              "        vertical-align: top;\n",
              "    }\n",
              "\n",
              "    .dataframe thead th {\n",
              "        text-align: right;\n",
              "    }\n",
              "</style>\n",
              "<table border=\"1\" class=\"dataframe\">\n",
              "  <thead>\n",
              "    <tr style=\"text-align: right;\">\n",
              "      <th></th>\n",
              "      <th>a</th>\n",
              "      <th>b</th>\n",
              "      <th>c</th>\n",
              "    </tr>\n",
              "  </thead>\n",
              "  <tbody>\n",
              "    <tr>\n",
              "      <th>0</th>\n",
              "      <td>1.0</td>\n",
              "      <td>2.0</td>\n",
              "      <td>3</td>\n",
              "    </tr>\n",
              "    <tr>\n",
              "      <th>1</th>\n",
              "      <td>NaN</td>\n",
              "      <td>8.0</td>\n",
              "      <td>7</td>\n",
              "    </tr>\n",
              "    <tr>\n",
              "      <th>2</th>\n",
              "      <td>4.0</td>\n",
              "      <td>NaN</td>\n",
              "      <td>90</td>\n",
              "    </tr>\n",
              "    <tr>\n",
              "      <th>3</th>\n",
              "      <td>67.0</td>\n",
              "      <td>42.0</td>\n",
              "      <td>53</td>\n",
              "    </tr>\n",
              "  </tbody>\n",
              "</table>\n",
              "</div>"
            ],
            "text/plain": [
              "      a     b   c\n",
              "0   1.0   2.0   3\n",
              "1   NaN   8.0   7\n",
              "2   4.0   NaN  90\n",
              "3  67.0  42.0  53"
            ]
          },
          "metadata": {
            "tags": []
          },
          "execution_count": 125
        }
      ]
    },
    {
      "cell_type": "code",
      "metadata": {
        "colab": {
          "base_uri": "https://localhost:8080/",
          "height": 136
        },
        "id": "IpnGxptQ3Fpe",
        "outputId": "07c00251-194b-465f-abbd-59f66bde6e83"
      },
      "source": [
        "df5[df5['a'].notnull()]"
      ],
      "execution_count": null,
      "outputs": [
        {
          "output_type": "execute_result",
          "data": {
            "text/html": [
              "<div>\n",
              "<style scoped>\n",
              "    .dataframe tbody tr th:only-of-type {\n",
              "        vertical-align: middle;\n",
              "    }\n",
              "\n",
              "    .dataframe tbody tr th {\n",
              "        vertical-align: top;\n",
              "    }\n",
              "\n",
              "    .dataframe thead th {\n",
              "        text-align: right;\n",
              "    }\n",
              "</style>\n",
              "<table border=\"1\" class=\"dataframe\">\n",
              "  <thead>\n",
              "    <tr style=\"text-align: right;\">\n",
              "      <th></th>\n",
              "      <th>a</th>\n",
              "      <th>b</th>\n",
              "      <th>c</th>\n",
              "    </tr>\n",
              "  </thead>\n",
              "  <tbody>\n",
              "    <tr>\n",
              "      <th>0</th>\n",
              "      <td>1.0</td>\n",
              "      <td>2.0</td>\n",
              "      <td>3</td>\n",
              "    </tr>\n",
              "    <tr>\n",
              "      <th>2</th>\n",
              "      <td>4.0</td>\n",
              "      <td>NaN</td>\n",
              "      <td>90</td>\n",
              "    </tr>\n",
              "    <tr>\n",
              "      <th>3</th>\n",
              "      <td>67.0</td>\n",
              "      <td>42.0</td>\n",
              "      <td>53</td>\n",
              "    </tr>\n",
              "  </tbody>\n",
              "</table>\n",
              "</div>"
            ],
            "text/plain": [
              "      a     b   c\n",
              "0   1.0   2.0   3\n",
              "2   4.0   NaN  90\n",
              "3  67.0  42.0  53"
            ]
          },
          "metadata": {
            "tags": []
          },
          "execution_count": 126
        }
      ]
    },
    {
      "cell_type": "code",
      "metadata": {
        "colab": {
          "base_uri": "https://localhost:8080/",
          "height": 166
        },
        "id": "2F4WiQUH3FsN",
        "outputId": "6f55fa77-3e4d-4e3f-f9c4-b4434639b8c7"
      },
      "source": [
        "df5.notnull()"
      ],
      "execution_count": null,
      "outputs": [
        {
          "output_type": "execute_result",
          "data": {
            "text/html": [
              "<div>\n",
              "<style scoped>\n",
              "    .dataframe tbody tr th:only-of-type {\n",
              "        vertical-align: middle;\n",
              "    }\n",
              "\n",
              "    .dataframe tbody tr th {\n",
              "        vertical-align: top;\n",
              "    }\n",
              "\n",
              "    .dataframe thead th {\n",
              "        text-align: right;\n",
              "    }\n",
              "</style>\n",
              "<table border=\"1\" class=\"dataframe\">\n",
              "  <thead>\n",
              "    <tr style=\"text-align: right;\">\n",
              "      <th></th>\n",
              "      <th>a</th>\n",
              "      <th>b</th>\n",
              "      <th>c</th>\n",
              "    </tr>\n",
              "  </thead>\n",
              "  <tbody>\n",
              "    <tr>\n",
              "      <th>0</th>\n",
              "      <td>True</td>\n",
              "      <td>True</td>\n",
              "      <td>True</td>\n",
              "    </tr>\n",
              "    <tr>\n",
              "      <th>1</th>\n",
              "      <td>False</td>\n",
              "      <td>True</td>\n",
              "      <td>True</td>\n",
              "    </tr>\n",
              "    <tr>\n",
              "      <th>2</th>\n",
              "      <td>True</td>\n",
              "      <td>False</td>\n",
              "      <td>True</td>\n",
              "    </tr>\n",
              "    <tr>\n",
              "      <th>3</th>\n",
              "      <td>True</td>\n",
              "      <td>True</td>\n",
              "      <td>True</td>\n",
              "    </tr>\n",
              "  </tbody>\n",
              "</table>\n",
              "</div>"
            ],
            "text/plain": [
              "       a      b     c\n",
              "0   True   True  True\n",
              "1  False   True  True\n",
              "2   True  False  True\n",
              "3   True   True  True"
            ]
          },
          "metadata": {
            "tags": []
          },
          "execution_count": 127
        }
      ]
    },
    {
      "cell_type": "code",
      "metadata": {
        "colab": {
          "base_uri": "https://localhost:8080/"
        },
        "id": "s6vnVTt01aqa",
        "outputId": "f47eafb6-a4ac-4436-cdca-c64329d1cc4c"
      },
      "source": [
        "df5.notnull().any()"
      ],
      "execution_count": null,
      "outputs": [
        {
          "output_type": "execute_result",
          "data": {
            "text/plain": [
              "a    True\n",
              "b    True\n",
              "c    True\n",
              "dtype: bool"
            ]
          },
          "metadata": {
            "tags": []
          },
          "execution_count": 128
        }
      ]
    },
    {
      "cell_type": "code",
      "metadata": {
        "colab": {
          "base_uri": "https://localhost:8080/"
        },
        "id": "ZEMHDrnw1atW",
        "outputId": "f9ee02e8-1e5c-40cd-a0ad-b4fafa46082b"
      },
      "source": [
        "df5.notnull().all()"
      ],
      "execution_count": null,
      "outputs": [
        {
          "output_type": "execute_result",
          "data": {
            "text/plain": [
              "a    False\n",
              "b    False\n",
              "c     True\n",
              "dtype: bool"
            ]
          },
          "metadata": {
            "tags": []
          },
          "execution_count": 129
        }
      ]
    },
    {
      "cell_type": "code",
      "metadata": {
        "colab": {
          "base_uri": "https://localhost:8080/",
          "height": 106
        },
        "id": "af9lyPmX5kck",
        "outputId": "b6a1f2cf-ab1a-4fa9-a057-eb2c339362d0"
      },
      "source": [
        "df5.dropna()"
      ],
      "execution_count": null,
      "outputs": [
        {
          "output_type": "execute_result",
          "data": {
            "text/html": [
              "<div>\n",
              "<style scoped>\n",
              "    .dataframe tbody tr th:only-of-type {\n",
              "        vertical-align: middle;\n",
              "    }\n",
              "\n",
              "    .dataframe tbody tr th {\n",
              "        vertical-align: top;\n",
              "    }\n",
              "\n",
              "    .dataframe thead th {\n",
              "        text-align: right;\n",
              "    }\n",
              "</style>\n",
              "<table border=\"1\" class=\"dataframe\">\n",
              "  <thead>\n",
              "    <tr style=\"text-align: right;\">\n",
              "      <th></th>\n",
              "      <th>a</th>\n",
              "      <th>b</th>\n",
              "      <th>c</th>\n",
              "    </tr>\n",
              "  </thead>\n",
              "  <tbody>\n",
              "    <tr>\n",
              "      <th>0</th>\n",
              "      <td>1.0</td>\n",
              "      <td>2.0</td>\n",
              "      <td>3</td>\n",
              "    </tr>\n",
              "    <tr>\n",
              "      <th>3</th>\n",
              "      <td>67.0</td>\n",
              "      <td>42.0</td>\n",
              "      <td>53</td>\n",
              "    </tr>\n",
              "  </tbody>\n",
              "</table>\n",
              "</div>"
            ],
            "text/plain": [
              "      a     b   c\n",
              "0   1.0   2.0   3\n",
              "3  67.0  42.0  53"
            ]
          },
          "metadata": {
            "tags": []
          },
          "execution_count": 130
        }
      ]
    },
    {
      "cell_type": "code",
      "metadata": {
        "colab": {
          "base_uri": "https://localhost:8080/",
          "height": 166
        },
        "id": "GJ9cws9H53Dw",
        "outputId": "94e6f797-0377-4874-ed5e-7218085be7a0"
      },
      "source": [
        "df5"
      ],
      "execution_count": null,
      "outputs": [
        {
          "output_type": "execute_result",
          "data": {
            "text/html": [
              "<div>\n",
              "<style scoped>\n",
              "    .dataframe tbody tr th:only-of-type {\n",
              "        vertical-align: middle;\n",
              "    }\n",
              "\n",
              "    .dataframe tbody tr th {\n",
              "        vertical-align: top;\n",
              "    }\n",
              "\n",
              "    .dataframe thead th {\n",
              "        text-align: right;\n",
              "    }\n",
              "</style>\n",
              "<table border=\"1\" class=\"dataframe\">\n",
              "  <thead>\n",
              "    <tr style=\"text-align: right;\">\n",
              "      <th></th>\n",
              "      <th>a</th>\n",
              "      <th>b</th>\n",
              "      <th>c</th>\n",
              "    </tr>\n",
              "  </thead>\n",
              "  <tbody>\n",
              "    <tr>\n",
              "      <th>0</th>\n",
              "      <td>1.0</td>\n",
              "      <td>2.0</td>\n",
              "      <td>3</td>\n",
              "    </tr>\n",
              "    <tr>\n",
              "      <th>1</th>\n",
              "      <td>NaN</td>\n",
              "      <td>8.0</td>\n",
              "      <td>7</td>\n",
              "    </tr>\n",
              "    <tr>\n",
              "      <th>2</th>\n",
              "      <td>4.0</td>\n",
              "      <td>NaN</td>\n",
              "      <td>90</td>\n",
              "    </tr>\n",
              "    <tr>\n",
              "      <th>3</th>\n",
              "      <td>67.0</td>\n",
              "      <td>42.0</td>\n",
              "      <td>53</td>\n",
              "    </tr>\n",
              "  </tbody>\n",
              "</table>\n",
              "</div>"
            ],
            "text/plain": [
              "      a     b   c\n",
              "0   1.0   2.0   3\n",
              "1   NaN   8.0   7\n",
              "2   4.0   NaN  90\n",
              "3  67.0  42.0  53"
            ]
          },
          "metadata": {
            "tags": []
          },
          "execution_count": 131
        }
      ]
    },
    {
      "cell_type": "code",
      "metadata": {
        "colab": {
          "base_uri": "https://localhost:8080/",
          "height": 166
        },
        "id": "G9GF-kOw53Gb",
        "outputId": "9f5b6645-1108-4b71-98c2-38b1a21fcf14"
      },
      "source": [
        "df5.dropna(axis=1)"
      ],
      "execution_count": null,
      "outputs": [
        {
          "output_type": "execute_result",
          "data": {
            "text/html": [
              "<div>\n",
              "<style scoped>\n",
              "    .dataframe tbody tr th:only-of-type {\n",
              "        vertical-align: middle;\n",
              "    }\n",
              "\n",
              "    .dataframe tbody tr th {\n",
              "        vertical-align: top;\n",
              "    }\n",
              "\n",
              "    .dataframe thead th {\n",
              "        text-align: right;\n",
              "    }\n",
              "</style>\n",
              "<table border=\"1\" class=\"dataframe\">\n",
              "  <thead>\n",
              "    <tr style=\"text-align: right;\">\n",
              "      <th></th>\n",
              "      <th>c</th>\n",
              "    </tr>\n",
              "  </thead>\n",
              "  <tbody>\n",
              "    <tr>\n",
              "      <th>0</th>\n",
              "      <td>3</td>\n",
              "    </tr>\n",
              "    <tr>\n",
              "      <th>1</th>\n",
              "      <td>7</td>\n",
              "    </tr>\n",
              "    <tr>\n",
              "      <th>2</th>\n",
              "      <td>90</td>\n",
              "    </tr>\n",
              "    <tr>\n",
              "      <th>3</th>\n",
              "      <td>53</td>\n",
              "    </tr>\n",
              "  </tbody>\n",
              "</table>\n",
              "</div>"
            ],
            "text/plain": [
              "    c\n",
              "0   3\n",
              "1   7\n",
              "2  90\n",
              "3  53"
            ]
          },
          "metadata": {
            "tags": []
          },
          "execution_count": 132
        }
      ]
    },
    {
      "cell_type": "code",
      "metadata": {
        "colab": {
          "base_uri": "https://localhost:8080/",
          "height": 166
        },
        "id": "bEXaQnoa5ke5",
        "outputId": "ad663252-1a55-4af3-f6d0-53334340dafa"
      },
      "source": [
        "df5.dropna(thresh=2) # Drop sólo si faltan 2 o más variables"
      ],
      "execution_count": null,
      "outputs": [
        {
          "output_type": "execute_result",
          "data": {
            "text/html": [
              "<div>\n",
              "<style scoped>\n",
              "    .dataframe tbody tr th:only-of-type {\n",
              "        vertical-align: middle;\n",
              "    }\n",
              "\n",
              "    .dataframe tbody tr th {\n",
              "        vertical-align: top;\n",
              "    }\n",
              "\n",
              "    .dataframe thead th {\n",
              "        text-align: right;\n",
              "    }\n",
              "</style>\n",
              "<table border=\"1\" class=\"dataframe\">\n",
              "  <thead>\n",
              "    <tr style=\"text-align: right;\">\n",
              "      <th></th>\n",
              "      <th>a</th>\n",
              "      <th>b</th>\n",
              "      <th>c</th>\n",
              "    </tr>\n",
              "  </thead>\n",
              "  <tbody>\n",
              "    <tr>\n",
              "      <th>0</th>\n",
              "      <td>1.0</td>\n",
              "      <td>2.0</td>\n",
              "      <td>3</td>\n",
              "    </tr>\n",
              "    <tr>\n",
              "      <th>1</th>\n",
              "      <td>NaN</td>\n",
              "      <td>8.0</td>\n",
              "      <td>7</td>\n",
              "    </tr>\n",
              "    <tr>\n",
              "      <th>2</th>\n",
              "      <td>4.0</td>\n",
              "      <td>NaN</td>\n",
              "      <td>90</td>\n",
              "    </tr>\n",
              "    <tr>\n",
              "      <th>3</th>\n",
              "      <td>67.0</td>\n",
              "      <td>42.0</td>\n",
              "      <td>53</td>\n",
              "    </tr>\n",
              "  </tbody>\n",
              "</table>\n",
              "</div>"
            ],
            "text/plain": [
              "      a     b   c\n",
              "0   1.0   2.0   3\n",
              "1   NaN   8.0   7\n",
              "2   4.0   NaN  90\n",
              "3  67.0  42.0  53"
            ]
          },
          "metadata": {
            "tags": []
          },
          "execution_count": 133
        }
      ]
    },
    {
      "cell_type": "code",
      "metadata": {
        "colab": {
          "base_uri": "https://localhost:8080/",
          "height": 166
        },
        "id": "MLJAWTp65khW",
        "outputId": "f54b89d5-4490-4330-e8c6-8bac1ba56def"
      },
      "source": [
        "df5.fillna(0)"
      ],
      "execution_count": null,
      "outputs": [
        {
          "output_type": "execute_result",
          "data": {
            "text/html": [
              "<div>\n",
              "<style scoped>\n",
              "    .dataframe tbody tr th:only-of-type {\n",
              "        vertical-align: middle;\n",
              "    }\n",
              "\n",
              "    .dataframe tbody tr th {\n",
              "        vertical-align: top;\n",
              "    }\n",
              "\n",
              "    .dataframe thead th {\n",
              "        text-align: right;\n",
              "    }\n",
              "</style>\n",
              "<table border=\"1\" class=\"dataframe\">\n",
              "  <thead>\n",
              "    <tr style=\"text-align: right;\">\n",
              "      <th></th>\n",
              "      <th>a</th>\n",
              "      <th>b</th>\n",
              "      <th>c</th>\n",
              "    </tr>\n",
              "  </thead>\n",
              "  <tbody>\n",
              "    <tr>\n",
              "      <th>0</th>\n",
              "      <td>1.0</td>\n",
              "      <td>2.0</td>\n",
              "      <td>3</td>\n",
              "    </tr>\n",
              "    <tr>\n",
              "      <th>1</th>\n",
              "      <td>0.0</td>\n",
              "      <td>8.0</td>\n",
              "      <td>7</td>\n",
              "    </tr>\n",
              "    <tr>\n",
              "      <th>2</th>\n",
              "      <td>4.0</td>\n",
              "      <td>0.0</td>\n",
              "      <td>90</td>\n",
              "    </tr>\n",
              "    <tr>\n",
              "      <th>3</th>\n",
              "      <td>67.0</td>\n",
              "      <td>42.0</td>\n",
              "      <td>53</td>\n",
              "    </tr>\n",
              "  </tbody>\n",
              "</table>\n",
              "</div>"
            ],
            "text/plain": [
              "      a     b   c\n",
              "0   1.0   2.0   3\n",
              "1   0.0   8.0   7\n",
              "2   4.0   0.0  90\n",
              "3  67.0  42.0  53"
            ]
          },
          "metadata": {
            "tags": []
          },
          "execution_count": 134
        }
      ]
    },
    {
      "cell_type": "code",
      "metadata": {
        "colab": {
          "base_uri": "https://localhost:8080/",
          "height": 166
        },
        "id": "LCmvGcVk6K8Q",
        "outputId": "0cae4c5c-d1ce-4960-a049-5313145a3503"
      },
      "source": [
        "df5.fillna({\r\n",
        "    'a': 0,\r\n",
        "    'b': 10,\r\n",
        "    'c': 20\r\n",
        "})"
      ],
      "execution_count": null,
      "outputs": [
        {
          "output_type": "execute_result",
          "data": {
            "text/html": [
              "<div>\n",
              "<style scoped>\n",
              "    .dataframe tbody tr th:only-of-type {\n",
              "        vertical-align: middle;\n",
              "    }\n",
              "\n",
              "    .dataframe tbody tr th {\n",
              "        vertical-align: top;\n",
              "    }\n",
              "\n",
              "    .dataframe thead th {\n",
              "        text-align: right;\n",
              "    }\n",
              "</style>\n",
              "<table border=\"1\" class=\"dataframe\">\n",
              "  <thead>\n",
              "    <tr style=\"text-align: right;\">\n",
              "      <th></th>\n",
              "      <th>a</th>\n",
              "      <th>b</th>\n",
              "      <th>c</th>\n",
              "    </tr>\n",
              "  </thead>\n",
              "  <tbody>\n",
              "    <tr>\n",
              "      <th>0</th>\n",
              "      <td>1.0</td>\n",
              "      <td>2.0</td>\n",
              "      <td>3</td>\n",
              "    </tr>\n",
              "    <tr>\n",
              "      <th>1</th>\n",
              "      <td>0.0</td>\n",
              "      <td>8.0</td>\n",
              "      <td>7</td>\n",
              "    </tr>\n",
              "    <tr>\n",
              "      <th>2</th>\n",
              "      <td>4.0</td>\n",
              "      <td>10.0</td>\n",
              "      <td>90</td>\n",
              "    </tr>\n",
              "    <tr>\n",
              "      <th>3</th>\n",
              "      <td>67.0</td>\n",
              "      <td>42.0</td>\n",
              "      <td>53</td>\n",
              "    </tr>\n",
              "  </tbody>\n",
              "</table>\n",
              "</div>"
            ],
            "text/plain": [
              "      a     b   c\n",
              "0   1.0   2.0   3\n",
              "1   0.0   8.0   7\n",
              "2   4.0  10.0  90\n",
              "3  67.0  42.0  53"
            ]
          },
          "metadata": {
            "tags": []
          },
          "execution_count": 135
        }
      ]
    },
    {
      "cell_type": "code",
      "metadata": {
        "colab": {
          "base_uri": "https://localhost:8080/",
          "height": 250
        },
        "id": "fYMcuUa-6K_E",
        "outputId": "c921060d-642d-42a3-fea9-b029e9ae60fd"
      },
      "source": [
        "print(df5)\r\n",
        "df5.fillna(method='ffill') # toma el valor anterior"
      ],
      "execution_count": null,
      "outputs": [
        {
          "output_type": "stream",
          "text": [
            "      a     b   c\n",
            "0   1.0   2.0   3\n",
            "1   NaN   8.0   7\n",
            "2   4.0   NaN  90\n",
            "3  67.0  42.0  53\n"
          ],
          "name": "stdout"
        },
        {
          "output_type": "execute_result",
          "data": {
            "text/html": [
              "<div>\n",
              "<style scoped>\n",
              "    .dataframe tbody tr th:only-of-type {\n",
              "        vertical-align: middle;\n",
              "    }\n",
              "\n",
              "    .dataframe tbody tr th {\n",
              "        vertical-align: top;\n",
              "    }\n",
              "\n",
              "    .dataframe thead th {\n",
              "        text-align: right;\n",
              "    }\n",
              "</style>\n",
              "<table border=\"1\" class=\"dataframe\">\n",
              "  <thead>\n",
              "    <tr style=\"text-align: right;\">\n",
              "      <th></th>\n",
              "      <th>a</th>\n",
              "      <th>b</th>\n",
              "      <th>c</th>\n",
              "    </tr>\n",
              "  </thead>\n",
              "  <tbody>\n",
              "    <tr>\n",
              "      <th>0</th>\n",
              "      <td>1.0</td>\n",
              "      <td>2.0</td>\n",
              "      <td>3</td>\n",
              "    </tr>\n",
              "    <tr>\n",
              "      <th>1</th>\n",
              "      <td>1.0</td>\n",
              "      <td>8.0</td>\n",
              "      <td>7</td>\n",
              "    </tr>\n",
              "    <tr>\n",
              "      <th>2</th>\n",
              "      <td>4.0</td>\n",
              "      <td>8.0</td>\n",
              "      <td>90</td>\n",
              "    </tr>\n",
              "    <tr>\n",
              "      <th>3</th>\n",
              "      <td>67.0</td>\n",
              "      <td>42.0</td>\n",
              "      <td>53</td>\n",
              "    </tr>\n",
              "  </tbody>\n",
              "</table>\n",
              "</div>"
            ],
            "text/plain": [
              "      a     b   c\n",
              "0   1.0   2.0   3\n",
              "1   1.0   8.0   7\n",
              "2   4.0   8.0  90\n",
              "3  67.0  42.0  53"
            ]
          },
          "metadata": {
            "tags": []
          },
          "execution_count": 136
        }
      ]
    },
    {
      "cell_type": "code",
      "metadata": {
        "colab": {
          "base_uri": "https://localhost:8080/",
          "height": 166
        },
        "id": "fjLi1ev16LBV",
        "outputId": "2004bc21-97bf-49bf-861f-bc6d364fd295"
      },
      "source": [
        "df5.fillna(df5.median())"
      ],
      "execution_count": null,
      "outputs": [
        {
          "output_type": "execute_result",
          "data": {
            "text/html": [
              "<div>\n",
              "<style scoped>\n",
              "    .dataframe tbody tr th:only-of-type {\n",
              "        vertical-align: middle;\n",
              "    }\n",
              "\n",
              "    .dataframe tbody tr th {\n",
              "        vertical-align: top;\n",
              "    }\n",
              "\n",
              "    .dataframe thead th {\n",
              "        text-align: right;\n",
              "    }\n",
              "</style>\n",
              "<table border=\"1\" class=\"dataframe\">\n",
              "  <thead>\n",
              "    <tr style=\"text-align: right;\">\n",
              "      <th></th>\n",
              "      <th>a</th>\n",
              "      <th>b</th>\n",
              "      <th>c</th>\n",
              "    </tr>\n",
              "  </thead>\n",
              "  <tbody>\n",
              "    <tr>\n",
              "      <th>0</th>\n",
              "      <td>1.0</td>\n",
              "      <td>2.0</td>\n",
              "      <td>3</td>\n",
              "    </tr>\n",
              "    <tr>\n",
              "      <th>1</th>\n",
              "      <td>4.0</td>\n",
              "      <td>8.0</td>\n",
              "      <td>7</td>\n",
              "    </tr>\n",
              "    <tr>\n",
              "      <th>2</th>\n",
              "      <td>4.0</td>\n",
              "      <td>8.0</td>\n",
              "      <td>90</td>\n",
              "    </tr>\n",
              "    <tr>\n",
              "      <th>3</th>\n",
              "      <td>67.0</td>\n",
              "      <td>42.0</td>\n",
              "      <td>53</td>\n",
              "    </tr>\n",
              "  </tbody>\n",
              "</table>\n",
              "</div>"
            ],
            "text/plain": [
              "      a     b   c\n",
              "0   1.0   2.0   3\n",
              "1   4.0   8.0   7\n",
              "2   4.0   8.0  90\n",
              "3  67.0  42.0  53"
            ]
          },
          "metadata": {
            "tags": []
          },
          "execution_count": 137
        }
      ]
    },
    {
      "cell_type": "code",
      "metadata": {
        "colab": {
          "base_uri": "https://localhost:8080/"
        },
        "id": "pR5PLeu56LEE",
        "outputId": "b19b4072-f68d-41f4-9b14-5474ca68a9ae"
      },
      "source": [
        "!wget https://bit.ly/ks-pds-csv2 -O {files_loc}/T100_AIRLINES.csv"
      ],
      "execution_count": null,
      "outputs": [
        {
          "output_type": "stream",
          "text": [
            "--2020-12-15 16:04:09--  https://bit.ly/ks-pds-csv2\n",
            "Resolving bit.ly (bit.ly)... 67.199.248.11, 67.199.248.10\n",
            "Connecting to bit.ly (bit.ly)|67.199.248.11|:443... connected.\n",
            "HTTP request sent, awaiting response... 301 Moved Permanently\n",
            "Location: https://drive.google.com/uc?export=view&id=10TunyfQbYFZv8P0rStl4Z1okztqPa3S5 [following]\n",
            "--2020-12-15 16:04:09--  https://drive.google.com/uc?export=view&id=10TunyfQbYFZv8P0rStl4Z1okztqPa3S5\n",
            "Resolving drive.google.com (drive.google.com)... 74.125.137.100, 74.125.137.139, 74.125.137.138, ...\n",
            "Connecting to drive.google.com (drive.google.com)|74.125.137.100|:443... connected.\n",
            "HTTP request sent, awaiting response... 302 Moved Temporarily\n",
            "Location: https://doc-14-cc-docs.googleusercontent.com/docs/securesc/ha0ro937gcuc7l7deffksulhg5h7mbp1/sqc31hsvunkt04v91dc1skka165c28fb/1608048225000/09168289428562857012/*/10TunyfQbYFZv8P0rStl4Z1okztqPa3S5?e=view [following]\n",
            "Warning: wildcards not supported in HTTP.\n",
            "--2020-12-15 16:04:10--  https://doc-14-cc-docs.googleusercontent.com/docs/securesc/ha0ro937gcuc7l7deffksulhg5h7mbp1/sqc31hsvunkt04v91dc1skka165c28fb/1608048225000/09168289428562857012/*/10TunyfQbYFZv8P0rStl4Z1okztqPa3S5?e=view\n",
            "Resolving doc-14-cc-docs.googleusercontent.com (doc-14-cc-docs.googleusercontent.com)... 172.217.3.33, 2607:f8b0:4026:801::2001\n",
            "Connecting to doc-14-cc-docs.googleusercontent.com (doc-14-cc-docs.googleusercontent.com)|172.217.3.33|:443... connected.\n",
            "HTTP request sent, awaiting response... 200 OK\n",
            "Length: unspecified [text/csv]\n",
            "Saving to: ‘/content/gdrive/MyDrive/pythondsfiles/T100_AIRLINES.csv’\n",
            "\n",
            "/content/gdrive/MyD     [ <=>                ]   9.32M  48.2MB/s    in 0.2s    \n",
            "\n",
            "2020-12-15 16:04:11 (48.2 MB/s) - ‘/content/gdrive/MyDrive/pythondsfiles/T100_AIRLINES.csv’ saved [9777233]\n",
            "\n"
          ],
          "name": "stdout"
        }
      ]
    },
    {
      "cell_type": "code",
      "metadata": {
        "colab": {
          "base_uri": "https://localhost:8080/"
        },
        "id": "tR2QE0xP7CCm",
        "outputId": "fbd8d048-451f-4adc-8fda-b6b033caa35a"
      },
      "source": [
        "!ls {files_loc}"
      ],
      "execution_count": null,
      "outputs": [
        {
          "output_type": "stream",
          "text": [
            "csv_output.csv\texample.db  excel_output.xls  s3.pkl  T100_AIRLINES.csv\n"
          ],
          "name": "stdout"
        }
      ]
    },
    {
      "cell_type": "code",
      "metadata": {
        "colab": {
          "base_uri": "https://localhost:8080/"
        },
        "id": "auxTa1kk7CE7",
        "outputId": "224fc6e8-1f3c-4842-9611-992ed3d7fe09"
      },
      "source": [
        "contents = !ls {files_loc}/*T100*\r\n",
        "contents"
      ],
      "execution_count": null,
      "outputs": [
        {
          "output_type": "execute_result",
          "data": {
            "text/plain": [
              "['/content/gdrive/MyDrive/pythondsfiles/T100_AIRLINES.csv']"
            ]
          },
          "metadata": {
            "tags": []
          },
          "execution_count": 140
        }
      ]
    },
    {
      "cell_type": "code",
      "metadata": {
        "id": "CbBzF-Jg7CHl"
      },
      "source": [
        "trafficDf = pd.read_csv(contents[0])"
      ],
      "execution_count": null,
      "outputs": []
    },
    {
      "cell_type": "code",
      "metadata": {
        "colab": {
          "base_uri": "https://localhost:8080/",
          "height": 282
        },
        "id": "3C4xLerP7CKp",
        "outputId": "e04fb5aa-dc4d-4fb3-89f0-7037d2208efe"
      },
      "source": [
        "trafficDf.head()"
      ],
      "execution_count": null,
      "outputs": [
        {
          "output_type": "execute_result",
          "data": {
            "text/html": [
              "<div>\n",
              "<style scoped>\n",
              "    .dataframe tbody tr th:only-of-type {\n",
              "        vertical-align: middle;\n",
              "    }\n",
              "\n",
              "    .dataframe tbody tr th {\n",
              "        vertical-align: top;\n",
              "    }\n",
              "\n",
              "    .dataframe thead th {\n",
              "        text-align: right;\n",
              "    }\n",
              "</style>\n",
              "<table border=\"1\" class=\"dataframe\">\n",
              "  <thead>\n",
              "    <tr style=\"text-align: right;\">\n",
              "      <th></th>\n",
              "      <th>DEPARTURES_SCHEDULED</th>\n",
              "      <th>DEPARTURES_PERFORMED</th>\n",
              "      <th>PAYLOAD</th>\n",
              "      <th>SEATS</th>\n",
              "      <th>PASSENGERS</th>\n",
              "      <th>FREIGHT</th>\n",
              "      <th>MAIL</th>\n",
              "      <th>DISTANCE</th>\n",
              "      <th>RAMP_TO_RAMP</th>\n",
              "      <th>AIR_TIME</th>\n",
              "      <th>UNIQUE_CARRIER</th>\n",
              "      <th>AIRLINE_ID</th>\n",
              "      <th>UNIQUE_CARRIER_NAME</th>\n",
              "      <th>UNIQUE_CARRIER_ENTITY</th>\n",
              "      <th>REGION</th>\n",
              "      <th>CARRIER</th>\n",
              "      <th>CARRIER_NAME</th>\n",
              "      <th>CARRIER_GROUP</th>\n",
              "      <th>CARRIER_GROUP_NEW</th>\n",
              "      <th>ORIGIN_AIRPORT_ID</th>\n",
              "      <th>ORIGIN_AIRPORT_SEQ_ID</th>\n",
              "      <th>ORIGIN_CITY_MARKET_ID</th>\n",
              "      <th>ORIGIN</th>\n",
              "      <th>ORIGIN_CITY_NAME</th>\n",
              "      <th>ORIGIN_COUNTRY</th>\n",
              "      <th>ORIGIN_COUNTRY_NAME</th>\n",
              "      <th>ORIGIN_WAC</th>\n",
              "      <th>DEST_AIRPORT_ID</th>\n",
              "      <th>DEST_AIRPORT_SEQ_ID</th>\n",
              "      <th>DEST_CITY_MARKET_ID</th>\n",
              "      <th>DEST</th>\n",
              "      <th>DEST_CITY_NAME</th>\n",
              "      <th>DEST_COUNTRY</th>\n",
              "      <th>DEST_COUNTRY_NAME</th>\n",
              "      <th>DEST_WAC</th>\n",
              "      <th>AIRCRAFT_GROUP</th>\n",
              "      <th>AIRCRAFT_TYPE</th>\n",
              "      <th>AIRCRAFT_CONFIG</th>\n",
              "      <th>YEAR</th>\n",
              "      <th>QUARTER</th>\n",
              "      <th>MONTH</th>\n",
              "      <th>DISTANCE_GROUP</th>\n",
              "      <th>CLASS</th>\n",
              "      <th>Unnamed: 43</th>\n",
              "    </tr>\n",
              "  </thead>\n",
              "  <tbody>\n",
              "    <tr>\n",
              "      <th>0</th>\n",
              "      <td>0.0</td>\n",
              "      <td>1.0</td>\n",
              "      <td>26543.0</td>\n",
              "      <td>76.0</td>\n",
              "      <td>76.0</td>\n",
              "      <td>0.0</td>\n",
              "      <td>0.0</td>\n",
              "      <td>3160.0</td>\n",
              "      <td>0.0</td>\n",
              "      <td>0.0</td>\n",
              "      <td>02Q</td>\n",
              "      <td>21040.0</td>\n",
              "      <td>Titan Airways</td>\n",
              "      <td>71004</td>\n",
              "      <td>I</td>\n",
              "      <td>02Q</td>\n",
              "      <td>Titan Airways</td>\n",
              "      <td>0</td>\n",
              "      <td>0.0</td>\n",
              "      <td>15174</td>\n",
              "      <td>1517403</td>\n",
              "      <td>32946</td>\n",
              "      <td>TER</td>\n",
              "      <td>Lajes, Portugal</td>\n",
              "      <td>PT</td>\n",
              "      <td>Portugal</td>\n",
              "      <td>469</td>\n",
              "      <td>13204</td>\n",
              "      <td>1320402</td>\n",
              "      <td>31454</td>\n",
              "      <td>MCO</td>\n",
              "      <td>Orlando, FL</td>\n",
              "      <td>US</td>\n",
              "      <td>United States</td>\n",
              "      <td>33</td>\n",
              "      <td>6</td>\n",
              "      <td>622</td>\n",
              "      <td>1</td>\n",
              "      <td>2020</td>\n",
              "      <td>1</td>\n",
              "      <td>1</td>\n",
              "      <td>7</td>\n",
              "      <td>L</td>\n",
              "      <td>NaN</td>\n",
              "    </tr>\n",
              "    <tr>\n",
              "      <th>1</th>\n",
              "      <td>0.0</td>\n",
              "      <td>1.0</td>\n",
              "      <td>26543.0</td>\n",
              "      <td>76.0</td>\n",
              "      <td>0.0</td>\n",
              "      <td>0.0</td>\n",
              "      <td>0.0</td>\n",
              "      <td>4360.0</td>\n",
              "      <td>0.0</td>\n",
              "      <td>0.0</td>\n",
              "      <td>02Q</td>\n",
              "      <td>21040.0</td>\n",
              "      <td>Titan Airways</td>\n",
              "      <td>71004</td>\n",
              "      <td>I</td>\n",
              "      <td>02Q</td>\n",
              "      <td>Titan Airways</td>\n",
              "      <td>0</td>\n",
              "      <td>0.0</td>\n",
              "      <td>13204</td>\n",
              "      <td>1320402</td>\n",
              "      <td>31454</td>\n",
              "      <td>MCO</td>\n",
              "      <td>Orlando, FL</td>\n",
              "      <td>US</td>\n",
              "      <td>United States</td>\n",
              "      <td>33</td>\n",
              "      <td>15018</td>\n",
              "      <td>1501806</td>\n",
              "      <td>30730</td>\n",
              "      <td>STN</td>\n",
              "      <td>London, United Kingdom</td>\n",
              "      <td>GB</td>\n",
              "      <td>United Kingdom</td>\n",
              "      <td>493</td>\n",
              "      <td>6</td>\n",
              "      <td>622</td>\n",
              "      <td>1</td>\n",
              "      <td>2020</td>\n",
              "      <td>1</td>\n",
              "      <td>1</td>\n",
              "      <td>9</td>\n",
              "      <td>L</td>\n",
              "      <td>NaN</td>\n",
              "    </tr>\n",
              "    <tr>\n",
              "      <th>2</th>\n",
              "      <td>0.0</td>\n",
              "      <td>1.0</td>\n",
              "      <td>7198.0</td>\n",
              "      <td>16.0</td>\n",
              "      <td>2.0</td>\n",
              "      <td>0.0</td>\n",
              "      <td>0.0</td>\n",
              "      <td>3925.0</td>\n",
              "      <td>0.0</td>\n",
              "      <td>0.0</td>\n",
              "      <td>0BQ</td>\n",
              "      <td>21186.0</td>\n",
              "      <td>DCA</td>\n",
              "      <td>71033</td>\n",
              "      <td>I</td>\n",
              "      <td>0BQ</td>\n",
              "      <td>DCA</td>\n",
              "      <td>0</td>\n",
              "      <td>0.0</td>\n",
              "      <td>15022</td>\n",
              "      <td>1502203</td>\n",
              "      <td>35022</td>\n",
              "      <td>STR</td>\n",
              "      <td>Stuttgart, Germany</td>\n",
              "      <td>DE</td>\n",
              "      <td>Germany</td>\n",
              "      <td>429</td>\n",
              "      <td>15167</td>\n",
              "      <td>1516702</td>\n",
              "      <td>35167</td>\n",
              "      <td>TEB</td>\n",
              "      <td>Teterboro, NJ</td>\n",
              "      <td>US</td>\n",
              "      <td>United States</td>\n",
              "      <td>21</td>\n",
              "      <td>6</td>\n",
              "      <td>667</td>\n",
              "      <td>1</td>\n",
              "      <td>2020</td>\n",
              "      <td>1</td>\n",
              "      <td>1</td>\n",
              "      <td>8</td>\n",
              "      <td>L</td>\n",
              "      <td>NaN</td>\n",
              "    </tr>\n",
              "    <tr>\n",
              "      <th>3</th>\n",
              "      <td>0.0</td>\n",
              "      <td>1.0</td>\n",
              "      <td>7198.0</td>\n",
              "      <td>16.0</td>\n",
              "      <td>2.0</td>\n",
              "      <td>0.0</td>\n",
              "      <td>0.0</td>\n",
              "      <td>3925.0</td>\n",
              "      <td>0.0</td>\n",
              "      <td>0.0</td>\n",
              "      <td>0BQ</td>\n",
              "      <td>21186.0</td>\n",
              "      <td>DCA</td>\n",
              "      <td>71033</td>\n",
              "      <td>I</td>\n",
              "      <td>0BQ</td>\n",
              "      <td>DCA</td>\n",
              "      <td>0</td>\n",
              "      <td>0.0</td>\n",
              "      <td>15167</td>\n",
              "      <td>1516702</td>\n",
              "      <td>35167</td>\n",
              "      <td>TEB</td>\n",
              "      <td>Teterboro, NJ</td>\n",
              "      <td>US</td>\n",
              "      <td>United States</td>\n",
              "      <td>21</td>\n",
              "      <td>15022</td>\n",
              "      <td>1502203</td>\n",
              "      <td>35022</td>\n",
              "      <td>STR</td>\n",
              "      <td>Stuttgart, Germany</td>\n",
              "      <td>DE</td>\n",
              "      <td>Germany</td>\n",
              "      <td>429</td>\n",
              "      <td>6</td>\n",
              "      <td>667</td>\n",
              "      <td>1</td>\n",
              "      <td>2020</td>\n",
              "      <td>1</td>\n",
              "      <td>1</td>\n",
              "      <td>8</td>\n",
              "      <td>L</td>\n",
              "      <td>NaN</td>\n",
              "    </tr>\n",
              "    <tr>\n",
              "      <th>4</th>\n",
              "      <td>0.0</td>\n",
              "      <td>1.0</td>\n",
              "      <td>17079.0</td>\n",
              "      <td>92.0</td>\n",
              "      <td>0.0</td>\n",
              "      <td>0.0</td>\n",
              "      <td>0.0</td>\n",
              "      <td>3896.0</td>\n",
              "      <td>0.0</td>\n",
              "      <td>0.0</td>\n",
              "      <td>0QQ</td>\n",
              "      <td>21308.0</td>\n",
              "      <td>TAG Aviation (UK) Ltd.</td>\n",
              "      <td>71062</td>\n",
              "      <td>I</td>\n",
              "      <td>0QQ</td>\n",
              "      <td>TAG Aviation (UK) Ltd.</td>\n",
              "      <td>0</td>\n",
              "      <td>0.0</td>\n",
              "      <td>15018</td>\n",
              "      <td>1501806</td>\n",
              "      <td>30730</td>\n",
              "      <td>STN</td>\n",
              "      <td>London, United Kingdom</td>\n",
              "      <td>GB</td>\n",
              "      <td>United Kingdom</td>\n",
              "      <td>493</td>\n",
              "      <td>11337</td>\n",
              "      <td>1133705</td>\n",
              "      <td>31337</td>\n",
              "      <td>DLH</td>\n",
              "      <td>Duluth, MN</td>\n",
              "      <td>US</td>\n",
              "      <td>United States</td>\n",
              "      <td>63</td>\n",
              "      <td>6</td>\n",
              "      <td>622</td>\n",
              "      <td>1</td>\n",
              "      <td>2020</td>\n",
              "      <td>1</td>\n",
              "      <td>1</td>\n",
              "      <td>8</td>\n",
              "      <td>L</td>\n",
              "      <td>NaN</td>\n",
              "    </tr>\n",
              "  </tbody>\n",
              "</table>\n",
              "</div>"
            ],
            "text/plain": [
              "   DEPARTURES_SCHEDULED  DEPARTURES_PERFORMED  ...  CLASS  Unnamed: 43\n",
              "0                   0.0                   1.0  ...      L          NaN\n",
              "1                   0.0                   1.0  ...      L          NaN\n",
              "2                   0.0                   1.0  ...      L          NaN\n",
              "3                   0.0                   1.0  ...      L          NaN\n",
              "4                   0.0                   1.0  ...      L          NaN\n",
              "\n",
              "[5 rows x 44 columns]"
            ]
          },
          "metadata": {
            "tags": []
          },
          "execution_count": 142
        }
      ]
    },
    {
      "cell_type": "code",
      "metadata": {
        "colab": {
          "base_uri": "https://localhost:8080/"
        },
        "id": "TbR3utO_qePg",
        "outputId": "5bbaae28-1494-4529-b739-d4213f4ead72"
      },
      "source": [
        "trafficDf.info()"
      ],
      "execution_count": null,
      "outputs": [
        {
          "output_type": "stream",
          "text": [
            "<class 'pandas.core.frame.DataFrame'>\n",
            "RangeIndex: 31482 entries, 0 to 31481\n",
            "Data columns (total 44 columns):\n",
            " #   Column                 Non-Null Count  Dtype  \n",
            "---  ------                 --------------  -----  \n",
            " 0   DEPARTURES_SCHEDULED   31482 non-null  float64\n",
            " 1   DEPARTURES_PERFORMED   31482 non-null  float64\n",
            " 2   PAYLOAD                31482 non-null  float64\n",
            " 3   SEATS                  31482 non-null  float64\n",
            " 4   PASSENGERS             31482 non-null  float64\n",
            " 5   FREIGHT                31482 non-null  float64\n",
            " 6   MAIL                   31482 non-null  float64\n",
            " 7   DISTANCE               31482 non-null  float64\n",
            " 8   RAMP_TO_RAMP           31482 non-null  float64\n",
            " 9   AIR_TIME               31482 non-null  float64\n",
            " 10  UNIQUE_CARRIER         31478 non-null  object \n",
            " 11  AIRLINE_ID             31478 non-null  float64\n",
            " 12  UNIQUE_CARRIER_NAME    31478 non-null  object \n",
            " 13  UNIQUE_CARRIER_ENTITY  31478 non-null  object \n",
            " 14  REGION                 31478 non-null  object \n",
            " 15  CARRIER                31482 non-null  object \n",
            " 16  CARRIER_NAME           31478 non-null  object \n",
            " 17  CARRIER_GROUP          31482 non-null  int64  \n",
            " 18  CARRIER_GROUP_NEW      31478 non-null  float64\n",
            " 19  ORIGIN_AIRPORT_ID      31482 non-null  int64  \n",
            " 20  ORIGIN_AIRPORT_SEQ_ID  31482 non-null  int64  \n",
            " 21  ORIGIN_CITY_MARKET_ID  31482 non-null  int64  \n",
            " 22  ORIGIN                 31482 non-null  object \n",
            " 23  ORIGIN_CITY_NAME       31482 non-null  object \n",
            " 24  ORIGIN_COUNTRY         31482 non-null  object \n",
            " 25  ORIGIN_COUNTRY_NAME    31482 non-null  object \n",
            " 26  ORIGIN_WAC             31482 non-null  int64  \n",
            " 27  DEST_AIRPORT_ID        31482 non-null  int64  \n",
            " 28  DEST_AIRPORT_SEQ_ID    31482 non-null  int64  \n",
            " 29  DEST_CITY_MARKET_ID    31482 non-null  int64  \n",
            " 30  DEST                   31482 non-null  object \n",
            " 31  DEST_CITY_NAME         31482 non-null  object \n",
            " 32  DEST_COUNTRY           31482 non-null  object \n",
            " 33  DEST_COUNTRY_NAME      31482 non-null  object \n",
            " 34  DEST_WAC               31482 non-null  int64  \n",
            " 35  AIRCRAFT_GROUP         31482 non-null  int64  \n",
            " 36  AIRCRAFT_TYPE          31482 non-null  int64  \n",
            " 37  AIRCRAFT_CONFIG        31482 non-null  int64  \n",
            " 38  YEAR                   31482 non-null  int64  \n",
            " 39  QUARTER                31482 non-null  int64  \n",
            " 40  MONTH                  31482 non-null  int64  \n",
            " 41  DISTANCE_GROUP         31482 non-null  int64  \n",
            " 42  CLASS                  31482 non-null  object \n",
            " 43  Unnamed: 43            0 non-null      float64\n",
            "dtypes: float64(13), int64(16), object(15)\n",
            "memory usage: 10.6+ MB\n"
          ],
          "name": "stdout"
        }
      ]
    },
    {
      "cell_type": "code",
      "metadata": {
        "colab": {
          "base_uri": "https://localhost:8080/",
          "height": 321
        },
        "id": "SlRDk42c-RQk",
        "outputId": "631e04e7-d942-4570-8db6-0829472844dc"
      },
      "source": [
        "trafficDf.describe()"
      ],
      "execution_count": null,
      "outputs": [
        {
          "output_type": "execute_result",
          "data": {
            "text/html": [
              "<div>\n",
              "<style scoped>\n",
              "    .dataframe tbody tr th:only-of-type {\n",
              "        vertical-align: middle;\n",
              "    }\n",
              "\n",
              "    .dataframe tbody tr th {\n",
              "        vertical-align: top;\n",
              "    }\n",
              "\n",
              "    .dataframe thead th {\n",
              "        text-align: right;\n",
              "    }\n",
              "</style>\n",
              "<table border=\"1\" class=\"dataframe\">\n",
              "  <thead>\n",
              "    <tr style=\"text-align: right;\">\n",
              "      <th></th>\n",
              "      <th>DEPARTURES_SCHEDULED</th>\n",
              "      <th>DEPARTURES_PERFORMED</th>\n",
              "      <th>PAYLOAD</th>\n",
              "      <th>SEATS</th>\n",
              "      <th>PASSENGERS</th>\n",
              "      <th>FREIGHT</th>\n",
              "      <th>MAIL</th>\n",
              "      <th>DISTANCE</th>\n",
              "      <th>RAMP_TO_RAMP</th>\n",
              "      <th>AIR_TIME</th>\n",
              "      <th>AIRLINE_ID</th>\n",
              "      <th>CARRIER_GROUP</th>\n",
              "      <th>CARRIER_GROUP_NEW</th>\n",
              "      <th>ORIGIN_AIRPORT_ID</th>\n",
              "      <th>ORIGIN_AIRPORT_SEQ_ID</th>\n",
              "      <th>ORIGIN_CITY_MARKET_ID</th>\n",
              "      <th>ORIGIN_WAC</th>\n",
              "      <th>DEST_AIRPORT_ID</th>\n",
              "      <th>DEST_AIRPORT_SEQ_ID</th>\n",
              "      <th>DEST_CITY_MARKET_ID</th>\n",
              "      <th>DEST_WAC</th>\n",
              "      <th>AIRCRAFT_GROUP</th>\n",
              "      <th>AIRCRAFT_TYPE</th>\n",
              "      <th>AIRCRAFT_CONFIG</th>\n",
              "      <th>YEAR</th>\n",
              "      <th>QUARTER</th>\n",
              "      <th>MONTH</th>\n",
              "      <th>DISTANCE_GROUP</th>\n",
              "      <th>Unnamed: 43</th>\n",
              "    </tr>\n",
              "  </thead>\n",
              "  <tbody>\n",
              "    <tr>\n",
              "      <th>count</th>\n",
              "      <td>31482.000000</td>\n",
              "      <td>31482.00000</td>\n",
              "      <td>3.148200e+04</td>\n",
              "      <td>31482.000000</td>\n",
              "      <td>31482.000000</td>\n",
              "      <td>3.148200e+04</td>\n",
              "      <td>3.148200e+04</td>\n",
              "      <td>31482.000000</td>\n",
              "      <td>31482.000000</td>\n",
              "      <td>31482.000000</td>\n",
              "      <td>31478.000000</td>\n",
              "      <td>31482.000000</td>\n",
              "      <td>31478.000000</td>\n",
              "      <td>31482.000000</td>\n",
              "      <td>3.148200e+04</td>\n",
              "      <td>31482.000000</td>\n",
              "      <td>31482.000000</td>\n",
              "      <td>31482.000000</td>\n",
              "      <td>3.148200e+04</td>\n",
              "      <td>31482.000000</td>\n",
              "      <td>31482.000000</td>\n",
              "      <td>31482.000000</td>\n",
              "      <td>31482.000000</td>\n",
              "      <td>31482.000000</td>\n",
              "      <td>31482.0</td>\n",
              "      <td>31482.000000</td>\n",
              "      <td>31482.000000</td>\n",
              "      <td>31482.000000</td>\n",
              "      <td>0.0</td>\n",
              "    </tr>\n",
              "    <tr>\n",
              "      <th>mean</th>\n",
              "      <td>7.679881</td>\n",
              "      <td>14.23874</td>\n",
              "      <td>1.109960e+06</td>\n",
              "      <td>2103.509466</td>\n",
              "      <td>1447.450289</td>\n",
              "      <td>3.120796e+05</td>\n",
              "      <td>2.199702e+03</td>\n",
              "      <td>2705.964964</td>\n",
              "      <td>2206.941681</td>\n",
              "      <td>1992.610190</td>\n",
              "      <td>20238.839189</td>\n",
              "      <td>1.500191</td>\n",
              "      <td>1.626183</td>\n",
              "      <td>13103.866241</td>\n",
              "      <td>1.310391e+06</td>\n",
              "      <td>32445.497649</td>\n",
              "      <td>255.427292</td>\n",
              "      <td>13075.807890</td>\n",
              "      <td>1.307585e+06</td>\n",
              "      <td>32428.210978</td>\n",
              "      <td>263.832126</td>\n",
              "      <td>6.109142</td>\n",
              "      <td>683.263357</td>\n",
              "      <td>1.271552</td>\n",
              "      <td>2020.0</td>\n",
              "      <td>1.255003</td>\n",
              "      <td>2.766057</td>\n",
              "      <td>5.921670</td>\n",
              "      <td>NaN</td>\n",
              "    </tr>\n",
              "    <tr>\n",
              "      <th>std</th>\n",
              "      <td>16.939749</td>\n",
              "      <td>19.76649</td>\n",
              "      <td>1.981188e+06</td>\n",
              "      <td>3477.887080</td>\n",
              "      <td>2630.820752</td>\n",
              "      <td>1.095827e+06</td>\n",
              "      <td>2.245255e+04</td>\n",
              "      <td>2082.223653</td>\n",
              "      <td>4684.277883</td>\n",
              "      <td>4357.114296</td>\n",
              "      <td>669.811405</td>\n",
              "      <td>1.405364</td>\n",
              "      <td>1.568205</td>\n",
              "      <td>1698.177108</td>\n",
              "      <td>1.698175e+05</td>\n",
              "      <td>1677.112564</td>\n",
              "      <td>295.816180</td>\n",
              "      <td>1714.604274</td>\n",
              "      <td>1.714602e+05</td>\n",
              "      <td>1688.271589</td>\n",
              "      <td>299.161400</td>\n",
              "      <td>0.898258</td>\n",
              "      <td>120.388805</td>\n",
              "      <td>0.520886</td>\n",
              "      <td>0.0</td>\n",
              "      <td>0.435870</td>\n",
              "      <td>1.552057</td>\n",
              "      <td>4.145716</td>\n",
              "      <td>NaN</td>\n",
              "    </tr>\n",
              "    <tr>\n",
              "      <th>min</th>\n",
              "      <td>0.000000</td>\n",
              "      <td>0.00000</td>\n",
              "      <td>0.000000e+00</td>\n",
              "      <td>0.000000</td>\n",
              "      <td>0.000000</td>\n",
              "      <td>0.000000e+00</td>\n",
              "      <td>0.000000e+00</td>\n",
              "      <td>18.000000</td>\n",
              "      <td>0.000000</td>\n",
              "      <td>0.000000</td>\n",
              "      <td>19393.000000</td>\n",
              "      <td>0.000000</td>\n",
              "      <td>0.000000</td>\n",
              "      <td>10140.000000</td>\n",
              "      <td>1.014005e+06</td>\n",
              "      <td>30082.000000</td>\n",
              "      <td>1.000000</td>\n",
              "      <td>10140.000000</td>\n",
              "      <td>1.014005e+06</td>\n",
              "      <td>30140.000000</td>\n",
              "      <td>1.000000</td>\n",
              "      <td>0.000000</td>\n",
              "      <td>40.000000</td>\n",
              "      <td>1.000000</td>\n",
              "      <td>2020.0</td>\n",
              "      <td>1.000000</td>\n",
              "      <td>1.000000</td>\n",
              "      <td>1.000000</td>\n",
              "      <td>NaN</td>\n",
              "    </tr>\n",
              "    <tr>\n",
              "      <th>25%</th>\n",
              "      <td>0.000000</td>\n",
              "      <td>2.00000</td>\n",
              "      <td>1.038000e+05</td>\n",
              "      <td>6.000000</td>\n",
              "      <td>0.000000</td>\n",
              "      <td>0.000000e+00</td>\n",
              "      <td>0.000000e+00</td>\n",
              "      <td>1101.000000</td>\n",
              "      <td>0.000000</td>\n",
              "      <td>0.000000</td>\n",
              "      <td>19790.000000</td>\n",
              "      <td>0.000000</td>\n",
              "      <td>0.000000</td>\n",
              "      <td>11760.000000</td>\n",
              "      <td>1.176004e+06</td>\n",
              "      <td>31032.000000</td>\n",
              "      <td>34.000000</td>\n",
              "      <td>11697.000000</td>\n",
              "      <td>1.169706e+06</td>\n",
              "      <td>31000.000000</td>\n",
              "      <td>36.000000</td>\n",
              "      <td>6.000000</td>\n",
              "      <td>625.000000</td>\n",
              "      <td>1.000000</td>\n",
              "      <td>2020.0</td>\n",
              "      <td>1.000000</td>\n",
              "      <td>1.000000</td>\n",
              "      <td>3.000000</td>\n",
              "      <td>NaN</td>\n",
              "    </tr>\n",
              "    <tr>\n",
              "      <th>50%</th>\n",
              "      <td>0.000000</td>\n",
              "      <td>7.00000</td>\n",
              "      <td>4.289430e+05</td>\n",
              "      <td>477.000000</td>\n",
              "      <td>245.000000</td>\n",
              "      <td>1.039000e+03</td>\n",
              "      <td>0.000000e+00</td>\n",
              "      <td>1782.000000</td>\n",
              "      <td>181.000000</td>\n",
              "      <td>153.000000</td>\n",
              "      <td>20005.000000</td>\n",
              "      <td>2.000000</td>\n",
              "      <td>2.000000</td>\n",
              "      <td>13043.000000</td>\n",
              "      <td>1.304308e+06</td>\n",
              "      <td>32134.000000</td>\n",
              "      <td>93.000000</td>\n",
              "      <td>12986.000000</td>\n",
              "      <td>1.298602e+06</td>\n",
              "      <td>32105.000000</td>\n",
              "      <td>110.000000</td>\n",
              "      <td>6.000000</td>\n",
              "      <td>678.000000</td>\n",
              "      <td>1.000000</td>\n",
              "      <td>2020.0</td>\n",
              "      <td>1.000000</td>\n",
              "      <td>3.000000</td>\n",
              "      <td>4.000000</td>\n",
              "      <td>NaN</td>\n",
              "    </tr>\n",
              "    <tr>\n",
              "      <th>75%</th>\n",
              "      <td>7.000000</td>\n",
              "      <td>21.00000</td>\n",
              "      <td>1.331000e+06</td>\n",
              "      <td>2914.000000</td>\n",
              "      <td>1777.000000</td>\n",
              "      <td>1.797350e+05</td>\n",
              "      <td>0.000000e+00</td>\n",
              "      <td>4278.000000</td>\n",
              "      <td>1967.750000</td>\n",
              "      <td>1698.750000</td>\n",
              "      <td>20409.000000</td>\n",
              "      <td>3.000000</td>\n",
              "      <td>3.000000</td>\n",
              "      <td>14309.000000</td>\n",
              "      <td>1.430902e+06</td>\n",
              "      <td>33252.000000</td>\n",
              "      <td>427.000000</td>\n",
              "      <td>14293.000000</td>\n",
              "      <td>1.429304e+06</td>\n",
              "      <td>33252.000000</td>\n",
              "      <td>429.000000</td>\n",
              "      <td>6.000000</td>\n",
              "      <td>722.000000</td>\n",
              "      <td>1.000000</td>\n",
              "      <td>2020.0</td>\n",
              "      <td>2.000000</td>\n",
              "      <td>4.000000</td>\n",
              "      <td>9.000000</td>\n",
              "      <td>NaN</td>\n",
              "    </tr>\n",
              "    <tr>\n",
              "      <th>max</th>\n",
              "      <td>248.000000</td>\n",
              "      <td>316.00000</td>\n",
              "      <td>4.589640e+07</td>\n",
              "      <td>37185.000000</td>\n",
              "      <td>31227.000000</td>\n",
              "      <td>4.179092e+07</td>\n",
              "      <td>1.500465e+06</td>\n",
              "      <td>9779.000000</td>\n",
              "      <td>64994.000000</td>\n",
              "      <td>62231.000000</td>\n",
              "      <td>22067.000000</td>\n",
              "      <td>3.000000</td>\n",
              "      <td>6.000000</td>\n",
              "      <td>16880.000000</td>\n",
              "      <td>1.688001e+06</td>\n",
              "      <td>36847.000000</td>\n",
              "      <td>975.000000</td>\n",
              "      <td>16881.000000</td>\n",
              "      <td>1.688101e+06</td>\n",
              "      <td>36848.000000</td>\n",
              "      <td>961.000000</td>\n",
              "      <td>8.000000</td>\n",
              "      <td>889.000000</td>\n",
              "      <td>4.000000</td>\n",
              "      <td>2020.0</td>\n",
              "      <td>2.000000</td>\n",
              "      <td>6.000000</td>\n",
              "      <td>20.000000</td>\n",
              "      <td>NaN</td>\n",
              "    </tr>\n",
              "  </tbody>\n",
              "</table>\n",
              "</div>"
            ],
            "text/plain": [
              "       DEPARTURES_SCHEDULED  DEPARTURES_PERFORMED  ...  DISTANCE_GROUP  Unnamed: 43\n",
              "count          31482.000000           31482.00000  ...    31482.000000          0.0\n",
              "mean               7.679881              14.23874  ...        5.921670          NaN\n",
              "std               16.939749              19.76649  ...        4.145716          NaN\n",
              "min                0.000000               0.00000  ...        1.000000          NaN\n",
              "25%                0.000000               2.00000  ...        3.000000          NaN\n",
              "50%                0.000000               7.00000  ...        4.000000          NaN\n",
              "75%                7.000000              21.00000  ...        9.000000          NaN\n",
              "max              248.000000             316.00000  ...       20.000000          NaN\n",
              "\n",
              "[8 rows x 29 columns]"
            ]
          },
          "metadata": {
            "tags": []
          },
          "execution_count": 144
        }
      ]
    },
    {
      "cell_type": "code",
      "metadata": {
        "colab": {
          "base_uri": "https://localhost:8080/"
        },
        "id": "o-wkIsMN-RT0",
        "outputId": "6e3eea8a-f714-4c6f-b2ed-c364cfe5bb82"
      },
      "source": [
        "trafficDf.shape"
      ],
      "execution_count": null,
      "outputs": [
        {
          "output_type": "execute_result",
          "data": {
            "text/plain": [
              "(31482, 44)"
            ]
          },
          "metadata": {
            "tags": []
          },
          "execution_count": 145
        }
      ]
    },
    {
      "cell_type": "code",
      "metadata": {
        "id": "t7f7-QKR_XRH"
      },
      "source": [
        "trafficDf.head(1000).to_excel(os.path.join(files_loc, \"excel_output.xls\"))"
      ],
      "execution_count": null,
      "outputs": []
    },
    {
      "cell_type": "code",
      "metadata": {
        "colab": {
          "base_uri": "https://localhost:8080/"
        },
        "id": "i4LHCtKi-4m3",
        "outputId": "16abde29-af5e-4ef0-eb13-a58f6cd54049"
      },
      "source": [
        "!ls {files_loc}"
      ],
      "execution_count": null,
      "outputs": [
        {
          "output_type": "stream",
          "text": [
            "csv_output.csv\texample.db  excel_output.xls  s3.pkl  T100_AIRLINES.csv\n"
          ],
          "name": "stdout"
        }
      ]
    },
    {
      "cell_type": "code",
      "metadata": {
        "id": "DL3tDQtl-4vf"
      },
      "source": [
        "trafficDf.head(100).to_csv(os.path.join(files_loc, \"csv_output.csv\"))"
      ],
      "execution_count": null,
      "outputs": []
    },
    {
      "cell_type": "code",
      "metadata": {
        "colab": {
          "base_uri": "https://localhost:8080/"
        },
        "id": "wsHY-4Wn-4yT",
        "outputId": "33601862-6df2-4750-f428-51b5c21ea16c"
      },
      "source": [
        "!ls {files_loc}"
      ],
      "execution_count": null,
      "outputs": [
        {
          "output_type": "stream",
          "text": [
            "csv_output.csv\texample.db  excel_output.xls  s3.pkl  T100_AIRLINES.csv\n"
          ],
          "name": "stdout"
        }
      ]
    },
    {
      "cell_type": "code",
      "metadata": {
        "id": "SfWE3Jvg-41t"
      },
      "source": [
        "import sqlite3\r\n",
        "conn = sqlite3.connect(os.path.join(files_loc, 'example.db'))"
      ],
      "execution_count": null,
      "outputs": []
    },
    {
      "cell_type": "code",
      "metadata": {
        "colab": {
          "base_uri": "https://localhost:8080/"
        },
        "id": "dfAhWTP9_4vw",
        "outputId": "944f4aba-7a88-4934-b1ab-f0cf6eeb2c7e"
      },
      "source": [
        "trafficDf.to_sql('traffic', conn, if_exists='replace')"
      ],
      "execution_count": null,
      "outputs": [
        {
          "output_type": "stream",
          "text": [
            "/usr/local/lib/python3.6/dist-packages/pandas/core/generic.py:2615: UserWarning: The spaces in these column names will not be changed. In pandas versions < 0.14, spaces were converted to underscores.\n",
            "  method=method,\n"
          ],
          "name": "stderr"
        }
      ]
    },
    {
      "cell_type": "code",
      "metadata": {
        "colab": {
          "base_uri": "https://localhost:8080/"
        },
        "id": "Qi-edxyN_4yi",
        "outputId": "6070bc94-5959-4cdc-f27e-4e30287f2fe0"
      },
      "source": [
        "!ls -al {files_loc}/example.db"
      ],
      "execution_count": null,
      "outputs": [
        {
          "output_type": "stream",
          "text": [
            "-rw------- 1 root root 7315456 Dec 15 16:04 /content/gdrive/MyDrive/pythondsfiles/example.db\n"
          ],
          "name": "stdout"
        }
      ]
    },
    {
      "cell_type": "code",
      "metadata": {
        "colab": {
          "base_uri": "https://localhost:8080/"
        },
        "id": "zxu5suyX_40j",
        "outputId": "367f40d2-3540-418b-f90b-3962c8aac3d6"
      },
      "source": [
        "trafficDf.head(2).to_dict(orient='records')"
      ],
      "execution_count": null,
      "outputs": [
        {
          "output_type": "execute_result",
          "data": {
            "text/plain": [
              "[{'AIRCRAFT_CONFIG': 1,\n",
              "  'AIRCRAFT_GROUP': 6,\n",
              "  'AIRCRAFT_TYPE': 622,\n",
              "  'AIRLINE_ID': 21040.0,\n",
              "  'AIR_TIME': 0.0,\n",
              "  'CARRIER': '02Q',\n",
              "  'CARRIER_GROUP': 0,\n",
              "  'CARRIER_GROUP_NEW': 0.0,\n",
              "  'CARRIER_NAME': 'Titan Airways',\n",
              "  'CLASS': 'L',\n",
              "  'DEPARTURES_PERFORMED': 1.0,\n",
              "  'DEPARTURES_SCHEDULED': 0.0,\n",
              "  'DEST': 'MCO',\n",
              "  'DEST_AIRPORT_ID': 13204,\n",
              "  'DEST_AIRPORT_SEQ_ID': 1320402,\n",
              "  'DEST_CITY_MARKET_ID': 31454,\n",
              "  'DEST_CITY_NAME': 'Orlando, FL',\n",
              "  'DEST_COUNTRY': 'US',\n",
              "  'DEST_COUNTRY_NAME': 'United States',\n",
              "  'DEST_WAC': 33,\n",
              "  'DISTANCE': 3160.0,\n",
              "  'DISTANCE_GROUP': 7,\n",
              "  'FREIGHT': 0.0,\n",
              "  'MAIL': 0.0,\n",
              "  'MONTH': 1,\n",
              "  'ORIGIN': 'TER',\n",
              "  'ORIGIN_AIRPORT_ID': 15174,\n",
              "  'ORIGIN_AIRPORT_SEQ_ID': 1517403,\n",
              "  'ORIGIN_CITY_MARKET_ID': 32946,\n",
              "  'ORIGIN_CITY_NAME': 'Lajes, Portugal',\n",
              "  'ORIGIN_COUNTRY': 'PT',\n",
              "  'ORIGIN_COUNTRY_NAME': 'Portugal',\n",
              "  'ORIGIN_WAC': 469,\n",
              "  'PASSENGERS': 76.0,\n",
              "  'PAYLOAD': 26543.0,\n",
              "  'QUARTER': 1,\n",
              "  'RAMP_TO_RAMP': 0.0,\n",
              "  'REGION': 'I',\n",
              "  'SEATS': 76.0,\n",
              "  'UNIQUE_CARRIER': '02Q',\n",
              "  'UNIQUE_CARRIER_ENTITY': '71004',\n",
              "  'UNIQUE_CARRIER_NAME': 'Titan Airways',\n",
              "  'Unnamed: 43': nan,\n",
              "  'YEAR': 2020},\n",
              " {'AIRCRAFT_CONFIG': 1,\n",
              "  'AIRCRAFT_GROUP': 6,\n",
              "  'AIRCRAFT_TYPE': 622,\n",
              "  'AIRLINE_ID': 21040.0,\n",
              "  'AIR_TIME': 0.0,\n",
              "  'CARRIER': '02Q',\n",
              "  'CARRIER_GROUP': 0,\n",
              "  'CARRIER_GROUP_NEW': 0.0,\n",
              "  'CARRIER_NAME': 'Titan Airways',\n",
              "  'CLASS': 'L',\n",
              "  'DEPARTURES_PERFORMED': 1.0,\n",
              "  'DEPARTURES_SCHEDULED': 0.0,\n",
              "  'DEST': 'STN',\n",
              "  'DEST_AIRPORT_ID': 15018,\n",
              "  'DEST_AIRPORT_SEQ_ID': 1501806,\n",
              "  'DEST_CITY_MARKET_ID': 30730,\n",
              "  'DEST_CITY_NAME': 'London, United Kingdom',\n",
              "  'DEST_COUNTRY': 'GB',\n",
              "  'DEST_COUNTRY_NAME': 'United Kingdom',\n",
              "  'DEST_WAC': 493,\n",
              "  'DISTANCE': 4360.0,\n",
              "  'DISTANCE_GROUP': 9,\n",
              "  'FREIGHT': 0.0,\n",
              "  'MAIL': 0.0,\n",
              "  'MONTH': 1,\n",
              "  'ORIGIN': 'MCO',\n",
              "  'ORIGIN_AIRPORT_ID': 13204,\n",
              "  'ORIGIN_AIRPORT_SEQ_ID': 1320402,\n",
              "  'ORIGIN_CITY_MARKET_ID': 31454,\n",
              "  'ORIGIN_CITY_NAME': 'Orlando, FL',\n",
              "  'ORIGIN_COUNTRY': 'US',\n",
              "  'ORIGIN_COUNTRY_NAME': 'United States',\n",
              "  'ORIGIN_WAC': 33,\n",
              "  'PASSENGERS': 0.0,\n",
              "  'PAYLOAD': 26543.0,\n",
              "  'QUARTER': 1,\n",
              "  'RAMP_TO_RAMP': 0.0,\n",
              "  'REGION': 'I',\n",
              "  'SEATS': 76.0,\n",
              "  'UNIQUE_CARRIER': '02Q',\n",
              "  'UNIQUE_CARRIER_ENTITY': '71004',\n",
              "  'UNIQUE_CARRIER_NAME': 'Titan Airways',\n",
              "  'Unnamed: 43': nan,\n",
              "  'YEAR': 2020}]"
            ]
          },
          "metadata": {
            "tags": []
          },
          "execution_count": 153
        }
      ]
    },
    {
      "cell_type": "code",
      "metadata": {
        "colab": {
          "base_uri": "https://localhost:8080/",
          "height": 120
        },
        "id": "NUqXB3VI-RWr",
        "outputId": "3857b473-9594-436e-f121-39788002f092"
      },
      "source": [
        "trafficDf.head(2).to_json(orient='records')"
      ],
      "execution_count": null,
      "outputs": [
        {
          "output_type": "execute_result",
          "data": {
            "application/vnd.google.colaboratory.intrinsic+json": {
              "type": "string"
            },
            "text/plain": [
              "'[{\"DEPARTURES_SCHEDULED\":0.0,\"DEPARTURES_PERFORMED\":1.0,\"PAYLOAD\":26543.0,\"SEATS\":76.0,\"PASSENGERS\":76.0,\"FREIGHT\":0.0,\"MAIL\":0.0,\"DISTANCE\":3160.0,\"RAMP_TO_RAMP\":0.0,\"AIR_TIME\":0.0,\"UNIQUE_CARRIER\":\"02Q\",\"AIRLINE_ID\":21040.0,\"UNIQUE_CARRIER_NAME\":\"Titan Airways\",\"UNIQUE_CARRIER_ENTITY\":\"71004\",\"REGION\":\"I\",\"CARRIER\":\"02Q\",\"CARRIER_NAME\":\"Titan Airways\",\"CARRIER_GROUP\":0,\"CARRIER_GROUP_NEW\":0.0,\"ORIGIN_AIRPORT_ID\":15174,\"ORIGIN_AIRPORT_SEQ_ID\":1517403,\"ORIGIN_CITY_MARKET_ID\":32946,\"ORIGIN\":\"TER\",\"ORIGIN_CITY_NAME\":\"Lajes, Portugal\",\"ORIGIN_COUNTRY\":\"PT\",\"ORIGIN_COUNTRY_NAME\":\"Portugal\",\"ORIGIN_WAC\":469,\"DEST_AIRPORT_ID\":13204,\"DEST_AIRPORT_SEQ_ID\":1320402,\"DEST_CITY_MARKET_ID\":31454,\"DEST\":\"MCO\",\"DEST_CITY_NAME\":\"Orlando, FL\",\"DEST_COUNTRY\":\"US\",\"DEST_COUNTRY_NAME\":\"United States\",\"DEST_WAC\":33,\"AIRCRAFT_GROUP\":6,\"AIRCRAFT_TYPE\":622,\"AIRCRAFT_CONFIG\":1,\"YEAR\":2020,\"QUARTER\":1,\"MONTH\":1,\"DISTANCE_GROUP\":7,\"CLASS\":\"L\",\"Unnamed: 43\":null},{\"DEPARTURES_SCHEDULED\":0.0,\"DEPARTURES_PERFORMED\":1.0,\"PAYLOAD\":26543.0,\"SEATS\":76.0,\"PASSENGERS\":0.0,\"FREIGHT\":0.0,\"MAIL\":0.0,\"DISTANCE\":4360.0,\"RAMP_TO_RAMP\":0.0,\"AIR_TIME\":0.0,\"UNIQUE_CARRIER\":\"02Q\",\"AIRLINE_ID\":21040.0,\"UNIQUE_CARRIER_NAME\":\"Titan Airways\",\"UNIQUE_CARRIER_ENTITY\":\"71004\",\"REGION\":\"I\",\"CARRIER\":\"02Q\",\"CARRIER_NAME\":\"Titan Airways\",\"CARRIER_GROUP\":0,\"CARRIER_GROUP_NEW\":0.0,\"ORIGIN_AIRPORT_ID\":13204,\"ORIGIN_AIRPORT_SEQ_ID\":1320402,\"ORIGIN_CITY_MARKET_ID\":31454,\"ORIGIN\":\"MCO\",\"ORIGIN_CITY_NAME\":\"Orlando, FL\",\"ORIGIN_COUNTRY\":\"US\",\"ORIGIN_COUNTRY_NAME\":\"United States\",\"ORIGIN_WAC\":33,\"DEST_AIRPORT_ID\":15018,\"DEST_AIRPORT_SEQ_ID\":1501806,\"DEST_CITY_MARKET_ID\":30730,\"DEST\":\"STN\",\"DEST_CITY_NAME\":\"London, United Kingdom\",\"DEST_COUNTRY\":\"GB\",\"DEST_COUNTRY_NAME\":\"United Kingdom\",\"DEST_WAC\":493,\"AIRCRAFT_GROUP\":6,\"AIRCRAFT_TYPE\":622,\"AIRCRAFT_CONFIG\":1,\"YEAR\":2020,\"QUARTER\":1,\"MONTH\":1,\"DISTANCE_GROUP\":9,\"CLASS\":\"L\",\"Unnamed: 43\":null}]'"
            ]
          },
          "metadata": {
            "tags": []
          },
          "execution_count": 154
        }
      ]
    },
    {
      "cell_type": "code",
      "metadata": {
        "id": "pooIcXm6Al9-"
      },
      "source": [
        "df2 = pd.read_excel(os.path.join(files_loc, \"excel_output.xls\"))"
      ],
      "execution_count": null,
      "outputs": []
    },
    {
      "cell_type": "code",
      "metadata": {
        "colab": {
          "base_uri": "https://localhost:8080/",
          "height": 292
        },
        "id": "f-NffgqEAmAm",
        "outputId": "48d86f8e-78f0-4856-f10c-eb4bd074d9be"
      },
      "source": [
        "df2.head()"
      ],
      "execution_count": null,
      "outputs": [
        {
          "output_type": "execute_result",
          "data": {
            "text/html": [
              "<div>\n",
              "<style scoped>\n",
              "    .dataframe tbody tr th:only-of-type {\n",
              "        vertical-align: middle;\n",
              "    }\n",
              "\n",
              "    .dataframe tbody tr th {\n",
              "        vertical-align: top;\n",
              "    }\n",
              "\n",
              "    .dataframe thead th {\n",
              "        text-align: right;\n",
              "    }\n",
              "</style>\n",
              "<table border=\"1\" class=\"dataframe\">\n",
              "  <thead>\n",
              "    <tr style=\"text-align: right;\">\n",
              "      <th></th>\n",
              "      <th>Unnamed: 0</th>\n",
              "      <th>DEPARTURES_SCHEDULED</th>\n",
              "      <th>DEPARTURES_PERFORMED</th>\n",
              "      <th>PAYLOAD</th>\n",
              "      <th>SEATS</th>\n",
              "      <th>PASSENGERS</th>\n",
              "      <th>FREIGHT</th>\n",
              "      <th>MAIL</th>\n",
              "      <th>DISTANCE</th>\n",
              "      <th>RAMP_TO_RAMP</th>\n",
              "      <th>AIR_TIME</th>\n",
              "      <th>UNIQUE_CARRIER</th>\n",
              "      <th>AIRLINE_ID</th>\n",
              "      <th>UNIQUE_CARRIER_NAME</th>\n",
              "      <th>UNIQUE_CARRIER_ENTITY</th>\n",
              "      <th>REGION</th>\n",
              "      <th>CARRIER</th>\n",
              "      <th>CARRIER_NAME</th>\n",
              "      <th>CARRIER_GROUP</th>\n",
              "      <th>CARRIER_GROUP_NEW</th>\n",
              "      <th>ORIGIN_AIRPORT_ID</th>\n",
              "      <th>ORIGIN_AIRPORT_SEQ_ID</th>\n",
              "      <th>ORIGIN_CITY_MARKET_ID</th>\n",
              "      <th>ORIGIN</th>\n",
              "      <th>ORIGIN_CITY_NAME</th>\n",
              "      <th>ORIGIN_COUNTRY</th>\n",
              "      <th>ORIGIN_COUNTRY_NAME</th>\n",
              "      <th>ORIGIN_WAC</th>\n",
              "      <th>DEST_AIRPORT_ID</th>\n",
              "      <th>DEST_AIRPORT_SEQ_ID</th>\n",
              "      <th>DEST_CITY_MARKET_ID</th>\n",
              "      <th>DEST</th>\n",
              "      <th>DEST_CITY_NAME</th>\n",
              "      <th>DEST_COUNTRY</th>\n",
              "      <th>DEST_COUNTRY_NAME</th>\n",
              "      <th>DEST_WAC</th>\n",
              "      <th>AIRCRAFT_GROUP</th>\n",
              "      <th>AIRCRAFT_TYPE</th>\n",
              "      <th>AIRCRAFT_CONFIG</th>\n",
              "      <th>YEAR</th>\n",
              "      <th>QUARTER</th>\n",
              "      <th>MONTH</th>\n",
              "      <th>DISTANCE_GROUP</th>\n",
              "      <th>CLASS</th>\n",
              "      <th>Unnamed: 43</th>\n",
              "    </tr>\n",
              "  </thead>\n",
              "  <tbody>\n",
              "    <tr>\n",
              "      <th>0</th>\n",
              "      <td>0</td>\n",
              "      <td>0</td>\n",
              "      <td>1</td>\n",
              "      <td>26543</td>\n",
              "      <td>76</td>\n",
              "      <td>76</td>\n",
              "      <td>0</td>\n",
              "      <td>0</td>\n",
              "      <td>3160</td>\n",
              "      <td>0</td>\n",
              "      <td>0</td>\n",
              "      <td>02Q</td>\n",
              "      <td>21040</td>\n",
              "      <td>Titan Airways</td>\n",
              "      <td>71004</td>\n",
              "      <td>I</td>\n",
              "      <td>02Q</td>\n",
              "      <td>Titan Airways</td>\n",
              "      <td>0</td>\n",
              "      <td>0</td>\n",
              "      <td>15174</td>\n",
              "      <td>1517403</td>\n",
              "      <td>32946</td>\n",
              "      <td>TER</td>\n",
              "      <td>Lajes, Portugal</td>\n",
              "      <td>PT</td>\n",
              "      <td>Portugal</td>\n",
              "      <td>469</td>\n",
              "      <td>13204</td>\n",
              "      <td>1320402</td>\n",
              "      <td>31454</td>\n",
              "      <td>MCO</td>\n",
              "      <td>Orlando, FL</td>\n",
              "      <td>US</td>\n",
              "      <td>United States</td>\n",
              "      <td>33</td>\n",
              "      <td>6</td>\n",
              "      <td>622</td>\n",
              "      <td>1</td>\n",
              "      <td>2020</td>\n",
              "      <td>1</td>\n",
              "      <td>1</td>\n",
              "      <td>7</td>\n",
              "      <td>L</td>\n",
              "      <td>NaN</td>\n",
              "    </tr>\n",
              "    <tr>\n",
              "      <th>1</th>\n",
              "      <td>1</td>\n",
              "      <td>0</td>\n",
              "      <td>1</td>\n",
              "      <td>26543</td>\n",
              "      <td>76</td>\n",
              "      <td>0</td>\n",
              "      <td>0</td>\n",
              "      <td>0</td>\n",
              "      <td>4360</td>\n",
              "      <td>0</td>\n",
              "      <td>0</td>\n",
              "      <td>02Q</td>\n",
              "      <td>21040</td>\n",
              "      <td>Titan Airways</td>\n",
              "      <td>71004</td>\n",
              "      <td>I</td>\n",
              "      <td>02Q</td>\n",
              "      <td>Titan Airways</td>\n",
              "      <td>0</td>\n",
              "      <td>0</td>\n",
              "      <td>13204</td>\n",
              "      <td>1320402</td>\n",
              "      <td>31454</td>\n",
              "      <td>MCO</td>\n",
              "      <td>Orlando, FL</td>\n",
              "      <td>US</td>\n",
              "      <td>United States</td>\n",
              "      <td>33</td>\n",
              "      <td>15018</td>\n",
              "      <td>1501806</td>\n",
              "      <td>30730</td>\n",
              "      <td>STN</td>\n",
              "      <td>London, United Kingdom</td>\n",
              "      <td>GB</td>\n",
              "      <td>United Kingdom</td>\n",
              "      <td>493</td>\n",
              "      <td>6</td>\n",
              "      <td>622</td>\n",
              "      <td>1</td>\n",
              "      <td>2020</td>\n",
              "      <td>1</td>\n",
              "      <td>1</td>\n",
              "      <td>9</td>\n",
              "      <td>L</td>\n",
              "      <td>NaN</td>\n",
              "    </tr>\n",
              "    <tr>\n",
              "      <th>2</th>\n",
              "      <td>2</td>\n",
              "      <td>0</td>\n",
              "      <td>1</td>\n",
              "      <td>7198</td>\n",
              "      <td>16</td>\n",
              "      <td>2</td>\n",
              "      <td>0</td>\n",
              "      <td>0</td>\n",
              "      <td>3925</td>\n",
              "      <td>0</td>\n",
              "      <td>0</td>\n",
              "      <td>0BQ</td>\n",
              "      <td>21186</td>\n",
              "      <td>DCA</td>\n",
              "      <td>71033</td>\n",
              "      <td>I</td>\n",
              "      <td>0BQ</td>\n",
              "      <td>DCA</td>\n",
              "      <td>0</td>\n",
              "      <td>0</td>\n",
              "      <td>15022</td>\n",
              "      <td>1502203</td>\n",
              "      <td>35022</td>\n",
              "      <td>STR</td>\n",
              "      <td>Stuttgart, Germany</td>\n",
              "      <td>DE</td>\n",
              "      <td>Germany</td>\n",
              "      <td>429</td>\n",
              "      <td>15167</td>\n",
              "      <td>1516702</td>\n",
              "      <td>35167</td>\n",
              "      <td>TEB</td>\n",
              "      <td>Teterboro, NJ</td>\n",
              "      <td>US</td>\n",
              "      <td>United States</td>\n",
              "      <td>21</td>\n",
              "      <td>6</td>\n",
              "      <td>667</td>\n",
              "      <td>1</td>\n",
              "      <td>2020</td>\n",
              "      <td>1</td>\n",
              "      <td>1</td>\n",
              "      <td>8</td>\n",
              "      <td>L</td>\n",
              "      <td>NaN</td>\n",
              "    </tr>\n",
              "    <tr>\n",
              "      <th>3</th>\n",
              "      <td>3</td>\n",
              "      <td>0</td>\n",
              "      <td>1</td>\n",
              "      <td>7198</td>\n",
              "      <td>16</td>\n",
              "      <td>2</td>\n",
              "      <td>0</td>\n",
              "      <td>0</td>\n",
              "      <td>3925</td>\n",
              "      <td>0</td>\n",
              "      <td>0</td>\n",
              "      <td>0BQ</td>\n",
              "      <td>21186</td>\n",
              "      <td>DCA</td>\n",
              "      <td>71033</td>\n",
              "      <td>I</td>\n",
              "      <td>0BQ</td>\n",
              "      <td>DCA</td>\n",
              "      <td>0</td>\n",
              "      <td>0</td>\n",
              "      <td>15167</td>\n",
              "      <td>1516702</td>\n",
              "      <td>35167</td>\n",
              "      <td>TEB</td>\n",
              "      <td>Teterboro, NJ</td>\n",
              "      <td>US</td>\n",
              "      <td>United States</td>\n",
              "      <td>21</td>\n",
              "      <td>15022</td>\n",
              "      <td>1502203</td>\n",
              "      <td>35022</td>\n",
              "      <td>STR</td>\n",
              "      <td>Stuttgart, Germany</td>\n",
              "      <td>DE</td>\n",
              "      <td>Germany</td>\n",
              "      <td>429</td>\n",
              "      <td>6</td>\n",
              "      <td>667</td>\n",
              "      <td>1</td>\n",
              "      <td>2020</td>\n",
              "      <td>1</td>\n",
              "      <td>1</td>\n",
              "      <td>8</td>\n",
              "      <td>L</td>\n",
              "      <td>NaN</td>\n",
              "    </tr>\n",
              "    <tr>\n",
              "      <th>4</th>\n",
              "      <td>4</td>\n",
              "      <td>0</td>\n",
              "      <td>1</td>\n",
              "      <td>17079</td>\n",
              "      <td>92</td>\n",
              "      <td>0</td>\n",
              "      <td>0</td>\n",
              "      <td>0</td>\n",
              "      <td>3896</td>\n",
              "      <td>0</td>\n",
              "      <td>0</td>\n",
              "      <td>0QQ</td>\n",
              "      <td>21308</td>\n",
              "      <td>TAG Aviation (UK) Ltd.</td>\n",
              "      <td>71062</td>\n",
              "      <td>I</td>\n",
              "      <td>0QQ</td>\n",
              "      <td>TAG Aviation (UK) Ltd.</td>\n",
              "      <td>0</td>\n",
              "      <td>0</td>\n",
              "      <td>15018</td>\n",
              "      <td>1501806</td>\n",
              "      <td>30730</td>\n",
              "      <td>STN</td>\n",
              "      <td>London, United Kingdom</td>\n",
              "      <td>GB</td>\n",
              "      <td>United Kingdom</td>\n",
              "      <td>493</td>\n",
              "      <td>11337</td>\n",
              "      <td>1133705</td>\n",
              "      <td>31337</td>\n",
              "      <td>DLH</td>\n",
              "      <td>Duluth, MN</td>\n",
              "      <td>US</td>\n",
              "      <td>United States</td>\n",
              "      <td>63</td>\n",
              "      <td>6</td>\n",
              "      <td>622</td>\n",
              "      <td>1</td>\n",
              "      <td>2020</td>\n",
              "      <td>1</td>\n",
              "      <td>1</td>\n",
              "      <td>8</td>\n",
              "      <td>L</td>\n",
              "      <td>NaN</td>\n",
              "    </tr>\n",
              "  </tbody>\n",
              "</table>\n",
              "</div>"
            ],
            "text/plain": [
              "   Unnamed: 0  DEPARTURES_SCHEDULED  ...  CLASS  Unnamed: 43\n",
              "0           0                     0  ...      L          NaN\n",
              "1           1                     0  ...      L          NaN\n",
              "2           2                     0  ...      L          NaN\n",
              "3           3                     0  ...      L          NaN\n",
              "4           4                     0  ...      L          NaN\n",
              "\n",
              "[5 rows x 45 columns]"
            ]
          },
          "metadata": {
            "tags": []
          },
          "execution_count": 7
        }
      ]
    },
    {
      "cell_type": "code",
      "metadata": {
        "id": "VJk6KtDeAmDm",
        "colab": {
          "base_uri": "https://localhost:8080/",
          "height": 275
        },
        "outputId": "12be655c-c786-404e-8c1e-16b5f069ce66"
      },
      "source": [
        "# Eliminar la primera columna\r\n",
        "\r\n",
        "df2 = df2.loc[:, ~df2.columns.str.contains('^Unnamed')]\r\n",
        "df2.head()"
      ],
      "execution_count": null,
      "outputs": [
        {
          "output_type": "execute_result",
          "data": {
            "text/html": [
              "<div>\n",
              "<style scoped>\n",
              "    .dataframe tbody tr th:only-of-type {\n",
              "        vertical-align: middle;\n",
              "    }\n",
              "\n",
              "    .dataframe tbody tr th {\n",
              "        vertical-align: top;\n",
              "    }\n",
              "\n",
              "    .dataframe thead th {\n",
              "        text-align: right;\n",
              "    }\n",
              "</style>\n",
              "<table border=\"1\" class=\"dataframe\">\n",
              "  <thead>\n",
              "    <tr style=\"text-align: right;\">\n",
              "      <th></th>\n",
              "      <th>DEPARTURES_SCHEDULED</th>\n",
              "      <th>DEPARTURES_PERFORMED</th>\n",
              "      <th>PAYLOAD</th>\n",
              "      <th>SEATS</th>\n",
              "      <th>PASSENGERS</th>\n",
              "      <th>FREIGHT</th>\n",
              "      <th>MAIL</th>\n",
              "      <th>DISTANCE</th>\n",
              "      <th>RAMP_TO_RAMP</th>\n",
              "      <th>AIR_TIME</th>\n",
              "      <th>UNIQUE_CARRIER</th>\n",
              "      <th>AIRLINE_ID</th>\n",
              "      <th>UNIQUE_CARRIER_NAME</th>\n",
              "      <th>UNIQUE_CARRIER_ENTITY</th>\n",
              "      <th>REGION</th>\n",
              "      <th>CARRIER</th>\n",
              "      <th>CARRIER_NAME</th>\n",
              "      <th>CARRIER_GROUP</th>\n",
              "      <th>CARRIER_GROUP_NEW</th>\n",
              "      <th>ORIGIN_AIRPORT_ID</th>\n",
              "      <th>ORIGIN_AIRPORT_SEQ_ID</th>\n",
              "      <th>ORIGIN_CITY_MARKET_ID</th>\n",
              "      <th>ORIGIN</th>\n",
              "      <th>ORIGIN_CITY_NAME</th>\n",
              "      <th>ORIGIN_COUNTRY</th>\n",
              "      <th>ORIGIN_COUNTRY_NAME</th>\n",
              "      <th>ORIGIN_WAC</th>\n",
              "      <th>DEST_AIRPORT_ID</th>\n",
              "      <th>DEST_AIRPORT_SEQ_ID</th>\n",
              "      <th>DEST_CITY_MARKET_ID</th>\n",
              "      <th>DEST</th>\n",
              "      <th>DEST_CITY_NAME</th>\n",
              "      <th>DEST_COUNTRY</th>\n",
              "      <th>DEST_COUNTRY_NAME</th>\n",
              "      <th>DEST_WAC</th>\n",
              "      <th>AIRCRAFT_GROUP</th>\n",
              "      <th>AIRCRAFT_TYPE</th>\n",
              "      <th>AIRCRAFT_CONFIG</th>\n",
              "      <th>YEAR</th>\n",
              "      <th>QUARTER</th>\n",
              "      <th>MONTH</th>\n",
              "      <th>DISTANCE_GROUP</th>\n",
              "      <th>CLASS</th>\n",
              "    </tr>\n",
              "  </thead>\n",
              "  <tbody>\n",
              "    <tr>\n",
              "      <th>0</th>\n",
              "      <td>0</td>\n",
              "      <td>1</td>\n",
              "      <td>26543</td>\n",
              "      <td>76</td>\n",
              "      <td>76</td>\n",
              "      <td>0</td>\n",
              "      <td>0</td>\n",
              "      <td>3160</td>\n",
              "      <td>0</td>\n",
              "      <td>0</td>\n",
              "      <td>02Q</td>\n",
              "      <td>21040</td>\n",
              "      <td>Titan Airways</td>\n",
              "      <td>71004</td>\n",
              "      <td>I</td>\n",
              "      <td>02Q</td>\n",
              "      <td>Titan Airways</td>\n",
              "      <td>0</td>\n",
              "      <td>0</td>\n",
              "      <td>15174</td>\n",
              "      <td>1517403</td>\n",
              "      <td>32946</td>\n",
              "      <td>TER</td>\n",
              "      <td>Lajes, Portugal</td>\n",
              "      <td>PT</td>\n",
              "      <td>Portugal</td>\n",
              "      <td>469</td>\n",
              "      <td>13204</td>\n",
              "      <td>1320402</td>\n",
              "      <td>31454</td>\n",
              "      <td>MCO</td>\n",
              "      <td>Orlando, FL</td>\n",
              "      <td>US</td>\n",
              "      <td>United States</td>\n",
              "      <td>33</td>\n",
              "      <td>6</td>\n",
              "      <td>622</td>\n",
              "      <td>1</td>\n",
              "      <td>2020</td>\n",
              "      <td>1</td>\n",
              "      <td>1</td>\n",
              "      <td>7</td>\n",
              "      <td>L</td>\n",
              "    </tr>\n",
              "    <tr>\n",
              "      <th>1</th>\n",
              "      <td>0</td>\n",
              "      <td>1</td>\n",
              "      <td>26543</td>\n",
              "      <td>76</td>\n",
              "      <td>0</td>\n",
              "      <td>0</td>\n",
              "      <td>0</td>\n",
              "      <td>4360</td>\n",
              "      <td>0</td>\n",
              "      <td>0</td>\n",
              "      <td>02Q</td>\n",
              "      <td>21040</td>\n",
              "      <td>Titan Airways</td>\n",
              "      <td>71004</td>\n",
              "      <td>I</td>\n",
              "      <td>02Q</td>\n",
              "      <td>Titan Airways</td>\n",
              "      <td>0</td>\n",
              "      <td>0</td>\n",
              "      <td>13204</td>\n",
              "      <td>1320402</td>\n",
              "      <td>31454</td>\n",
              "      <td>MCO</td>\n",
              "      <td>Orlando, FL</td>\n",
              "      <td>US</td>\n",
              "      <td>United States</td>\n",
              "      <td>33</td>\n",
              "      <td>15018</td>\n",
              "      <td>1501806</td>\n",
              "      <td>30730</td>\n",
              "      <td>STN</td>\n",
              "      <td>London, United Kingdom</td>\n",
              "      <td>GB</td>\n",
              "      <td>United Kingdom</td>\n",
              "      <td>493</td>\n",
              "      <td>6</td>\n",
              "      <td>622</td>\n",
              "      <td>1</td>\n",
              "      <td>2020</td>\n",
              "      <td>1</td>\n",
              "      <td>1</td>\n",
              "      <td>9</td>\n",
              "      <td>L</td>\n",
              "    </tr>\n",
              "    <tr>\n",
              "      <th>2</th>\n",
              "      <td>0</td>\n",
              "      <td>1</td>\n",
              "      <td>7198</td>\n",
              "      <td>16</td>\n",
              "      <td>2</td>\n",
              "      <td>0</td>\n",
              "      <td>0</td>\n",
              "      <td>3925</td>\n",
              "      <td>0</td>\n",
              "      <td>0</td>\n",
              "      <td>0BQ</td>\n",
              "      <td>21186</td>\n",
              "      <td>DCA</td>\n",
              "      <td>71033</td>\n",
              "      <td>I</td>\n",
              "      <td>0BQ</td>\n",
              "      <td>DCA</td>\n",
              "      <td>0</td>\n",
              "      <td>0</td>\n",
              "      <td>15022</td>\n",
              "      <td>1502203</td>\n",
              "      <td>35022</td>\n",
              "      <td>STR</td>\n",
              "      <td>Stuttgart, Germany</td>\n",
              "      <td>DE</td>\n",
              "      <td>Germany</td>\n",
              "      <td>429</td>\n",
              "      <td>15167</td>\n",
              "      <td>1516702</td>\n",
              "      <td>35167</td>\n",
              "      <td>TEB</td>\n",
              "      <td>Teterboro, NJ</td>\n",
              "      <td>US</td>\n",
              "      <td>United States</td>\n",
              "      <td>21</td>\n",
              "      <td>6</td>\n",
              "      <td>667</td>\n",
              "      <td>1</td>\n",
              "      <td>2020</td>\n",
              "      <td>1</td>\n",
              "      <td>1</td>\n",
              "      <td>8</td>\n",
              "      <td>L</td>\n",
              "    </tr>\n",
              "    <tr>\n",
              "      <th>3</th>\n",
              "      <td>0</td>\n",
              "      <td>1</td>\n",
              "      <td>7198</td>\n",
              "      <td>16</td>\n",
              "      <td>2</td>\n",
              "      <td>0</td>\n",
              "      <td>0</td>\n",
              "      <td>3925</td>\n",
              "      <td>0</td>\n",
              "      <td>0</td>\n",
              "      <td>0BQ</td>\n",
              "      <td>21186</td>\n",
              "      <td>DCA</td>\n",
              "      <td>71033</td>\n",
              "      <td>I</td>\n",
              "      <td>0BQ</td>\n",
              "      <td>DCA</td>\n",
              "      <td>0</td>\n",
              "      <td>0</td>\n",
              "      <td>15167</td>\n",
              "      <td>1516702</td>\n",
              "      <td>35167</td>\n",
              "      <td>TEB</td>\n",
              "      <td>Teterboro, NJ</td>\n",
              "      <td>US</td>\n",
              "      <td>United States</td>\n",
              "      <td>21</td>\n",
              "      <td>15022</td>\n",
              "      <td>1502203</td>\n",
              "      <td>35022</td>\n",
              "      <td>STR</td>\n",
              "      <td>Stuttgart, Germany</td>\n",
              "      <td>DE</td>\n",
              "      <td>Germany</td>\n",
              "      <td>429</td>\n",
              "      <td>6</td>\n",
              "      <td>667</td>\n",
              "      <td>1</td>\n",
              "      <td>2020</td>\n",
              "      <td>1</td>\n",
              "      <td>1</td>\n",
              "      <td>8</td>\n",
              "      <td>L</td>\n",
              "    </tr>\n",
              "    <tr>\n",
              "      <th>4</th>\n",
              "      <td>0</td>\n",
              "      <td>1</td>\n",
              "      <td>17079</td>\n",
              "      <td>92</td>\n",
              "      <td>0</td>\n",
              "      <td>0</td>\n",
              "      <td>0</td>\n",
              "      <td>3896</td>\n",
              "      <td>0</td>\n",
              "      <td>0</td>\n",
              "      <td>0QQ</td>\n",
              "      <td>21308</td>\n",
              "      <td>TAG Aviation (UK) Ltd.</td>\n",
              "      <td>71062</td>\n",
              "      <td>I</td>\n",
              "      <td>0QQ</td>\n",
              "      <td>TAG Aviation (UK) Ltd.</td>\n",
              "      <td>0</td>\n",
              "      <td>0</td>\n",
              "      <td>15018</td>\n",
              "      <td>1501806</td>\n",
              "      <td>30730</td>\n",
              "      <td>STN</td>\n",
              "      <td>London, United Kingdom</td>\n",
              "      <td>GB</td>\n",
              "      <td>United Kingdom</td>\n",
              "      <td>493</td>\n",
              "      <td>11337</td>\n",
              "      <td>1133705</td>\n",
              "      <td>31337</td>\n",
              "      <td>DLH</td>\n",
              "      <td>Duluth, MN</td>\n",
              "      <td>US</td>\n",
              "      <td>United States</td>\n",
              "      <td>63</td>\n",
              "      <td>6</td>\n",
              "      <td>622</td>\n",
              "      <td>1</td>\n",
              "      <td>2020</td>\n",
              "      <td>1</td>\n",
              "      <td>1</td>\n",
              "      <td>8</td>\n",
              "      <td>L</td>\n",
              "    </tr>\n",
              "  </tbody>\n",
              "</table>\n",
              "</div>"
            ],
            "text/plain": [
              "   DEPARTURES_SCHEDULED  DEPARTURES_PERFORMED  ...  DISTANCE_GROUP  CLASS\n",
              "0                     0                     1  ...               7      L\n",
              "1                     0                     1  ...               9      L\n",
              "2                     0                     1  ...               8      L\n",
              "3                     0                     1  ...               8      L\n",
              "4                     0                     1  ...               8      L\n",
              "\n",
              "[5 rows x 43 columns]"
            ]
          },
          "metadata": {
            "tags": []
          },
          "execution_count": 8
        }
      ]
    },
    {
      "cell_type": "code",
      "metadata": {
        "id": "LzIwGS_bAmGj",
        "colab": {
          "base_uri": "https://localhost:8080/",
          "height": 292
        },
        "outputId": "8759c835-e3bd-4152-a10c-d07cda624de6"
      },
      "source": [
        "# Cargar el Excel directamente sin la primera columna\r\n",
        "\r\n",
        "df2 = pd.read_excel(os.path.join(files_loc, \"excel_output.xls\"), index_col=0)\r\n",
        "df2.head()"
      ],
      "execution_count": null,
      "outputs": [
        {
          "output_type": "execute_result",
          "data": {
            "text/html": [
              "<div>\n",
              "<style scoped>\n",
              "    .dataframe tbody tr th:only-of-type {\n",
              "        vertical-align: middle;\n",
              "    }\n",
              "\n",
              "    .dataframe tbody tr th {\n",
              "        vertical-align: top;\n",
              "    }\n",
              "\n",
              "    .dataframe thead th {\n",
              "        text-align: right;\n",
              "    }\n",
              "</style>\n",
              "<table border=\"1\" class=\"dataframe\">\n",
              "  <thead>\n",
              "    <tr style=\"text-align: right;\">\n",
              "      <th></th>\n",
              "      <th>DEPARTURES_SCHEDULED</th>\n",
              "      <th>DEPARTURES_PERFORMED</th>\n",
              "      <th>PAYLOAD</th>\n",
              "      <th>SEATS</th>\n",
              "      <th>PASSENGERS</th>\n",
              "      <th>FREIGHT</th>\n",
              "      <th>MAIL</th>\n",
              "      <th>DISTANCE</th>\n",
              "      <th>RAMP_TO_RAMP</th>\n",
              "      <th>AIR_TIME</th>\n",
              "      <th>UNIQUE_CARRIER</th>\n",
              "      <th>AIRLINE_ID</th>\n",
              "      <th>UNIQUE_CARRIER_NAME</th>\n",
              "      <th>UNIQUE_CARRIER_ENTITY</th>\n",
              "      <th>REGION</th>\n",
              "      <th>CARRIER</th>\n",
              "      <th>CARRIER_NAME</th>\n",
              "      <th>CARRIER_GROUP</th>\n",
              "      <th>CARRIER_GROUP_NEW</th>\n",
              "      <th>ORIGIN_AIRPORT_ID</th>\n",
              "      <th>ORIGIN_AIRPORT_SEQ_ID</th>\n",
              "      <th>ORIGIN_CITY_MARKET_ID</th>\n",
              "      <th>ORIGIN</th>\n",
              "      <th>ORIGIN_CITY_NAME</th>\n",
              "      <th>ORIGIN_COUNTRY</th>\n",
              "      <th>ORIGIN_COUNTRY_NAME</th>\n",
              "      <th>ORIGIN_WAC</th>\n",
              "      <th>DEST_AIRPORT_ID</th>\n",
              "      <th>DEST_AIRPORT_SEQ_ID</th>\n",
              "      <th>DEST_CITY_MARKET_ID</th>\n",
              "      <th>DEST</th>\n",
              "      <th>DEST_CITY_NAME</th>\n",
              "      <th>DEST_COUNTRY</th>\n",
              "      <th>DEST_COUNTRY_NAME</th>\n",
              "      <th>DEST_WAC</th>\n",
              "      <th>AIRCRAFT_GROUP</th>\n",
              "      <th>AIRCRAFT_TYPE</th>\n",
              "      <th>AIRCRAFT_CONFIG</th>\n",
              "      <th>YEAR</th>\n",
              "      <th>QUARTER</th>\n",
              "      <th>MONTH</th>\n",
              "      <th>DISTANCE_GROUP</th>\n",
              "      <th>CLASS</th>\n",
              "      <th>Unnamed: 43</th>\n",
              "    </tr>\n",
              "  </thead>\n",
              "  <tbody>\n",
              "    <tr>\n",
              "      <th>0</th>\n",
              "      <td>0</td>\n",
              "      <td>1</td>\n",
              "      <td>26543</td>\n",
              "      <td>76</td>\n",
              "      <td>76</td>\n",
              "      <td>0</td>\n",
              "      <td>0</td>\n",
              "      <td>3160</td>\n",
              "      <td>0</td>\n",
              "      <td>0</td>\n",
              "      <td>02Q</td>\n",
              "      <td>21040</td>\n",
              "      <td>Titan Airways</td>\n",
              "      <td>71004</td>\n",
              "      <td>I</td>\n",
              "      <td>02Q</td>\n",
              "      <td>Titan Airways</td>\n",
              "      <td>0</td>\n",
              "      <td>0</td>\n",
              "      <td>15174</td>\n",
              "      <td>1517403</td>\n",
              "      <td>32946</td>\n",
              "      <td>TER</td>\n",
              "      <td>Lajes, Portugal</td>\n",
              "      <td>PT</td>\n",
              "      <td>Portugal</td>\n",
              "      <td>469</td>\n",
              "      <td>13204</td>\n",
              "      <td>1320402</td>\n",
              "      <td>31454</td>\n",
              "      <td>MCO</td>\n",
              "      <td>Orlando, FL</td>\n",
              "      <td>US</td>\n",
              "      <td>United States</td>\n",
              "      <td>33</td>\n",
              "      <td>6</td>\n",
              "      <td>622</td>\n",
              "      <td>1</td>\n",
              "      <td>2020</td>\n",
              "      <td>1</td>\n",
              "      <td>1</td>\n",
              "      <td>7</td>\n",
              "      <td>L</td>\n",
              "      <td>NaN</td>\n",
              "    </tr>\n",
              "    <tr>\n",
              "      <th>1</th>\n",
              "      <td>0</td>\n",
              "      <td>1</td>\n",
              "      <td>26543</td>\n",
              "      <td>76</td>\n",
              "      <td>0</td>\n",
              "      <td>0</td>\n",
              "      <td>0</td>\n",
              "      <td>4360</td>\n",
              "      <td>0</td>\n",
              "      <td>0</td>\n",
              "      <td>02Q</td>\n",
              "      <td>21040</td>\n",
              "      <td>Titan Airways</td>\n",
              "      <td>71004</td>\n",
              "      <td>I</td>\n",
              "      <td>02Q</td>\n",
              "      <td>Titan Airways</td>\n",
              "      <td>0</td>\n",
              "      <td>0</td>\n",
              "      <td>13204</td>\n",
              "      <td>1320402</td>\n",
              "      <td>31454</td>\n",
              "      <td>MCO</td>\n",
              "      <td>Orlando, FL</td>\n",
              "      <td>US</td>\n",
              "      <td>United States</td>\n",
              "      <td>33</td>\n",
              "      <td>15018</td>\n",
              "      <td>1501806</td>\n",
              "      <td>30730</td>\n",
              "      <td>STN</td>\n",
              "      <td>London, United Kingdom</td>\n",
              "      <td>GB</td>\n",
              "      <td>United Kingdom</td>\n",
              "      <td>493</td>\n",
              "      <td>6</td>\n",
              "      <td>622</td>\n",
              "      <td>1</td>\n",
              "      <td>2020</td>\n",
              "      <td>1</td>\n",
              "      <td>1</td>\n",
              "      <td>9</td>\n",
              "      <td>L</td>\n",
              "      <td>NaN</td>\n",
              "    </tr>\n",
              "    <tr>\n",
              "      <th>2</th>\n",
              "      <td>0</td>\n",
              "      <td>1</td>\n",
              "      <td>7198</td>\n",
              "      <td>16</td>\n",
              "      <td>2</td>\n",
              "      <td>0</td>\n",
              "      <td>0</td>\n",
              "      <td>3925</td>\n",
              "      <td>0</td>\n",
              "      <td>0</td>\n",
              "      <td>0BQ</td>\n",
              "      <td>21186</td>\n",
              "      <td>DCA</td>\n",
              "      <td>71033</td>\n",
              "      <td>I</td>\n",
              "      <td>0BQ</td>\n",
              "      <td>DCA</td>\n",
              "      <td>0</td>\n",
              "      <td>0</td>\n",
              "      <td>15022</td>\n",
              "      <td>1502203</td>\n",
              "      <td>35022</td>\n",
              "      <td>STR</td>\n",
              "      <td>Stuttgart, Germany</td>\n",
              "      <td>DE</td>\n",
              "      <td>Germany</td>\n",
              "      <td>429</td>\n",
              "      <td>15167</td>\n",
              "      <td>1516702</td>\n",
              "      <td>35167</td>\n",
              "      <td>TEB</td>\n",
              "      <td>Teterboro, NJ</td>\n",
              "      <td>US</td>\n",
              "      <td>United States</td>\n",
              "      <td>21</td>\n",
              "      <td>6</td>\n",
              "      <td>667</td>\n",
              "      <td>1</td>\n",
              "      <td>2020</td>\n",
              "      <td>1</td>\n",
              "      <td>1</td>\n",
              "      <td>8</td>\n",
              "      <td>L</td>\n",
              "      <td>NaN</td>\n",
              "    </tr>\n",
              "    <tr>\n",
              "      <th>3</th>\n",
              "      <td>0</td>\n",
              "      <td>1</td>\n",
              "      <td>7198</td>\n",
              "      <td>16</td>\n",
              "      <td>2</td>\n",
              "      <td>0</td>\n",
              "      <td>0</td>\n",
              "      <td>3925</td>\n",
              "      <td>0</td>\n",
              "      <td>0</td>\n",
              "      <td>0BQ</td>\n",
              "      <td>21186</td>\n",
              "      <td>DCA</td>\n",
              "      <td>71033</td>\n",
              "      <td>I</td>\n",
              "      <td>0BQ</td>\n",
              "      <td>DCA</td>\n",
              "      <td>0</td>\n",
              "      <td>0</td>\n",
              "      <td>15167</td>\n",
              "      <td>1516702</td>\n",
              "      <td>35167</td>\n",
              "      <td>TEB</td>\n",
              "      <td>Teterboro, NJ</td>\n",
              "      <td>US</td>\n",
              "      <td>United States</td>\n",
              "      <td>21</td>\n",
              "      <td>15022</td>\n",
              "      <td>1502203</td>\n",
              "      <td>35022</td>\n",
              "      <td>STR</td>\n",
              "      <td>Stuttgart, Germany</td>\n",
              "      <td>DE</td>\n",
              "      <td>Germany</td>\n",
              "      <td>429</td>\n",
              "      <td>6</td>\n",
              "      <td>667</td>\n",
              "      <td>1</td>\n",
              "      <td>2020</td>\n",
              "      <td>1</td>\n",
              "      <td>1</td>\n",
              "      <td>8</td>\n",
              "      <td>L</td>\n",
              "      <td>NaN</td>\n",
              "    </tr>\n",
              "    <tr>\n",
              "      <th>4</th>\n",
              "      <td>0</td>\n",
              "      <td>1</td>\n",
              "      <td>17079</td>\n",
              "      <td>92</td>\n",
              "      <td>0</td>\n",
              "      <td>0</td>\n",
              "      <td>0</td>\n",
              "      <td>3896</td>\n",
              "      <td>0</td>\n",
              "      <td>0</td>\n",
              "      <td>0QQ</td>\n",
              "      <td>21308</td>\n",
              "      <td>TAG Aviation (UK) Ltd.</td>\n",
              "      <td>71062</td>\n",
              "      <td>I</td>\n",
              "      <td>0QQ</td>\n",
              "      <td>TAG Aviation (UK) Ltd.</td>\n",
              "      <td>0</td>\n",
              "      <td>0</td>\n",
              "      <td>15018</td>\n",
              "      <td>1501806</td>\n",
              "      <td>30730</td>\n",
              "      <td>STN</td>\n",
              "      <td>London, United Kingdom</td>\n",
              "      <td>GB</td>\n",
              "      <td>United Kingdom</td>\n",
              "      <td>493</td>\n",
              "      <td>11337</td>\n",
              "      <td>1133705</td>\n",
              "      <td>31337</td>\n",
              "      <td>DLH</td>\n",
              "      <td>Duluth, MN</td>\n",
              "      <td>US</td>\n",
              "      <td>United States</td>\n",
              "      <td>63</td>\n",
              "      <td>6</td>\n",
              "      <td>622</td>\n",
              "      <td>1</td>\n",
              "      <td>2020</td>\n",
              "      <td>1</td>\n",
              "      <td>1</td>\n",
              "      <td>8</td>\n",
              "      <td>L</td>\n",
              "      <td>NaN</td>\n",
              "    </tr>\n",
              "  </tbody>\n",
              "</table>\n",
              "</div>"
            ],
            "text/plain": [
              "   DEPARTURES_SCHEDULED  DEPARTURES_PERFORMED  ...  CLASS  Unnamed: 43\n",
              "0                     0                     1  ...      L          NaN\n",
              "1                     0                     1  ...      L          NaN\n",
              "2                     0                     1  ...      L          NaN\n",
              "3                     0                     1  ...      L          NaN\n",
              "4                     0                     1  ...      L          NaN\n",
              "\n",
              "[5 rows x 44 columns]"
            ]
          },
          "metadata": {
            "tags": []
          },
          "execution_count": 9
        }
      ]
    },
    {
      "cell_type": "markdown",
      "metadata": {
        "id": "4rgppwJ29DFa"
      },
      "source": [
        "### The challenge"
      ]
    },
    {
      "cell_type": "markdown",
      "metadata": {
        "id": "Jmgb75wi9Ks4"
      },
      "source": [
        "Dataset de accidentes de Madrid"
      ]
    },
    {
      "cell_type": "code",
      "metadata": {
        "id": "pHJYRJBaBMJ8",
        "colab": {
          "base_uri": "https://localhost:8080/"
        },
        "outputId": "7d67a43d-dba1-436b-c09f-7fe3e9acfe05"
      },
      "source": [
        "!wget https://datos.madrid.es/egob/catalogo/207831-0-accidentes-trafico.xls -P {files_loc}"
      ],
      "execution_count": 3,
      "outputs": [
        {
          "output_type": "stream",
          "text": [
            "--2020-12-16 17:58:18--  https://datos.madrid.es/egob/catalogo/207831-0-accidentes-trafico.xls\n",
            "Resolving datos.madrid.es (datos.madrid.es)... 104.119.189.155, 104.119.189.153, 2600:1407:7800::6877:bd99, ...\n",
            "Connecting to datos.madrid.es (datos.madrid.es)|104.119.189.155|:443... connected.\n",
            "HTTP request sent, awaiting response... 302 Moved Temporarily\n",
            "Location: https://datos.madrid.es:443/egobfiles/MANUAL/207831/01_%20ACCIDENTES%20POR%20TIPO%20EN%20%20DISTRITOS.xls [following]\n",
            "--2020-12-16 17:58:19--  https://datos.madrid.es/egobfiles/MANUAL/207831/01_%20ACCIDENTES%20POR%20TIPO%20EN%20%20DISTRITOS.xls\n",
            "Reusing existing connection to datos.madrid.es:443.\n",
            "HTTP request sent, awaiting response... 200 OK\n",
            "Length: unspecified [application/vnd.ms-excel]\n",
            "Saving to: ‘/content/gdrive/MyDrive/pythondsfiles/207831-0-accidentes-trafico.xls.1’\n",
            "\n",
            "207831-0-accidentes     [ <=>                ]  60.50K  --.-KB/s    in 0.01s   \n",
            "\n",
            "2020-12-16 17:58:19 (4.41 MB/s) - ‘/content/gdrive/MyDrive/pythondsfiles/207831-0-accidentes-trafico.xls.1’ saved [61952]\n",
            "\n"
          ],
          "name": "stdout"
        }
      ]
    },
    {
      "cell_type": "code",
      "metadata": {
        "id": "w1K1lrONBMMg"
      },
      "source": [
        "contents = !ls {files_loc}/*accidentes*\r\n",
        "file_path = contents[1]"
      ],
      "execution_count": 30,
      "outputs": []
    },
    {
      "cell_type": "code",
      "metadata": {
        "colab": {
          "base_uri": "https://localhost:8080/",
          "height": 548
        },
        "id": "rrJB85WR9ThM",
        "outputId": "4eacc42f-4606-4af0-aca7-6b39c4dd4d47"
      },
      "source": [
        "df_accidentes = pd.read_excel(file_path)\r\n",
        "df_accidentes.head(15)"
      ],
      "execution_count": 31,
      "outputs": [
        {
          "output_type": "execute_result",
          "data": {
            "text/html": [
              "<div>\n",
              "<style scoped>\n",
              "    .dataframe tbody tr th:only-of-type {\n",
              "        vertical-align: middle;\n",
              "    }\n",
              "\n",
              "    .dataframe tbody tr th {\n",
              "        vertical-align: top;\n",
              "    }\n",
              "\n",
              "    .dataframe thead th {\n",
              "        text-align: right;\n",
              "    }\n",
              "</style>\n",
              "<table border=\"1\" class=\"dataframe\">\n",
              "  <thead>\n",
              "    <tr style=\"text-align: right;\">\n",
              "      <th></th>\n",
              "      <th>01. ACCIDENTES POR TIPO EN DISTRITOS</th>\n",
              "      <th>Unnamed: 1</th>\n",
              "      <th>Unnamed: 2</th>\n",
              "      <th>Unnamed: 3</th>\n",
              "      <th>Unnamed: 4</th>\n",
              "      <th>Unnamed: 5</th>\n",
              "      <th>Unnamed: 6</th>\n",
              "      <th>Unnamed: 7</th>\n",
              "      <th>Unnamed: 8</th>\n",
              "      <th>Unnamed: 9</th>\n",
              "      <th>Unnamed: 10</th>\n",
              "      <th>Unnamed: 11</th>\n",
              "      <th>Unnamed: 12</th>\n",
              "    </tr>\n",
              "  </thead>\n",
              "  <tbody>\n",
              "    <tr>\n",
              "      <th>0</th>\n",
              "      <td>NaN</td>\n",
              "      <td>NaN</td>\n",
              "      <td>NaN</td>\n",
              "      <td>NaN</td>\n",
              "      <td>NaN</td>\n",
              "      <td>NaN</td>\n",
              "      <td>NaN</td>\n",
              "      <td>NaN</td>\n",
              "      <td>NaN</td>\n",
              "      <td>NaN</td>\n",
              "      <td>NaN</td>\n",
              "      <td>NaN</td>\n",
              "      <td>NaN</td>\n",
              "    </tr>\n",
              "    <tr>\n",
              "      <th>1</th>\n",
              "      <td>NaN</td>\n",
              "      <td>NaN</td>\n",
              "      <td>NaN</td>\n",
              "      <td>NaN</td>\n",
              "      <td>NaN</td>\n",
              "      <td>NaN</td>\n",
              "      <td>NaN</td>\n",
              "      <td>NaN</td>\n",
              "      <td>NaN</td>\n",
              "      <td>NaN</td>\n",
              "      <td>NaN</td>\n",
              "      <td>NaN</td>\n",
              "      <td>NaN</td>\n",
              "    </tr>\n",
              "    <tr>\n",
              "      <th>2</th>\n",
              "      <td>NaN</td>\n",
              "      <td>NaN</td>\n",
              "      <td>NaN</td>\n",
              "      <td>NaN</td>\n",
              "      <td>NaN</td>\n",
              "      <td>NaN</td>\n",
              "      <td>NaN</td>\n",
              "      <td>NaN</td>\n",
              "      <td>NaN</td>\n",
              "      <td>NaN</td>\n",
              "      <td>NaN</td>\n",
              "      <td>NaN</td>\n",
              "      <td>NaN</td>\n",
              "    </tr>\n",
              "    <tr>\n",
              "      <th>3</th>\n",
              "      <td>NaN</td>\n",
              "      <td>NaN</td>\n",
              "      <td>NaN</td>\n",
              "      <td>NaN</td>\n",
              "      <td>NaN</td>\n",
              "      <td>NaN</td>\n",
              "      <td>NaN</td>\n",
              "      <td>NaN</td>\n",
              "      <td>NaN</td>\n",
              "      <td>NaN</td>\n",
              "      <td>NaN</td>\n",
              "      <td>NaN</td>\n",
              "      <td>NaN</td>\n",
              "    </tr>\n",
              "    <tr>\n",
              "      <th>4</th>\n",
              "      <td>Indicadores</td>\n",
              "      <td>Nº Accidentes</td>\n",
              "      <td>NaN</td>\n",
              "      <td>NaN</td>\n",
              "      <td>NaN</td>\n",
              "      <td>NaN</td>\n",
              "      <td>NaN</td>\n",
              "      <td>NaN</td>\n",
              "      <td>NaN</td>\n",
              "      <td>NaN</td>\n",
              "      <td>NaN</td>\n",
              "      <td>NaN</td>\n",
              "      <td>NaN</td>\n",
              "    </tr>\n",
              "    <tr>\n",
              "      <th>5</th>\n",
              "      <td>Año</td>\n",
              "      <td>2009</td>\n",
              "      <td>NaN</td>\n",
              "      <td>NaN</td>\n",
              "      <td>NaN</td>\n",
              "      <td>NaN</td>\n",
              "      <td>NaN</td>\n",
              "      <td>NaN</td>\n",
              "      <td>NaN</td>\n",
              "      <td>NaN</td>\n",
              "      <td>NaN</td>\n",
              "      <td>Total</td>\n",
              "      <td>NaN</td>\n",
              "    </tr>\n",
              "    <tr>\n",
              "      <th>6</th>\n",
              "      <td>DISTRITO_ACCIDENTE</td>\n",
              "      <td>COLISIÓN DOBLE</td>\n",
              "      <td>COLISIÓN MÚLTIPLE</td>\n",
              "      <td>CHOQUE CON OBJETO FIJO</td>\n",
              "      <td>ATROPELLO</td>\n",
              "      <td>VUELCO</td>\n",
              "      <td>CAÍDA MOTOCICLETA</td>\n",
              "      <td>CAÍDA CICLOMOTOR</td>\n",
              "      <td>CAÍDA BICICLETA</td>\n",
              "      <td>CAÍDA VIAJERO BUS</td>\n",
              "      <td>OTRAS CAUSAS</td>\n",
              "      <td>NaN</td>\n",
              "      <td>NaN</td>\n",
              "    </tr>\n",
              "    <tr>\n",
              "      <th>7</th>\n",
              "      <td>ARGANZUELA</td>\n",
              "      <td>389</td>\n",
              "      <td>54</td>\n",
              "      <td>126</td>\n",
              "      <td>75</td>\n",
              "      <td>9</td>\n",
              "      <td>43</td>\n",
              "      <td>9</td>\n",
              "      <td>4</td>\n",
              "      <td>5</td>\n",
              "      <td>8</td>\n",
              "      <td>722</td>\n",
              "      <td>NaN</td>\n",
              "    </tr>\n",
              "    <tr>\n",
              "      <th>8</th>\n",
              "      <td>BARAJAS</td>\n",
              "      <td>89</td>\n",
              "      <td>6</td>\n",
              "      <td>53</td>\n",
              "      <td>21</td>\n",
              "      <td>NaN</td>\n",
              "      <td>12</td>\n",
              "      <td>2</td>\n",
              "      <td>1</td>\n",
              "      <td>2</td>\n",
              "      <td>2</td>\n",
              "      <td>188</td>\n",
              "      <td>NaN</td>\n",
              "    </tr>\n",
              "    <tr>\n",
              "      <th>9</th>\n",
              "      <td>CARABANCHEL</td>\n",
              "      <td>375</td>\n",
              "      <td>44</td>\n",
              "      <td>171</td>\n",
              "      <td>137</td>\n",
              "      <td>8</td>\n",
              "      <td>36</td>\n",
              "      <td>13</td>\n",
              "      <td>6</td>\n",
              "      <td>9</td>\n",
              "      <td>8</td>\n",
              "      <td>807</td>\n",
              "      <td>NaN</td>\n",
              "    </tr>\n",
              "    <tr>\n",
              "      <th>10</th>\n",
              "      <td>CENTRO</td>\n",
              "      <td>514</td>\n",
              "      <td>55</td>\n",
              "      <td>171</td>\n",
              "      <td>143</td>\n",
              "      <td>NaN</td>\n",
              "      <td>61</td>\n",
              "      <td>12</td>\n",
              "      <td>3</td>\n",
              "      <td>10</td>\n",
              "      <td>12</td>\n",
              "      <td>981</td>\n",
              "      <td>NaN</td>\n",
              "    </tr>\n",
              "    <tr>\n",
              "      <th>11</th>\n",
              "      <td>CHAMARTIN</td>\n",
              "      <td>494</td>\n",
              "      <td>70</td>\n",
              "      <td>133</td>\n",
              "      <td>92</td>\n",
              "      <td>10</td>\n",
              "      <td>72</td>\n",
              "      <td>22</td>\n",
              "      <td>2</td>\n",
              "      <td>6</td>\n",
              "      <td>7</td>\n",
              "      <td>908</td>\n",
              "      <td>NaN</td>\n",
              "    </tr>\n",
              "    <tr>\n",
              "      <th>12</th>\n",
              "      <td>CHAMBERI</td>\n",
              "      <td>414</td>\n",
              "      <td>35</td>\n",
              "      <td>87</td>\n",
              "      <td>87</td>\n",
              "      <td>3</td>\n",
              "      <td>51</td>\n",
              "      <td>12</td>\n",
              "      <td>4</td>\n",
              "      <td>4</td>\n",
              "      <td>5</td>\n",
              "      <td>702</td>\n",
              "      <td>NaN</td>\n",
              "    </tr>\n",
              "    <tr>\n",
              "      <th>13</th>\n",
              "      <td>CIUDAD LINEAL</td>\n",
              "      <td>398</td>\n",
              "      <td>64</td>\n",
              "      <td>124</td>\n",
              "      <td>101</td>\n",
              "      <td>3</td>\n",
              "      <td>57</td>\n",
              "      <td>17</td>\n",
              "      <td>5</td>\n",
              "      <td>4</td>\n",
              "      <td>4</td>\n",
              "      <td>777</td>\n",
              "      <td>NaN</td>\n",
              "    </tr>\n",
              "    <tr>\n",
              "      <th>14</th>\n",
              "      <td>FUENCARRAL-EL PARDO</td>\n",
              "      <td>321</td>\n",
              "      <td>47</td>\n",
              "      <td>151</td>\n",
              "      <td>78</td>\n",
              "      <td>11</td>\n",
              "      <td>34</td>\n",
              "      <td>16</td>\n",
              "      <td>7</td>\n",
              "      <td>2</td>\n",
              "      <td>8</td>\n",
              "      <td>675</td>\n",
              "      <td>NaN</td>\n",
              "    </tr>\n",
              "  </tbody>\n",
              "</table>\n",
              "</div>"
            ],
            "text/plain": [
              "   01. ACCIDENTES POR TIPO EN DISTRITOS  ... Unnamed: 12\n",
              "0                                   NaN  ...         NaN\n",
              "1                                   NaN  ...         NaN\n",
              "2                                   NaN  ...         NaN\n",
              "3                                   NaN  ...         NaN\n",
              "4                           Indicadores  ...         NaN\n",
              "5                                   Año  ...         NaN\n",
              "6                    DISTRITO_ACCIDENTE  ...         NaN\n",
              "7        ARGANZUELA                      ...         NaN\n",
              "8        BARAJAS                         ...         NaN\n",
              "9        CARABANCHEL                     ...         NaN\n",
              "10       CENTRO                          ...         NaN\n",
              "11       CHAMARTIN                       ...         NaN\n",
              "12       CHAMBERI                        ...         NaN\n",
              "13       CIUDAD LINEAL                   ...         NaN\n",
              "14       FUENCARRAL-EL PARDO             ...         NaN\n",
              "\n",
              "[15 rows x 13 columns]"
            ]
          },
          "metadata": {
            "tags": []
          },
          "execution_count": 31
        }
      ]
    },
    {
      "cell_type": "code",
      "metadata": {
        "colab": {
          "base_uri": "https://localhost:8080/"
        },
        "id": "bIEGlo6v9TkE",
        "outputId": "254fd7a4-2ca9-4195-f947-9ebdbbce8ed3"
      },
      "source": [
        "df_accidentes.columns"
      ],
      "execution_count": 12,
      "outputs": [
        {
          "output_type": "execute_result",
          "data": {
            "text/plain": [
              "Index(['01. ACCIDENTES POR TIPO EN DISTRITOS', 'Unnamed: 1', 'Unnamed: 2',\n",
              "       'Unnamed: 3', 'Unnamed: 4', 'Unnamed: 5', 'Unnamed: 6', 'Unnamed: 7',\n",
              "       'Unnamed: 8', 'Unnamed: 9', 'Unnamed: 10', 'Unnamed: 11'],\n",
              "      dtype='object')"
            ]
          },
          "metadata": {
            "tags": []
          },
          "execution_count": 12
        }
      ]
    },
    {
      "cell_type": "code",
      "metadata": {
        "colab": {
          "base_uri": "https://localhost:8080/",
          "height": 252
        },
        "id": "0F95kU7t9Tmp",
        "outputId": "5178a55b-1718-4af1-a9ae-f16c0c52ab7a"
      },
      "source": [
        "# Cargar la hoja '2016', evitando las 7 primeras filas y seleccionando las columnas de la A a la L\r\n",
        "\r\n",
        "df_accidentes = pd.read_excel(file_path, sheet_name='2016', index_col=0, skiprows=7, skipfooter=1, usecols='A:L')\r\n",
        "\r\n",
        "df_accidentes.head()"
      ],
      "execution_count": 13,
      "outputs": [
        {
          "output_type": "execute_result",
          "data": {
            "text/html": [
              "<div>\n",
              "<style scoped>\n",
              "    .dataframe tbody tr th:only-of-type {\n",
              "        vertical-align: middle;\n",
              "    }\n",
              "\n",
              "    .dataframe tbody tr th {\n",
              "        vertical-align: top;\n",
              "    }\n",
              "\n",
              "    .dataframe thead th {\n",
              "        text-align: right;\n",
              "    }\n",
              "</style>\n",
              "<table border=\"1\" class=\"dataframe\">\n",
              "  <thead>\n",
              "    <tr style=\"text-align: right;\">\n",
              "      <th></th>\n",
              "      <th>COLISIÓN DOBLE</th>\n",
              "      <th>COLISIÓN MÚLTIPLE</th>\n",
              "      <th>CHOQUE CON OBJETO FIJO</th>\n",
              "      <th>ATROPELLO</th>\n",
              "      <th>VUELCO</th>\n",
              "      <th>CAÍDA MOTOCICLETA</th>\n",
              "      <th>CAÍDA CICLOMOTOR</th>\n",
              "      <th>CAÍDA BICICLETA</th>\n",
              "      <th>CAÍDA VIAJERO BUS</th>\n",
              "      <th>OTRAS CAUSAS</th>\n",
              "      <th>CAÍDA VEHÍCULO 3 RUEDAS</th>\n",
              "    </tr>\n",
              "    <tr>\n",
              "      <th>DISTRITO_ACCIDENTE</th>\n",
              "      <th></th>\n",
              "      <th></th>\n",
              "      <th></th>\n",
              "      <th></th>\n",
              "      <th></th>\n",
              "      <th></th>\n",
              "      <th></th>\n",
              "      <th></th>\n",
              "      <th></th>\n",
              "      <th></th>\n",
              "      <th></th>\n",
              "    </tr>\n",
              "  </thead>\n",
              "  <tbody>\n",
              "    <tr>\n",
              "      <th>ARGANZUELA</th>\n",
              "      <td>328</td>\n",
              "      <td>62</td>\n",
              "      <td>86</td>\n",
              "      <td>57</td>\n",
              "      <td>1.0</td>\n",
              "      <td>46</td>\n",
              "      <td>12</td>\n",
              "      <td>10</td>\n",
              "      <td>6</td>\n",
              "      <td>2.0</td>\n",
              "      <td>NaN</td>\n",
              "    </tr>\n",
              "    <tr>\n",
              "      <th>BARAJAS</th>\n",
              "      <td>95</td>\n",
              "      <td>6</td>\n",
              "      <td>50</td>\n",
              "      <td>34</td>\n",
              "      <td>4.0</td>\n",
              "      <td>12</td>\n",
              "      <td>2</td>\n",
              "      <td>4</td>\n",
              "      <td>2</td>\n",
              "      <td>4.0</td>\n",
              "      <td>NaN</td>\n",
              "    </tr>\n",
              "    <tr>\n",
              "      <th>CARABANCHEL</th>\n",
              "      <td>346</td>\n",
              "      <td>55</td>\n",
              "      <td>121</td>\n",
              "      <td>106</td>\n",
              "      <td>5.0</td>\n",
              "      <td>53</td>\n",
              "      <td>18</td>\n",
              "      <td>7</td>\n",
              "      <td>8</td>\n",
              "      <td>6.0</td>\n",
              "      <td>NaN</td>\n",
              "    </tr>\n",
              "    <tr>\n",
              "      <th>CENTRO</th>\n",
              "      <td>444</td>\n",
              "      <td>23</td>\n",
              "      <td>172</td>\n",
              "      <td>144</td>\n",
              "      <td>NaN</td>\n",
              "      <td>97</td>\n",
              "      <td>11</td>\n",
              "      <td>33</td>\n",
              "      <td>5</td>\n",
              "      <td>3.0</td>\n",
              "      <td>NaN</td>\n",
              "    </tr>\n",
              "    <tr>\n",
              "      <th>CHAMARTIN</th>\n",
              "      <td>499</td>\n",
              "      <td>59</td>\n",
              "      <td>122</td>\n",
              "      <td>80</td>\n",
              "      <td>5.0</td>\n",
              "      <td>105</td>\n",
              "      <td>14</td>\n",
              "      <td>8</td>\n",
              "      <td>5</td>\n",
              "      <td>7.0</td>\n",
              "      <td>NaN</td>\n",
              "    </tr>\n",
              "  </tbody>\n",
              "</table>\n",
              "</div>"
            ],
            "text/plain": [
              "                                COLISIÓN DOBLE                            ...  CAÍDA VEHÍCULO 3 RUEDAS                 \n",
              "DISTRITO_ACCIDENTE                                                        ...                                          \n",
              "ARGANZUELA                                                           328  ...                                       NaN\n",
              "BARAJAS                                                               95  ...                                       NaN\n",
              "CARABANCHEL                                                          346  ...                                       NaN\n",
              "CENTRO                                                               444  ...                                       NaN\n",
              "CHAMARTIN                                                            499  ...                                       NaN\n",
              "\n",
              "[5 rows x 11 columns]"
            ]
          },
          "metadata": {
            "tags": []
          },
          "execution_count": 13
        }
      ]
    },
    {
      "cell_type": "code",
      "metadata": {
        "colab": {
          "base_uri": "https://localhost:8080/",
          "height": 731
        },
        "id": "vkD6uJ089Tpz",
        "outputId": "e6f399c8-31b2-4d36-e694-2c3257d15c64"
      },
      "source": [
        "# Datos de 2010\r\n",
        "\r\n",
        "accidentes_2010 = pd.read_excel(file_path, \r\n",
        "                                index_col=0, \r\n",
        "                                header=7, \r\n",
        "                                sheet_name='2010', \r\n",
        "                                skipfooter=1,\r\n",
        "                                usecols='A:K')\r\n",
        "accidentes_2010"
      ],
      "execution_count": 14,
      "outputs": [
        {
          "output_type": "execute_result",
          "data": {
            "text/html": [
              "<div>\n",
              "<style scoped>\n",
              "    .dataframe tbody tr th:only-of-type {\n",
              "        vertical-align: middle;\n",
              "    }\n",
              "\n",
              "    .dataframe tbody tr th {\n",
              "        vertical-align: top;\n",
              "    }\n",
              "\n",
              "    .dataframe thead th {\n",
              "        text-align: right;\n",
              "    }\n",
              "</style>\n",
              "<table border=\"1\" class=\"dataframe\">\n",
              "  <thead>\n",
              "    <tr style=\"text-align: right;\">\n",
              "      <th></th>\n",
              "      <th>COLISIÓN DOBLE</th>\n",
              "      <th>COLISIÓN MÚLTIPLE</th>\n",
              "      <th>CHOQUE CON OBJETO FIJO</th>\n",
              "      <th>ATROPELLO</th>\n",
              "      <th>VUELCO</th>\n",
              "      <th>CAÍDA MOTOCICLETA</th>\n",
              "      <th>CAÍDA CICLOMOTOR</th>\n",
              "      <th>CAÍDA BICICLETA</th>\n",
              "      <th>CAÍDA VIAJERO BUS</th>\n",
              "      <th>OTRAS CAUSAS</th>\n",
              "    </tr>\n",
              "    <tr>\n",
              "      <th>DISTRITO_ACCIDENTE</th>\n",
              "      <th></th>\n",
              "      <th></th>\n",
              "      <th></th>\n",
              "      <th></th>\n",
              "      <th></th>\n",
              "      <th></th>\n",
              "      <th></th>\n",
              "      <th></th>\n",
              "      <th></th>\n",
              "      <th></th>\n",
              "    </tr>\n",
              "  </thead>\n",
              "  <tbody>\n",
              "    <tr>\n",
              "      <th>ARGANZUELA</th>\n",
              "      <td>403</td>\n",
              "      <td>48</td>\n",
              "      <td>103</td>\n",
              "      <td>75</td>\n",
              "      <td>7</td>\n",
              "      <td>26</td>\n",
              "      <td>15.0</td>\n",
              "      <td>2.0</td>\n",
              "      <td>5.0</td>\n",
              "      <td>6.0</td>\n",
              "    </tr>\n",
              "    <tr>\n",
              "      <th>BARAJAS</th>\n",
              "      <td>62</td>\n",
              "      <td>5</td>\n",
              "      <td>34</td>\n",
              "      <td>22</td>\n",
              "      <td>1</td>\n",
              "      <td>11</td>\n",
              "      <td>NaN</td>\n",
              "      <td>NaN</td>\n",
              "      <td>NaN</td>\n",
              "      <td>NaN</td>\n",
              "    </tr>\n",
              "    <tr>\n",
              "      <th>CARABANCHEL</th>\n",
              "      <td>357</td>\n",
              "      <td>35</td>\n",
              "      <td>133</td>\n",
              "      <td>114</td>\n",
              "      <td>7</td>\n",
              "      <td>22</td>\n",
              "      <td>14.0</td>\n",
              "      <td>6.0</td>\n",
              "      <td>7.0</td>\n",
              "      <td>1.0</td>\n",
              "    </tr>\n",
              "    <tr>\n",
              "      <th>CENTRO</th>\n",
              "      <td>546</td>\n",
              "      <td>43</td>\n",
              "      <td>142</td>\n",
              "      <td>169</td>\n",
              "      <td>2</td>\n",
              "      <td>60</td>\n",
              "      <td>14.0</td>\n",
              "      <td>9.0</td>\n",
              "      <td>13.0</td>\n",
              "      <td>9.0</td>\n",
              "    </tr>\n",
              "    <tr>\n",
              "      <th>CHAMARTIN</th>\n",
              "      <td>460</td>\n",
              "      <td>67</td>\n",
              "      <td>128</td>\n",
              "      <td>85</td>\n",
              "      <td>11</td>\n",
              "      <td>77</td>\n",
              "      <td>16.0</td>\n",
              "      <td>1.0</td>\n",
              "      <td>8.0</td>\n",
              "      <td>5.0</td>\n",
              "    </tr>\n",
              "    <tr>\n",
              "      <th>CHAMBERI</th>\n",
              "      <td>361</td>\n",
              "      <td>34</td>\n",
              "      <td>86</td>\n",
              "      <td>103</td>\n",
              "      <td>1</td>\n",
              "      <td>66</td>\n",
              "      <td>14.0</td>\n",
              "      <td>5.0</td>\n",
              "      <td>2.0</td>\n",
              "      <td>4.0</td>\n",
              "    </tr>\n",
              "    <tr>\n",
              "      <th>CIUDAD LINEAL</th>\n",
              "      <td>404</td>\n",
              "      <td>79</td>\n",
              "      <td>120</td>\n",
              "      <td>90</td>\n",
              "      <td>8</td>\n",
              "      <td>39</td>\n",
              "      <td>12.0</td>\n",
              "      <td>6.0</td>\n",
              "      <td>7.0</td>\n",
              "      <td>2.0</td>\n",
              "    </tr>\n",
              "    <tr>\n",
              "      <th>FUENCARRAL-EL PARDO</th>\n",
              "      <td>294</td>\n",
              "      <td>49</td>\n",
              "      <td>165</td>\n",
              "      <td>72</td>\n",
              "      <td>10</td>\n",
              "      <td>26</td>\n",
              "      <td>9.0</td>\n",
              "      <td>6.0</td>\n",
              "      <td>3.0</td>\n",
              "      <td>2.0</td>\n",
              "    </tr>\n",
              "    <tr>\n",
              "      <th>HORTALEZA</th>\n",
              "      <td>183</td>\n",
              "      <td>15</td>\n",
              "      <td>68</td>\n",
              "      <td>44</td>\n",
              "      <td>4</td>\n",
              "      <td>11</td>\n",
              "      <td>8.0</td>\n",
              "      <td>4.0</td>\n",
              "      <td>3.0</td>\n",
              "      <td>3.0</td>\n",
              "    </tr>\n",
              "    <tr>\n",
              "      <th>LATINA</th>\n",
              "      <td>273</td>\n",
              "      <td>37</td>\n",
              "      <td>93</td>\n",
              "      <td>94</td>\n",
              "      <td>6</td>\n",
              "      <td>24</td>\n",
              "      <td>4.0</td>\n",
              "      <td>7.0</td>\n",
              "      <td>10.0</td>\n",
              "      <td>4.0</td>\n",
              "    </tr>\n",
              "    <tr>\n",
              "      <th>MONCLOA-ARAVACA</th>\n",
              "      <td>350</td>\n",
              "      <td>47</td>\n",
              "      <td>177</td>\n",
              "      <td>75</td>\n",
              "      <td>10</td>\n",
              "      <td>45</td>\n",
              "      <td>9.0</td>\n",
              "      <td>6.0</td>\n",
              "      <td>9.0</td>\n",
              "      <td>11.0</td>\n",
              "    </tr>\n",
              "    <tr>\n",
              "      <th>MORATALAZ</th>\n",
              "      <td>127</td>\n",
              "      <td>21</td>\n",
              "      <td>58</td>\n",
              "      <td>33</td>\n",
              "      <td>6</td>\n",
              "      <td>13</td>\n",
              "      <td>5.0</td>\n",
              "      <td>2.0</td>\n",
              "      <td>2.0</td>\n",
              "      <td>1.0</td>\n",
              "    </tr>\n",
              "    <tr>\n",
              "      <th>PUENTE DE VALLECAS</th>\n",
              "      <td>324</td>\n",
              "      <td>44</td>\n",
              "      <td>157</td>\n",
              "      <td>107</td>\n",
              "      <td>7</td>\n",
              "      <td>20</td>\n",
              "      <td>9.0</td>\n",
              "      <td>3.0</td>\n",
              "      <td>8.0</td>\n",
              "      <td>7.0</td>\n",
              "    </tr>\n",
              "    <tr>\n",
              "      <th>RETIRO</th>\n",
              "      <td>349</td>\n",
              "      <td>55</td>\n",
              "      <td>33</td>\n",
              "      <td>57</td>\n",
              "      <td>2</td>\n",
              "      <td>45</td>\n",
              "      <td>12.0</td>\n",
              "      <td>7.0</td>\n",
              "      <td>7.0</td>\n",
              "      <td>5.0</td>\n",
              "    </tr>\n",
              "    <tr>\n",
              "      <th>SALAMANCA</th>\n",
              "      <td>506</td>\n",
              "      <td>44</td>\n",
              "      <td>131</td>\n",
              "      <td>89</td>\n",
              "      <td>6</td>\n",
              "      <td>89</td>\n",
              "      <td>19.0</td>\n",
              "      <td>1.0</td>\n",
              "      <td>9.0</td>\n",
              "      <td>6.0</td>\n",
              "    </tr>\n",
              "    <tr>\n",
              "      <th>SAN BLAS</th>\n",
              "      <td>274</td>\n",
              "      <td>27</td>\n",
              "      <td>62</td>\n",
              "      <td>66</td>\n",
              "      <td>2</td>\n",
              "      <td>22</td>\n",
              "      <td>6.0</td>\n",
              "      <td>2.0</td>\n",
              "      <td>5.0</td>\n",
              "      <td>2.0</td>\n",
              "    </tr>\n",
              "    <tr>\n",
              "      <th>TETUAN</th>\n",
              "      <td>331</td>\n",
              "      <td>25</td>\n",
              "      <td>87</td>\n",
              "      <td>89</td>\n",
              "      <td>3</td>\n",
              "      <td>47</td>\n",
              "      <td>13.0</td>\n",
              "      <td>6.0</td>\n",
              "      <td>4.0</td>\n",
              "      <td>3.0</td>\n",
              "    </tr>\n",
              "    <tr>\n",
              "      <th>USERA</th>\n",
              "      <td>178</td>\n",
              "      <td>36</td>\n",
              "      <td>78</td>\n",
              "      <td>78</td>\n",
              "      <td>4</td>\n",
              "      <td>14</td>\n",
              "      <td>2.0</td>\n",
              "      <td>4.0</td>\n",
              "      <td>NaN</td>\n",
              "      <td>4.0</td>\n",
              "    </tr>\n",
              "    <tr>\n",
              "      <th>VICALVARO</th>\n",
              "      <td>65</td>\n",
              "      <td>4</td>\n",
              "      <td>60</td>\n",
              "      <td>22</td>\n",
              "      <td>3</td>\n",
              "      <td>16</td>\n",
              "      <td>NaN</td>\n",
              "      <td>1.0</td>\n",
              "      <td>1.0</td>\n",
              "      <td>5.0</td>\n",
              "    </tr>\n",
              "    <tr>\n",
              "      <th>VILLA DE VALLECAS</th>\n",
              "      <td>124</td>\n",
              "      <td>9</td>\n",
              "      <td>63</td>\n",
              "      <td>32</td>\n",
              "      <td>8</td>\n",
              "      <td>9</td>\n",
              "      <td>3.0</td>\n",
              "      <td>1.0</td>\n",
              "      <td>NaN</td>\n",
              "      <td>3.0</td>\n",
              "    </tr>\n",
              "    <tr>\n",
              "      <th>VILLAVERDE</th>\n",
              "      <td>147</td>\n",
              "      <td>21</td>\n",
              "      <td>58</td>\n",
              "      <td>54</td>\n",
              "      <td>2</td>\n",
              "      <td>9</td>\n",
              "      <td>4.0</td>\n",
              "      <td>2.0</td>\n",
              "      <td>2.0</td>\n",
              "      <td>1.0</td>\n",
              "    </tr>\n",
              "  </tbody>\n",
              "</table>\n",
              "</div>"
            ],
            "text/plain": [
              "                                COLISIÓN DOBLE                            ...  OTRAS CAUSAS                            \n",
              "DISTRITO_ACCIDENTE                                                        ...                                          \n",
              "ARGANZUELA                                                           403  ...                                       6.0\n",
              "BARAJAS                                                               62  ...                                       NaN\n",
              "CARABANCHEL                                                          357  ...                                       1.0\n",
              "CENTRO                                                               546  ...                                       9.0\n",
              "CHAMARTIN                                                            460  ...                                       5.0\n",
              "CHAMBERI                                                             361  ...                                       4.0\n",
              "CIUDAD LINEAL                                                        404  ...                                       2.0\n",
              "FUENCARRAL-EL PARDO                                                  294  ...                                       2.0\n",
              "HORTALEZA                                                            183  ...                                       3.0\n",
              "LATINA                                                               273  ...                                       4.0\n",
              "MONCLOA-ARAVACA                                                      350  ...                                      11.0\n",
              "MORATALAZ                                                            127  ...                                       1.0\n",
              "PUENTE DE VALLECAS                                                   324  ...                                       7.0\n",
              "RETIRO                                                               349  ...                                       5.0\n",
              "SALAMANCA                                                            506  ...                                       6.0\n",
              "SAN BLAS                                                             274  ...                                       2.0\n",
              "TETUAN                                                               331  ...                                       3.0\n",
              "USERA                                                                178  ...                                       4.0\n",
              "VICALVARO                                                             65  ...                                       5.0\n",
              "VILLA DE VALLECAS                                                    124  ...                                       3.0\n",
              "VILLAVERDE                                                           147  ...                                       1.0\n",
              "\n",
              "[21 rows x 10 columns]"
            ]
          },
          "metadata": {
            "tags": []
          },
          "execution_count": 14
        }
      ]
    },
    {
      "cell_type": "code",
      "metadata": {
        "colab": {
          "base_uri": "https://localhost:8080/",
          "height": 252
        },
        "id": "ABYE66Um9Tsw",
        "outputId": "4e12c1d0-2749-416a-f19d-069fcb25ae5c"
      },
      "source": [
        "# Con sheet_name=None cargamos todo el libro y seleccionamos así cada hoja \r\n",
        "\r\n",
        "all_accidents = pd.read_excel(file_path, index_col=0, header=7, sheet_name=None)\r\n",
        "all_accidents['2010'].head()"
      ],
      "execution_count": 15,
      "outputs": [
        {
          "output_type": "execute_result",
          "data": {
            "text/html": [
              "<div>\n",
              "<style scoped>\n",
              "    .dataframe tbody tr th:only-of-type {\n",
              "        vertical-align: middle;\n",
              "    }\n",
              "\n",
              "    .dataframe tbody tr th {\n",
              "        vertical-align: top;\n",
              "    }\n",
              "\n",
              "    .dataframe thead th {\n",
              "        text-align: right;\n",
              "    }\n",
              "</style>\n",
              "<table border=\"1\" class=\"dataframe\">\n",
              "  <thead>\n",
              "    <tr style=\"text-align: right;\">\n",
              "      <th></th>\n",
              "      <th>COLISIÓN DOBLE</th>\n",
              "      <th>COLISIÓN MÚLTIPLE</th>\n",
              "      <th>CHOQUE CON OBJETO FIJO</th>\n",
              "      <th>ATROPELLO</th>\n",
              "      <th>VUELCO</th>\n",
              "      <th>CAÍDA MOTOCICLETA</th>\n",
              "      <th>CAÍDA CICLOMOTOR</th>\n",
              "      <th>CAÍDA BICICLETA</th>\n",
              "      <th>CAÍDA VIAJERO BUS</th>\n",
              "      <th>OTRAS CAUSAS</th>\n",
              "      <th>Unnamed: 11</th>\n",
              "    </tr>\n",
              "    <tr>\n",
              "      <th>DISTRITO_ACCIDENTE</th>\n",
              "      <th></th>\n",
              "      <th></th>\n",
              "      <th></th>\n",
              "      <th></th>\n",
              "      <th></th>\n",
              "      <th></th>\n",
              "      <th></th>\n",
              "      <th></th>\n",
              "      <th></th>\n",
              "      <th></th>\n",
              "      <th></th>\n",
              "    </tr>\n",
              "  </thead>\n",
              "  <tbody>\n",
              "    <tr>\n",
              "      <th>ARGANZUELA</th>\n",
              "      <td>403</td>\n",
              "      <td>48</td>\n",
              "      <td>103</td>\n",
              "      <td>75</td>\n",
              "      <td>7</td>\n",
              "      <td>26</td>\n",
              "      <td>15.0</td>\n",
              "      <td>2.0</td>\n",
              "      <td>5.0</td>\n",
              "      <td>6.0</td>\n",
              "      <td>690</td>\n",
              "    </tr>\n",
              "    <tr>\n",
              "      <th>BARAJAS</th>\n",
              "      <td>62</td>\n",
              "      <td>5</td>\n",
              "      <td>34</td>\n",
              "      <td>22</td>\n",
              "      <td>1</td>\n",
              "      <td>11</td>\n",
              "      <td>NaN</td>\n",
              "      <td>NaN</td>\n",
              "      <td>NaN</td>\n",
              "      <td>NaN</td>\n",
              "      <td>135</td>\n",
              "    </tr>\n",
              "    <tr>\n",
              "      <th>CARABANCHEL</th>\n",
              "      <td>357</td>\n",
              "      <td>35</td>\n",
              "      <td>133</td>\n",
              "      <td>114</td>\n",
              "      <td>7</td>\n",
              "      <td>22</td>\n",
              "      <td>14.0</td>\n",
              "      <td>6.0</td>\n",
              "      <td>7.0</td>\n",
              "      <td>1.0</td>\n",
              "      <td>696</td>\n",
              "    </tr>\n",
              "    <tr>\n",
              "      <th>CENTRO</th>\n",
              "      <td>546</td>\n",
              "      <td>43</td>\n",
              "      <td>142</td>\n",
              "      <td>169</td>\n",
              "      <td>2</td>\n",
              "      <td>60</td>\n",
              "      <td>14.0</td>\n",
              "      <td>9.0</td>\n",
              "      <td>13.0</td>\n",
              "      <td>9.0</td>\n",
              "      <td>1007</td>\n",
              "    </tr>\n",
              "    <tr>\n",
              "      <th>CHAMARTIN</th>\n",
              "      <td>460</td>\n",
              "      <td>67</td>\n",
              "      <td>128</td>\n",
              "      <td>85</td>\n",
              "      <td>11</td>\n",
              "      <td>77</td>\n",
              "      <td>16.0</td>\n",
              "      <td>1.0</td>\n",
              "      <td>8.0</td>\n",
              "      <td>5.0</td>\n",
              "      <td>858</td>\n",
              "    </tr>\n",
              "  </tbody>\n",
              "</table>\n",
              "</div>"
            ],
            "text/plain": [
              "                                COLISIÓN DOBLE                            ...  Unnamed: 11\n",
              "DISTRITO_ACCIDENTE                                                        ...             \n",
              "ARGANZUELA                                                           403  ...          690\n",
              "BARAJAS                                                               62  ...          135\n",
              "CARABANCHEL                                                          357  ...          696\n",
              "CENTRO                                                               546  ...         1007\n",
              "CHAMARTIN                                                            460  ...          858\n",
              "\n",
              "[5 rows x 11 columns]"
            ]
          },
          "metadata": {
            "tags": []
          },
          "execution_count": 15
        }
      ]
    },
    {
      "cell_type": "code",
      "metadata": {
        "colab": {
          "base_uri": "https://localhost:8080/"
        },
        "id": "vOw9LPYl_xNg",
        "outputId": "6b7a43dd-f42a-45d0-c23a-67b3269d0bef"
      },
      "source": [
        "# Iterar sobre todos los elementos\r\n",
        "\r\n",
        "for k, v in all_accidents.items():\r\n",
        "    print(v)"
      ],
      "execution_count": 16,
      "outputs": [
        {
          "output_type": "stream",
          "text": [
            "                                COLISIÓN DOBLE                            ...  Unnamed: 11\n",
            "DISTRITO_ACCIDENTE                                                        ...             \n",
            "ARGANZUELA                                                           389  ...          722\n",
            "BARAJAS                                                               89  ...          188\n",
            "CARABANCHEL                                                          375  ...          807\n",
            "CENTRO                                                               514  ...          981\n",
            "CHAMARTIN                                                            494  ...          908\n",
            "CHAMBERI                                                             414  ...          702\n",
            "CIUDAD LINEAL                                                        398  ...          777\n",
            "FUENCARRAL-EL PARDO                                                  321  ...          675\n",
            "HORTALEZA                                                            215  ...          458\n",
            "LATINA                                                               298  ...          620\n",
            "MONCLOA-ARAVACA                                                      340  ...          766\n",
            "MORATALAZ                                                            151  ...          311\n",
            "PUENTE DE VALLECAS                                                   367  ...          801\n",
            "RETIRO                                                               369  ...          635\n",
            "SALAMANCA                                                            535  ...          965\n",
            "SAN BLAS                                                             301  ...          527\n",
            "TETUAN                                                               338  ...          655\n",
            "USERA                                                                214  ...          411\n",
            "VICALVARO                                                             86  ...          172\n",
            "VILLA DE VALLECAS                                                    142  ...          272\n",
            "VILLAVERDE                                                           148  ...          307\n",
            "Total                                                               6498  ...        12660\n",
            "\n",
            "[22 rows x 11 columns]\n",
            "                                COLISIÓN DOBLE                            ...  Unnamed: 11\n",
            "DISTRITO_ACCIDENTE                                                        ...             \n",
            "ARGANZUELA                                                           403  ...          690\n",
            "BARAJAS                                                               62  ...          135\n",
            "CARABANCHEL                                                          357  ...          696\n",
            "CENTRO                                                               546  ...         1007\n",
            "CHAMARTIN                                                            460  ...          858\n",
            "CHAMBERI                                                             361  ...          676\n",
            "CIUDAD LINEAL                                                        404  ...          767\n",
            "FUENCARRAL-EL PARDO                                                  294  ...          636\n",
            "HORTALEZA                                                            183  ...          343\n",
            "LATINA                                                               273  ...          552\n",
            "MONCLOA-ARAVACA                                                      350  ...          739\n",
            "MORATALAZ                                                            127  ...          268\n",
            "PUENTE DE VALLECAS                                                   324  ...          686\n",
            "RETIRO                                                               349  ...          572\n",
            "SALAMANCA                                                            506  ...          900\n",
            "SAN BLAS                                                             274  ...          468\n",
            "TETUAN                                                               331  ...          608\n",
            "USERA                                                                178  ...          398\n",
            "VICALVARO                                                             65  ...          177\n",
            "VILLA DE VALLECAS                                                    124  ...          252\n",
            "VILLAVERDE                                                           147  ...          300\n",
            "Total                                                               6118  ...        11728\n",
            "\n",
            "[22 rows x 11 columns]\n",
            "                                COLISIÓN DOBLE                            ...  Unnamed: 11\n",
            "DISTRITO_ACCIDENTE                                                        ...             \n",
            "ARGANZUELA                                                           373  ...          654\n",
            "BARAJAS                                                               78  ...          171\n",
            "CARABANCHEL                                                          381  ...          726\n",
            "CENTRO                                                               528  ...         1007\n",
            "CHAMARTIN                                                            514  ...          888\n",
            "CHAMBERI                                                             414  ...          712\n",
            "CIUDAD LINEAL                                                        371  ...          787\n",
            "FUENCARRAL-EL PARDO                                                  312  ...          643\n",
            "HORTALEZA                                                            189  ...          391\n",
            "LATINA                                                               285  ...          567\n",
            "MONCLOA-ARAVACA                                                      290  ...          683\n",
            "MORATALAZ                                                            137  ...          269\n",
            "PUENTE DE VALLECAS                                                   344  ...          752\n",
            "RETIRO                                                               367  ...          658\n",
            "SALAMANCA                                                            528  ...          940\n",
            "SAN BLAS                                                             285  ...          505\n",
            "TETUAN                                                               321  ...          589\n",
            "USERA                                                                179  ...          369\n",
            "VICALVARO                                                             73  ...          167\n",
            "VILLA DE VALLECAS                                                    129  ...          237\n",
            "VILLAVERDE                                                           140  ...          288\n",
            "Total                                                               6238  ...        12003\n",
            "\n",
            "[22 rows x 11 columns]\n",
            "                                COLISIÓN DOBLE                            ...  Unnamed: 11\n",
            "DISTRITO_ACCIDENTE                                                        ...             \n",
            "ARGANZUELA                                                           376  ...          631\n",
            "BARAJAS                                                               82  ...          159\n",
            "CARABANCHEL                                                          350  ...          718\n",
            "CENTRO                                                               491  ...          917\n",
            "CHAMARTIN                                                            464  ...          841\n",
            "CHAMBERI                                                             418  ...          711\n",
            "CIUDAD LINEAL                                                        391  ...          711\n",
            "FUENCARRAL-EL PARDO                                                  317  ...          670\n",
            "HORTALEZA                                                            170  ...          367\n",
            "LATINA                                                               248  ...          548\n",
            "MONCLOA-ARAVACA                                                      292  ...          678\n",
            "MORATALAZ                                                            134  ...          286\n",
            "PUENTE DE VALLECAS                                                   340  ...          713\n",
            "RETIRO                                                               370  ...          626\n",
            "SALAMANCA                                                            633  ...         1033\n",
            "SAN BLAS                                                             265  ...          494\n",
            "TETUAN                                                               324  ...          577\n",
            "USERA                                                                182  ...          378\n",
            "VICALVARO                                                             64  ...          157\n",
            "VILLA DE VALLECAS                                                    119  ...          238\n",
            "VILLAVERDE                                                           140  ...          293\n",
            "Total                                                               6170  ...        11746\n",
            "\n",
            "[22 rows x 11 columns]\n",
            "                                 366   40   143    98  ...   12     5   3.1    709\n",
            "CARABANCHEL                                            ...                        \n",
            "CENTRO                           482   33   159   138  ...   12  10.0   2.0    926\n",
            "CHAMARTIN                        451   82   121    86  ...    2   5.0   4.0    844\n",
            "CHAMBERI                         414   30    67    91  ...    7   4.0   5.0    715\n",
            "CIUDAD LINEAL                    396   52   128    75  ...    6   4.0   4.0    750\n",
            "FUENCARRAL-EL PARDO              335   42   159    72  ...   13   2.0   4.0    682\n",
            "HORTALEZA                        171   18    77    51  ...   10   1.0   2.0    374\n",
            "LATINA                           248   29   110    95  ...    4   5.0   7.0    530\n",
            "MONCLOA-ARAVACA                  300   65   168    59  ...   13   9.0   4.0    702\n",
            "MORATALAZ                        132   14    39    53  ...    5   1.0   3.0    282\n",
            "PUENTE DE VALLECAS               334   37   125    94  ...    8   4.0   1.0    651\n",
            "RETIRO                           364   59    50    50  ...   11   2.0   3.0    593\n",
            "SALAMANCA                        570   70   133    89  ...    8   6.0   5.0    982\n",
            "SAN BLAS                         286   16    84    72  ...   13   2.0   1.0    518\n",
            "TETUAN                           314   35    69    84  ...    3   4.0   2.0    594\n",
            "USERA                            204   28    70    59  ...    1   3.0   2.0    387\n",
            "VICALVARO                         73    4    47    25  ...    2   NaN   3.0    172\n",
            "VILLA DE VALLECAS                124    4    59    40  ...    1   1.0   2.0    250\n",
            "VILLAVERDE                       163   11    58    64  ...    1   NaN   NaN    307\n",
            "Total                           6157  723  1975  1486  ...  140  76.0  61.0  11749\n",
            "\n",
            "[19 rows x 11 columns]\n",
            "                                COLISIÓN DOBLE                            ...  Unnamed: 11\n",
            "DISTRITO_ACCIDENTE                                                        ...             \n",
            "ARGANZUELA                                                           335  ...          616\n",
            "BARAJAS                                                               76  ...          146\n",
            "CARABANCHEL                                                          351  ...          714\n",
            "CENTRO                                                               458  ...          939\n",
            "CHAMARTIN                                                            455  ...          838\n",
            "CHAMBERI                                                             399  ...          697\n",
            "CIUDAD LINEAL                                                        380  ...          757\n",
            "FUENCARRAL-EL PARDO                                                  295  ...          644\n",
            "HORTALEZA                                                            188  ...          410\n",
            "LATINA                                                               257  ...          583\n",
            "MONCLOA-ARAVACA                                                      304  ...          677\n",
            "MORATALAZ                                                            130  ...          291\n",
            "PUENTE DE VALLECAS                                                   351  ...          706\n",
            "RETIRO                                                               350  ...          621\n",
            "SALAMANCA                                                            547  ...          981\n",
            "SAN BLAS                                                             298  ...          543\n",
            "TETUAN                                                               333  ...          645\n",
            "USERA                                                                196  ...          409\n",
            "VICALVARO                                                             72  ...          158\n",
            "VILLA DE VALLECAS                                                    136  ...          272\n",
            "VILLAVERDE                                                           145  ...          288\n",
            "Total                                                               6056  ...        11935\n",
            "\n",
            "[22 rows x 11 columns]\n",
            "                                COLISIÓN DOBLE                            ...  Unnamed: 11\n",
            "DISTRITO_ACCIDENTE                                                        ...             \n",
            "ARGANZUELA                                                           340  ...          600\n",
            "BARAJAS                                                               77  ...          185\n",
            "CARABANCHEL                                                          367  ...          725\n",
            "CENTRO                                                               474  ...          929\n",
            "CHAMARTIN                                                            504  ...          904\n",
            "CHAMBERI                                                             386  ...          657\n",
            "CIUDAD LINEAL                                                        387  ...          761\n",
            "FUENCARRAL-EL PARDO                                                  324  ...          639\n",
            "HORTALEZA                                                            221  ...          440\n",
            "LATINA                                                               289  ...          583\n",
            "MONCLOA-ARAVACA                                                      287  ...          664\n",
            "MORATALAZ                                                            132  ...          272\n",
            "PUENTE DE VALLECAS                                                   365  ...          751\n",
            "RETIRO                                                               332  ...          601\n",
            "SALAMANCA                                                            447  ...          849\n",
            "SAN BLAS                                                             283  ...          495\n",
            "TETUAN                                                               355  ...          636\n",
            "USERA                                                                199  ...          387\n",
            "VICALVARO                                                             77  ...          151\n",
            "VILLA DE VALLECAS                                                    129  ...          255\n",
            "VILLAVERDE                                                           146  ...          298\n",
            "Total                                                               6121  ...        11782\n",
            "\n",
            "[22 rows x 11 columns]\n",
            "                                COLISIÓN DOBLE                            ...  Unnamed: 12\n",
            "DISTRITO_ACCIDENTE                                                        ...             \n",
            "ARGANZUELA                                                           328  ...          610\n",
            "BARAJAS                                                               95  ...          213\n",
            "CARABANCHEL                                                          346  ...          725\n",
            "CENTRO                                                               444  ...          932\n",
            "CHAMARTIN                                                            499  ...          904\n",
            "CHAMBERI                                                             382  ...          647\n",
            "CIUDAD LINEAL                                                        411  ...          787\n",
            "FUENCARRAL-EL PARDO                                                  345  ...          692\n",
            "HORTALEZA                                                            248  ...          472\n",
            "LATINA                                                               288  ...          622\n",
            "MONCLOA-ARAVACA                                                      294  ...          709\n",
            "MORATALAZ                                                            150  ...          307\n",
            "PUENTE DE VALLECAS                                                   386  ...          811\n",
            "RETIRO                                                               344  ...          647\n",
            "SALAMANCA                                                            467  ...          951\n",
            "SAN BLAS                                                             299  ...          501\n",
            "TETUAN                                                               330  ...          653\n",
            "USERA                                                                206  ...          412\n",
            "VICALVARO                                                             70  ...          161\n",
            "VILLA DE VALLECAS                                                    149  ...          295\n",
            "VILLAVERDE                                                           177  ...          336\n",
            "Total                                                               6258  ...        12387\n",
            "\n",
            "[22 rows x 12 columns]\n"
          ],
          "name": "stdout"
        }
      ]
    },
    {
      "cell_type": "code",
      "metadata": {
        "colab": {
          "base_uri": "https://localhost:8080/"
        },
        "id": "iM8m_izt_zJ2",
        "outputId": "af21b5ba-608e-4c3a-adc2-97777e8df376"
      },
      "source": [
        "type(all_accidents)"
      ],
      "execution_count": 17,
      "outputs": [
        {
          "output_type": "execute_result",
          "data": {
            "text/plain": [
              "dict"
            ]
          },
          "metadata": {
            "tags": []
          },
          "execution_count": 17
        }
      ]
    },
    {
      "cell_type": "markdown",
      "metadata": {
        "id": "KL_5PyrL_rZz"
      },
      "source": [
        "#### Exercise\r\n",
        "\r\n",
        "Consolidate the excel into one DataFrame:\r\n",
        "- You will need to create a 'YEAR' column.\r\n",
        "- Think how you can iterate through all the DataFrames.\r\n",
        "- Explore also where you can take the value of 'YEAR' from, from the comments in the code above it should be clear by now."
      ]
    },
    {
      "cell_type": "code",
      "metadata": {
        "id": "iOIsRWb4BMPL",
        "colab": {
          "base_uri": "https://localhost:8080/",
          "height": 450
        },
        "outputId": "9a7e349f-e823-4e04-de4d-5f112d54223f"
      },
      "source": [
        "# Cambiando a mano la pestaña '2013' (insertando 3 filas)\r\n",
        "\r\n",
        "datos = pd.DataFrame()\r\n",
        "diccionario = pd.read_excel(file_path, index_col=0, header=7, sheet_name=None, usecols='A:K')\r\n",
        "\r\n",
        "for nombre,columna in diccionario.items():\r\n",
        "  columna['Year'] = nombre\r\n",
        "  datos = datos.append(columna)\r\n",
        "\r\n",
        "datos"
      ],
      "execution_count": 33,
      "outputs": [
        {
          "output_type": "execute_result",
          "data": {
            "text/html": [
              "<div>\n",
              "<style scoped>\n",
              "    .dataframe tbody tr th:only-of-type {\n",
              "        vertical-align: middle;\n",
              "    }\n",
              "\n",
              "    .dataframe tbody tr th {\n",
              "        vertical-align: top;\n",
              "    }\n",
              "\n",
              "    .dataframe thead th {\n",
              "        text-align: right;\n",
              "    }\n",
              "</style>\n",
              "<table border=\"1\" class=\"dataframe\">\n",
              "  <thead>\n",
              "    <tr style=\"text-align: right;\">\n",
              "      <th></th>\n",
              "      <th>COLISIÓN DOBLE</th>\n",
              "      <th>COLISIÓN MÚLTIPLE</th>\n",
              "      <th>CHOQUE CON OBJETO FIJO</th>\n",
              "      <th>ATROPELLO</th>\n",
              "      <th>VUELCO</th>\n",
              "      <th>CAÍDA MOTOCICLETA</th>\n",
              "      <th>CAÍDA CICLOMOTOR</th>\n",
              "      <th>CAÍDA BICICLETA</th>\n",
              "      <th>CAÍDA VIAJERO BUS</th>\n",
              "      <th>OTRAS CAUSAS</th>\n",
              "      <th>Year</th>\n",
              "    </tr>\n",
              "    <tr>\n",
              "      <th>DISTRITO_ACCIDENTE</th>\n",
              "      <th></th>\n",
              "      <th></th>\n",
              "      <th></th>\n",
              "      <th></th>\n",
              "      <th></th>\n",
              "      <th></th>\n",
              "      <th></th>\n",
              "      <th></th>\n",
              "      <th></th>\n",
              "      <th></th>\n",
              "      <th></th>\n",
              "    </tr>\n",
              "  </thead>\n",
              "  <tbody>\n",
              "    <tr>\n",
              "      <th>ARGANZUELA</th>\n",
              "      <td>389</td>\n",
              "      <td>54</td>\n",
              "      <td>126</td>\n",
              "      <td>75</td>\n",
              "      <td>9.0</td>\n",
              "      <td>43</td>\n",
              "      <td>9.0</td>\n",
              "      <td>4.0</td>\n",
              "      <td>5.0</td>\n",
              "      <td>8.0</td>\n",
              "      <td>2009</td>\n",
              "    </tr>\n",
              "    <tr>\n",
              "      <th>BARAJAS</th>\n",
              "      <td>89</td>\n",
              "      <td>6</td>\n",
              "      <td>53</td>\n",
              "      <td>21</td>\n",
              "      <td>NaN</td>\n",
              "      <td>12</td>\n",
              "      <td>2.0</td>\n",
              "      <td>1.0</td>\n",
              "      <td>2.0</td>\n",
              "      <td>2.0</td>\n",
              "      <td>2009</td>\n",
              "    </tr>\n",
              "    <tr>\n",
              "      <th>CARABANCHEL</th>\n",
              "      <td>375</td>\n",
              "      <td>44</td>\n",
              "      <td>171</td>\n",
              "      <td>137</td>\n",
              "      <td>8.0</td>\n",
              "      <td>36</td>\n",
              "      <td>13.0</td>\n",
              "      <td>6.0</td>\n",
              "      <td>9.0</td>\n",
              "      <td>8.0</td>\n",
              "      <td>2009</td>\n",
              "    </tr>\n",
              "    <tr>\n",
              "      <th>CENTRO</th>\n",
              "      <td>514</td>\n",
              "      <td>55</td>\n",
              "      <td>171</td>\n",
              "      <td>143</td>\n",
              "      <td>NaN</td>\n",
              "      <td>61</td>\n",
              "      <td>12.0</td>\n",
              "      <td>3.0</td>\n",
              "      <td>10.0</td>\n",
              "      <td>12.0</td>\n",
              "      <td>2009</td>\n",
              "    </tr>\n",
              "    <tr>\n",
              "      <th>CHAMARTIN</th>\n",
              "      <td>494</td>\n",
              "      <td>70</td>\n",
              "      <td>133</td>\n",
              "      <td>92</td>\n",
              "      <td>10.0</td>\n",
              "      <td>72</td>\n",
              "      <td>22.0</td>\n",
              "      <td>2.0</td>\n",
              "      <td>6.0</td>\n",
              "      <td>7.0</td>\n",
              "      <td>2009</td>\n",
              "    </tr>\n",
              "    <tr>\n",
              "      <th>...</th>\n",
              "      <td>...</td>\n",
              "      <td>...</td>\n",
              "      <td>...</td>\n",
              "      <td>...</td>\n",
              "      <td>...</td>\n",
              "      <td>...</td>\n",
              "      <td>...</td>\n",
              "      <td>...</td>\n",
              "      <td>...</td>\n",
              "      <td>...</td>\n",
              "      <td>...</td>\n",
              "    </tr>\n",
              "    <tr>\n",
              "      <th>USERA</th>\n",
              "      <td>206</td>\n",
              "      <td>27</td>\n",
              "      <td>74</td>\n",
              "      <td>75</td>\n",
              "      <td>2.0</td>\n",
              "      <td>16</td>\n",
              "      <td>2.0</td>\n",
              "      <td>5.0</td>\n",
              "      <td>4.0</td>\n",
              "      <td>1.0</td>\n",
              "      <td>2016</td>\n",
              "    </tr>\n",
              "    <tr>\n",
              "      <th>VICALVARO</th>\n",
              "      <td>70</td>\n",
              "      <td>4</td>\n",
              "      <td>38</td>\n",
              "      <td>22</td>\n",
              "      <td>4.0</td>\n",
              "      <td>15</td>\n",
              "      <td>2.0</td>\n",
              "      <td>3.0</td>\n",
              "      <td>2.0</td>\n",
              "      <td>1.0</td>\n",
              "      <td>2016</td>\n",
              "    </tr>\n",
              "    <tr>\n",
              "      <th>VILLA DE VALLECAS</th>\n",
              "      <td>149</td>\n",
              "      <td>7</td>\n",
              "      <td>42</td>\n",
              "      <td>54</td>\n",
              "      <td>5.0</td>\n",
              "      <td>26</td>\n",
              "      <td>4.0</td>\n",
              "      <td>4.0</td>\n",
              "      <td>1.0</td>\n",
              "      <td>3.0</td>\n",
              "      <td>2016</td>\n",
              "    </tr>\n",
              "    <tr>\n",
              "      <th>VILLAVERDE</th>\n",
              "      <td>177</td>\n",
              "      <td>11</td>\n",
              "      <td>71</td>\n",
              "      <td>54</td>\n",
              "      <td>1.0</td>\n",
              "      <td>8</td>\n",
              "      <td>5.0</td>\n",
              "      <td>6.0</td>\n",
              "      <td>2.0</td>\n",
              "      <td>1.0</td>\n",
              "      <td>2016</td>\n",
              "    </tr>\n",
              "    <tr>\n",
              "      <th>Total</th>\n",
              "      <td>6258</td>\n",
              "      <td>796</td>\n",
              "      <td>1965</td>\n",
              "      <td>1560</td>\n",
              "      <td>75.0</td>\n",
              "      <td>1089</td>\n",
              "      <td>212.0</td>\n",
              "      <td>273.0</td>\n",
              "      <td>93.0</td>\n",
              "      <td>65.0</td>\n",
              "      <td>2016</td>\n",
              "    </tr>\n",
              "  </tbody>\n",
              "</table>\n",
              "<p>176 rows × 11 columns</p>\n",
              "</div>"
            ],
            "text/plain": [
              "                                COLISIÓN DOBLE                            ...  Year\n",
              "DISTRITO_ACCIDENTE                                                        ...      \n",
              "ARGANZUELA                                                           389  ...  2009\n",
              "BARAJAS                                                               89  ...  2009\n",
              "CARABANCHEL                                                          375  ...  2009\n",
              "CENTRO                                                               514  ...  2009\n",
              "CHAMARTIN                                                            494  ...  2009\n",
              "...                                                                  ...  ...   ...\n",
              "USERA                                                                206  ...  2016\n",
              "VICALVARO                                                             70  ...  2016\n",
              "VILLA DE VALLECAS                                                    149  ...  2016\n",
              "VILLAVERDE                                                           177  ...  2016\n",
              "Total                                                               6258  ...  2016\n",
              "\n",
              "[176 rows x 11 columns]"
            ]
          },
          "metadata": {
            "tags": []
          },
          "execution_count": 33
        }
      ]
    },
    {
      "cell_type": "code",
      "metadata": {
        "id": "rVuBNwV7_HP7",
        "colab": {
          "base_uri": "https://localhost:8080/",
          "height": 450
        },
        "outputId": "3a68b7eb-0c0a-418b-f5ef-bfbf1420d4cf"
      },
      "source": [
        "# Eliminar las filas con los totales\r\n",
        "\r\n",
        "datos.drop(['Total'])"
      ],
      "execution_count": 41,
      "outputs": [
        {
          "output_type": "execute_result",
          "data": {
            "text/html": [
              "<div>\n",
              "<style scoped>\n",
              "    .dataframe tbody tr th:only-of-type {\n",
              "        vertical-align: middle;\n",
              "    }\n",
              "\n",
              "    .dataframe tbody tr th {\n",
              "        vertical-align: top;\n",
              "    }\n",
              "\n",
              "    .dataframe thead th {\n",
              "        text-align: right;\n",
              "    }\n",
              "</style>\n",
              "<table border=\"1\" class=\"dataframe\">\n",
              "  <thead>\n",
              "    <tr style=\"text-align: right;\">\n",
              "      <th></th>\n",
              "      <th>COLISIÓN DOBLE</th>\n",
              "      <th>COLISIÓN MÚLTIPLE</th>\n",
              "      <th>CHOQUE CON OBJETO FIJO</th>\n",
              "      <th>ATROPELLO</th>\n",
              "      <th>VUELCO</th>\n",
              "      <th>CAÍDA MOTOCICLETA</th>\n",
              "      <th>CAÍDA CICLOMOTOR</th>\n",
              "      <th>CAÍDA BICICLETA</th>\n",
              "      <th>CAÍDA VIAJERO BUS</th>\n",
              "      <th>OTRAS CAUSAS</th>\n",
              "      <th>Year</th>\n",
              "    </tr>\n",
              "    <tr>\n",
              "      <th>DISTRITO_ACCIDENTE</th>\n",
              "      <th></th>\n",
              "      <th></th>\n",
              "      <th></th>\n",
              "      <th></th>\n",
              "      <th></th>\n",
              "      <th></th>\n",
              "      <th></th>\n",
              "      <th></th>\n",
              "      <th></th>\n",
              "      <th></th>\n",
              "      <th></th>\n",
              "    </tr>\n",
              "  </thead>\n",
              "  <tbody>\n",
              "    <tr>\n",
              "      <th>ARGANZUELA</th>\n",
              "      <td>389</td>\n",
              "      <td>54</td>\n",
              "      <td>126</td>\n",
              "      <td>75</td>\n",
              "      <td>9.0</td>\n",
              "      <td>43</td>\n",
              "      <td>9.0</td>\n",
              "      <td>4.0</td>\n",
              "      <td>5.0</td>\n",
              "      <td>8.0</td>\n",
              "      <td>2009</td>\n",
              "    </tr>\n",
              "    <tr>\n",
              "      <th>BARAJAS</th>\n",
              "      <td>89</td>\n",
              "      <td>6</td>\n",
              "      <td>53</td>\n",
              "      <td>21</td>\n",
              "      <td>NaN</td>\n",
              "      <td>12</td>\n",
              "      <td>2.0</td>\n",
              "      <td>1.0</td>\n",
              "      <td>2.0</td>\n",
              "      <td>2.0</td>\n",
              "      <td>2009</td>\n",
              "    </tr>\n",
              "    <tr>\n",
              "      <th>CARABANCHEL</th>\n",
              "      <td>375</td>\n",
              "      <td>44</td>\n",
              "      <td>171</td>\n",
              "      <td>137</td>\n",
              "      <td>8.0</td>\n",
              "      <td>36</td>\n",
              "      <td>13.0</td>\n",
              "      <td>6.0</td>\n",
              "      <td>9.0</td>\n",
              "      <td>8.0</td>\n",
              "      <td>2009</td>\n",
              "    </tr>\n",
              "    <tr>\n",
              "      <th>CENTRO</th>\n",
              "      <td>514</td>\n",
              "      <td>55</td>\n",
              "      <td>171</td>\n",
              "      <td>143</td>\n",
              "      <td>NaN</td>\n",
              "      <td>61</td>\n",
              "      <td>12.0</td>\n",
              "      <td>3.0</td>\n",
              "      <td>10.0</td>\n",
              "      <td>12.0</td>\n",
              "      <td>2009</td>\n",
              "    </tr>\n",
              "    <tr>\n",
              "      <th>CHAMARTIN</th>\n",
              "      <td>494</td>\n",
              "      <td>70</td>\n",
              "      <td>133</td>\n",
              "      <td>92</td>\n",
              "      <td>10.0</td>\n",
              "      <td>72</td>\n",
              "      <td>22.0</td>\n",
              "      <td>2.0</td>\n",
              "      <td>6.0</td>\n",
              "      <td>7.0</td>\n",
              "      <td>2009</td>\n",
              "    </tr>\n",
              "    <tr>\n",
              "      <th>...</th>\n",
              "      <td>...</td>\n",
              "      <td>...</td>\n",
              "      <td>...</td>\n",
              "      <td>...</td>\n",
              "      <td>...</td>\n",
              "      <td>...</td>\n",
              "      <td>...</td>\n",
              "      <td>...</td>\n",
              "      <td>...</td>\n",
              "      <td>...</td>\n",
              "      <td>...</td>\n",
              "    </tr>\n",
              "    <tr>\n",
              "      <th>TETUAN</th>\n",
              "      <td>330</td>\n",
              "      <td>43</td>\n",
              "      <td>70</td>\n",
              "      <td>91</td>\n",
              "      <td>NaN</td>\n",
              "      <td>73</td>\n",
              "      <td>25.0</td>\n",
              "      <td>13.0</td>\n",
              "      <td>5.0</td>\n",
              "      <td>3.0</td>\n",
              "      <td>2016</td>\n",
              "    </tr>\n",
              "    <tr>\n",
              "      <th>USERA</th>\n",
              "      <td>206</td>\n",
              "      <td>27</td>\n",
              "      <td>74</td>\n",
              "      <td>75</td>\n",
              "      <td>2.0</td>\n",
              "      <td>16</td>\n",
              "      <td>2.0</td>\n",
              "      <td>5.0</td>\n",
              "      <td>4.0</td>\n",
              "      <td>1.0</td>\n",
              "      <td>2016</td>\n",
              "    </tr>\n",
              "    <tr>\n",
              "      <th>VICALVARO</th>\n",
              "      <td>70</td>\n",
              "      <td>4</td>\n",
              "      <td>38</td>\n",
              "      <td>22</td>\n",
              "      <td>4.0</td>\n",
              "      <td>15</td>\n",
              "      <td>2.0</td>\n",
              "      <td>3.0</td>\n",
              "      <td>2.0</td>\n",
              "      <td>1.0</td>\n",
              "      <td>2016</td>\n",
              "    </tr>\n",
              "    <tr>\n",
              "      <th>VILLA DE VALLECAS</th>\n",
              "      <td>149</td>\n",
              "      <td>7</td>\n",
              "      <td>42</td>\n",
              "      <td>54</td>\n",
              "      <td>5.0</td>\n",
              "      <td>26</td>\n",
              "      <td>4.0</td>\n",
              "      <td>4.0</td>\n",
              "      <td>1.0</td>\n",
              "      <td>3.0</td>\n",
              "      <td>2016</td>\n",
              "    </tr>\n",
              "    <tr>\n",
              "      <th>VILLAVERDE</th>\n",
              "      <td>177</td>\n",
              "      <td>11</td>\n",
              "      <td>71</td>\n",
              "      <td>54</td>\n",
              "      <td>1.0</td>\n",
              "      <td>8</td>\n",
              "      <td>5.0</td>\n",
              "      <td>6.0</td>\n",
              "      <td>2.0</td>\n",
              "      <td>1.0</td>\n",
              "      <td>2016</td>\n",
              "    </tr>\n",
              "  </tbody>\n",
              "</table>\n",
              "<p>168 rows × 11 columns</p>\n",
              "</div>"
            ],
            "text/plain": [
              "                                COLISIÓN DOBLE                            ...  Year\n",
              "DISTRITO_ACCIDENTE                                                        ...      \n",
              "ARGANZUELA                                                           389  ...  2009\n",
              "BARAJAS                                                               89  ...  2009\n",
              "CARABANCHEL                                                          375  ...  2009\n",
              "CENTRO                                                               514  ...  2009\n",
              "CHAMARTIN                                                            494  ...  2009\n",
              "...                                                                  ...  ...   ...\n",
              "TETUAN                                                               330  ...  2016\n",
              "USERA                                                                206  ...  2016\n",
              "VICALVARO                                                             70  ...  2016\n",
              "VILLA DE VALLECAS                                                    149  ...  2016\n",
              "VILLAVERDE                                                           177  ...  2016\n",
              "\n",
              "[168 rows x 11 columns]"
            ]
          },
          "metadata": {
            "tags": []
          },
          "execution_count": 41
        }
      ]
    }
  ]
}