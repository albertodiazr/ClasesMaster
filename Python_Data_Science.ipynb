{
  "nbformat": 4,
  "nbformat_minor": 0,
  "metadata": {
    "colab": {
      "name": "Python Data Science.ipynb",
      "provenance": [],
      "authorship_tag": "ABX9TyPvp1ABinMm35qAt8GkyIuO",
      "include_colab_link": true
    },
    "kernelspec": {
      "name": "python3",
      "display_name": "Python 3"
    }
  },
  "cells": [
    {
      "cell_type": "markdown",
      "metadata": {
        "id": "view-in-github",
        "colab_type": "text"
      },
      "source": [
        "<a href=\"https://colab.research.google.com/github/albertodiazr/ClasesMaster/blob/main/Python_Data_Science.ipynb\" target=\"_parent\"><img src=\"https://colab.research.google.com/assets/colab-badge.svg\" alt=\"Open In Colab\"/></a>"
      ]
    },
    {
      "cell_type": "code",
      "metadata": {
        "colab": {
          "base_uri": "https://localhost:8080/"
        },
        "id": "7vm48KKUGSr-",
        "outputId": "8247c5fd-814a-4fdd-89cd-b4f379dbf17f"
      },
      "source": [
        "import os\r\n",
        "drive_loc = '/content/gdrive'\r\n",
        "files_loc = os.path.join(drive_loc, \"MyDrive\", \"pythondsfiles\")\r\n",
        "\r\n",
        "from google.colab import drive\r\n",
        "drive.mount(drive_loc)"
      ],
      "execution_count": null,
      "outputs": [
        {
          "output_type": "stream",
          "text": [
            "Mounted at /content/gdrive\n"
          ],
          "name": "stdout"
        }
      ]
    },
    {
      "cell_type": "code",
      "metadata": {
        "id": "bLO74gltJAFr"
      },
      "source": [
        "!mkdir -p {files_loc} "
      ],
      "execution_count": null,
      "outputs": []
    },
    {
      "cell_type": "code",
      "metadata": {
        "id": "O87yJjsaJot-"
      },
      "source": [
        "!ls {files_loc}"
      ],
      "execution_count": null,
      "outputs": []
    },
    {
      "cell_type": "code",
      "metadata": {
        "colab": {
          "base_uri": "https://localhost:8080/",
          "height": 35
        },
        "id": "zz5_Dn-mJs6o",
        "outputId": "51332c26-b523-4d87-878d-a38e175d4307"
      },
      "source": [
        "files_loc"
      ],
      "execution_count": null,
      "outputs": [
        {
          "output_type": "execute_result",
          "data": {
            "application/vnd.google.colaboratory.intrinsic+json": {
              "type": "string"
            },
            "text/plain": [
              "'/content/gdrive/MyDrive/pythondsfiles'"
            ]
          },
          "metadata": {
            "tags": []
          },
          "execution_count": 7
        }
      ]
    },
    {
      "cell_type": "markdown",
      "metadata": {
        "id": "6Hi7QssSKWX0"
      },
      "source": [
        "# Getting started"
      ]
    },
    {
      "cell_type": "code",
      "metadata": {
        "id": "t5zupxZnL-2H"
      },
      "source": [
        "import pandas as pd\r\n",
        "import numpy as np"
      ],
      "execution_count": null,
      "outputs": []
    },
    {
      "cell_type": "markdown",
      "metadata": {
        "id": "_vcLas-_MTH2"
      },
      "source": [
        "# Series"
      ]
    },
    {
      "cell_type": "code",
      "metadata": {
        "colab": {
          "base_uri": "https://localhost:8080/"
        },
        "id": "kf_AnE_CMR-a",
        "outputId": "42f4eac2-0cc3-4202-8add-3b03700d2cc4"
      },
      "source": [
        "s = pd.Series([4,7,-5,3])\r\n",
        "type(s)"
      ],
      "execution_count": null,
      "outputs": [
        {
          "output_type": "execute_result",
          "data": {
            "text/plain": [
              "pandas.core.series.Series"
            ]
          },
          "metadata": {
            "tags": []
          },
          "execution_count": 9
        }
      ]
    },
    {
      "cell_type": "code",
      "metadata": {
        "colab": {
          "base_uri": "https://localhost:8080/"
        },
        "id": "8eXpop1AMR7q",
        "outputId": "8ee6a278-07d3-4cd7-b2ae-3de89e7d2616"
      },
      "source": [
        "s"
      ],
      "execution_count": null,
      "outputs": [
        {
          "output_type": "execute_result",
          "data": {
            "text/plain": [
              "0    4\n",
              "1    7\n",
              "2   -5\n",
              "3    3\n",
              "dtype: int64"
            ]
          },
          "metadata": {
            "tags": []
          },
          "execution_count": 10
        }
      ]
    },
    {
      "cell_type": "code",
      "metadata": {
        "colab": {
          "base_uri": "https://localhost:8080/"
        },
        "id": "8c1_Z9rPMR0b",
        "outputId": "1859f633-98ce-43b9-b65f-c85470079848"
      },
      "source": [
        "s.values"
      ],
      "execution_count": null,
      "outputs": [
        {
          "output_type": "execute_result",
          "data": {
            "text/plain": [
              "array([ 4,  7, -5,  3])"
            ]
          },
          "metadata": {
            "tags": []
          },
          "execution_count": 11
        }
      ]
    },
    {
      "cell_type": "code",
      "metadata": {
        "colab": {
          "base_uri": "https://localhost:8080/"
        },
        "id": "NgdYaQlJMRp_",
        "outputId": "7ace9c19-7cfb-4f99-fe8d-4d529e8b0809"
      },
      "source": [
        "type(s.values)"
      ],
      "execution_count": null,
      "outputs": [
        {
          "output_type": "execute_result",
          "data": {
            "text/plain": [
              "numpy.ndarray"
            ]
          },
          "metadata": {
            "tags": []
          },
          "execution_count": 12
        }
      ]
    },
    {
      "cell_type": "code",
      "metadata": {
        "id": "x50LujcrNKs4"
      },
      "source": [
        "s2 = pd.Series([1,2,4.5,7,2,23,15,8], index=list('albertod'))"
      ],
      "execution_count": null,
      "outputs": []
    },
    {
      "cell_type": "code",
      "metadata": {
        "colab": {
          "base_uri": "https://localhost:8080/"
        },
        "id": "5ayzv8mqNK1O",
        "outputId": "e4589701-eee7-4937-c6a8-e8211793585a"
      },
      "source": [
        "s2"
      ],
      "execution_count": null,
      "outputs": [
        {
          "output_type": "execute_result",
          "data": {
            "text/plain": [
              "a     1.0\n",
              "l     2.0\n",
              "b     4.5\n",
              "e     7.0\n",
              "r     2.0\n",
              "t    23.0\n",
              "o    15.0\n",
              "d     8.0\n",
              "dtype: float64"
            ]
          },
          "metadata": {
            "tags": []
          },
          "execution_count": 15
        }
      ]
    },
    {
      "cell_type": "code",
      "metadata": {
        "colab": {
          "base_uri": "https://localhost:8080/"
        },
        "id": "NFoeFTmsOAxH",
        "outputId": "1e663587-8bce-4708-a6db-2100660f94ab"
      },
      "source": [
        "s2['e'] # Ahora el índice es una letra"
      ],
      "execution_count": null,
      "outputs": [
        {
          "output_type": "execute_result",
          "data": {
            "text/plain": [
              "7.0"
            ]
          },
          "metadata": {
            "tags": []
          },
          "execution_count": 16
        }
      ]
    },
    {
      "cell_type": "code",
      "metadata": {
        "colab": {
          "base_uri": "https://localhost:8080/"
        },
        "id": "6TMGle5UOAzy",
        "outputId": "3ecd208c-1a6d-400d-ccae-b0f414c5bfda"
      },
      "source": [
        "s2 % 2 == 0"
      ],
      "execution_count": null,
      "outputs": [
        {
          "output_type": "execute_result",
          "data": {
            "text/plain": [
              "a    False\n",
              "l     True\n",
              "b    False\n",
              "e    False\n",
              "r     True\n",
              "t    False\n",
              "o    False\n",
              "d     True\n",
              "dtype: bool"
            ]
          },
          "metadata": {
            "tags": []
          },
          "execution_count": 17
        }
      ]
    },
    {
      "cell_type": "code",
      "metadata": {
        "colab": {
          "base_uri": "https://localhost:8080/"
        },
        "id": "iyFczCoIOA2r",
        "outputId": "36b5ed7b-0f6b-4835-8ee0-4a97d879ac99"
      },
      "source": [
        "s2[s2 % 2 == 0] # Filtro"
      ],
      "execution_count": null,
      "outputs": [
        {
          "output_type": "execute_result",
          "data": {
            "text/plain": [
              "l    2.0\n",
              "r    2.0\n",
              "d    8.0\n",
              "dtype: float64"
            ]
          },
          "metadata": {
            "tags": []
          },
          "execution_count": 18
        }
      ]
    },
    {
      "cell_type": "code",
      "metadata": {
        "colab": {
          "base_uri": "https://localhost:8080/"
        },
        "id": "vQkJTymGOA8W",
        "outputId": "306e3963-7587-46b9-acbc-fd178d163068"
      },
      "source": [
        "s2 * 2"
      ],
      "execution_count": null,
      "outputs": [
        {
          "output_type": "execute_result",
          "data": {
            "text/plain": [
              "a     2.0\n",
              "l     4.0\n",
              "b     9.0\n",
              "e    14.0\n",
              "r     4.0\n",
              "t    46.0\n",
              "o    30.0\n",
              "d    16.0\n",
              "dtype: float64"
            ]
          },
          "metadata": {
            "tags": []
          },
          "execution_count": 19
        }
      ]
    },
    {
      "cell_type": "code",
      "metadata": {
        "colab": {
          "base_uri": "https://localhost:8080/"
        },
        "id": "5MTE8srMOA_H",
        "outputId": "138961aa-185d-4b86-827a-6da9512c7842"
      },
      "source": [
        "np.exp(s2)"
      ],
      "execution_count": null,
      "outputs": [
        {
          "output_type": "execute_result",
          "data": {
            "text/plain": [
              "a    2.718282e+00\n",
              "l    7.389056e+00\n",
              "b    9.001713e+01\n",
              "e    1.096633e+03\n",
              "r    7.389056e+00\n",
              "t    9.744803e+09\n",
              "o    3.269017e+06\n",
              "d    2.980958e+03\n",
              "dtype: float64"
            ]
          },
          "metadata": {
            "tags": []
          },
          "execution_count": 20
        }
      ]
    },
    {
      "cell_type": "code",
      "metadata": {
        "colab": {
          "base_uri": "https://localhost:8080/"
        },
        "id": "2OBPofemNK4R",
        "outputId": "9a48b879-a867-4e6a-9e9f-cb595f78514c"
      },
      "source": [
        "s2 # No se ha modificado"
      ],
      "execution_count": null,
      "outputs": [
        {
          "output_type": "execute_result",
          "data": {
            "text/plain": [
              "a     1.0\n",
              "l     2.0\n",
              "b     4.5\n",
              "e     7.0\n",
              "r     2.0\n",
              "t    23.0\n",
              "o    15.0\n",
              "d     8.0\n",
              "dtype: float64"
            ]
          },
          "metadata": {
            "tags": []
          },
          "execution_count": 21
        }
      ]
    },
    {
      "cell_type": "code",
      "metadata": {
        "colab": {
          "base_uri": "https://localhost:8080/"
        },
        "id": "evZFbGFKNK7P",
        "outputId": "7bab560d-91d1-4f00-cd6c-828ea29c2399"
      },
      "source": [
        "'i' in s2"
      ],
      "execution_count": null,
      "outputs": [
        {
          "output_type": "execute_result",
          "data": {
            "text/plain": [
              "False"
            ]
          },
          "metadata": {
            "tags": []
          },
          "execution_count": 22
        }
      ]
    },
    {
      "cell_type": "code",
      "metadata": {
        "colab": {
          "base_uri": "https://localhost:8080/"
        },
        "id": "UIWmemycPokf",
        "outputId": "f51024da-829e-4683-a41a-0373bb7e304f"
      },
      "source": [
        "'o' in s2"
      ],
      "execution_count": null,
      "outputs": [
        {
          "output_type": "execute_result",
          "data": {
            "text/plain": [
              "True"
            ]
          },
          "metadata": {
            "tags": []
          },
          "execution_count": 23
        }
      ]
    },
    {
      "cell_type": "code",
      "metadata": {
        "colab": {
          "base_uri": "https://localhost:8080/"
        },
        "id": "fB6vBFUrPonh",
        "outputId": "c507789c-e4d8-447f-b148-26c2e719968b"
      },
      "source": [
        "sdata = {\r\n",
        "    'Zaragoza': 2.5e5,\r\n",
        "    'Sevilla': 5e5,\r\n",
        "    'Cordoba': 3e5,\r\n",
        "    'Madrid': 6e6\r\n",
        "}\r\n",
        "\r\n",
        "s3 = pd.Series(sdata)\r\n",
        "s3"
      ],
      "execution_count": null,
      "outputs": [
        {
          "output_type": "execute_result",
          "data": {
            "text/plain": [
              "Zaragoza     250000.0\n",
              "Sevilla      500000.0\n",
              "Cordoba      300000.0\n",
              "Madrid      6000000.0\n",
              "dtype: float64"
            ]
          },
          "metadata": {
            "tags": []
          },
          "execution_count": 25
        }
      ]
    },
    {
      "cell_type": "code",
      "metadata": {
        "id": "aJrGVml6QPrE"
      },
      "source": [
        "s3.to_pickle(os.path.join(files_loc, \"s3.pkl\")) # Almacenamiento de datos de Python, guardado en Google Drive"
      ],
      "execution_count": null,
      "outputs": []
    },
    {
      "cell_type": "code",
      "metadata": {
        "colab": {
          "base_uri": "https://localhost:8080/"
        },
        "id": "iOwc6qEfQPtl",
        "outputId": "7dba0348-97b1-43a8-e0c0-80a47cbfa09a"
      },
      "source": [
        "!ls {files_loc}/s3.pkl"
      ],
      "execution_count": null,
      "outputs": [
        {
          "output_type": "stream",
          "text": [
            "/content/gdrive/MyDrive/pythondsfiles/s3.pkl\n"
          ],
          "name": "stdout"
        }
      ]
    },
    {
      "cell_type": "code",
      "metadata": {
        "colab": {
          "base_uri": "https://localhost:8080/"
        },
        "id": "coWw8UTVQPwG",
        "outputId": "d81e4c82-f53f-4475-e020-3a2422cc838b"
      },
      "source": [
        "s3 = pd.Series(sdata).sort_index() # Ordenar los datos por el índice\r\n",
        "s3"
      ],
      "execution_count": null,
      "outputs": [
        {
          "output_type": "execute_result",
          "data": {
            "text/plain": [
              "Cordoba      300000.0\n",
              "Madrid      6000000.0\n",
              "Sevilla      500000.0\n",
              "Zaragoza     250000.0\n",
              "dtype: float64"
            ]
          },
          "metadata": {
            "tags": []
          },
          "execution_count": 29
        }
      ]
    },
    {
      "cell_type": "code",
      "metadata": {
        "id": "C5SRQb7hQPy0"
      },
      "source": [
        "cities = ['Cordoba', 'Madrid', 'Valencia', 'Zaragoza']"
      ],
      "execution_count": null,
      "outputs": []
    },
    {
      "cell_type": "code",
      "metadata": {
        "colab": {
          "base_uri": "https://localhost:8080/"
        },
        "id": "BFg4zXoRSuAZ",
        "outputId": "e714e18d-a17a-48d3-d649-a93e812a9206"
      },
      "source": [
        "s4 = pd.Series(sdata, index = cities)\r\n",
        "s4"
      ],
      "execution_count": null,
      "outputs": [
        {
          "output_type": "execute_result",
          "data": {
            "text/plain": [
              "Cordoba      300000.0\n",
              "Madrid      6000000.0\n",
              "Valencia          NaN\n",
              "Zaragoza     250000.0\n",
              "dtype: float64"
            ]
          },
          "metadata": {
            "tags": []
          },
          "execution_count": 31
        }
      ]
    },
    {
      "cell_type": "code",
      "metadata": {
        "colab": {
          "base_uri": "https://localhost:8080/"
        },
        "id": "qN3iuTUxSuFc",
        "outputId": "090de68e-c8ce-4e62-9a56-ae5fd95a3c11"
      },
      "source": [
        "pd.isnull(s4)"
      ],
      "execution_count": null,
      "outputs": [
        {
          "output_type": "execute_result",
          "data": {
            "text/plain": [
              "Cordoba     False\n",
              "Madrid      False\n",
              "Valencia     True\n",
              "Zaragoza    False\n",
              "dtype: bool"
            ]
          },
          "metadata": {
            "tags": []
          },
          "execution_count": 32
        }
      ]
    },
    {
      "cell_type": "code",
      "metadata": {
        "colab": {
          "base_uri": "https://localhost:8080/"
        },
        "id": "isk8EsPgSuOf",
        "outputId": "39d435c7-4f88-4646-8bf6-315605d85708"
      },
      "source": [
        "pd.notnull(s4)"
      ],
      "execution_count": null,
      "outputs": [
        {
          "output_type": "execute_result",
          "data": {
            "text/plain": [
              "Cordoba      True\n",
              "Madrid       True\n",
              "Valencia    False\n",
              "Zaragoza     True\n",
              "dtype: bool"
            ]
          },
          "metadata": {
            "tags": []
          },
          "execution_count": 33
        }
      ]
    },
    {
      "cell_type": "code",
      "metadata": {
        "colab": {
          "base_uri": "https://localhost:8080/"
        },
        "id": "kG80ZB59QP1s",
        "outputId": "d3a1256e-e4b0-4334-bb57-badea70a3466"
      },
      "source": [
        "s3"
      ],
      "execution_count": null,
      "outputs": [
        {
          "output_type": "execute_result",
          "data": {
            "text/plain": [
              "Cordoba      300000.0\n",
              "Madrid      6000000.0\n",
              "Sevilla      500000.0\n",
              "Zaragoza     250000.0\n",
              "dtype: float64"
            ]
          },
          "metadata": {
            "tags": []
          },
          "execution_count": 34
        }
      ]
    },
    {
      "cell_type": "code",
      "metadata": {
        "colab": {
          "base_uri": "https://localhost:8080/"
        },
        "id": "FxlP2ccGPoqy",
        "outputId": "ed33a5f9-43b5-41cd-a052-670972b78d73"
      },
      "source": [
        "s4"
      ],
      "execution_count": null,
      "outputs": [
        {
          "output_type": "execute_result",
          "data": {
            "text/plain": [
              "Cordoba      300000.0\n",
              "Madrid      6000000.0\n",
              "Valencia          NaN\n",
              "Zaragoza     250000.0\n",
              "dtype: float64"
            ]
          },
          "metadata": {
            "tags": []
          },
          "execution_count": 35
        }
      ]
    },
    {
      "cell_type": "code",
      "metadata": {
        "colab": {
          "base_uri": "https://localhost:8080/"
        },
        "id": "9L00Xm8cTyXo",
        "outputId": "c588f70b-4e55-4842-f3cb-98794a7bb686"
      },
      "source": [
        "s3 + s4"
      ],
      "execution_count": null,
      "outputs": [
        {
          "output_type": "execute_result",
          "data": {
            "text/plain": [
              "Cordoba       600000.0\n",
              "Madrid      12000000.0\n",
              "Sevilla            NaN\n",
              "Valencia           NaN\n",
              "Zaragoza      500000.0\n",
              "dtype: float64"
            ]
          },
          "metadata": {
            "tags": []
          },
          "execution_count": 36
        }
      ]
    },
    {
      "cell_type": "code",
      "metadata": {
        "id": "shE6I5mKTyaY"
      },
      "source": [
        "s4.name = 'Population' # Cambio de nombre para los datos de la serie"
      ],
      "execution_count": null,
      "outputs": []
    },
    {
      "cell_type": "code",
      "metadata": {
        "colab": {
          "base_uri": "https://localhost:8080/"
        },
        "id": "TwnHEp3VTydN",
        "outputId": "7a77d9f6-80a6-47d5-bb20-4120b03facf1"
      },
      "source": [
        "s4"
      ],
      "execution_count": null,
      "outputs": [
        {
          "output_type": "execute_result",
          "data": {
            "text/plain": [
              "Cordoba      300000.0\n",
              "Madrid      6000000.0\n",
              "Valencia          NaN\n",
              "Zaragoza     250000.0\n",
              "Name: Population, dtype: float64"
            ]
          },
          "metadata": {
            "tags": []
          },
          "execution_count": 38
        }
      ]
    },
    {
      "cell_type": "code",
      "metadata": {
        "colab": {
          "base_uri": "https://localhost:8080/"
        },
        "id": "B77oIy8KTyf4",
        "outputId": "e152c265-38ee-4fb8-cf8c-81c01af7d398"
      },
      "source": [
        "s4.index.name = 'Province' # Nombre para el índice de la serie\r\n",
        "s4"
      ],
      "execution_count": null,
      "outputs": [
        {
          "output_type": "execute_result",
          "data": {
            "text/plain": [
              "Province\n",
              "Cordoba      300000.0\n",
              "Madrid      6000000.0\n",
              "Valencia          NaN\n",
              "Zaragoza     250000.0\n",
              "Name: Population, dtype: float64"
            ]
          },
          "metadata": {
            "tags": []
          },
          "execution_count": 39
        }
      ]
    },
    {
      "cell_type": "markdown",
      "metadata": {
        "id": "XfBgrH3pVc50"
      },
      "source": [
        "## Dataframes"
      ]
    },
    {
      "cell_type": "code",
      "metadata": {
        "id": "Bkh_THKCU8SW"
      },
      "source": [
        "dfdata = {\r\n",
        "    'province': ['M', 'M', 'M', 'B', 'B'],\r\n",
        "    'population': [1.5e6, 2e6, 3e6, 5e6, 1.5e6],\r\n",
        "    'year': [1900, 1950, 2000, 1900, 2000]\r\n",
        "}"
      ],
      "execution_count": null,
      "outputs": []
    },
    {
      "cell_type": "code",
      "metadata": {
        "colab": {
          "base_uri": "https://localhost:8080/",
          "height": 195
        },
        "id": "PGhZbSCaU8Y1",
        "outputId": "eb0a8579-efd9-42fe-d563-04c6c774b03b"
      },
      "source": [
        "df = pd.DataFrame(dfdata)\r\n",
        "df"
      ],
      "execution_count": null,
      "outputs": [
        {
          "output_type": "execute_result",
          "data": {
            "text/html": [
              "<div>\n",
              "<style scoped>\n",
              "    .dataframe tbody tr th:only-of-type {\n",
              "        vertical-align: middle;\n",
              "    }\n",
              "\n",
              "    .dataframe tbody tr th {\n",
              "        vertical-align: top;\n",
              "    }\n",
              "\n",
              "    .dataframe thead th {\n",
              "        text-align: right;\n",
              "    }\n",
              "</style>\n",
              "<table border=\"1\" class=\"dataframe\">\n",
              "  <thead>\n",
              "    <tr style=\"text-align: right;\">\n",
              "      <th></th>\n",
              "      <th>province</th>\n",
              "      <th>population</th>\n",
              "      <th>year</th>\n",
              "    </tr>\n",
              "  </thead>\n",
              "  <tbody>\n",
              "    <tr>\n",
              "      <th>0</th>\n",
              "      <td>M</td>\n",
              "      <td>1500000.0</td>\n",
              "      <td>1900</td>\n",
              "    </tr>\n",
              "    <tr>\n",
              "      <th>1</th>\n",
              "      <td>M</td>\n",
              "      <td>2000000.0</td>\n",
              "      <td>1950</td>\n",
              "    </tr>\n",
              "    <tr>\n",
              "      <th>2</th>\n",
              "      <td>M</td>\n",
              "      <td>3000000.0</td>\n",
              "      <td>2000</td>\n",
              "    </tr>\n",
              "    <tr>\n",
              "      <th>3</th>\n",
              "      <td>B</td>\n",
              "      <td>5000000.0</td>\n",
              "      <td>1900</td>\n",
              "    </tr>\n",
              "    <tr>\n",
              "      <th>4</th>\n",
              "      <td>B</td>\n",
              "      <td>1500000.0</td>\n",
              "      <td>2000</td>\n",
              "    </tr>\n",
              "  </tbody>\n",
              "</table>\n",
              "</div>"
            ],
            "text/plain": [
              "  province  population  year\n",
              "0        M   1500000.0  1900\n",
              "1        M   2000000.0  1950\n",
              "2        M   3000000.0  2000\n",
              "3        B   5000000.0  1900\n",
              "4        B   1500000.0  2000"
            ]
          },
          "metadata": {
            "tags": []
          },
          "execution_count": 42
        }
      ]
    },
    {
      "cell_type": "code",
      "metadata": {
        "colab": {
          "base_uri": "https://localhost:8080/",
          "height": 195
        },
        "id": "qMVZBNB-U8az",
        "outputId": "2f45d85a-338b-4e84-c157-662cfb771c65"
      },
      "source": [
        "df2 = pd.DataFrame(dfdata, columns=['province', 'population', 'year', 'debt'])\r\n",
        "df2"
      ],
      "execution_count": null,
      "outputs": [
        {
          "output_type": "execute_result",
          "data": {
            "text/html": [
              "<div>\n",
              "<style scoped>\n",
              "    .dataframe tbody tr th:only-of-type {\n",
              "        vertical-align: middle;\n",
              "    }\n",
              "\n",
              "    .dataframe tbody tr th {\n",
              "        vertical-align: top;\n",
              "    }\n",
              "\n",
              "    .dataframe thead th {\n",
              "        text-align: right;\n",
              "    }\n",
              "</style>\n",
              "<table border=\"1\" class=\"dataframe\">\n",
              "  <thead>\n",
              "    <tr style=\"text-align: right;\">\n",
              "      <th></th>\n",
              "      <th>province</th>\n",
              "      <th>population</th>\n",
              "      <th>year</th>\n",
              "      <th>debt</th>\n",
              "    </tr>\n",
              "  </thead>\n",
              "  <tbody>\n",
              "    <tr>\n",
              "      <th>0</th>\n",
              "      <td>M</td>\n",
              "      <td>1500000.0</td>\n",
              "      <td>1900</td>\n",
              "      <td>NaN</td>\n",
              "    </tr>\n",
              "    <tr>\n",
              "      <th>1</th>\n",
              "      <td>M</td>\n",
              "      <td>2000000.0</td>\n",
              "      <td>1950</td>\n",
              "      <td>NaN</td>\n",
              "    </tr>\n",
              "    <tr>\n",
              "      <th>2</th>\n",
              "      <td>M</td>\n",
              "      <td>3000000.0</td>\n",
              "      <td>2000</td>\n",
              "      <td>NaN</td>\n",
              "    </tr>\n",
              "    <tr>\n",
              "      <th>3</th>\n",
              "      <td>B</td>\n",
              "      <td>5000000.0</td>\n",
              "      <td>1900</td>\n",
              "      <td>NaN</td>\n",
              "    </tr>\n",
              "    <tr>\n",
              "      <th>4</th>\n",
              "      <td>B</td>\n",
              "      <td>1500000.0</td>\n",
              "      <td>2000</td>\n",
              "      <td>NaN</td>\n",
              "    </tr>\n",
              "  </tbody>\n",
              "</table>\n",
              "</div>"
            ],
            "text/plain": [
              "  province  population  year debt\n",
              "0        M   1500000.0  1900  NaN\n",
              "1        M   2000000.0  1950  NaN\n",
              "2        M   3000000.0  2000  NaN\n",
              "3        B   5000000.0  1900  NaN\n",
              "4        B   1500000.0  2000  NaN"
            ]
          },
          "metadata": {
            "tags": []
          },
          "execution_count": 44
        }
      ]
    },
    {
      "cell_type": "code",
      "metadata": {
        "colab": {
          "base_uri": "https://localhost:8080/"
        },
        "id": "RachWs5MU8dN",
        "outputId": "fb8ac7c9-a86f-4b9b-8572-6920952a8e28"
      },
      "source": [
        "df2.index # Python construye un índice iterado"
      ],
      "execution_count": null,
      "outputs": [
        {
          "output_type": "execute_result",
          "data": {
            "text/plain": [
              "RangeIndex(start=0, stop=5, step=1)"
            ]
          },
          "metadata": {
            "tags": []
          },
          "execution_count": 45
        }
      ]
    },
    {
      "cell_type": "code",
      "metadata": {
        "colab": {
          "base_uri": "https://localhost:8080/"
        },
        "id": "sh9ue2IVU8f6",
        "outputId": "cdcd560f-05f0-4858-ea6c-a588f7a0d496"
      },
      "source": [
        "df2.columns"
      ],
      "execution_count": null,
      "outputs": [
        {
          "output_type": "execute_result",
          "data": {
            "text/plain": [
              "Index(['province', 'population', 'year', 'debt'], dtype='object')"
            ]
          },
          "metadata": {
            "tags": []
          },
          "execution_count": 46
        }
      ]
    },
    {
      "cell_type": "code",
      "metadata": {
        "colab": {
          "base_uri": "https://localhost:8080/"
        },
        "id": "NtS0nUWUU8if",
        "outputId": "0a8e58e8-536d-4a71-a88d-a1caac4a8f11"
      },
      "source": [
        "type(df2.columns)"
      ],
      "execution_count": null,
      "outputs": [
        {
          "output_type": "execute_result",
          "data": {
            "text/plain": [
              "pandas.core.indexes.base.Index"
            ]
          },
          "metadata": {
            "tags": []
          },
          "execution_count": 47
        }
      ]
    },
    {
      "cell_type": "code",
      "metadata": {
        "colab": {
          "base_uri": "https://localhost:8080/"
        },
        "id": "gSlRFoK0Tyie",
        "outputId": "74118a1b-96d4-4223-9298-a09827544f72"
      },
      "source": [
        "df['population']"
      ],
      "execution_count": null,
      "outputs": [
        {
          "output_type": "execute_result",
          "data": {
            "text/plain": [
              "0    1500000.0\n",
              "1    2000000.0\n",
              "2    3000000.0\n",
              "3    5000000.0\n",
              "4    1500000.0\n",
              "Name: population, dtype: float64"
            ]
          },
          "metadata": {
            "tags": []
          },
          "execution_count": 48
        }
      ]
    },
    {
      "cell_type": "code",
      "metadata": {
        "colab": {
          "base_uri": "https://localhost:8080/"
        },
        "id": "_cjHzYzsYYq6",
        "outputId": "0283e880-003e-4184-f974-bb39baa96f48"
      },
      "source": [
        "df.population"
      ],
      "execution_count": null,
      "outputs": [
        {
          "output_type": "execute_result",
          "data": {
            "text/plain": [
              "0    1500000.0\n",
              "1    2000000.0\n",
              "2    3000000.0\n",
              "3    5000000.0\n",
              "4    1500000.0\n",
              "Name: population, dtype: float64"
            ]
          },
          "metadata": {
            "tags": []
          },
          "execution_count": 49
        }
      ]
    },
    {
      "cell_type": "code",
      "metadata": {
        "colab": {
          "base_uri": "https://localhost:8080/",
          "height": 195
        },
        "id": "MO4nlgQlYYt0",
        "outputId": "e1ce75e0-f64e-40fa-a364-21a32b229105"
      },
      "source": [
        "df2['2nd_language'] = np.nan # Añadir una columna\r\n",
        "df2"
      ],
      "execution_count": null,
      "outputs": [
        {
          "output_type": "execute_result",
          "data": {
            "text/html": [
              "<div>\n",
              "<style scoped>\n",
              "    .dataframe tbody tr th:only-of-type {\n",
              "        vertical-align: middle;\n",
              "    }\n",
              "\n",
              "    .dataframe tbody tr th {\n",
              "        vertical-align: top;\n",
              "    }\n",
              "\n",
              "    .dataframe thead th {\n",
              "        text-align: right;\n",
              "    }\n",
              "</style>\n",
              "<table border=\"1\" class=\"dataframe\">\n",
              "  <thead>\n",
              "    <tr style=\"text-align: right;\">\n",
              "      <th></th>\n",
              "      <th>province</th>\n",
              "      <th>population</th>\n",
              "      <th>year</th>\n",
              "      <th>debt</th>\n",
              "      <th>2nd_language</th>\n",
              "    </tr>\n",
              "  </thead>\n",
              "  <tbody>\n",
              "    <tr>\n",
              "      <th>0</th>\n",
              "      <td>M</td>\n",
              "      <td>1500000.0</td>\n",
              "      <td>1900</td>\n",
              "      <td>NaN</td>\n",
              "      <td>NaN</td>\n",
              "    </tr>\n",
              "    <tr>\n",
              "      <th>1</th>\n",
              "      <td>M</td>\n",
              "      <td>2000000.0</td>\n",
              "      <td>1950</td>\n",
              "      <td>NaN</td>\n",
              "      <td>NaN</td>\n",
              "    </tr>\n",
              "    <tr>\n",
              "      <th>2</th>\n",
              "      <td>M</td>\n",
              "      <td>3000000.0</td>\n",
              "      <td>2000</td>\n",
              "      <td>NaN</td>\n",
              "      <td>NaN</td>\n",
              "    </tr>\n",
              "    <tr>\n",
              "      <th>3</th>\n",
              "      <td>B</td>\n",
              "      <td>5000000.0</td>\n",
              "      <td>1900</td>\n",
              "      <td>NaN</td>\n",
              "      <td>NaN</td>\n",
              "    </tr>\n",
              "    <tr>\n",
              "      <th>4</th>\n",
              "      <td>B</td>\n",
              "      <td>1500000.0</td>\n",
              "      <td>2000</td>\n",
              "      <td>NaN</td>\n",
              "      <td>NaN</td>\n",
              "    </tr>\n",
              "  </tbody>\n",
              "</table>\n",
              "</div>"
            ],
            "text/plain": [
              "  province  population  year debt  2nd_language\n",
              "0        M   1500000.0  1900  NaN           NaN\n",
              "1        M   2000000.0  1950  NaN           NaN\n",
              "2        M   3000000.0  2000  NaN           NaN\n",
              "3        B   5000000.0  1900  NaN           NaN\n",
              "4        B   1500000.0  2000  NaN           NaN"
            ]
          },
          "metadata": {
            "tags": []
          },
          "execution_count": 50
        }
      ]
    },
    {
      "cell_type": "code",
      "metadata": {
        "colab": {
          "base_uri": "https://localhost:8080/"
        },
        "id": "QY76EyboYmHd",
        "outputId": "bfcf4fdf-3a24-4d9d-90d3-5d0d6efe58cf"
      },
      "source": [
        "df2['2nd_language']"
      ],
      "execution_count": null,
      "outputs": [
        {
          "output_type": "execute_result",
          "data": {
            "text/plain": [
              "0   NaN\n",
              "1   NaN\n",
              "2   NaN\n",
              "3   NaN\n",
              "4   NaN\n",
              "Name: 2nd_language, dtype: float64"
            ]
          },
          "metadata": {
            "tags": []
          },
          "execution_count": 51
        }
      ]
    },
    {
      "cell_type": "code",
      "metadata": {
        "colab": {
          "base_uri": "https://localhost:8080/",
          "height": 128
        },
        "id": "wtl7YcM4YmKM",
        "outputId": "b4e0987d-b687-4555-de5c-e9810d3bafb5"
      },
      "source": [
        "df2.2nd_language # Error por empezar por un número tras el punto"
      ],
      "execution_count": null,
      "outputs": [
        {
          "output_type": "error",
          "ename": "SyntaxError",
          "evalue": "ignored",
          "traceback": [
            "\u001b[0;36m  File \u001b[0;32m\"<ipython-input-52-666b3aa4bfba>\"\u001b[0;36m, line \u001b[0;32m1\u001b[0m\n\u001b[0;31m    df2.2nd_language\u001b[0m\n\u001b[0m        ^\u001b[0m\n\u001b[0;31mSyntaxError\u001b[0m\u001b[0;31m:\u001b[0m invalid syntax\n"
          ]
        }
      ]
    },
    {
      "cell_type": "code",
      "metadata": {
        "colab": {
          "base_uri": "https://localhost:8080/",
          "height": 195
        },
        "id": "6VCM6GOGYmMc",
        "outputId": "563fc18d-8e88-4738-deb7-dd731ea7f83c"
      },
      "source": [
        "df2.index = list('abcde')\r\n",
        "df2"
      ],
      "execution_count": null,
      "outputs": [
        {
          "output_type": "execute_result",
          "data": {
            "text/html": [
              "<div>\n",
              "<style scoped>\n",
              "    .dataframe tbody tr th:only-of-type {\n",
              "        vertical-align: middle;\n",
              "    }\n",
              "\n",
              "    .dataframe tbody tr th {\n",
              "        vertical-align: top;\n",
              "    }\n",
              "\n",
              "    .dataframe thead th {\n",
              "        text-align: right;\n",
              "    }\n",
              "</style>\n",
              "<table border=\"1\" class=\"dataframe\">\n",
              "  <thead>\n",
              "    <tr style=\"text-align: right;\">\n",
              "      <th></th>\n",
              "      <th>province</th>\n",
              "      <th>population</th>\n",
              "      <th>year</th>\n",
              "      <th>debt</th>\n",
              "      <th>2nd_language</th>\n",
              "    </tr>\n",
              "  </thead>\n",
              "  <tbody>\n",
              "    <tr>\n",
              "      <th>a</th>\n",
              "      <td>M</td>\n",
              "      <td>1500000.0</td>\n",
              "      <td>1900</td>\n",
              "      <td>NaN</td>\n",
              "      <td>NaN</td>\n",
              "    </tr>\n",
              "    <tr>\n",
              "      <th>b</th>\n",
              "      <td>M</td>\n",
              "      <td>2000000.0</td>\n",
              "      <td>1950</td>\n",
              "      <td>NaN</td>\n",
              "      <td>NaN</td>\n",
              "    </tr>\n",
              "    <tr>\n",
              "      <th>c</th>\n",
              "      <td>M</td>\n",
              "      <td>3000000.0</td>\n",
              "      <td>2000</td>\n",
              "      <td>NaN</td>\n",
              "      <td>NaN</td>\n",
              "    </tr>\n",
              "    <tr>\n",
              "      <th>d</th>\n",
              "      <td>B</td>\n",
              "      <td>5000000.0</td>\n",
              "      <td>1900</td>\n",
              "      <td>NaN</td>\n",
              "      <td>NaN</td>\n",
              "    </tr>\n",
              "    <tr>\n",
              "      <th>e</th>\n",
              "      <td>B</td>\n",
              "      <td>1500000.0</td>\n",
              "      <td>2000</td>\n",
              "      <td>NaN</td>\n",
              "      <td>NaN</td>\n",
              "    </tr>\n",
              "  </tbody>\n",
              "</table>\n",
              "</div>"
            ],
            "text/plain": [
              "  province  population  year debt  2nd_language\n",
              "a        M   1500000.0  1900  NaN           NaN\n",
              "b        M   2000000.0  1950  NaN           NaN\n",
              "c        M   3000000.0  2000  NaN           NaN\n",
              "d        B   5000000.0  1900  NaN           NaN\n",
              "e        B   1500000.0  2000  NaN           NaN"
            ]
          },
          "metadata": {
            "tags": []
          },
          "execution_count": 53
        }
      ]
    },
    {
      "cell_type": "code",
      "metadata": {
        "colab": {
          "base_uri": "https://localhost:8080/"
        },
        "id": "hGwgNp0BYmPa",
        "outputId": "17f5c5e8-75b5-4f06-a73c-d23f1079f9b8"
      },
      "source": [
        "df2.index"
      ],
      "execution_count": null,
      "outputs": [
        {
          "output_type": "execute_result",
          "data": {
            "text/plain": [
              "Index(['a', 'b', 'c', 'd', 'e'], dtype='object')"
            ]
          },
          "metadata": {
            "tags": []
          },
          "execution_count": 54
        }
      ]
    },
    {
      "cell_type": "code",
      "metadata": {
        "colab": {
          "base_uri": "https://localhost:8080/"
        },
        "id": "5QirAbsLYYwo",
        "outputId": "730f2e36-a3e6-446f-8016-5be3f971f748"
      },
      "source": [
        "df2.loc['c']"
      ],
      "execution_count": null,
      "outputs": [
        {
          "output_type": "execute_result",
          "data": {
            "text/plain": [
              "province            M\n",
              "population      3e+06\n",
              "year             2000\n",
              "debt              NaN\n",
              "2nd_language      NaN\n",
              "Name: c, dtype: object"
            ]
          },
          "metadata": {
            "tags": []
          },
          "execution_count": 55
        }
      ]
    },
    {
      "cell_type": "code",
      "metadata": {
        "colab": {
          "base_uri": "https://localhost:8080/",
          "height": 136
        },
        "id": "wTbEIzlkYYzO",
        "outputId": "0ea9f4f3-2d96-44dd-c37c-fed52e25531c"
      },
      "source": [
        "df2.loc['a':'c'] # En este caso incluye también la 'c', no como en Python"
      ],
      "execution_count": null,
      "outputs": [
        {
          "output_type": "execute_result",
          "data": {
            "text/html": [
              "<div>\n",
              "<style scoped>\n",
              "    .dataframe tbody tr th:only-of-type {\n",
              "        vertical-align: middle;\n",
              "    }\n",
              "\n",
              "    .dataframe tbody tr th {\n",
              "        vertical-align: top;\n",
              "    }\n",
              "\n",
              "    .dataframe thead th {\n",
              "        text-align: right;\n",
              "    }\n",
              "</style>\n",
              "<table border=\"1\" class=\"dataframe\">\n",
              "  <thead>\n",
              "    <tr style=\"text-align: right;\">\n",
              "      <th></th>\n",
              "      <th>province</th>\n",
              "      <th>population</th>\n",
              "      <th>year</th>\n",
              "      <th>debt</th>\n",
              "      <th>2nd_language</th>\n",
              "    </tr>\n",
              "  </thead>\n",
              "  <tbody>\n",
              "    <tr>\n",
              "      <th>a</th>\n",
              "      <td>M</td>\n",
              "      <td>1500000.0</td>\n",
              "      <td>1900</td>\n",
              "      <td>NaN</td>\n",
              "      <td>NaN</td>\n",
              "    </tr>\n",
              "    <tr>\n",
              "      <th>b</th>\n",
              "      <td>M</td>\n",
              "      <td>2000000.0</td>\n",
              "      <td>1950</td>\n",
              "      <td>NaN</td>\n",
              "      <td>NaN</td>\n",
              "    </tr>\n",
              "    <tr>\n",
              "      <th>c</th>\n",
              "      <td>M</td>\n",
              "      <td>3000000.0</td>\n",
              "      <td>2000</td>\n",
              "      <td>NaN</td>\n",
              "      <td>NaN</td>\n",
              "    </tr>\n",
              "  </tbody>\n",
              "</table>\n",
              "</div>"
            ],
            "text/plain": [
              "  province  population  year debt  2nd_language\n",
              "a        M   1500000.0  1900  NaN           NaN\n",
              "b        M   2000000.0  1950  NaN           NaN\n",
              "c        M   3000000.0  2000  NaN           NaN"
            ]
          },
          "metadata": {
            "tags": []
          },
          "execution_count": 57
        }
      ]
    },
    {
      "cell_type": "code",
      "metadata": {
        "colab": {
          "base_uri": "https://localhost:8080/",
          "height": 77
        },
        "id": "mvR2p_aNYY2C",
        "outputId": "6f35bad2-f313-4994-9bfe-0adc031d7d9a"
      },
      "source": [
        "df2.loc[['c']]"
      ],
      "execution_count": null,
      "outputs": [
        {
          "output_type": "execute_result",
          "data": {
            "text/html": [
              "<div>\n",
              "<style scoped>\n",
              "    .dataframe tbody tr th:only-of-type {\n",
              "        vertical-align: middle;\n",
              "    }\n",
              "\n",
              "    .dataframe tbody tr th {\n",
              "        vertical-align: top;\n",
              "    }\n",
              "\n",
              "    .dataframe thead th {\n",
              "        text-align: right;\n",
              "    }\n",
              "</style>\n",
              "<table border=\"1\" class=\"dataframe\">\n",
              "  <thead>\n",
              "    <tr style=\"text-align: right;\">\n",
              "      <th></th>\n",
              "      <th>province</th>\n",
              "      <th>population</th>\n",
              "      <th>year</th>\n",
              "      <th>debt</th>\n",
              "      <th>2nd_language</th>\n",
              "    </tr>\n",
              "  </thead>\n",
              "  <tbody>\n",
              "    <tr>\n",
              "      <th>c</th>\n",
              "      <td>M</td>\n",
              "      <td>3000000.0</td>\n",
              "      <td>2000</td>\n",
              "      <td>NaN</td>\n",
              "      <td>NaN</td>\n",
              "    </tr>\n",
              "  </tbody>\n",
              "</table>\n",
              "</div>"
            ],
            "text/plain": [
              "  province  population  year debt  2nd_language\n",
              "c        M   3000000.0  2000  NaN           NaN"
            ]
          },
          "metadata": {
            "tags": []
          },
          "execution_count": 58
        }
      ]
    },
    {
      "cell_type": "code",
      "metadata": {
        "colab": {
          "base_uri": "https://localhost:8080/",
          "height": 106
        },
        "id": "4zUo7Jvdad7k",
        "outputId": "2a303f92-e622-4a39-b211-99d28ff6ad8e"
      },
      "source": [
        "df2.loc[df2['year'] > 1950]"
      ],
      "execution_count": null,
      "outputs": [
        {
          "output_type": "execute_result",
          "data": {
            "text/html": [
              "<div>\n",
              "<style scoped>\n",
              "    .dataframe tbody tr th:only-of-type {\n",
              "        vertical-align: middle;\n",
              "    }\n",
              "\n",
              "    .dataframe tbody tr th {\n",
              "        vertical-align: top;\n",
              "    }\n",
              "\n",
              "    .dataframe thead th {\n",
              "        text-align: right;\n",
              "    }\n",
              "</style>\n",
              "<table border=\"1\" class=\"dataframe\">\n",
              "  <thead>\n",
              "    <tr style=\"text-align: right;\">\n",
              "      <th></th>\n",
              "      <th>province</th>\n",
              "      <th>population</th>\n",
              "      <th>year</th>\n",
              "      <th>debt</th>\n",
              "      <th>2nd_language</th>\n",
              "    </tr>\n",
              "  </thead>\n",
              "  <tbody>\n",
              "    <tr>\n",
              "      <th>c</th>\n",
              "      <td>M</td>\n",
              "      <td>3000000.0</td>\n",
              "      <td>2000</td>\n",
              "      <td>NaN</td>\n",
              "      <td>NaN</td>\n",
              "    </tr>\n",
              "    <tr>\n",
              "      <th>e</th>\n",
              "      <td>B</td>\n",
              "      <td>1500000.0</td>\n",
              "      <td>2000</td>\n",
              "      <td>NaN</td>\n",
              "      <td>NaN</td>\n",
              "    </tr>\n",
              "  </tbody>\n",
              "</table>\n",
              "</div>"
            ],
            "text/plain": [
              "  province  population  year debt  2nd_language\n",
              "c        M   3000000.0  2000  NaN           NaN\n",
              "e        B   1500000.0  2000  NaN           NaN"
            ]
          },
          "metadata": {
            "tags": []
          },
          "execution_count": 59
        }
      ]
    },
    {
      "cell_type": "code",
      "metadata": {
        "colab": {
          "base_uri": "https://localhost:8080/"
        },
        "id": "CzwKSVh0ad-Z",
        "outputId": "18db2cdf-fdf0-4670-f7a9-dcb0102df225"
      },
      "source": [
        "val = pd.Series([0.1, 0.6, 0.9], index = ['b', 'd', 'e'])\r\n",
        "val"
      ],
      "execution_count": null,
      "outputs": [
        {
          "output_type": "execute_result",
          "data": {
            "text/plain": [
              "b    0.1\n",
              "d    0.6\n",
              "e    0.9\n",
              "dtype: float64"
            ]
          },
          "metadata": {
            "tags": []
          },
          "execution_count": 60
        }
      ]
    },
    {
      "cell_type": "code",
      "metadata": {
        "colab": {
          "base_uri": "https://localhost:8080/",
          "height": 195
        },
        "id": "SR2AG2mWaeCn",
        "outputId": "d76beee0-e47a-48c1-91f4-8eb71a604d46"
      },
      "source": [
        "df2['debt'] = [1,0,2,0.5,0.7]\r\n",
        "df2"
      ],
      "execution_count": null,
      "outputs": [
        {
          "output_type": "execute_result",
          "data": {
            "text/html": [
              "<div>\n",
              "<style scoped>\n",
              "    .dataframe tbody tr th:only-of-type {\n",
              "        vertical-align: middle;\n",
              "    }\n",
              "\n",
              "    .dataframe tbody tr th {\n",
              "        vertical-align: top;\n",
              "    }\n",
              "\n",
              "    .dataframe thead th {\n",
              "        text-align: right;\n",
              "    }\n",
              "</style>\n",
              "<table border=\"1\" class=\"dataframe\">\n",
              "  <thead>\n",
              "    <tr style=\"text-align: right;\">\n",
              "      <th></th>\n",
              "      <th>province</th>\n",
              "      <th>population</th>\n",
              "      <th>year</th>\n",
              "      <th>debt</th>\n",
              "      <th>2nd_language</th>\n",
              "    </tr>\n",
              "  </thead>\n",
              "  <tbody>\n",
              "    <tr>\n",
              "      <th>a</th>\n",
              "      <td>M</td>\n",
              "      <td>1500000.0</td>\n",
              "      <td>1900</td>\n",
              "      <td>1.0</td>\n",
              "      <td>NaN</td>\n",
              "    </tr>\n",
              "    <tr>\n",
              "      <th>b</th>\n",
              "      <td>M</td>\n",
              "      <td>2000000.0</td>\n",
              "      <td>1950</td>\n",
              "      <td>0.0</td>\n",
              "      <td>NaN</td>\n",
              "    </tr>\n",
              "    <tr>\n",
              "      <th>c</th>\n",
              "      <td>M</td>\n",
              "      <td>3000000.0</td>\n",
              "      <td>2000</td>\n",
              "      <td>2.0</td>\n",
              "      <td>NaN</td>\n",
              "    </tr>\n",
              "    <tr>\n",
              "      <th>d</th>\n",
              "      <td>B</td>\n",
              "      <td>5000000.0</td>\n",
              "      <td>1900</td>\n",
              "      <td>0.5</td>\n",
              "      <td>NaN</td>\n",
              "    </tr>\n",
              "    <tr>\n",
              "      <th>e</th>\n",
              "      <td>B</td>\n",
              "      <td>1500000.0</td>\n",
              "      <td>2000</td>\n",
              "      <td>0.7</td>\n",
              "      <td>NaN</td>\n",
              "    </tr>\n",
              "  </tbody>\n",
              "</table>\n",
              "</div>"
            ],
            "text/plain": [
              "  province  population  year  debt  2nd_language\n",
              "a        M   1500000.0  1900   1.0           NaN\n",
              "b        M   2000000.0  1950   0.0           NaN\n",
              "c        M   3000000.0  2000   2.0           NaN\n",
              "d        B   5000000.0  1900   0.5           NaN\n",
              "e        B   1500000.0  2000   0.7           NaN"
            ]
          },
          "metadata": {
            "tags": []
          },
          "execution_count": 61
        }
      ]
    },
    {
      "cell_type": "code",
      "metadata": {
        "colab": {
          "base_uri": "https://localhost:8080/",
          "height": 195
        },
        "id": "oqL2McQaTykw",
        "outputId": "e7f16a52-8878-4b4d-cd89-3220d7f2d4d4"
      },
      "source": [
        "df2['debt'] = val\r\n",
        "df2"
      ],
      "execution_count": null,
      "outputs": [
        {
          "output_type": "execute_result",
          "data": {
            "text/html": [
              "<div>\n",
              "<style scoped>\n",
              "    .dataframe tbody tr th:only-of-type {\n",
              "        vertical-align: middle;\n",
              "    }\n",
              "\n",
              "    .dataframe tbody tr th {\n",
              "        vertical-align: top;\n",
              "    }\n",
              "\n",
              "    .dataframe thead th {\n",
              "        text-align: right;\n",
              "    }\n",
              "</style>\n",
              "<table border=\"1\" class=\"dataframe\">\n",
              "  <thead>\n",
              "    <tr style=\"text-align: right;\">\n",
              "      <th></th>\n",
              "      <th>province</th>\n",
              "      <th>population</th>\n",
              "      <th>year</th>\n",
              "      <th>debt</th>\n",
              "      <th>2nd_language</th>\n",
              "    </tr>\n",
              "  </thead>\n",
              "  <tbody>\n",
              "    <tr>\n",
              "      <th>a</th>\n",
              "      <td>M</td>\n",
              "      <td>1500000.0</td>\n",
              "      <td>1900</td>\n",
              "      <td>NaN</td>\n",
              "      <td>NaN</td>\n",
              "    </tr>\n",
              "    <tr>\n",
              "      <th>b</th>\n",
              "      <td>M</td>\n",
              "      <td>2000000.0</td>\n",
              "      <td>1950</td>\n",
              "      <td>0.1</td>\n",
              "      <td>NaN</td>\n",
              "    </tr>\n",
              "    <tr>\n",
              "      <th>c</th>\n",
              "      <td>M</td>\n",
              "      <td>3000000.0</td>\n",
              "      <td>2000</td>\n",
              "      <td>NaN</td>\n",
              "      <td>NaN</td>\n",
              "    </tr>\n",
              "    <tr>\n",
              "      <th>d</th>\n",
              "      <td>B</td>\n",
              "      <td>5000000.0</td>\n",
              "      <td>1900</td>\n",
              "      <td>0.6</td>\n",
              "      <td>NaN</td>\n",
              "    </tr>\n",
              "    <tr>\n",
              "      <th>e</th>\n",
              "      <td>B</td>\n",
              "      <td>1500000.0</td>\n",
              "      <td>2000</td>\n",
              "      <td>0.9</td>\n",
              "      <td>NaN</td>\n",
              "    </tr>\n",
              "  </tbody>\n",
              "</table>\n",
              "</div>"
            ],
            "text/plain": [
              "  province  population  year  debt  2nd_language\n",
              "a        M   1500000.0  1900   NaN           NaN\n",
              "b        M   2000000.0  1950   0.1           NaN\n",
              "c        M   3000000.0  2000   NaN           NaN\n",
              "d        B   5000000.0  1900   0.6           NaN\n",
              "e        B   1500000.0  2000   0.9           NaN"
            ]
          },
          "metadata": {
            "tags": []
          },
          "execution_count": 62
        }
      ]
    },
    {
      "cell_type": "code",
      "metadata": {
        "colab": {
          "base_uri": "https://localhost:8080/",
          "height": 195
        },
        "id": "ioyZBvV-ZTgb",
        "outputId": "96383125-1f91-4450-a857-8134a21acab2"
      },
      "source": [
        "df2['capital'] = df2['province'] == 'M'\r\n",
        "df2"
      ],
      "execution_count": null,
      "outputs": [
        {
          "output_type": "execute_result",
          "data": {
            "text/html": [
              "<div>\n",
              "<style scoped>\n",
              "    .dataframe tbody tr th:only-of-type {\n",
              "        vertical-align: middle;\n",
              "    }\n",
              "\n",
              "    .dataframe tbody tr th {\n",
              "        vertical-align: top;\n",
              "    }\n",
              "\n",
              "    .dataframe thead th {\n",
              "        text-align: right;\n",
              "    }\n",
              "</style>\n",
              "<table border=\"1\" class=\"dataframe\">\n",
              "  <thead>\n",
              "    <tr style=\"text-align: right;\">\n",
              "      <th></th>\n",
              "      <th>province</th>\n",
              "      <th>population</th>\n",
              "      <th>year</th>\n",
              "      <th>debt</th>\n",
              "      <th>2nd_language</th>\n",
              "      <th>capital</th>\n",
              "    </tr>\n",
              "  </thead>\n",
              "  <tbody>\n",
              "    <tr>\n",
              "      <th>a</th>\n",
              "      <td>M</td>\n",
              "      <td>1500000.0</td>\n",
              "      <td>1900</td>\n",
              "      <td>NaN</td>\n",
              "      <td>NaN</td>\n",
              "      <td>True</td>\n",
              "    </tr>\n",
              "    <tr>\n",
              "      <th>b</th>\n",
              "      <td>M</td>\n",
              "      <td>2000000.0</td>\n",
              "      <td>1950</td>\n",
              "      <td>0.1</td>\n",
              "      <td>NaN</td>\n",
              "      <td>True</td>\n",
              "    </tr>\n",
              "    <tr>\n",
              "      <th>c</th>\n",
              "      <td>M</td>\n",
              "      <td>3000000.0</td>\n",
              "      <td>2000</td>\n",
              "      <td>NaN</td>\n",
              "      <td>NaN</td>\n",
              "      <td>True</td>\n",
              "    </tr>\n",
              "    <tr>\n",
              "      <th>d</th>\n",
              "      <td>B</td>\n",
              "      <td>5000000.0</td>\n",
              "      <td>1900</td>\n",
              "      <td>0.6</td>\n",
              "      <td>NaN</td>\n",
              "      <td>False</td>\n",
              "    </tr>\n",
              "    <tr>\n",
              "      <th>e</th>\n",
              "      <td>B</td>\n",
              "      <td>1500000.0</td>\n",
              "      <td>2000</td>\n",
              "      <td>0.9</td>\n",
              "      <td>NaN</td>\n",
              "      <td>False</td>\n",
              "    </tr>\n",
              "  </tbody>\n",
              "</table>\n",
              "</div>"
            ],
            "text/plain": [
              "  province  population  year  debt  2nd_language  capital\n",
              "a        M   1500000.0  1900   NaN           NaN     True\n",
              "b        M   2000000.0  1950   0.1           NaN     True\n",
              "c        M   3000000.0  2000   NaN           NaN     True\n",
              "d        B   5000000.0  1900   0.6           NaN    False\n",
              "e        B   1500000.0  2000   0.9           NaN    False"
            ]
          },
          "metadata": {
            "tags": []
          },
          "execution_count": 63
        }
      ]
    },
    {
      "cell_type": "code",
      "metadata": {
        "colab": {
          "base_uri": "https://localhost:8080/",
          "height": 195
        },
        "id": "ylScFcLtZTi9",
        "outputId": "314d3275-ac72-43e1-f1e7-b9bb9535becf"
      },
      "source": [
        "del df2['2nd_language']\r\n",
        "df2"
      ],
      "execution_count": null,
      "outputs": [
        {
          "output_type": "execute_result",
          "data": {
            "text/html": [
              "<div>\n",
              "<style scoped>\n",
              "    .dataframe tbody tr th:only-of-type {\n",
              "        vertical-align: middle;\n",
              "    }\n",
              "\n",
              "    .dataframe tbody tr th {\n",
              "        vertical-align: top;\n",
              "    }\n",
              "\n",
              "    .dataframe thead th {\n",
              "        text-align: right;\n",
              "    }\n",
              "</style>\n",
              "<table border=\"1\" class=\"dataframe\">\n",
              "  <thead>\n",
              "    <tr style=\"text-align: right;\">\n",
              "      <th></th>\n",
              "      <th>province</th>\n",
              "      <th>population</th>\n",
              "      <th>year</th>\n",
              "      <th>debt</th>\n",
              "      <th>capital</th>\n",
              "    </tr>\n",
              "  </thead>\n",
              "  <tbody>\n",
              "    <tr>\n",
              "      <th>a</th>\n",
              "      <td>M</td>\n",
              "      <td>1500000.0</td>\n",
              "      <td>1900</td>\n",
              "      <td>NaN</td>\n",
              "      <td>True</td>\n",
              "    </tr>\n",
              "    <tr>\n",
              "      <th>b</th>\n",
              "      <td>M</td>\n",
              "      <td>2000000.0</td>\n",
              "      <td>1950</td>\n",
              "      <td>0.1</td>\n",
              "      <td>True</td>\n",
              "    </tr>\n",
              "    <tr>\n",
              "      <th>c</th>\n",
              "      <td>M</td>\n",
              "      <td>3000000.0</td>\n",
              "      <td>2000</td>\n",
              "      <td>NaN</td>\n",
              "      <td>True</td>\n",
              "    </tr>\n",
              "    <tr>\n",
              "      <th>d</th>\n",
              "      <td>B</td>\n",
              "      <td>5000000.0</td>\n",
              "      <td>1900</td>\n",
              "      <td>0.6</td>\n",
              "      <td>False</td>\n",
              "    </tr>\n",
              "    <tr>\n",
              "      <th>e</th>\n",
              "      <td>B</td>\n",
              "      <td>1500000.0</td>\n",
              "      <td>2000</td>\n",
              "      <td>0.9</td>\n",
              "      <td>False</td>\n",
              "    </tr>\n",
              "  </tbody>\n",
              "</table>\n",
              "</div>"
            ],
            "text/plain": [
              "  province  population  year  debt  capital\n",
              "a        M   1500000.0  1900   NaN     True\n",
              "b        M   2000000.0  1950   0.1     True\n",
              "c        M   3000000.0  2000   NaN     True\n",
              "d        B   5000000.0  1900   0.6    False\n",
              "e        B   1500000.0  2000   0.9    False"
            ]
          },
          "metadata": {
            "tags": []
          },
          "execution_count": 64
        }
      ]
    },
    {
      "cell_type": "code",
      "metadata": {
        "colab": {
          "base_uri": "https://localhost:8080/",
          "height": 195
        },
        "id": "QixchVILZTlf",
        "outputId": "1d180634-2afe-4ce4-9ef8-aa6e2d9da272"
      },
      "source": [
        "df2['2nd_language'] = np.nan\r\n",
        "df2"
      ],
      "execution_count": null,
      "outputs": [
        {
          "output_type": "execute_result",
          "data": {
            "text/html": [
              "<div>\n",
              "<style scoped>\n",
              "    .dataframe tbody tr th:only-of-type {\n",
              "        vertical-align: middle;\n",
              "    }\n",
              "\n",
              "    .dataframe tbody tr th {\n",
              "        vertical-align: top;\n",
              "    }\n",
              "\n",
              "    .dataframe thead th {\n",
              "        text-align: right;\n",
              "    }\n",
              "</style>\n",
              "<table border=\"1\" class=\"dataframe\">\n",
              "  <thead>\n",
              "    <tr style=\"text-align: right;\">\n",
              "      <th></th>\n",
              "      <th>province</th>\n",
              "      <th>population</th>\n",
              "      <th>year</th>\n",
              "      <th>debt</th>\n",
              "      <th>capital</th>\n",
              "      <th>2nd_language</th>\n",
              "    </tr>\n",
              "  </thead>\n",
              "  <tbody>\n",
              "    <tr>\n",
              "      <th>a</th>\n",
              "      <td>M</td>\n",
              "      <td>1500000.0</td>\n",
              "      <td>1900</td>\n",
              "      <td>NaN</td>\n",
              "      <td>True</td>\n",
              "      <td>NaN</td>\n",
              "    </tr>\n",
              "    <tr>\n",
              "      <th>b</th>\n",
              "      <td>M</td>\n",
              "      <td>2000000.0</td>\n",
              "      <td>1950</td>\n",
              "      <td>0.1</td>\n",
              "      <td>True</td>\n",
              "      <td>NaN</td>\n",
              "    </tr>\n",
              "    <tr>\n",
              "      <th>c</th>\n",
              "      <td>M</td>\n",
              "      <td>3000000.0</td>\n",
              "      <td>2000</td>\n",
              "      <td>NaN</td>\n",
              "      <td>True</td>\n",
              "      <td>NaN</td>\n",
              "    </tr>\n",
              "    <tr>\n",
              "      <th>d</th>\n",
              "      <td>B</td>\n",
              "      <td>5000000.0</td>\n",
              "      <td>1900</td>\n",
              "      <td>0.6</td>\n",
              "      <td>False</td>\n",
              "      <td>NaN</td>\n",
              "    </tr>\n",
              "    <tr>\n",
              "      <th>e</th>\n",
              "      <td>B</td>\n",
              "      <td>1500000.0</td>\n",
              "      <td>2000</td>\n",
              "      <td>0.9</td>\n",
              "      <td>False</td>\n",
              "      <td>NaN</td>\n",
              "    </tr>\n",
              "  </tbody>\n",
              "</table>\n",
              "</div>"
            ],
            "text/plain": [
              "  province  population  year  debt  capital  2nd_language\n",
              "a        M   1500000.0  1900   NaN     True           NaN\n",
              "b        M   2000000.0  1950   0.1     True           NaN\n",
              "c        M   3000000.0  2000   NaN     True           NaN\n",
              "d        B   5000000.0  1900   0.6    False           NaN\n",
              "e        B   1500000.0  2000   0.9    False           NaN"
            ]
          },
          "metadata": {
            "tags": []
          },
          "execution_count": 65
        }
      ]
    },
    {
      "cell_type": "code",
      "metadata": {
        "colab": {
          "base_uri": "https://localhost:8080/",
          "height": 225
        },
        "id": "IfH1KjzljCPa",
        "outputId": "ad535d01-3697-402f-a638-212b201269cc"
      },
      "source": [
        "df2.T"
      ],
      "execution_count": null,
      "outputs": [
        {
          "output_type": "execute_result",
          "data": {
            "text/html": [
              "<div>\n",
              "<style scoped>\n",
              "    .dataframe tbody tr th:only-of-type {\n",
              "        vertical-align: middle;\n",
              "    }\n",
              "\n",
              "    .dataframe tbody tr th {\n",
              "        vertical-align: top;\n",
              "    }\n",
              "\n",
              "    .dataframe thead th {\n",
              "        text-align: right;\n",
              "    }\n",
              "</style>\n",
              "<table border=\"1\" class=\"dataframe\">\n",
              "  <thead>\n",
              "    <tr style=\"text-align: right;\">\n",
              "      <th></th>\n",
              "      <th>a</th>\n",
              "      <th>b</th>\n",
              "      <th>c</th>\n",
              "      <th>d</th>\n",
              "      <th>e</th>\n",
              "    </tr>\n",
              "  </thead>\n",
              "  <tbody>\n",
              "    <tr>\n",
              "      <th>province</th>\n",
              "      <td>M</td>\n",
              "      <td>M</td>\n",
              "      <td>M</td>\n",
              "      <td>B</td>\n",
              "      <td>B</td>\n",
              "    </tr>\n",
              "    <tr>\n",
              "      <th>population</th>\n",
              "      <td>1.5e+06</td>\n",
              "      <td>2e+06</td>\n",
              "      <td>3e+06</td>\n",
              "      <td>5e+06</td>\n",
              "      <td>1.5e+06</td>\n",
              "    </tr>\n",
              "    <tr>\n",
              "      <th>year</th>\n",
              "      <td>1900</td>\n",
              "      <td>1950</td>\n",
              "      <td>2000</td>\n",
              "      <td>1900</td>\n",
              "      <td>2000</td>\n",
              "    </tr>\n",
              "    <tr>\n",
              "      <th>debt</th>\n",
              "      <td>NaN</td>\n",
              "      <td>0.1</td>\n",
              "      <td>NaN</td>\n",
              "      <td>0.6</td>\n",
              "      <td>0.9</td>\n",
              "    </tr>\n",
              "    <tr>\n",
              "      <th>capital</th>\n",
              "      <td>True</td>\n",
              "      <td>True</td>\n",
              "      <td>True</td>\n",
              "      <td>False</td>\n",
              "      <td>False</td>\n",
              "    </tr>\n",
              "    <tr>\n",
              "      <th>2nd_language</th>\n",
              "      <td>NaN</td>\n",
              "      <td>NaN</td>\n",
              "      <td>NaN</td>\n",
              "      <td>NaN</td>\n",
              "      <td>NaN</td>\n",
              "    </tr>\n",
              "  </tbody>\n",
              "</table>\n",
              "</div>"
            ],
            "text/plain": [
              "                    a      b      c      d        e\n",
              "province            M      M      M      B        B\n",
              "population    1.5e+06  2e+06  3e+06  5e+06  1.5e+06\n",
              "year             1900   1950   2000   1900     2000\n",
              "debt              NaN    0.1    NaN    0.6      0.9\n",
              "capital          True   True   True  False    False\n",
              "2nd_language      NaN    NaN    NaN    NaN      NaN"
            ]
          },
          "metadata": {
            "tags": []
          },
          "execution_count": 66
        }
      ]
    },
    {
      "cell_type": "code",
      "metadata": {
        "colab": {
          "base_uri": "https://localhost:8080/",
          "height": 284
        },
        "id": "X5OEUBb0jRTq",
        "outputId": "368cd7f8-096e-4ea6-cb10-38f8fa66fb53"
      },
      "source": [
        "df2.describe()"
      ],
      "execution_count": null,
      "outputs": [
        {
          "output_type": "execute_result",
          "data": {
            "text/html": [
              "<div>\n",
              "<style scoped>\n",
              "    .dataframe tbody tr th:only-of-type {\n",
              "        vertical-align: middle;\n",
              "    }\n",
              "\n",
              "    .dataframe tbody tr th {\n",
              "        vertical-align: top;\n",
              "    }\n",
              "\n",
              "    .dataframe thead th {\n",
              "        text-align: right;\n",
              "    }\n",
              "</style>\n",
              "<table border=\"1\" class=\"dataframe\">\n",
              "  <thead>\n",
              "    <tr style=\"text-align: right;\">\n",
              "      <th></th>\n",
              "      <th>population</th>\n",
              "      <th>year</th>\n",
              "      <th>debt</th>\n",
              "      <th>2nd_language</th>\n",
              "    </tr>\n",
              "  </thead>\n",
              "  <tbody>\n",
              "    <tr>\n",
              "      <th>count</th>\n",
              "      <td>5.000000e+00</td>\n",
              "      <td>5.0</td>\n",
              "      <td>3.000000</td>\n",
              "      <td>0.0</td>\n",
              "    </tr>\n",
              "    <tr>\n",
              "      <th>mean</th>\n",
              "      <td>2.600000e+06</td>\n",
              "      <td>1950.0</td>\n",
              "      <td>0.533333</td>\n",
              "      <td>NaN</td>\n",
              "    </tr>\n",
              "    <tr>\n",
              "      <th>std</th>\n",
              "      <td>1.474788e+06</td>\n",
              "      <td>50.0</td>\n",
              "      <td>0.404145</td>\n",
              "      <td>NaN</td>\n",
              "    </tr>\n",
              "    <tr>\n",
              "      <th>min</th>\n",
              "      <td>1.500000e+06</td>\n",
              "      <td>1900.0</td>\n",
              "      <td>0.100000</td>\n",
              "      <td>NaN</td>\n",
              "    </tr>\n",
              "    <tr>\n",
              "      <th>25%</th>\n",
              "      <td>1.500000e+06</td>\n",
              "      <td>1900.0</td>\n",
              "      <td>0.350000</td>\n",
              "      <td>NaN</td>\n",
              "    </tr>\n",
              "    <tr>\n",
              "      <th>50%</th>\n",
              "      <td>2.000000e+06</td>\n",
              "      <td>1950.0</td>\n",
              "      <td>0.600000</td>\n",
              "      <td>NaN</td>\n",
              "    </tr>\n",
              "    <tr>\n",
              "      <th>75%</th>\n",
              "      <td>3.000000e+06</td>\n",
              "      <td>2000.0</td>\n",
              "      <td>0.750000</td>\n",
              "      <td>NaN</td>\n",
              "    </tr>\n",
              "    <tr>\n",
              "      <th>max</th>\n",
              "      <td>5.000000e+06</td>\n",
              "      <td>2000.0</td>\n",
              "      <td>0.900000</td>\n",
              "      <td>NaN</td>\n",
              "    </tr>\n",
              "  </tbody>\n",
              "</table>\n",
              "</div>"
            ],
            "text/plain": [
              "         population    year      debt  2nd_language\n",
              "count  5.000000e+00     5.0  3.000000           0.0\n",
              "mean   2.600000e+06  1950.0  0.533333           NaN\n",
              "std    1.474788e+06    50.0  0.404145           NaN\n",
              "min    1.500000e+06  1900.0  0.100000           NaN\n",
              "25%    1.500000e+06  1900.0  0.350000           NaN\n",
              "50%    2.000000e+06  1950.0  0.600000           NaN\n",
              "75%    3.000000e+06  2000.0  0.750000           NaN\n",
              "max    5.000000e+06  2000.0  0.900000           NaN"
            ]
          },
          "metadata": {
            "tags": []
          },
          "execution_count": 67
        }
      ]
    },
    {
      "cell_type": "code",
      "metadata": {
        "colab": {
          "base_uri": "https://localhost:8080/"
        },
        "id": "bTVVVMG8jRa7",
        "outputId": "4295b6f0-e9cb-4364-f0df-9d4efdce48d3"
      },
      "source": [
        "df2.count()"
      ],
      "execution_count": null,
      "outputs": [
        {
          "output_type": "execute_result",
          "data": {
            "text/plain": [
              "province        5\n",
              "population      5\n",
              "year            5\n",
              "debt            3\n",
              "capital         5\n",
              "2nd_language    0\n",
              "dtype: int64"
            ]
          },
          "metadata": {
            "tags": []
          },
          "execution_count": 68
        }
      ]
    },
    {
      "cell_type": "code",
      "metadata": {
        "colab": {
          "base_uri": "https://localhost:8080/"
        },
        "id": "JrC4nV-GjReA",
        "outputId": "b9e5a497-e32d-46da-858c-ba1a97d4a694"
      },
      "source": [
        "df2.info()"
      ],
      "execution_count": null,
      "outputs": [
        {
          "output_type": "stream",
          "text": [
            "<class 'pandas.core.frame.DataFrame'>\n",
            "Index: 5 entries, a to e\n",
            "Data columns (total 6 columns):\n",
            " #   Column        Non-Null Count  Dtype  \n",
            "---  ------        --------------  -----  \n",
            " 0   province      5 non-null      object \n",
            " 1   population    5 non-null      float64\n",
            " 2   year          5 non-null      int64  \n",
            " 3   debt          3 non-null      float64\n",
            " 4   capital       5 non-null      bool   \n",
            " 5   2nd_language  0 non-null      float64\n",
            "dtypes: bool(1), float64(3), int64(1), object(1)\n",
            "memory usage: 405.0+ bytes\n"
          ],
          "name": "stdout"
        }
      ]
    },
    {
      "cell_type": "code",
      "metadata": {
        "colab": {
          "base_uri": "https://localhost:8080/",
          "height": 279
        },
        "id": "gYeihnY-jCSL",
        "outputId": "8d0114e1-67c3-40a5-a815-0d568a0631ed"
      },
      "source": [
        "df2.index[1] = 'x' # Index does not support mutable operations"
      ],
      "execution_count": null,
      "outputs": [
        {
          "output_type": "error",
          "ename": "TypeError",
          "evalue": "ignored",
          "traceback": [
            "\u001b[0;31m---------------------------------------------------------------------------\u001b[0m",
            "\u001b[0;31mTypeError\u001b[0m                                 Traceback (most recent call last)",
            "\u001b[0;32m<ipython-input-70-32edd7626686>\u001b[0m in \u001b[0;36m<module>\u001b[0;34m()\u001b[0m\n\u001b[0;32m----> 1\u001b[0;31m \u001b[0mdf2\u001b[0m\u001b[0;34m.\u001b[0m\u001b[0mindex\u001b[0m\u001b[0;34m[\u001b[0m\u001b[0;36m1\u001b[0m\u001b[0;34m]\u001b[0m \u001b[0;34m=\u001b[0m \u001b[0;34m'x'\u001b[0m\u001b[0;34m\u001b[0m\u001b[0;34m\u001b[0m\u001b[0m\n\u001b[0m",
            "\u001b[0;32m/usr/local/lib/python3.6/dist-packages/pandas/core/indexes/base.py\u001b[0m in \u001b[0;36m__setitem__\u001b[0;34m(self, key, value)\u001b[0m\n\u001b[1;32m   4082\u001b[0m \u001b[0;34m\u001b[0m\u001b[0m\n\u001b[1;32m   4083\u001b[0m     \u001b[0;32mdef\u001b[0m \u001b[0m__setitem__\u001b[0m\u001b[0;34m(\u001b[0m\u001b[0mself\u001b[0m\u001b[0;34m,\u001b[0m \u001b[0mkey\u001b[0m\u001b[0;34m,\u001b[0m \u001b[0mvalue\u001b[0m\u001b[0;34m)\u001b[0m\u001b[0;34m:\u001b[0m\u001b[0;34m\u001b[0m\u001b[0;34m\u001b[0m\u001b[0m\n\u001b[0;32m-> 4084\u001b[0;31m         \u001b[0;32mraise\u001b[0m \u001b[0mTypeError\u001b[0m\u001b[0;34m(\u001b[0m\u001b[0;34m\"Index does not support mutable operations\"\u001b[0m\u001b[0;34m)\u001b[0m\u001b[0;34m\u001b[0m\u001b[0;34m\u001b[0m\u001b[0m\n\u001b[0m\u001b[1;32m   4085\u001b[0m \u001b[0;34m\u001b[0m\u001b[0m\n\u001b[1;32m   4086\u001b[0m     \u001b[0;32mdef\u001b[0m \u001b[0m__getitem__\u001b[0m\u001b[0;34m(\u001b[0m\u001b[0mself\u001b[0m\u001b[0;34m,\u001b[0m \u001b[0mkey\u001b[0m\u001b[0;34m)\u001b[0m\u001b[0;34m:\u001b[0m\u001b[0;34m\u001b[0m\u001b[0;34m\u001b[0m\u001b[0m\n",
            "\u001b[0;31mTypeError\u001b[0m: Index does not support mutable operations"
          ]
        }
      ]
    },
    {
      "cell_type": "code",
      "metadata": {
        "colab": {
          "base_uri": "https://localhost:8080/",
          "height": 35
        },
        "id": "ZfgyVN6HjhAx",
        "outputId": "47c1a971-93e7-480c-ed87-f702c0a611b7"
      },
      "source": [
        "df2.index[1]"
      ],
      "execution_count": null,
      "outputs": [
        {
          "output_type": "execute_result",
          "data": {
            "application/vnd.google.colaboratory.intrinsic+json": {
              "type": "string"
            },
            "text/plain": [
              "'b'"
            ]
          },
          "metadata": {
            "tags": []
          },
          "execution_count": 71
        }
      ]
    },
    {
      "cell_type": "code",
      "metadata": {
        "colab": {
          "base_uri": "https://localhost:8080/"
        },
        "id": "hPi_mQCijhH7",
        "outputId": "5404498d-b6cb-44bc-c8aa-6c954410759c"
      },
      "source": [
        "series_temp = pd.Series([1.5, -2.5, 0, 1, 2], df2.index)\r\n",
        "series_temp"
      ],
      "execution_count": null,
      "outputs": [
        {
          "output_type": "execute_result",
          "data": {
            "text/plain": [
              "a    1.5\n",
              "b   -2.5\n",
              "c    0.0\n",
              "d    1.0\n",
              "e    2.0\n",
              "dtype: float64"
            ]
          },
          "metadata": {
            "tags": []
          },
          "execution_count": 72
        }
      ]
    },
    {
      "cell_type": "code",
      "metadata": {
        "colab": {
          "base_uri": "https://localhost:8080/",
          "height": 136
        },
        "id": "OtUgnCmrjhJn",
        "outputId": "0f66f348-ebef-409f-abe0-88409d48bf7f"
      },
      "source": [
        "df2.iloc[2:]"
      ],
      "execution_count": null,
      "outputs": [
        {
          "output_type": "execute_result",
          "data": {
            "text/html": [
              "<div>\n",
              "<style scoped>\n",
              "    .dataframe tbody tr th:only-of-type {\n",
              "        vertical-align: middle;\n",
              "    }\n",
              "\n",
              "    .dataframe tbody tr th {\n",
              "        vertical-align: top;\n",
              "    }\n",
              "\n",
              "    .dataframe thead th {\n",
              "        text-align: right;\n",
              "    }\n",
              "</style>\n",
              "<table border=\"1\" class=\"dataframe\">\n",
              "  <thead>\n",
              "    <tr style=\"text-align: right;\">\n",
              "      <th></th>\n",
              "      <th>province</th>\n",
              "      <th>population</th>\n",
              "      <th>year</th>\n",
              "      <th>debt</th>\n",
              "      <th>capital</th>\n",
              "      <th>2nd_language</th>\n",
              "    </tr>\n",
              "  </thead>\n",
              "  <tbody>\n",
              "    <tr>\n",
              "      <th>c</th>\n",
              "      <td>M</td>\n",
              "      <td>3000000.0</td>\n",
              "      <td>2000</td>\n",
              "      <td>NaN</td>\n",
              "      <td>True</td>\n",
              "      <td>NaN</td>\n",
              "    </tr>\n",
              "    <tr>\n",
              "      <th>d</th>\n",
              "      <td>B</td>\n",
              "      <td>5000000.0</td>\n",
              "      <td>1900</td>\n",
              "      <td>0.6</td>\n",
              "      <td>False</td>\n",
              "      <td>NaN</td>\n",
              "    </tr>\n",
              "    <tr>\n",
              "      <th>e</th>\n",
              "      <td>B</td>\n",
              "      <td>1500000.0</td>\n",
              "      <td>2000</td>\n",
              "      <td>0.9</td>\n",
              "      <td>False</td>\n",
              "      <td>NaN</td>\n",
              "    </tr>\n",
              "  </tbody>\n",
              "</table>\n",
              "</div>"
            ],
            "text/plain": [
              "  province  population  year  debt  capital  2nd_language\n",
              "c        M   3000000.0  2000   NaN     True           NaN\n",
              "d        B   5000000.0  1900   0.6    False           NaN\n",
              "e        B   1500000.0  2000   0.9    False           NaN"
            ]
          },
          "metadata": {
            "tags": []
          },
          "execution_count": 73
        }
      ]
    },
    {
      "cell_type": "code",
      "metadata": {
        "colab": {
          "base_uri": "https://localhost:8080/"
        },
        "id": "bfUc64KVjhNt",
        "outputId": "3506a05e-ffb7-4405-91cc-63cffee322c4"
      },
      "source": [
        "s5 = pd.Series(np.arange(5), list('jduvk'))\r\n",
        "s5"
      ],
      "execution_count": null,
      "outputs": [
        {
          "output_type": "execute_result",
          "data": {
            "text/plain": [
              "j    0\n",
              "d    1\n",
              "u    2\n",
              "v    3\n",
              "k    4\n",
              "dtype: int64"
            ]
          },
          "metadata": {
            "tags": []
          },
          "execution_count": 75
        }
      ]
    },
    {
      "cell_type": "code",
      "metadata": {
        "colab": {
          "base_uri": "https://localhost:8080/"
        },
        "id": "VTp9xYwOjCUh",
        "outputId": "6f6058fe-7ba9-4dc7-ffb6-1f91b73b1c61"
      },
      "source": [
        "s6 = s5.drop(['d','k'])\r\n",
        "s6"
      ],
      "execution_count": null,
      "outputs": [
        {
          "output_type": "execute_result",
          "data": {
            "text/plain": [
              "j    0\n",
              "u    2\n",
              "v    3\n",
              "dtype: int64"
            ]
          },
          "metadata": {
            "tags": []
          },
          "execution_count": 76
        }
      ]
    },
    {
      "cell_type": "code",
      "metadata": {
        "colab": {
          "base_uri": "https://localhost:8080/"
        },
        "id": "69sl0uMnjCXT",
        "outputId": "c4fb2988-6bdc-4e97-fd06-81fe29b3d522"
      },
      "source": [
        "s6b = s5[s5.index.intersection(['d','k'])]\r\n",
        "s6b"
      ],
      "execution_count": null,
      "outputs": [
        {
          "output_type": "execute_result",
          "data": {
            "text/plain": [
              "d    1\n",
              "k    4\n",
              "dtype: int64"
            ]
          },
          "metadata": {
            "tags": []
          },
          "execution_count": 77
        }
      ]
    },
    {
      "cell_type": "code",
      "metadata": {
        "colab": {
          "base_uri": "https://localhost:8080/"
        },
        "id": "MrI-uqltjCiv",
        "outputId": "d0a75a71-aaf4-4df3-f4a8-17014ccdbab6"
      },
      "source": [
        "s5"
      ],
      "execution_count": null,
      "outputs": [
        {
          "output_type": "execute_result",
          "data": {
            "text/plain": [
              "j    0\n",
              "d    1\n",
              "u    2\n",
              "v    3\n",
              "k    4\n",
              "dtype: int64"
            ]
          },
          "metadata": {
            "tags": []
          },
          "execution_count": 78
        }
      ]
    },
    {
      "cell_type": "code",
      "metadata": {
        "colab": {
          "base_uri": "https://localhost:8080/"
        },
        "id": "qBOL-f27lhWt",
        "outputId": "7245dd82-1a30-4787-86f5-0e08d0217cd0"
      },
      "source": [
        "s6['u'] = 7\r\n",
        "s5"
      ],
      "execution_count": null,
      "outputs": [
        {
          "output_type": "execute_result",
          "data": {
            "text/plain": [
              "j    0\n",
              "d    1\n",
              "u    2\n",
              "v    3\n",
              "k    4\n",
              "dtype: int64"
            ]
          },
          "metadata": {
            "tags": []
          },
          "execution_count": 79
        }
      ]
    },
    {
      "cell_type": "code",
      "metadata": {
        "colab": {
          "base_uri": "https://localhost:8080/",
          "height": 195
        },
        "id": "ZtiFc2YnmaDI",
        "outputId": "f9cf6f10-9220-4726-cc77-409aef307555"
      },
      "source": [
        "df2\r\n",
        "# df2 = pd.read_pickle(os.path.join(files_loc, \"df2.pkl\"))"
      ],
      "execution_count": null,
      "outputs": [
        {
          "output_type": "execute_result",
          "data": {
            "text/html": [
              "<div>\n",
              "<style scoped>\n",
              "    .dataframe tbody tr th:only-of-type {\n",
              "        vertical-align: middle;\n",
              "    }\n",
              "\n",
              "    .dataframe tbody tr th {\n",
              "        vertical-align: top;\n",
              "    }\n",
              "\n",
              "    .dataframe thead th {\n",
              "        text-align: right;\n",
              "    }\n",
              "</style>\n",
              "<table border=\"1\" class=\"dataframe\">\n",
              "  <thead>\n",
              "    <tr style=\"text-align: right;\">\n",
              "      <th></th>\n",
              "      <th>province</th>\n",
              "      <th>population</th>\n",
              "      <th>year</th>\n",
              "      <th>debt</th>\n",
              "      <th>capital</th>\n",
              "      <th>2nd_language</th>\n",
              "    </tr>\n",
              "  </thead>\n",
              "  <tbody>\n",
              "    <tr>\n",
              "      <th>a</th>\n",
              "      <td>M</td>\n",
              "      <td>1500000.0</td>\n",
              "      <td>1900</td>\n",
              "      <td>NaN</td>\n",
              "      <td>True</td>\n",
              "      <td>NaN</td>\n",
              "    </tr>\n",
              "    <tr>\n",
              "      <th>b</th>\n",
              "      <td>M</td>\n",
              "      <td>2000000.0</td>\n",
              "      <td>1950</td>\n",
              "      <td>0.1</td>\n",
              "      <td>True</td>\n",
              "      <td>NaN</td>\n",
              "    </tr>\n",
              "    <tr>\n",
              "      <th>c</th>\n",
              "      <td>M</td>\n",
              "      <td>3000000.0</td>\n",
              "      <td>2000</td>\n",
              "      <td>NaN</td>\n",
              "      <td>True</td>\n",
              "      <td>NaN</td>\n",
              "    </tr>\n",
              "    <tr>\n",
              "      <th>d</th>\n",
              "      <td>B</td>\n",
              "      <td>5000000.0</td>\n",
              "      <td>1900</td>\n",
              "      <td>0.6</td>\n",
              "      <td>False</td>\n",
              "      <td>NaN</td>\n",
              "    </tr>\n",
              "    <tr>\n",
              "      <th>e</th>\n",
              "      <td>B</td>\n",
              "      <td>1500000.0</td>\n",
              "      <td>2000</td>\n",
              "      <td>0.9</td>\n",
              "      <td>False</td>\n",
              "      <td>NaN</td>\n",
              "    </tr>\n",
              "  </tbody>\n",
              "</table>\n",
              "</div>"
            ],
            "text/plain": [
              "  province  population  year  debt  capital  2nd_language\n",
              "a        M   1500000.0  1900   NaN     True           NaN\n",
              "b        M   2000000.0  1950   0.1     True           NaN\n",
              "c        M   3000000.0  2000   NaN     True           NaN\n",
              "d        B   5000000.0  1900   0.6    False           NaN\n",
              "e        B   1500000.0  2000   0.9    False           NaN"
            ]
          },
          "metadata": {
            "tags": []
          },
          "execution_count": 80
        }
      ]
    },
    {
      "cell_type": "code",
      "metadata": {
        "colab": {
          "base_uri": "https://localhost:8080/",
          "height": 166
        },
        "id": "xq3POH6MmaFT",
        "outputId": "e365ca88-f724-431e-85a2-b489fdab190b"
      },
      "source": [
        "df2.drop('c')"
      ],
      "execution_count": null,
      "outputs": [
        {
          "output_type": "execute_result",
          "data": {
            "text/html": [
              "<div>\n",
              "<style scoped>\n",
              "    .dataframe tbody tr th:only-of-type {\n",
              "        vertical-align: middle;\n",
              "    }\n",
              "\n",
              "    .dataframe tbody tr th {\n",
              "        vertical-align: top;\n",
              "    }\n",
              "\n",
              "    .dataframe thead th {\n",
              "        text-align: right;\n",
              "    }\n",
              "</style>\n",
              "<table border=\"1\" class=\"dataframe\">\n",
              "  <thead>\n",
              "    <tr style=\"text-align: right;\">\n",
              "      <th></th>\n",
              "      <th>province</th>\n",
              "      <th>population</th>\n",
              "      <th>year</th>\n",
              "      <th>debt</th>\n",
              "      <th>capital</th>\n",
              "      <th>2nd_language</th>\n",
              "    </tr>\n",
              "  </thead>\n",
              "  <tbody>\n",
              "    <tr>\n",
              "      <th>a</th>\n",
              "      <td>M</td>\n",
              "      <td>1500000.0</td>\n",
              "      <td>1900</td>\n",
              "      <td>NaN</td>\n",
              "      <td>True</td>\n",
              "      <td>NaN</td>\n",
              "    </tr>\n",
              "    <tr>\n",
              "      <th>b</th>\n",
              "      <td>M</td>\n",
              "      <td>2000000.0</td>\n",
              "      <td>1950</td>\n",
              "      <td>0.1</td>\n",
              "      <td>True</td>\n",
              "      <td>NaN</td>\n",
              "    </tr>\n",
              "    <tr>\n",
              "      <th>d</th>\n",
              "      <td>B</td>\n",
              "      <td>5000000.0</td>\n",
              "      <td>1900</td>\n",
              "      <td>0.6</td>\n",
              "      <td>False</td>\n",
              "      <td>NaN</td>\n",
              "    </tr>\n",
              "    <tr>\n",
              "      <th>e</th>\n",
              "      <td>B</td>\n",
              "      <td>1500000.0</td>\n",
              "      <td>2000</td>\n",
              "      <td>0.9</td>\n",
              "      <td>False</td>\n",
              "      <td>NaN</td>\n",
              "    </tr>\n",
              "  </tbody>\n",
              "</table>\n",
              "</div>"
            ],
            "text/plain": [
              "  province  population  year  debt  capital  2nd_language\n",
              "a        M   1500000.0  1900   NaN     True           NaN\n",
              "b        M   2000000.0  1950   0.1     True           NaN\n",
              "d        B   5000000.0  1900   0.6    False           NaN\n",
              "e        B   1500000.0  2000   0.9    False           NaN"
            ]
          },
          "metadata": {
            "tags": []
          },
          "execution_count": 81
        }
      ]
    },
    {
      "cell_type": "code",
      "metadata": {
        "colab": {
          "base_uri": "https://localhost:8080/",
          "height": 195
        },
        "id": "wZKmdiyPmaIK",
        "outputId": "2c514b9f-c8b0-4bd7-bdd3-433f617e2a7e"
      },
      "source": [
        "df2.drop('2nd_language', axis=1)"
      ],
      "execution_count": null,
      "outputs": [
        {
          "output_type": "execute_result",
          "data": {
            "text/html": [
              "<div>\n",
              "<style scoped>\n",
              "    .dataframe tbody tr th:only-of-type {\n",
              "        vertical-align: middle;\n",
              "    }\n",
              "\n",
              "    .dataframe tbody tr th {\n",
              "        vertical-align: top;\n",
              "    }\n",
              "\n",
              "    .dataframe thead th {\n",
              "        text-align: right;\n",
              "    }\n",
              "</style>\n",
              "<table border=\"1\" class=\"dataframe\">\n",
              "  <thead>\n",
              "    <tr style=\"text-align: right;\">\n",
              "      <th></th>\n",
              "      <th>province</th>\n",
              "      <th>population</th>\n",
              "      <th>year</th>\n",
              "      <th>debt</th>\n",
              "      <th>capital</th>\n",
              "    </tr>\n",
              "  </thead>\n",
              "  <tbody>\n",
              "    <tr>\n",
              "      <th>a</th>\n",
              "      <td>M</td>\n",
              "      <td>1500000.0</td>\n",
              "      <td>1900</td>\n",
              "      <td>NaN</td>\n",
              "      <td>True</td>\n",
              "    </tr>\n",
              "    <tr>\n",
              "      <th>b</th>\n",
              "      <td>M</td>\n",
              "      <td>2000000.0</td>\n",
              "      <td>1950</td>\n",
              "      <td>0.1</td>\n",
              "      <td>True</td>\n",
              "    </tr>\n",
              "    <tr>\n",
              "      <th>c</th>\n",
              "      <td>M</td>\n",
              "      <td>3000000.0</td>\n",
              "      <td>2000</td>\n",
              "      <td>NaN</td>\n",
              "      <td>True</td>\n",
              "    </tr>\n",
              "    <tr>\n",
              "      <th>d</th>\n",
              "      <td>B</td>\n",
              "      <td>5000000.0</td>\n",
              "      <td>1900</td>\n",
              "      <td>0.6</td>\n",
              "      <td>False</td>\n",
              "    </tr>\n",
              "    <tr>\n",
              "      <th>e</th>\n",
              "      <td>B</td>\n",
              "      <td>1500000.0</td>\n",
              "      <td>2000</td>\n",
              "      <td>0.9</td>\n",
              "      <td>False</td>\n",
              "    </tr>\n",
              "  </tbody>\n",
              "</table>\n",
              "</div>"
            ],
            "text/plain": [
              "  province  population  year  debt  capital\n",
              "a        M   1500000.0  1900   NaN     True\n",
              "b        M   2000000.0  1950   0.1     True\n",
              "c        M   3000000.0  2000   NaN     True\n",
              "d        B   5000000.0  1900   0.6    False\n",
              "e        B   1500000.0  2000   0.9    False"
            ]
          },
          "metadata": {
            "tags": []
          },
          "execution_count": 83
        }
      ]
    },
    {
      "cell_type": "code",
      "metadata": {
        "colab": {
          "base_uri": "https://localhost:8080/",
          "height": 195
        },
        "id": "VjUEEWvlmaKY",
        "outputId": "0022711c-d4ab-439e-8ad8-18c1d560711d"
      },
      "source": [
        "df2 # No se ha modificado el dataframe original"
      ],
      "execution_count": null,
      "outputs": [
        {
          "output_type": "execute_result",
          "data": {
            "text/html": [
              "<div>\n",
              "<style scoped>\n",
              "    .dataframe tbody tr th:only-of-type {\n",
              "        vertical-align: middle;\n",
              "    }\n",
              "\n",
              "    .dataframe tbody tr th {\n",
              "        vertical-align: top;\n",
              "    }\n",
              "\n",
              "    .dataframe thead th {\n",
              "        text-align: right;\n",
              "    }\n",
              "</style>\n",
              "<table border=\"1\" class=\"dataframe\">\n",
              "  <thead>\n",
              "    <tr style=\"text-align: right;\">\n",
              "      <th></th>\n",
              "      <th>province</th>\n",
              "      <th>population</th>\n",
              "      <th>year</th>\n",
              "      <th>debt</th>\n",
              "      <th>capital</th>\n",
              "      <th>2nd_language</th>\n",
              "    </tr>\n",
              "  </thead>\n",
              "  <tbody>\n",
              "    <tr>\n",
              "      <th>a</th>\n",
              "      <td>M</td>\n",
              "      <td>1500000.0</td>\n",
              "      <td>1900</td>\n",
              "      <td>NaN</td>\n",
              "      <td>True</td>\n",
              "      <td>NaN</td>\n",
              "    </tr>\n",
              "    <tr>\n",
              "      <th>b</th>\n",
              "      <td>M</td>\n",
              "      <td>2000000.0</td>\n",
              "      <td>1950</td>\n",
              "      <td>0.1</td>\n",
              "      <td>True</td>\n",
              "      <td>NaN</td>\n",
              "    </tr>\n",
              "    <tr>\n",
              "      <th>c</th>\n",
              "      <td>M</td>\n",
              "      <td>3000000.0</td>\n",
              "      <td>2000</td>\n",
              "      <td>NaN</td>\n",
              "      <td>True</td>\n",
              "      <td>NaN</td>\n",
              "    </tr>\n",
              "    <tr>\n",
              "      <th>d</th>\n",
              "      <td>B</td>\n",
              "      <td>5000000.0</td>\n",
              "      <td>1900</td>\n",
              "      <td>0.6</td>\n",
              "      <td>False</td>\n",
              "      <td>NaN</td>\n",
              "    </tr>\n",
              "    <tr>\n",
              "      <th>e</th>\n",
              "      <td>B</td>\n",
              "      <td>1500000.0</td>\n",
              "      <td>2000</td>\n",
              "      <td>0.9</td>\n",
              "      <td>False</td>\n",
              "      <td>NaN</td>\n",
              "    </tr>\n",
              "  </tbody>\n",
              "</table>\n",
              "</div>"
            ],
            "text/plain": [
              "  province  population  year  debt  capital  2nd_language\n",
              "a        M   1500000.0  1900   NaN     True           NaN\n",
              "b        M   2000000.0  1950   0.1     True           NaN\n",
              "c        M   3000000.0  2000   NaN     True           NaN\n",
              "d        B   5000000.0  1900   0.6    False           NaN\n",
              "e        B   1500000.0  2000   0.9    False           NaN"
            ]
          },
          "metadata": {
            "tags": []
          },
          "execution_count": 84
        }
      ]
    },
    {
      "cell_type": "code",
      "metadata": {
        "colab": {
          "base_uri": "https://localhost:8080/",
          "height": 195
        },
        "id": "eaApNK9BlhaU",
        "outputId": "7a70f317-258c-4093-d7bd-a7db7ef647ea"
      },
      "source": [
        "df3 = df2.copy()\r\n",
        "df3"
      ],
      "execution_count": null,
      "outputs": [
        {
          "output_type": "execute_result",
          "data": {
            "text/html": [
              "<div>\n",
              "<style scoped>\n",
              "    .dataframe tbody tr th:only-of-type {\n",
              "        vertical-align: middle;\n",
              "    }\n",
              "\n",
              "    .dataframe tbody tr th {\n",
              "        vertical-align: top;\n",
              "    }\n",
              "\n",
              "    .dataframe thead th {\n",
              "        text-align: right;\n",
              "    }\n",
              "</style>\n",
              "<table border=\"1\" class=\"dataframe\">\n",
              "  <thead>\n",
              "    <tr style=\"text-align: right;\">\n",
              "      <th></th>\n",
              "      <th>province</th>\n",
              "      <th>population</th>\n",
              "      <th>year</th>\n",
              "      <th>debt</th>\n",
              "      <th>capital</th>\n",
              "      <th>2nd_language</th>\n",
              "    </tr>\n",
              "  </thead>\n",
              "  <tbody>\n",
              "    <tr>\n",
              "      <th>a</th>\n",
              "      <td>M</td>\n",
              "      <td>1500000.0</td>\n",
              "      <td>1900</td>\n",
              "      <td>NaN</td>\n",
              "      <td>True</td>\n",
              "      <td>NaN</td>\n",
              "    </tr>\n",
              "    <tr>\n",
              "      <th>b</th>\n",
              "      <td>M</td>\n",
              "      <td>2000000.0</td>\n",
              "      <td>1950</td>\n",
              "      <td>0.1</td>\n",
              "      <td>True</td>\n",
              "      <td>NaN</td>\n",
              "    </tr>\n",
              "    <tr>\n",
              "      <th>c</th>\n",
              "      <td>M</td>\n",
              "      <td>3000000.0</td>\n",
              "      <td>2000</td>\n",
              "      <td>NaN</td>\n",
              "      <td>True</td>\n",
              "      <td>NaN</td>\n",
              "    </tr>\n",
              "    <tr>\n",
              "      <th>d</th>\n",
              "      <td>B</td>\n",
              "      <td>5000000.0</td>\n",
              "      <td>1900</td>\n",
              "      <td>0.6</td>\n",
              "      <td>False</td>\n",
              "      <td>NaN</td>\n",
              "    </tr>\n",
              "    <tr>\n",
              "      <th>e</th>\n",
              "      <td>B</td>\n",
              "      <td>1500000.0</td>\n",
              "      <td>2000</td>\n",
              "      <td>0.9</td>\n",
              "      <td>False</td>\n",
              "      <td>NaN</td>\n",
              "    </tr>\n",
              "  </tbody>\n",
              "</table>\n",
              "</div>"
            ],
            "text/plain": [
              "  province  population  year  debt  capital  2nd_language\n",
              "a        M   1500000.0  1900   NaN     True           NaN\n",
              "b        M   2000000.0  1950   0.1     True           NaN\n",
              "c        M   3000000.0  2000   NaN     True           NaN\n",
              "d        B   5000000.0  1900   0.6    False           NaN\n",
              "e        B   1500000.0  2000   0.9    False           NaN"
            ]
          },
          "metadata": {
            "tags": []
          },
          "execution_count": 85
        }
      ]
    },
    {
      "cell_type": "code",
      "metadata": {
        "id": "3VaIxkCzlhej"
      },
      "source": [
        "df_detour = pd.DataFrame({'x': [1,2]})"
      ],
      "execution_count": null,
      "outputs": []
    },
    {
      "cell_type": "code",
      "metadata": {
        "id": "nBAPhj4ZnnY9"
      },
      "source": [
        "df_sub = df_detour[0:1]"
      ],
      "execution_count": null,
      "outputs": []
    },
    {
      "cell_type": "code",
      "metadata": {
        "colab": {
          "base_uri": "https://localhost:8080/",
          "height": 207
        },
        "id": "s74YaMQxnncA",
        "outputId": "1342133c-8bd9-435d-a530-81663f304a5d"
      },
      "source": [
        "df_sub.x = -1\r\n",
        "df_detour "
      ],
      "execution_count": null,
      "outputs": [
        {
          "output_type": "stream",
          "text": [
            "/usr/local/lib/python3.6/dist-packages/pandas/core/generic.py:5170: SettingWithCopyWarning: \n",
            "A value is trying to be set on a copy of a slice from a DataFrame.\n",
            "Try using .loc[row_indexer,col_indexer] = value instead\n",
            "\n",
            "See the caveats in the documentation: https://pandas.pydata.org/pandas-docs/stable/user_guide/indexing.html#returning-a-view-versus-a-copy\n",
            "  self[name] = value\n"
          ],
          "name": "stderr"
        },
        {
          "output_type": "execute_result",
          "data": {
            "text/html": [
              "<div>\n",
              "<style scoped>\n",
              "    .dataframe tbody tr th:only-of-type {\n",
              "        vertical-align: middle;\n",
              "    }\n",
              "\n",
              "    .dataframe tbody tr th {\n",
              "        vertical-align: top;\n",
              "    }\n",
              "\n",
              "    .dataframe thead th {\n",
              "        text-align: right;\n",
              "    }\n",
              "</style>\n",
              "<table border=\"1\" class=\"dataframe\">\n",
              "  <thead>\n",
              "    <tr style=\"text-align: right;\">\n",
              "      <th></th>\n",
              "      <th>x</th>\n",
              "    </tr>\n",
              "  </thead>\n",
              "  <tbody>\n",
              "    <tr>\n",
              "      <th>0</th>\n",
              "      <td>-1</td>\n",
              "    </tr>\n",
              "    <tr>\n",
              "      <th>1</th>\n",
              "      <td>2</td>\n",
              "    </tr>\n",
              "  </tbody>\n",
              "</table>\n",
              "</div>"
            ],
            "text/plain": [
              "   x\n",
              "0 -1\n",
              "1  2"
            ]
          },
          "metadata": {
            "tags": []
          },
          "execution_count": 88
        }
      ]
    },
    {
      "cell_type": "code",
      "metadata": {
        "colab": {
          "base_uri": "https://localhost:8080/",
          "height": 195
        },
        "id": "kKQxt7BbnnfZ",
        "outputId": "301b01f1-cb78-49e8-d845-b02ee262f6e0"
      },
      "source": [
        "df3.drop('capital', axis = 1, inplace = True) # Cambio inplace, se modifica el dataframe original\r\n",
        "df3"
      ],
      "execution_count": null,
      "outputs": [
        {
          "output_type": "execute_result",
          "data": {
            "text/html": [
              "<div>\n",
              "<style scoped>\n",
              "    .dataframe tbody tr th:only-of-type {\n",
              "        vertical-align: middle;\n",
              "    }\n",
              "\n",
              "    .dataframe tbody tr th {\n",
              "        vertical-align: top;\n",
              "    }\n",
              "\n",
              "    .dataframe thead th {\n",
              "        text-align: right;\n",
              "    }\n",
              "</style>\n",
              "<table border=\"1\" class=\"dataframe\">\n",
              "  <thead>\n",
              "    <tr style=\"text-align: right;\">\n",
              "      <th></th>\n",
              "      <th>province</th>\n",
              "      <th>population</th>\n",
              "      <th>year</th>\n",
              "      <th>debt</th>\n",
              "      <th>2nd_language</th>\n",
              "    </tr>\n",
              "  </thead>\n",
              "  <tbody>\n",
              "    <tr>\n",
              "      <th>a</th>\n",
              "      <td>M</td>\n",
              "      <td>1500000.0</td>\n",
              "      <td>1900</td>\n",
              "      <td>NaN</td>\n",
              "      <td>NaN</td>\n",
              "    </tr>\n",
              "    <tr>\n",
              "      <th>b</th>\n",
              "      <td>M</td>\n",
              "      <td>2000000.0</td>\n",
              "      <td>1950</td>\n",
              "      <td>0.1</td>\n",
              "      <td>NaN</td>\n",
              "    </tr>\n",
              "    <tr>\n",
              "      <th>c</th>\n",
              "      <td>M</td>\n",
              "      <td>3000000.0</td>\n",
              "      <td>2000</td>\n",
              "      <td>NaN</td>\n",
              "      <td>NaN</td>\n",
              "    </tr>\n",
              "    <tr>\n",
              "      <th>d</th>\n",
              "      <td>B</td>\n",
              "      <td>5000000.0</td>\n",
              "      <td>1900</td>\n",
              "      <td>0.6</td>\n",
              "      <td>NaN</td>\n",
              "    </tr>\n",
              "    <tr>\n",
              "      <th>e</th>\n",
              "      <td>B</td>\n",
              "      <td>1500000.0</td>\n",
              "      <td>2000</td>\n",
              "      <td>0.9</td>\n",
              "      <td>NaN</td>\n",
              "    </tr>\n",
              "  </tbody>\n",
              "</table>\n",
              "</div>"
            ],
            "text/plain": [
              "  province  population  year  debt  2nd_language\n",
              "a        M   1500000.0  1900   NaN           NaN\n",
              "b        M   2000000.0  1950   0.1           NaN\n",
              "c        M   3000000.0  2000   NaN           NaN\n",
              "d        B   5000000.0  1900   0.6           NaN\n",
              "e        B   1500000.0  2000   0.9           NaN"
            ]
          },
          "metadata": {
            "tags": []
          },
          "execution_count": 89
        }
      ]
    },
    {
      "cell_type": "code",
      "metadata": {
        "colab": {
          "base_uri": "https://localhost:8080/"
        },
        "id": "aqwHESkHnnhQ",
        "outputId": "3d64a376-ae89-48b2-de0f-5b47f7e032a6"
      },
      "source": [
        "s3"
      ],
      "execution_count": null,
      "outputs": [
        {
          "output_type": "execute_result",
          "data": {
            "text/plain": [
              "Cordoba      300000.0\n",
              "Madrid      6000000.0\n",
              "Sevilla      500000.0\n",
              "Zaragoza     250000.0\n",
              "dtype: float64"
            ]
          },
          "metadata": {
            "tags": []
          },
          "execution_count": 90
        }
      ]
    },
    {
      "cell_type": "code",
      "metadata": {
        "colab": {
          "base_uri": "https://localhost:8080/"
        },
        "id": "lm_SZJVRnnjJ",
        "outputId": "4683de8c-589f-4dad-b1c1-ee4c156616c7"
      },
      "source": [
        "s3[['Zaragoza', 'Madrid']]"
      ],
      "execution_count": null,
      "outputs": [
        {
          "output_type": "execute_result",
          "data": {
            "text/plain": [
              "Zaragoza     250000.0\n",
              "Madrid      6000000.0\n",
              "dtype: float64"
            ]
          },
          "metadata": {
            "tags": []
          },
          "execution_count": 92
        }
      ]
    },
    {
      "cell_type": "code",
      "metadata": {
        "colab": {
          "base_uri": "https://localhost:8080/"
        },
        "id": "uvEzWWPZpPRW",
        "outputId": "165d3883-b238-4686-dc18-5f58ab2e4798"
      },
      "source": [
        "s3[2:]"
      ],
      "execution_count": null,
      "outputs": [
        {
          "output_type": "execute_result",
          "data": {
            "text/plain": [
              "Sevilla     500000.0\n",
              "Zaragoza    250000.0\n",
              "dtype: float64"
            ]
          },
          "metadata": {
            "tags": []
          },
          "execution_count": 93
        }
      ]
    },
    {
      "cell_type": "code",
      "metadata": {
        "colab": {
          "base_uri": "https://localhost:8080/"
        },
        "id": "jUTJZrIzpPUj",
        "outputId": "7cbbf1ef-eac3-4f42-dab1-6eb4b60270cb"
      },
      "source": [
        "s3['Cordoba':'Sevilla'] # slice inclusivo"
      ],
      "execution_count": null,
      "outputs": [
        {
          "output_type": "execute_result",
          "data": {
            "text/plain": [
              "Cordoba     300000.0\n",
              "Madrid     6000000.0\n",
              "Sevilla     500000.0\n",
              "dtype: float64"
            ]
          },
          "metadata": {
            "tags": []
          },
          "execution_count": 95
        }
      ]
    },
    {
      "cell_type": "code",
      "metadata": {
        "colab": {
          "base_uri": "https://localhost:8080/"
        },
        "id": "q2kNZhzPpPXh",
        "outputId": "f1832499-52a9-4770-f0b5-8e4d95f87670"
      },
      "source": [
        "s3[1:2] # En este caso no es inclusivo"
      ],
      "execution_count": null,
      "outputs": [
        {
          "output_type": "execute_result",
          "data": {
            "text/plain": [
              "Madrid    6000000.0\n",
              "dtype: float64"
            ]
          },
          "metadata": {
            "tags": []
          },
          "execution_count": 96
        }
      ]
    },
    {
      "cell_type": "code",
      "metadata": {
        "colab": {
          "base_uri": "https://localhost:8080/"
        },
        "id": "94CBkUF3pPZ4",
        "outputId": "0bfefb3d-47b1-47f4-c9c3-4778f0162ef7"
      },
      "source": [
        "s3 > 1e6"
      ],
      "execution_count": null,
      "outputs": [
        {
          "output_type": "execute_result",
          "data": {
            "text/plain": [
              "Cordoba     False\n",
              "Madrid       True\n",
              "Sevilla     False\n",
              "Zaragoza    False\n",
              "dtype: bool"
            ]
          },
          "metadata": {
            "tags": []
          },
          "execution_count": 97
        }
      ]
    },
    {
      "cell_type": "code",
      "metadata": {
        "colab": {
          "base_uri": "https://localhost:8080/"
        },
        "id": "D9z9tOrUqnpW",
        "outputId": "18186c97-59af-40e0-a5c5-c077d5b2271f"
      },
      "source": [
        "df3['year'] > 1950"
      ],
      "execution_count": null,
      "outputs": [
        {
          "output_type": "execute_result",
          "data": {
            "text/plain": [
              "a    False\n",
              "b    False\n",
              "c     True\n",
              "d    False\n",
              "e     True\n",
              "Name: year, dtype: bool"
            ]
          },
          "metadata": {
            "tags": []
          },
          "execution_count": 98
        }
      ]
    },
    {
      "cell_type": "code",
      "metadata": {
        "colab": {
          "base_uri": "https://localhost:8080/",
          "height": 106
        },
        "id": "etnQtl5ZqnsF",
        "outputId": "ce8e6034-28a0-4d82-d2a4-0011cc8c0696"
      },
      "source": [
        "df3[df3['year'] > 1950] # Utilizado como filtro"
      ],
      "execution_count": null,
      "outputs": [
        {
          "output_type": "execute_result",
          "data": {
            "text/html": [
              "<div>\n",
              "<style scoped>\n",
              "    .dataframe tbody tr th:only-of-type {\n",
              "        vertical-align: middle;\n",
              "    }\n",
              "\n",
              "    .dataframe tbody tr th {\n",
              "        vertical-align: top;\n",
              "    }\n",
              "\n",
              "    .dataframe thead th {\n",
              "        text-align: right;\n",
              "    }\n",
              "</style>\n",
              "<table border=\"1\" class=\"dataframe\">\n",
              "  <thead>\n",
              "    <tr style=\"text-align: right;\">\n",
              "      <th></th>\n",
              "      <th>province</th>\n",
              "      <th>population</th>\n",
              "      <th>year</th>\n",
              "      <th>debt</th>\n",
              "      <th>2nd_language</th>\n",
              "    </tr>\n",
              "  </thead>\n",
              "  <tbody>\n",
              "    <tr>\n",
              "      <th>c</th>\n",
              "      <td>M</td>\n",
              "      <td>3000000.0</td>\n",
              "      <td>2000</td>\n",
              "      <td>NaN</td>\n",
              "      <td>NaN</td>\n",
              "    </tr>\n",
              "    <tr>\n",
              "      <th>e</th>\n",
              "      <td>B</td>\n",
              "      <td>1500000.0</td>\n",
              "      <td>2000</td>\n",
              "      <td>0.9</td>\n",
              "      <td>NaN</td>\n",
              "    </tr>\n",
              "  </tbody>\n",
              "</table>\n",
              "</div>"
            ],
            "text/plain": [
              "  province  population  year  debt  2nd_language\n",
              "c        M   3000000.0  2000   NaN           NaN\n",
              "e        B   1500000.0  2000   0.9           NaN"
            ]
          },
          "metadata": {
            "tags": []
          },
          "execution_count": 100
        }
      ]
    },
    {
      "cell_type": "code",
      "metadata": {
        "colab": {
          "base_uri": "https://localhost:8080/",
          "height": 77
        },
        "id": "vQCd436gqnvF",
        "outputId": "9d393d16-a9d1-472e-89c1-736c58dd8f76"
      },
      "source": [
        "df3[(df3['year'] > 1950) & (df3['debt'] > 0.5)]"
      ],
      "execution_count": null,
      "outputs": [
        {
          "output_type": "execute_result",
          "data": {
            "text/html": [
              "<div>\n",
              "<style scoped>\n",
              "    .dataframe tbody tr th:only-of-type {\n",
              "        vertical-align: middle;\n",
              "    }\n",
              "\n",
              "    .dataframe tbody tr th {\n",
              "        vertical-align: top;\n",
              "    }\n",
              "\n",
              "    .dataframe thead th {\n",
              "        text-align: right;\n",
              "    }\n",
              "</style>\n",
              "<table border=\"1\" class=\"dataframe\">\n",
              "  <thead>\n",
              "    <tr style=\"text-align: right;\">\n",
              "      <th></th>\n",
              "      <th>province</th>\n",
              "      <th>population</th>\n",
              "      <th>year</th>\n",
              "      <th>debt</th>\n",
              "      <th>2nd_language</th>\n",
              "    </tr>\n",
              "  </thead>\n",
              "  <tbody>\n",
              "    <tr>\n",
              "      <th>e</th>\n",
              "      <td>B</td>\n",
              "      <td>1500000.0</td>\n",
              "      <td>2000</td>\n",
              "      <td>0.9</td>\n",
              "      <td>NaN</td>\n",
              "    </tr>\n",
              "  </tbody>\n",
              "</table>\n",
              "</div>"
            ],
            "text/plain": [
              "  province  population  year  debt  2nd_language\n",
              "e        B   1500000.0  2000   0.9           NaN"
            ]
          },
          "metadata": {
            "tags": []
          },
          "execution_count": 101
        }
      ]
    },
    {
      "cell_type": "code",
      "metadata": {
        "colab": {
          "base_uri": "https://localhost:8080/",
          "height": 77
        },
        "id": "mfC5ZRinlhhw",
        "outputId": "bb33d108-5720-43c9-8206-46709d016f0f"
      },
      "source": [
        "recent = df3['year'] > 1950\r\n",
        "indebted = df3['debt'] > 0.5\r\n",
        "\r\n",
        "df3[recent & indebted]"
      ],
      "execution_count": null,
      "outputs": [
        {
          "output_type": "execute_result",
          "data": {
            "text/html": [
              "<div>\n",
              "<style scoped>\n",
              "    .dataframe tbody tr th:only-of-type {\n",
              "        vertical-align: middle;\n",
              "    }\n",
              "\n",
              "    .dataframe tbody tr th {\n",
              "        vertical-align: top;\n",
              "    }\n",
              "\n",
              "    .dataframe thead th {\n",
              "        text-align: right;\n",
              "    }\n",
              "</style>\n",
              "<table border=\"1\" class=\"dataframe\">\n",
              "  <thead>\n",
              "    <tr style=\"text-align: right;\">\n",
              "      <th></th>\n",
              "      <th>province</th>\n",
              "      <th>population</th>\n",
              "      <th>year</th>\n",
              "      <th>debt</th>\n",
              "      <th>2nd_language</th>\n",
              "    </tr>\n",
              "  </thead>\n",
              "  <tbody>\n",
              "    <tr>\n",
              "      <th>e</th>\n",
              "      <td>B</td>\n",
              "      <td>1500000.0</td>\n",
              "      <td>2000</td>\n",
              "      <td>0.9</td>\n",
              "      <td>NaN</td>\n",
              "    </tr>\n",
              "  </tbody>\n",
              "</table>\n",
              "</div>"
            ],
            "text/plain": [
              "  province  population  year  debt  2nd_language\n",
              "e        B   1500000.0  2000   0.9           NaN"
            ]
          },
          "metadata": {
            "tags": []
          },
          "execution_count": 103
        }
      ]
    },
    {
      "cell_type": "code",
      "metadata": {
        "colab": {
          "base_uri": "https://localhost:8080/"
        },
        "id": "OPj0RdEyrNMy",
        "outputId": "8d3d51a4-fbe6-4b36-9e70-94c96c118679"
      },
      "source": [
        "np.sqrt(df3['population'])"
      ],
      "execution_count": null,
      "outputs": [
        {
          "output_type": "execute_result",
          "data": {
            "text/plain": [
              "a    1224.744871\n",
              "b    1414.213562\n",
              "c    1732.050808\n",
              "d    2236.067977\n",
              "e    1224.744871\n",
              "Name: population, dtype: float64"
            ]
          },
          "metadata": {
            "tags": []
          },
          "execution_count": 104
        }
      ]
    },
    {
      "cell_type": "code",
      "metadata": {
        "colab": {
          "base_uri": "https://localhost:8080/",
          "height": 166
        },
        "id": "N7-2hQnbrNPS",
        "outputId": "9543b895-752e-4194-a7ec-2abf91d38c28"
      },
      "source": [
        "df4 = pd.DataFrame(np.random.randn(4,3)*17 + 15, columns=list('bde'), index = list('BMPZ'))\r\n",
        "df4"
      ],
      "execution_count": null,
      "outputs": [
        {
          "output_type": "execute_result",
          "data": {
            "text/html": [
              "<div>\n",
              "<style scoped>\n",
              "    .dataframe tbody tr th:only-of-type {\n",
              "        vertical-align: middle;\n",
              "    }\n",
              "\n",
              "    .dataframe tbody tr th {\n",
              "        vertical-align: top;\n",
              "    }\n",
              "\n",
              "    .dataframe thead th {\n",
              "        text-align: right;\n",
              "    }\n",
              "</style>\n",
              "<table border=\"1\" class=\"dataframe\">\n",
              "  <thead>\n",
              "    <tr style=\"text-align: right;\">\n",
              "      <th></th>\n",
              "      <th>b</th>\n",
              "      <th>d</th>\n",
              "      <th>e</th>\n",
              "    </tr>\n",
              "  </thead>\n",
              "  <tbody>\n",
              "    <tr>\n",
              "      <th>B</th>\n",
              "      <td>29.379874</td>\n",
              "      <td>11.690965</td>\n",
              "      <td>11.835810</td>\n",
              "    </tr>\n",
              "    <tr>\n",
              "      <th>M</th>\n",
              "      <td>25.858070</td>\n",
              "      <td>35.058091</td>\n",
              "      <td>21.945994</td>\n",
              "    </tr>\n",
              "    <tr>\n",
              "      <th>P</th>\n",
              "      <td>32.530328</td>\n",
              "      <td>-21.735403</td>\n",
              "      <td>10.813667</td>\n",
              "    </tr>\n",
              "    <tr>\n",
              "      <th>Z</th>\n",
              "      <td>9.626311</td>\n",
              "      <td>7.108498</td>\n",
              "      <td>18.438406</td>\n",
              "    </tr>\n",
              "  </tbody>\n",
              "</table>\n",
              "</div>"
            ],
            "text/plain": [
              "           b          d          e\n",
              "B  29.379874  11.690965  11.835810\n",
              "M  25.858070  35.058091  21.945994\n",
              "P  32.530328 -21.735403  10.813667\n",
              "Z   9.626311   7.108498  18.438406"
            ]
          },
          "metadata": {
            "tags": []
          },
          "execution_count": 106
        }
      ]
    },
    {
      "cell_type": "code",
      "metadata": {
        "colab": {
          "base_uri": "https://localhost:8080/"
        },
        "id": "IgrhTRtJrNR2",
        "outputId": "928a26af-6445-4098-9c42-7afe40e6835c"
      },
      "source": [
        "df4.apply(lambda series: series.max() - series.min()) # Aplicar una funcion"
      ],
      "execution_count": null,
      "outputs": [
        {
          "output_type": "execute_result",
          "data": {
            "text/plain": [
              "b    22.904017\n",
              "d    56.793494\n",
              "e    11.132327\n",
              "dtype: float64"
            ]
          },
          "metadata": {
            "tags": []
          },
          "execution_count": 107
        }
      ]
    },
    {
      "cell_type": "code",
      "metadata": {
        "colab": {
          "base_uri": "https://localhost:8080/",
          "height": 166
        },
        "id": "9hSUyQZErNV3",
        "outputId": "3e83f379-19e1-4fa9-a2b3-b19ce3a05e7b"
      },
      "source": [
        "df4.applymap(lambda element: element % 10)"
      ],
      "execution_count": null,
      "outputs": [
        {
          "output_type": "execute_result",
          "data": {
            "text/html": [
              "<div>\n",
              "<style scoped>\n",
              "    .dataframe tbody tr th:only-of-type {\n",
              "        vertical-align: middle;\n",
              "    }\n",
              "\n",
              "    .dataframe tbody tr th {\n",
              "        vertical-align: top;\n",
              "    }\n",
              "\n",
              "    .dataframe thead th {\n",
              "        text-align: right;\n",
              "    }\n",
              "</style>\n",
              "<table border=\"1\" class=\"dataframe\">\n",
              "  <thead>\n",
              "    <tr style=\"text-align: right;\">\n",
              "      <th></th>\n",
              "      <th>b</th>\n",
              "      <th>d</th>\n",
              "      <th>e</th>\n",
              "    </tr>\n",
              "  </thead>\n",
              "  <tbody>\n",
              "    <tr>\n",
              "      <th>B</th>\n",
              "      <td>9.379874</td>\n",
              "      <td>1.690965</td>\n",
              "      <td>1.835810</td>\n",
              "    </tr>\n",
              "    <tr>\n",
              "      <th>M</th>\n",
              "      <td>5.858070</td>\n",
              "      <td>5.058091</td>\n",
              "      <td>1.945994</td>\n",
              "    </tr>\n",
              "    <tr>\n",
              "      <th>P</th>\n",
              "      <td>2.530328</td>\n",
              "      <td>8.264597</td>\n",
              "      <td>0.813667</td>\n",
              "    </tr>\n",
              "    <tr>\n",
              "      <th>Z</th>\n",
              "      <td>9.626311</td>\n",
              "      <td>7.108498</td>\n",
              "      <td>8.438406</td>\n",
              "    </tr>\n",
              "  </tbody>\n",
              "</table>\n",
              "</div>"
            ],
            "text/plain": [
              "          b         d         e\n",
              "B  9.379874  1.690965  1.835810\n",
              "M  5.858070  5.058091  1.945994\n",
              "P  2.530328  8.264597  0.813667\n",
              "Z  9.626311  7.108498  8.438406"
            ]
          },
          "metadata": {
            "tags": []
          },
          "execution_count": 108
        }
      ]
    },
    {
      "cell_type": "code",
      "metadata": {
        "colab": {
          "base_uri": "https://localhost:8080/"
        },
        "id": "juM9B1Avlhjs",
        "outputId": "6a829adf-1256-4f85-83f9-240b80aa31c1"
      },
      "source": [
        "df4.apply(lambda series: series.max() - series.min(), axis = 1)"
      ],
      "execution_count": null,
      "outputs": [
        {
          "output_type": "execute_result",
          "data": {
            "text/plain": [
              "B    17.688909\n",
              "M    13.112097\n",
              "P    54.265731\n",
              "Z    11.329908\n",
              "dtype: float64"
            ]
          },
          "metadata": {
            "tags": []
          },
          "execution_count": 109
        }
      ]
    },
    {
      "cell_type": "code",
      "metadata": {
        "colab": {
          "base_uri": "https://localhost:8080/",
          "height": 106
        },
        "id": "PdAhCFeuqeNI",
        "outputId": "e4c076cf-9eb0-426c-91ac-39ab803eefa2"
      },
      "source": [
        "def f(series):\r\n",
        "  return pd.Series([series.max(), series.min()], index = ['max', 'min'])\r\n",
        "\r\n",
        "df4.apply(f)"
      ],
      "execution_count": null,
      "outputs": [
        {
          "output_type": "execute_result",
          "data": {
            "text/html": [
              "<div>\n",
              "<style scoped>\n",
              "    .dataframe tbody tr th:only-of-type {\n",
              "        vertical-align: middle;\n",
              "    }\n",
              "\n",
              "    .dataframe tbody tr th {\n",
              "        vertical-align: top;\n",
              "    }\n",
              "\n",
              "    .dataframe thead th {\n",
              "        text-align: right;\n",
              "    }\n",
              "</style>\n",
              "<table border=\"1\" class=\"dataframe\">\n",
              "  <thead>\n",
              "    <tr style=\"text-align: right;\">\n",
              "      <th></th>\n",
              "      <th>b</th>\n",
              "      <th>d</th>\n",
              "      <th>e</th>\n",
              "    </tr>\n",
              "  </thead>\n",
              "  <tbody>\n",
              "    <tr>\n",
              "      <th>max</th>\n",
              "      <td>32.530328</td>\n",
              "      <td>35.058091</td>\n",
              "      <td>21.945994</td>\n",
              "    </tr>\n",
              "    <tr>\n",
              "      <th>min</th>\n",
              "      <td>9.626311</td>\n",
              "      <td>-21.735403</td>\n",
              "      <td>10.813667</td>\n",
              "    </tr>\n",
              "  </tbody>\n",
              "</table>\n",
              "</div>"
            ],
            "text/plain": [
              "             b          d          e\n",
              "max  32.530328  35.058091  21.945994\n",
              "min   9.626311 -21.735403  10.813667"
            ]
          },
          "metadata": {
            "tags": []
          },
          "execution_count": 110
        }
      ]
    },
    {
      "cell_type": "code",
      "metadata": {
        "colab": {
          "base_uri": "https://localhost:8080/"
        },
        "id": "BBdgj833tF44",
        "outputId": "be2caa1f-d2bd-4b5e-da95-eca0e66a496d"
      },
      "source": [
        "for item in df4.items():\r\n",
        "  print(item)"
      ],
      "execution_count": null,
      "outputs": [
        {
          "output_type": "stream",
          "text": [
            "('b', B    29.379874\n",
            "M    25.858070\n",
            "P    32.530328\n",
            "Z     9.626311\n",
            "Name: b, dtype: float64)\n",
            "('d', B    11.690965\n",
            "M    35.058091\n",
            "P   -21.735403\n",
            "Z     7.108498\n",
            "Name: d, dtype: float64)\n",
            "('e', B    11.835810\n",
            "M    21.945994\n",
            "P    10.813667\n",
            "Z    18.438406\n",
            "Name: e, dtype: float64)\n"
          ],
          "name": "stdout"
        }
      ]
    },
    {
      "cell_type": "code",
      "metadata": {
        "colab": {
          "base_uri": "https://localhost:8080/"
        },
        "id": "t1yXDVRxtF7u",
        "outputId": "e7342a66-e04f-4efe-b4ad-1f87391900ac"
      },
      "source": [
        "for item in df4.iteritems():\r\n",
        "  print(item)"
      ],
      "execution_count": null,
      "outputs": [
        {
          "output_type": "stream",
          "text": [
            "('b', B    29.379874\n",
            "M    25.858070\n",
            "P    32.530328\n",
            "Z     9.626311\n",
            "Name: b, dtype: float64)\n",
            "('d', B    11.690965\n",
            "M    35.058091\n",
            "P   -21.735403\n",
            "Z     7.108498\n",
            "Name: d, dtype: float64)\n",
            "('e', B    11.835810\n",
            "M    21.945994\n",
            "P    10.813667\n",
            "Z    18.438406\n",
            "Name: e, dtype: float64)\n"
          ],
          "name": "stdout"
        }
      ]
    },
    {
      "cell_type": "code",
      "metadata": {
        "colab": {
          "base_uri": "https://localhost:8080/",
          "height": 166
        },
        "id": "oWT3GcNbtF-P",
        "outputId": "bb44ac09-3946-4fe5-dfa6-4337cd0ddc9c"
      },
      "source": [
        "df4"
      ],
      "execution_count": null,
      "outputs": [
        {
          "output_type": "execute_result",
          "data": {
            "text/html": [
              "<div>\n",
              "<style scoped>\n",
              "    .dataframe tbody tr th:only-of-type {\n",
              "        vertical-align: middle;\n",
              "    }\n",
              "\n",
              "    .dataframe tbody tr th {\n",
              "        vertical-align: top;\n",
              "    }\n",
              "\n",
              "    .dataframe thead th {\n",
              "        text-align: right;\n",
              "    }\n",
              "</style>\n",
              "<table border=\"1\" class=\"dataframe\">\n",
              "  <thead>\n",
              "    <tr style=\"text-align: right;\">\n",
              "      <th></th>\n",
              "      <th>b</th>\n",
              "      <th>d</th>\n",
              "      <th>e</th>\n",
              "    </tr>\n",
              "  </thead>\n",
              "  <tbody>\n",
              "    <tr>\n",
              "      <th>B</th>\n",
              "      <td>29.379874</td>\n",
              "      <td>11.690965</td>\n",
              "      <td>11.835810</td>\n",
              "    </tr>\n",
              "    <tr>\n",
              "      <th>M</th>\n",
              "      <td>25.858070</td>\n",
              "      <td>35.058091</td>\n",
              "      <td>21.945994</td>\n",
              "    </tr>\n",
              "    <tr>\n",
              "      <th>P</th>\n",
              "      <td>32.530328</td>\n",
              "      <td>-21.735403</td>\n",
              "      <td>10.813667</td>\n",
              "    </tr>\n",
              "    <tr>\n",
              "      <th>Z</th>\n",
              "      <td>9.626311</td>\n",
              "      <td>7.108498</td>\n",
              "      <td>18.438406</td>\n",
              "    </tr>\n",
              "  </tbody>\n",
              "</table>\n",
              "</div>"
            ],
            "text/plain": [
              "           b          d          e\n",
              "B  29.379874  11.690965  11.835810\n",
              "M  25.858070  35.058091  21.945994\n",
              "P  32.530328 -21.735403  10.813667\n",
              "Z   9.626311   7.108498  18.438406"
            ]
          },
          "metadata": {
            "tags": []
          },
          "execution_count": 113
        }
      ]
    },
    {
      "cell_type": "code",
      "metadata": {
        "colab": {
          "base_uri": "https://localhost:8080/",
          "height": 166
        },
        "id": "RipHBpmGtGE8",
        "outputId": "dcb1097c-33b0-41f1-d6c3-00b0b2432a5b"
      },
      "source": [
        "df4.sort_index(ascending=True)"
      ],
      "execution_count": null,
      "outputs": [
        {
          "output_type": "execute_result",
          "data": {
            "text/html": [
              "<div>\n",
              "<style scoped>\n",
              "    .dataframe tbody tr th:only-of-type {\n",
              "        vertical-align: middle;\n",
              "    }\n",
              "\n",
              "    .dataframe tbody tr th {\n",
              "        vertical-align: top;\n",
              "    }\n",
              "\n",
              "    .dataframe thead th {\n",
              "        text-align: right;\n",
              "    }\n",
              "</style>\n",
              "<table border=\"1\" class=\"dataframe\">\n",
              "  <thead>\n",
              "    <tr style=\"text-align: right;\">\n",
              "      <th></th>\n",
              "      <th>b</th>\n",
              "      <th>d</th>\n",
              "      <th>e</th>\n",
              "    </tr>\n",
              "  </thead>\n",
              "  <tbody>\n",
              "    <tr>\n",
              "      <th>B</th>\n",
              "      <td>29.379874</td>\n",
              "      <td>11.690965</td>\n",
              "      <td>11.835810</td>\n",
              "    </tr>\n",
              "    <tr>\n",
              "      <th>M</th>\n",
              "      <td>25.858070</td>\n",
              "      <td>35.058091</td>\n",
              "      <td>21.945994</td>\n",
              "    </tr>\n",
              "    <tr>\n",
              "      <th>P</th>\n",
              "      <td>32.530328</td>\n",
              "      <td>-21.735403</td>\n",
              "      <td>10.813667</td>\n",
              "    </tr>\n",
              "    <tr>\n",
              "      <th>Z</th>\n",
              "      <td>9.626311</td>\n",
              "      <td>7.108498</td>\n",
              "      <td>18.438406</td>\n",
              "    </tr>\n",
              "  </tbody>\n",
              "</table>\n",
              "</div>"
            ],
            "text/plain": [
              "           b          d          e\n",
              "B  29.379874  11.690965  11.835810\n",
              "M  25.858070  35.058091  21.945994\n",
              "P  32.530328 -21.735403  10.813667\n",
              "Z   9.626311   7.108498  18.438406"
            ]
          },
          "metadata": {
            "tags": []
          },
          "execution_count": 116
        }
      ]
    },
    {
      "cell_type": "code",
      "metadata": {
        "colab": {
          "base_uri": "https://localhost:8080/",
          "height": 166
        },
        "id": "G5p6fjVZuYmK",
        "outputId": "36d1710b-522a-48a2-96db-ba7aff57111d"
      },
      "source": [
        "df4.sort_index(ascending=False)"
      ],
      "execution_count": null,
      "outputs": [
        {
          "output_type": "execute_result",
          "data": {
            "text/html": [
              "<div>\n",
              "<style scoped>\n",
              "    .dataframe tbody tr th:only-of-type {\n",
              "        vertical-align: middle;\n",
              "    }\n",
              "\n",
              "    .dataframe tbody tr th {\n",
              "        vertical-align: top;\n",
              "    }\n",
              "\n",
              "    .dataframe thead th {\n",
              "        text-align: right;\n",
              "    }\n",
              "</style>\n",
              "<table border=\"1\" class=\"dataframe\">\n",
              "  <thead>\n",
              "    <tr style=\"text-align: right;\">\n",
              "      <th></th>\n",
              "      <th>b</th>\n",
              "      <th>d</th>\n",
              "      <th>e</th>\n",
              "    </tr>\n",
              "  </thead>\n",
              "  <tbody>\n",
              "    <tr>\n",
              "      <th>Z</th>\n",
              "      <td>9.626311</td>\n",
              "      <td>7.108498</td>\n",
              "      <td>18.438406</td>\n",
              "    </tr>\n",
              "    <tr>\n",
              "      <th>P</th>\n",
              "      <td>32.530328</td>\n",
              "      <td>-21.735403</td>\n",
              "      <td>10.813667</td>\n",
              "    </tr>\n",
              "    <tr>\n",
              "      <th>M</th>\n",
              "      <td>25.858070</td>\n",
              "      <td>35.058091</td>\n",
              "      <td>21.945994</td>\n",
              "    </tr>\n",
              "    <tr>\n",
              "      <th>B</th>\n",
              "      <td>29.379874</td>\n",
              "      <td>11.690965</td>\n",
              "      <td>11.835810</td>\n",
              "    </tr>\n",
              "  </tbody>\n",
              "</table>\n",
              "</div>"
            ],
            "text/plain": [
              "           b          d          e\n",
              "Z   9.626311   7.108498  18.438406\n",
              "P  32.530328 -21.735403  10.813667\n",
              "M  25.858070  35.058091  21.945994\n",
              "B  29.379874  11.690965  11.835810"
            ]
          },
          "metadata": {
            "tags": []
          },
          "execution_count": 117
        }
      ]
    },
    {
      "cell_type": "code",
      "metadata": {
        "colab": {
          "base_uri": "https://localhost:8080/",
          "height": 166
        },
        "id": "WfLRelf9uYpR",
        "outputId": "e3a7a54d-61ed-47a4-88cc-93b6277a3b32"
      },
      "source": [
        "df4.sort_index(ascending=False, axis=1)"
      ],
      "execution_count": null,
      "outputs": [
        {
          "output_type": "execute_result",
          "data": {
            "text/html": [
              "<div>\n",
              "<style scoped>\n",
              "    .dataframe tbody tr th:only-of-type {\n",
              "        vertical-align: middle;\n",
              "    }\n",
              "\n",
              "    .dataframe tbody tr th {\n",
              "        vertical-align: top;\n",
              "    }\n",
              "\n",
              "    .dataframe thead th {\n",
              "        text-align: right;\n",
              "    }\n",
              "</style>\n",
              "<table border=\"1\" class=\"dataframe\">\n",
              "  <thead>\n",
              "    <tr style=\"text-align: right;\">\n",
              "      <th></th>\n",
              "      <th>e</th>\n",
              "      <th>d</th>\n",
              "      <th>b</th>\n",
              "    </tr>\n",
              "  </thead>\n",
              "  <tbody>\n",
              "    <tr>\n",
              "      <th>B</th>\n",
              "      <td>11.835810</td>\n",
              "      <td>11.690965</td>\n",
              "      <td>29.379874</td>\n",
              "    </tr>\n",
              "    <tr>\n",
              "      <th>M</th>\n",
              "      <td>21.945994</td>\n",
              "      <td>35.058091</td>\n",
              "      <td>25.858070</td>\n",
              "    </tr>\n",
              "    <tr>\n",
              "      <th>P</th>\n",
              "      <td>10.813667</td>\n",
              "      <td>-21.735403</td>\n",
              "      <td>32.530328</td>\n",
              "    </tr>\n",
              "    <tr>\n",
              "      <th>Z</th>\n",
              "      <td>18.438406</td>\n",
              "      <td>7.108498</td>\n",
              "      <td>9.626311</td>\n",
              "    </tr>\n",
              "  </tbody>\n",
              "</table>\n",
              "</div>"
            ],
            "text/plain": [
              "           e          d          b\n",
              "B  11.835810  11.690965  29.379874\n",
              "M  21.945994  35.058091  25.858070\n",
              "P  10.813667 -21.735403  32.530328\n",
              "Z  18.438406   7.108498   9.626311"
            ]
          },
          "metadata": {
            "tags": []
          },
          "execution_count": 118
        }
      ]
    },
    {
      "cell_type": "code",
      "metadata": {
        "colab": {
          "base_uri": "https://localhost:8080/",
          "height": 166
        },
        "id": "SnVhk3FduYri",
        "outputId": "f04820fc-4df4-452a-83e3-28cc76390f5d"
      },
      "source": [
        "df4.sort_values(by='e')"
      ],
      "execution_count": null,
      "outputs": [
        {
          "output_type": "execute_result",
          "data": {
            "text/html": [
              "<div>\n",
              "<style scoped>\n",
              "    .dataframe tbody tr th:only-of-type {\n",
              "        vertical-align: middle;\n",
              "    }\n",
              "\n",
              "    .dataframe tbody tr th {\n",
              "        vertical-align: top;\n",
              "    }\n",
              "\n",
              "    .dataframe thead th {\n",
              "        text-align: right;\n",
              "    }\n",
              "</style>\n",
              "<table border=\"1\" class=\"dataframe\">\n",
              "  <thead>\n",
              "    <tr style=\"text-align: right;\">\n",
              "      <th></th>\n",
              "      <th>b</th>\n",
              "      <th>d</th>\n",
              "      <th>e</th>\n",
              "    </tr>\n",
              "  </thead>\n",
              "  <tbody>\n",
              "    <tr>\n",
              "      <th>P</th>\n",
              "      <td>32.530328</td>\n",
              "      <td>-21.735403</td>\n",
              "      <td>10.813667</td>\n",
              "    </tr>\n",
              "    <tr>\n",
              "      <th>B</th>\n",
              "      <td>29.379874</td>\n",
              "      <td>11.690965</td>\n",
              "      <td>11.835810</td>\n",
              "    </tr>\n",
              "    <tr>\n",
              "      <th>Z</th>\n",
              "      <td>9.626311</td>\n",
              "      <td>7.108498</td>\n",
              "      <td>18.438406</td>\n",
              "    </tr>\n",
              "    <tr>\n",
              "      <th>M</th>\n",
              "      <td>25.858070</td>\n",
              "      <td>35.058091</td>\n",
              "      <td>21.945994</td>\n",
              "    </tr>\n",
              "  </tbody>\n",
              "</table>\n",
              "</div>"
            ],
            "text/plain": [
              "           b          d          e\n",
              "P  32.530328 -21.735403  10.813667\n",
              "B  29.379874  11.690965  11.835810\n",
              "Z   9.626311   7.108498  18.438406\n",
              "M  25.858070  35.058091  21.945994"
            ]
          },
          "metadata": {
            "tags": []
          },
          "execution_count": 119
        }
      ]
    },
    {
      "cell_type": "code",
      "metadata": {
        "colab": {
          "base_uri": "https://localhost:8080/",
          "height": 166
        },
        "id": "_KFc8TDEuYuf",
        "outputId": "727ad85e-5c3a-4c9e-9be1-40451c395ee5"
      },
      "source": [
        "df4.sort_values(by=['e', 'b'])"
      ],
      "execution_count": null,
      "outputs": [
        {
          "output_type": "execute_result",
          "data": {
            "text/html": [
              "<div>\n",
              "<style scoped>\n",
              "    .dataframe tbody tr th:only-of-type {\n",
              "        vertical-align: middle;\n",
              "    }\n",
              "\n",
              "    .dataframe tbody tr th {\n",
              "        vertical-align: top;\n",
              "    }\n",
              "\n",
              "    .dataframe thead th {\n",
              "        text-align: right;\n",
              "    }\n",
              "</style>\n",
              "<table border=\"1\" class=\"dataframe\">\n",
              "  <thead>\n",
              "    <tr style=\"text-align: right;\">\n",
              "      <th></th>\n",
              "      <th>b</th>\n",
              "      <th>d</th>\n",
              "      <th>e</th>\n",
              "    </tr>\n",
              "  </thead>\n",
              "  <tbody>\n",
              "    <tr>\n",
              "      <th>P</th>\n",
              "      <td>32.530328</td>\n",
              "      <td>-21.735403</td>\n",
              "      <td>10.813667</td>\n",
              "    </tr>\n",
              "    <tr>\n",
              "      <th>B</th>\n",
              "      <td>29.379874</td>\n",
              "      <td>11.690965</td>\n",
              "      <td>11.835810</td>\n",
              "    </tr>\n",
              "    <tr>\n",
              "      <th>Z</th>\n",
              "      <td>9.626311</td>\n",
              "      <td>7.108498</td>\n",
              "      <td>18.438406</td>\n",
              "    </tr>\n",
              "    <tr>\n",
              "      <th>M</th>\n",
              "      <td>25.858070</td>\n",
              "      <td>35.058091</td>\n",
              "      <td>21.945994</td>\n",
              "    </tr>\n",
              "  </tbody>\n",
              "</table>\n",
              "</div>"
            ],
            "text/plain": [
              "           b          d          e\n",
              "P  32.530328 -21.735403  10.813667\n",
              "B  29.379874  11.690965  11.835810\n",
              "Z   9.626311   7.108498  18.438406\n",
              "M  25.858070  35.058091  21.945994"
            ]
          },
          "metadata": {
            "tags": []
          },
          "execution_count": 121
        }
      ]
    },
    {
      "cell_type": "code",
      "metadata": {
        "colab": {
          "base_uri": "https://localhost:8080/"
        },
        "id": "DDTztYUJtGGy",
        "outputId": "5836c9af-bd94-4a43-950d-982ba5dd9319"
      },
      "source": [
        "s1 = pd.Series([2,3,8,4,3,2,1], index = list('abcdefg'))\r\n",
        "s1"
      ],
      "execution_count": null,
      "outputs": [
        {
          "output_type": "execute_result",
          "data": {
            "text/plain": [
              "a    2\n",
              "b    3\n",
              "c    8\n",
              "d    4\n",
              "e    3\n",
              "f    2\n",
              "g    1\n",
              "dtype: int64"
            ]
          },
          "metadata": {
            "tags": []
          },
          "execution_count": 123
        }
      ]
    },
    {
      "cell_type": "code",
      "metadata": {
        "colab": {
          "base_uri": "https://localhost:8080/"
        },
        "id": "idUAjMSWvWlc",
        "outputId": "1040906a-0024-4a3b-9676-d12fc5b93f7b"
      },
      "source": [
        "s1.sort_values()"
      ],
      "execution_count": null,
      "outputs": [
        {
          "output_type": "execute_result",
          "data": {
            "text/plain": [
              "g    1\n",
              "a    2\n",
              "f    2\n",
              "b    3\n",
              "e    3\n",
              "d    4\n",
              "c    8\n",
              "dtype: int64"
            ]
          },
          "metadata": {
            "tags": []
          },
          "execution_count": 124
        }
      ]
    },
    {
      "cell_type": "code",
      "metadata": {
        "colab": {
          "base_uri": "https://localhost:8080/"
        },
        "id": "a2IFOZaGvp0j",
        "outputId": "42e37883-65b2-4925-b699-e45ce5ee855b"
      },
      "source": [
        "s1.rank() # Cuando el elemento no es entero es que está igualado con otros"
      ],
      "execution_count": null,
      "outputs": [
        {
          "output_type": "execute_result",
          "data": {
            "text/plain": [
              "a    2.5\n",
              "b    4.5\n",
              "c    7.0\n",
              "d    6.0\n",
              "e    4.5\n",
              "f    2.5\n",
              "g    1.0\n",
              "dtype: float64"
            ]
          },
          "metadata": {
            "tags": []
          },
          "execution_count": 125
        }
      ]
    },
    {
      "cell_type": "code",
      "metadata": {
        "colab": {
          "base_uri": "https://localhost:8080/"
        },
        "id": "YeMEzkCrvp32",
        "outputId": "7c69b486-05eb-4c48-e848-cb86989fd093"
      },
      "source": [
        "pd.Series([1,1,1]).rank()"
      ],
      "execution_count": null,
      "outputs": [
        {
          "output_type": "execute_result",
          "data": {
            "text/plain": [
              "0    2.0\n",
              "1    2.0\n",
              "2    2.0\n",
              "dtype: float64"
            ]
          },
          "metadata": {
            "tags": []
          },
          "execution_count": 126
        }
      ]
    },
    {
      "cell_type": "code",
      "metadata": {
        "colab": {
          "base_uri": "https://localhost:8080/"
        },
        "id": "Fnx2NJx1vp8V",
        "outputId": "a4dff8d8-28d0-4b20-90cc-d886466e51b4"
      },
      "source": [
        "salaries = pd.Series([150000, 90000, 120000, 30000, 100000, 5000, 40000, 50000, 80000, 35000, 27000, 14000])\r\n",
        "salaries"
      ],
      "execution_count": null,
      "outputs": [
        {
          "output_type": "execute_result",
          "data": {
            "text/plain": [
              "0     150000\n",
              "1      90000\n",
              "2     120000\n",
              "3      30000\n",
              "4     100000\n",
              "5       5000\n",
              "6      40000\n",
              "7      50000\n",
              "8      80000\n",
              "9      35000\n",
              "10     27000\n",
              "11     14000\n",
              "dtype: int64"
            ]
          },
          "metadata": {
            "tags": []
          },
          "execution_count": 145
        }
      ]
    },
    {
      "cell_type": "code",
      "metadata": {
        "colab": {
          "base_uri": "https://localhost:8080/"
        },
        "id": "zsUlCzL1vWon",
        "outputId": "b53ef4e5-66de-44f3-88ac-9deb15e81f31"
      },
      "source": [
        "ranking = salaries.sort_values(ascending=False)\r\n",
        "ranking"
      ],
      "execution_count": null,
      "outputs": [
        {
          "output_type": "execute_result",
          "data": {
            "text/plain": [
              "0     150000\n",
              "2     120000\n",
              "4     100000\n",
              "1      90000\n",
              "8      80000\n",
              "7      50000\n",
              "6      40000\n",
              "9      35000\n",
              "3      30000\n",
              "10     27000\n",
              "11     14000\n",
              "5       5000\n",
              "dtype: int64"
            ]
          },
          "metadata": {
            "tags": []
          },
          "execution_count": 139
        }
      ]
    },
    {
      "cell_type": "code",
      "metadata": {
        "colab": {
          "base_uri": "https://localhost:8080/"
        },
        "id": "K5L0y70zwRHK",
        "outputId": "286b8c2a-4549-4778-9994-a70bc535b6d7"
      },
      "source": [
        "ranking[0:10] # Los 10 mejor pagados"
      ],
      "execution_count": null,
      "outputs": [
        {
          "output_type": "execute_result",
          "data": {
            "text/plain": [
              "0     150000\n",
              "2     120000\n",
              "4     100000\n",
              "1      90000\n",
              "8      80000\n",
              "7      50000\n",
              "6      40000\n",
              "9      35000\n",
              "3      30000\n",
              "10     27000\n",
              "dtype: int64"
            ]
          },
          "metadata": {
            "tags": []
          },
          "execution_count": 140
        }
      ]
    },
    {
      "cell_type": "code",
      "metadata": {
        "colab": {
          "base_uri": "https://localhost:8080/"
        },
        "id": "vSZ1sKoXwRJp",
        "outputId": "6bc94178-3734-4817-e506-7b665ed66323"
      },
      "source": [
        "# El 10% de los mejor pagados\r\n",
        "\r\n",
        "def top_earners(serie):\r\n",
        "  number_to_extract = round(len(salaries) / 10)\r\n",
        "  return salaries.sort_values()[-number_to_extract:]\r\n",
        "\r\n",
        "top_earners(salaries)"
      ],
      "execution_count": null,
      "outputs": [
        {
          "output_type": "execute_result",
          "data": {
            "text/plain": [
              "0    150000\n",
              "dtype: int64"
            ]
          },
          "metadata": {
            "tags": []
          },
          "execution_count": 146
        }
      ]
    },
    {
      "cell_type": "code",
      "metadata": {
        "colab": {
          "base_uri": "https://localhost:8080/"
        },
        "id": "Y4JOmQ5uwRMi",
        "outputId": "afa0e626-f5ac-4661-be2a-bb5129d9f721"
      },
      "source": [
        "def top_earners(salaries, percentile=0.9):\r\n",
        "  is_top_earner = salaries.rank(pct=True) > percentile\r\n",
        "  return salaries[is_top_earner]\r\n",
        "\r\n",
        "print(top_earners(salaries))"
      ],
      "execution_count": null,
      "outputs": [
        {
          "output_type": "stream",
          "text": [
            "0    150000\n",
            "2    120000\n",
            "dtype: int64\n"
          ],
          "name": "stdout"
        }
      ]
    },
    {
      "cell_type": "code",
      "metadata": {
        "colab": {
          "base_uri": "https://localhost:8080/"
        },
        "id": "u4-dDFbdwRPB",
        "outputId": "06a33e55-ea79-40d9-bca0-2a766f54d908"
      },
      "source": [
        "print(top_earners(salaries, 0.8))"
      ],
      "execution_count": null,
      "outputs": [
        {
          "output_type": "stream",
          "text": [
            "0    150000\n",
            "2    120000\n",
            "4    100000\n",
            "dtype: int64\n"
          ],
          "name": "stdout"
        }
      ]
    },
    {
      "cell_type": "code",
      "metadata": {
        "id": "Yq4WwTQBvWs9"
      },
      "source": [
        "x = pd.Series([1.2, np.nan, 4, np.nan, 9], index= list('abcde'))\r\n",
        "y = pd.Series([5,3,7,np.nan, 14], index = list('abcde'))"
      ],
      "execution_count": null,
      "outputs": []
    },
    {
      "cell_type": "code",
      "metadata": {
        "colab": {
          "base_uri": "https://localhost:8080/",
          "height": 195
        },
        "id": "LA_Q6jM50Oqm",
        "outputId": "7c39739e-ba12-4231-e2e8-ff7ff8eccac1"
      },
      "source": [
        "df = pd.DataFrame([x,y], index=['x','y']).T\r\n",
        "df"
      ],
      "execution_count": null,
      "outputs": [
        {
          "output_type": "execute_result",
          "data": {
            "text/html": [
              "<div>\n",
              "<style scoped>\n",
              "    .dataframe tbody tr th:only-of-type {\n",
              "        vertical-align: middle;\n",
              "    }\n",
              "\n",
              "    .dataframe tbody tr th {\n",
              "        vertical-align: top;\n",
              "    }\n",
              "\n",
              "    .dataframe thead th {\n",
              "        text-align: right;\n",
              "    }\n",
              "</style>\n",
              "<table border=\"1\" class=\"dataframe\">\n",
              "  <thead>\n",
              "    <tr style=\"text-align: right;\">\n",
              "      <th></th>\n",
              "      <th>x</th>\n",
              "      <th>y</th>\n",
              "    </tr>\n",
              "  </thead>\n",
              "  <tbody>\n",
              "    <tr>\n",
              "      <th>a</th>\n",
              "      <td>1.2</td>\n",
              "      <td>5.0</td>\n",
              "    </tr>\n",
              "    <tr>\n",
              "      <th>b</th>\n",
              "      <td>NaN</td>\n",
              "      <td>3.0</td>\n",
              "    </tr>\n",
              "    <tr>\n",
              "      <th>c</th>\n",
              "      <td>4.0</td>\n",
              "      <td>7.0</td>\n",
              "    </tr>\n",
              "    <tr>\n",
              "      <th>d</th>\n",
              "      <td>NaN</td>\n",
              "      <td>NaN</td>\n",
              "    </tr>\n",
              "    <tr>\n",
              "      <th>e</th>\n",
              "      <td>9.0</td>\n",
              "      <td>14.0</td>\n",
              "    </tr>\n",
              "  </tbody>\n",
              "</table>\n",
              "</div>"
            ],
            "text/plain": [
              "     x     y\n",
              "a  1.2   5.0\n",
              "b  NaN   3.0\n",
              "c  4.0   7.0\n",
              "d  NaN   NaN\n",
              "e  9.0  14.0"
            ]
          },
          "metadata": {
            "tags": []
          },
          "execution_count": 151
        }
      ]
    },
    {
      "cell_type": "code",
      "metadata": {
        "colab": {
          "base_uri": "https://localhost:8080/"
        },
        "id": "-1AKiyx00OtZ",
        "outputId": "cc168576-ecd7-452d-fabf-427135784381"
      },
      "source": [
        "df.sum(axis=1)"
      ],
      "execution_count": null,
      "outputs": [
        {
          "output_type": "execute_result",
          "data": {
            "text/plain": [
              "a     6.2\n",
              "b     3.0\n",
              "c    11.0\n",
              "d     0.0\n",
              "e    23.0\n",
              "dtype: float64"
            ]
          },
          "metadata": {
            "tags": []
          },
          "execution_count": 153
        }
      ]
    },
    {
      "cell_type": "code",
      "metadata": {
        "colab": {
          "base_uri": "https://localhost:8080/"
        },
        "id": "b3GYmSp40OwM",
        "outputId": "d2ccc338-8ac9-4470-eadd-5bf4c1ba3721"
      },
      "source": [
        "df.mean()"
      ],
      "execution_count": null,
      "outputs": [
        {
          "output_type": "execute_result",
          "data": {
            "text/plain": [
              "x    4.733333\n",
              "y    7.250000\n",
              "dtype: float64"
            ]
          },
          "metadata": {
            "tags": []
          },
          "execution_count": 154
        }
      ]
    },
    {
      "cell_type": "code",
      "metadata": {
        "colab": {
          "base_uri": "https://localhost:8080/"
        },
        "id": "O3BvEE2S1akX",
        "outputId": "1be7172d-130a-41aa-823a-fc92a12194e0"
      },
      "source": [
        "s7 = pd.Series(list('gtacaaaafffkag'))\r\n",
        "s7"
      ],
      "execution_count": null,
      "outputs": [
        {
          "output_type": "execute_result",
          "data": {
            "text/plain": [
              "0     g\n",
              "1     t\n",
              "2     a\n",
              "3     c\n",
              "4     a\n",
              "5     a\n",
              "6     a\n",
              "7     a\n",
              "8     f\n",
              "9     f\n",
              "10    f\n",
              "11    k\n",
              "12    a\n",
              "13    g\n",
              "dtype: object"
            ]
          },
          "metadata": {
            "tags": []
          },
          "execution_count": 157
        }
      ]
    },
    {
      "cell_type": "code",
      "metadata": {
        "colab": {
          "base_uri": "https://localhost:8080/"
        },
        "id": "mZhvyvvU2iQY",
        "outputId": "bfa7714c-cc8e-4a5c-ef24-09cc96a6a3ce"
      },
      "source": [
        "s7.unique()"
      ],
      "execution_count": null,
      "outputs": [
        {
          "output_type": "execute_result",
          "data": {
            "text/plain": [
              "array(['g', 't', 'a', 'c', 'f', 'k'], dtype=object)"
            ]
          },
          "metadata": {
            "tags": []
          },
          "execution_count": 158
        }
      ]
    },
    {
      "cell_type": "code",
      "metadata": {
        "colab": {
          "base_uri": "https://localhost:8080/"
        },
        "id": "aKpEO7B02iTH",
        "outputId": "cc956710-123c-48da-8432-3b4268e4a959"
      },
      "source": [
        "s7.value_counts()"
      ],
      "execution_count": null,
      "outputs": [
        {
          "output_type": "execute_result",
          "data": {
            "text/plain": [
              "a    6\n",
              "f    3\n",
              "g    2\n",
              "c    1\n",
              "k    1\n",
              "t    1\n",
              "dtype: int64"
            ]
          },
          "metadata": {
            "tags": []
          },
          "execution_count": 160
        }
      ]
    },
    {
      "cell_type": "code",
      "metadata": {
        "id": "rvXAJmI_2iVj"
      },
      "source": [
        "puric_bases = ['g', 'a']"
      ],
      "execution_count": null,
      "outputs": []
    },
    {
      "cell_type": "code",
      "metadata": {
        "colab": {
          "base_uri": "https://localhost:8080/"
        },
        "id": "Grz30-TX2iYf",
        "outputId": "dee91b73-6e49-4035-921e-918a4063bd6c"
      },
      "source": [
        "s7.isin(puric_bases)"
      ],
      "execution_count": null,
      "outputs": [
        {
          "output_type": "execute_result",
          "data": {
            "text/plain": [
              "0      True\n",
              "1     False\n",
              "2      True\n",
              "3     False\n",
              "4      True\n",
              "5      True\n",
              "6      True\n",
              "7      True\n",
              "8     False\n",
              "9     False\n",
              "10    False\n",
              "11    False\n",
              "12     True\n",
              "13     True\n",
              "dtype: bool"
            ]
          },
          "metadata": {
            "tags": []
          },
          "execution_count": 162
        }
      ]
    },
    {
      "cell_type": "code",
      "metadata": {
        "colab": {
          "base_uri": "https://localhost:8080/"
        },
        "id": "m_2BDEnl1anZ",
        "outputId": "8e845b43-bfea-4a2c-910d-02567c55c0f8"
      },
      "source": [
        "s7[s7.isin(puric_bases)]"
      ],
      "execution_count": null,
      "outputs": [
        {
          "output_type": "execute_result",
          "data": {
            "text/plain": [
              "0     g\n",
              "2     a\n",
              "4     a\n",
              "5     a\n",
              "6     a\n",
              "7     a\n",
              "12    a\n",
              "13    g\n",
              "dtype: object"
            ]
          },
          "metadata": {
            "tags": []
          },
          "execution_count": 163
        }
      ]
    },
    {
      "cell_type": "code",
      "metadata": {
        "colab": {
          "base_uri": "https://localhost:8080/"
        },
        "id": "CcUudmlh28WM",
        "outputId": "f17a9c5f-5833-4423-e492-2b428b0cb4d5"
      },
      "source": [
        "string_data = pd.Series(['Ma', 'Lu', 'Ca', 'Va', np.nan])\r\n",
        "string_data"
      ],
      "execution_count": null,
      "outputs": [
        {
          "output_type": "execute_result",
          "data": {
            "text/plain": [
              "0     Ma\n",
              "1     Lu\n",
              "2     Ca\n",
              "3     Va\n",
              "4    NaN\n",
              "dtype: object"
            ]
          },
          "metadata": {
            "tags": []
          },
          "execution_count": 164
        }
      ]
    },
    {
      "cell_type": "code",
      "metadata": {
        "colab": {
          "base_uri": "https://localhost:8080/"
        },
        "id": "6LpZwVxa28Y7",
        "outputId": "ead37717-79dd-43d7-b6a1-7ce13327b545"
      },
      "source": [
        "string_data[~string_data.isnull()]"
      ],
      "execution_count": null,
      "outputs": [
        {
          "output_type": "execute_result",
          "data": {
            "text/plain": [
              "0    Ma\n",
              "1    Lu\n",
              "2    Ca\n",
              "3    Va\n",
              "dtype: object"
            ]
          },
          "metadata": {
            "tags": []
          },
          "execution_count": 165
        }
      ]
    },
    {
      "cell_type": "code",
      "metadata": {
        "colab": {
          "base_uri": "https://localhost:8080/",
          "height": 166
        },
        "id": "ucynxhuV3FnG",
        "outputId": "c568f1b9-5bf2-4988-fb4f-dc5a078acdd4"
      },
      "source": [
        "df5 = pd.DataFrame([[1,2,3],[np.nan,8,7],[4, np.nan, 90],[67,42,53]],columns=list('abc'))\r\n",
        "df5"
      ],
      "execution_count": null,
      "outputs": [
        {
          "output_type": "execute_result",
          "data": {
            "text/html": [
              "<div>\n",
              "<style scoped>\n",
              "    .dataframe tbody tr th:only-of-type {\n",
              "        vertical-align: middle;\n",
              "    }\n",
              "\n",
              "    .dataframe tbody tr th {\n",
              "        vertical-align: top;\n",
              "    }\n",
              "\n",
              "    .dataframe thead th {\n",
              "        text-align: right;\n",
              "    }\n",
              "</style>\n",
              "<table border=\"1\" class=\"dataframe\">\n",
              "  <thead>\n",
              "    <tr style=\"text-align: right;\">\n",
              "      <th></th>\n",
              "      <th>a</th>\n",
              "      <th>b</th>\n",
              "      <th>c</th>\n",
              "    </tr>\n",
              "  </thead>\n",
              "  <tbody>\n",
              "    <tr>\n",
              "      <th>0</th>\n",
              "      <td>1.0</td>\n",
              "      <td>2.0</td>\n",
              "      <td>3</td>\n",
              "    </tr>\n",
              "    <tr>\n",
              "      <th>1</th>\n",
              "      <td>NaN</td>\n",
              "      <td>8.0</td>\n",
              "      <td>7</td>\n",
              "    </tr>\n",
              "    <tr>\n",
              "      <th>2</th>\n",
              "      <td>4.0</td>\n",
              "      <td>NaN</td>\n",
              "      <td>90</td>\n",
              "    </tr>\n",
              "    <tr>\n",
              "      <th>3</th>\n",
              "      <td>67.0</td>\n",
              "      <td>42.0</td>\n",
              "      <td>53</td>\n",
              "    </tr>\n",
              "  </tbody>\n",
              "</table>\n",
              "</div>"
            ],
            "text/plain": [
              "      a     b   c\n",
              "0   1.0   2.0   3\n",
              "1   NaN   8.0   7\n",
              "2   4.0   NaN  90\n",
              "3  67.0  42.0  53"
            ]
          },
          "metadata": {
            "tags": []
          },
          "execution_count": 169
        }
      ]
    },
    {
      "cell_type": "code",
      "metadata": {
        "colab": {
          "base_uri": "https://localhost:8080/",
          "height": 136
        },
        "id": "IpnGxptQ3Fpe",
        "outputId": "96ca8861-f0bf-4daf-b448-71626e33f95f"
      },
      "source": [
        "df5[df5['a'].notnull()]"
      ],
      "execution_count": null,
      "outputs": [
        {
          "output_type": "execute_result",
          "data": {
            "text/html": [
              "<div>\n",
              "<style scoped>\n",
              "    .dataframe tbody tr th:only-of-type {\n",
              "        vertical-align: middle;\n",
              "    }\n",
              "\n",
              "    .dataframe tbody tr th {\n",
              "        vertical-align: top;\n",
              "    }\n",
              "\n",
              "    .dataframe thead th {\n",
              "        text-align: right;\n",
              "    }\n",
              "</style>\n",
              "<table border=\"1\" class=\"dataframe\">\n",
              "  <thead>\n",
              "    <tr style=\"text-align: right;\">\n",
              "      <th></th>\n",
              "      <th>a</th>\n",
              "      <th>b</th>\n",
              "      <th>c</th>\n",
              "    </tr>\n",
              "  </thead>\n",
              "  <tbody>\n",
              "    <tr>\n",
              "      <th>0</th>\n",
              "      <td>1.0</td>\n",
              "      <td>2.0</td>\n",
              "      <td>3</td>\n",
              "    </tr>\n",
              "    <tr>\n",
              "      <th>2</th>\n",
              "      <td>4.0</td>\n",
              "      <td>NaN</td>\n",
              "      <td>90</td>\n",
              "    </tr>\n",
              "    <tr>\n",
              "      <th>3</th>\n",
              "      <td>67.0</td>\n",
              "      <td>42.0</td>\n",
              "      <td>53</td>\n",
              "    </tr>\n",
              "  </tbody>\n",
              "</table>\n",
              "</div>"
            ],
            "text/plain": [
              "      a     b   c\n",
              "0   1.0   2.0   3\n",
              "2   4.0   NaN  90\n",
              "3  67.0  42.0  53"
            ]
          },
          "metadata": {
            "tags": []
          },
          "execution_count": 170
        }
      ]
    },
    {
      "cell_type": "code",
      "metadata": {
        "colab": {
          "base_uri": "https://localhost:8080/",
          "height": 166
        },
        "id": "2F4WiQUH3FsN",
        "outputId": "ea469c08-41f9-4a24-f2f3-e139aa9e0d67"
      },
      "source": [
        "df5.notnull()"
      ],
      "execution_count": null,
      "outputs": [
        {
          "output_type": "execute_result",
          "data": {
            "text/html": [
              "<div>\n",
              "<style scoped>\n",
              "    .dataframe tbody tr th:only-of-type {\n",
              "        vertical-align: middle;\n",
              "    }\n",
              "\n",
              "    .dataframe tbody tr th {\n",
              "        vertical-align: top;\n",
              "    }\n",
              "\n",
              "    .dataframe thead th {\n",
              "        text-align: right;\n",
              "    }\n",
              "</style>\n",
              "<table border=\"1\" class=\"dataframe\">\n",
              "  <thead>\n",
              "    <tr style=\"text-align: right;\">\n",
              "      <th></th>\n",
              "      <th>a</th>\n",
              "      <th>b</th>\n",
              "      <th>c</th>\n",
              "    </tr>\n",
              "  </thead>\n",
              "  <tbody>\n",
              "    <tr>\n",
              "      <th>0</th>\n",
              "      <td>True</td>\n",
              "      <td>True</td>\n",
              "      <td>True</td>\n",
              "    </tr>\n",
              "    <tr>\n",
              "      <th>1</th>\n",
              "      <td>False</td>\n",
              "      <td>True</td>\n",
              "      <td>True</td>\n",
              "    </tr>\n",
              "    <tr>\n",
              "      <th>2</th>\n",
              "      <td>True</td>\n",
              "      <td>False</td>\n",
              "      <td>True</td>\n",
              "    </tr>\n",
              "    <tr>\n",
              "      <th>3</th>\n",
              "      <td>True</td>\n",
              "      <td>True</td>\n",
              "      <td>True</td>\n",
              "    </tr>\n",
              "  </tbody>\n",
              "</table>\n",
              "</div>"
            ],
            "text/plain": [
              "       a      b     c\n",
              "0   True   True  True\n",
              "1  False   True  True\n",
              "2   True  False  True\n",
              "3   True   True  True"
            ]
          },
          "metadata": {
            "tags": []
          },
          "execution_count": 171
        }
      ]
    },
    {
      "cell_type": "code",
      "metadata": {
        "colab": {
          "base_uri": "https://localhost:8080/"
        },
        "id": "s6vnVTt01aqa",
        "outputId": "90da9f35-6bc5-4cd3-9583-58dad8538bef"
      },
      "source": [
        "df5.notnull().any()"
      ],
      "execution_count": null,
      "outputs": [
        {
          "output_type": "execute_result",
          "data": {
            "text/plain": [
              "a    True\n",
              "b    True\n",
              "c    True\n",
              "dtype: bool"
            ]
          },
          "metadata": {
            "tags": []
          },
          "execution_count": 172
        }
      ]
    },
    {
      "cell_type": "code",
      "metadata": {
        "colab": {
          "base_uri": "https://localhost:8080/"
        },
        "id": "ZEMHDrnw1atW",
        "outputId": "e06cef76-bd1a-4ce9-c84f-19a0e4ec71a8"
      },
      "source": [
        "df5.notnull().all()"
      ],
      "execution_count": null,
      "outputs": [
        {
          "output_type": "execute_result",
          "data": {
            "text/plain": [
              "a    False\n",
              "b    False\n",
              "c     True\n",
              "dtype: bool"
            ]
          },
          "metadata": {
            "tags": []
          },
          "execution_count": 173
        }
      ]
    },
    {
      "cell_type": "code",
      "metadata": {
        "colab": {
          "base_uri": "https://localhost:8080/",
          "height": 106
        },
        "id": "af9lyPmX5kck",
        "outputId": "954f42b9-cbc6-4450-8464-d1d15b923beb"
      },
      "source": [
        "df5.dropna()"
      ],
      "execution_count": null,
      "outputs": [
        {
          "output_type": "execute_result",
          "data": {
            "text/html": [
              "<div>\n",
              "<style scoped>\n",
              "    .dataframe tbody tr th:only-of-type {\n",
              "        vertical-align: middle;\n",
              "    }\n",
              "\n",
              "    .dataframe tbody tr th {\n",
              "        vertical-align: top;\n",
              "    }\n",
              "\n",
              "    .dataframe thead th {\n",
              "        text-align: right;\n",
              "    }\n",
              "</style>\n",
              "<table border=\"1\" class=\"dataframe\">\n",
              "  <thead>\n",
              "    <tr style=\"text-align: right;\">\n",
              "      <th></th>\n",
              "      <th>a</th>\n",
              "      <th>b</th>\n",
              "      <th>c</th>\n",
              "    </tr>\n",
              "  </thead>\n",
              "  <tbody>\n",
              "    <tr>\n",
              "      <th>0</th>\n",
              "      <td>1.0</td>\n",
              "      <td>2.0</td>\n",
              "      <td>3</td>\n",
              "    </tr>\n",
              "    <tr>\n",
              "      <th>3</th>\n",
              "      <td>67.0</td>\n",
              "      <td>42.0</td>\n",
              "      <td>53</td>\n",
              "    </tr>\n",
              "  </tbody>\n",
              "</table>\n",
              "</div>"
            ],
            "text/plain": [
              "      a     b   c\n",
              "0   1.0   2.0   3\n",
              "3  67.0  42.0  53"
            ]
          },
          "metadata": {
            "tags": []
          },
          "execution_count": 174
        }
      ]
    },
    {
      "cell_type": "code",
      "metadata": {
        "colab": {
          "base_uri": "https://localhost:8080/",
          "height": 166
        },
        "id": "GJ9cws9H53Dw",
        "outputId": "5107b43d-ac98-49f8-d8d5-355f6d8c824b"
      },
      "source": [
        "df5"
      ],
      "execution_count": null,
      "outputs": [
        {
          "output_type": "execute_result",
          "data": {
            "text/html": [
              "<div>\n",
              "<style scoped>\n",
              "    .dataframe tbody tr th:only-of-type {\n",
              "        vertical-align: middle;\n",
              "    }\n",
              "\n",
              "    .dataframe tbody tr th {\n",
              "        vertical-align: top;\n",
              "    }\n",
              "\n",
              "    .dataframe thead th {\n",
              "        text-align: right;\n",
              "    }\n",
              "</style>\n",
              "<table border=\"1\" class=\"dataframe\">\n",
              "  <thead>\n",
              "    <tr style=\"text-align: right;\">\n",
              "      <th></th>\n",
              "      <th>a</th>\n",
              "      <th>b</th>\n",
              "      <th>c</th>\n",
              "    </tr>\n",
              "  </thead>\n",
              "  <tbody>\n",
              "    <tr>\n",
              "      <th>0</th>\n",
              "      <td>1.0</td>\n",
              "      <td>2.0</td>\n",
              "      <td>3</td>\n",
              "    </tr>\n",
              "    <tr>\n",
              "      <th>1</th>\n",
              "      <td>NaN</td>\n",
              "      <td>8.0</td>\n",
              "      <td>7</td>\n",
              "    </tr>\n",
              "    <tr>\n",
              "      <th>2</th>\n",
              "      <td>4.0</td>\n",
              "      <td>NaN</td>\n",
              "      <td>90</td>\n",
              "    </tr>\n",
              "    <tr>\n",
              "      <th>3</th>\n",
              "      <td>67.0</td>\n",
              "      <td>42.0</td>\n",
              "      <td>53</td>\n",
              "    </tr>\n",
              "  </tbody>\n",
              "</table>\n",
              "</div>"
            ],
            "text/plain": [
              "      a     b   c\n",
              "0   1.0   2.0   3\n",
              "1   NaN   8.0   7\n",
              "2   4.0   NaN  90\n",
              "3  67.0  42.0  53"
            ]
          },
          "metadata": {
            "tags": []
          },
          "execution_count": 175
        }
      ]
    },
    {
      "cell_type": "code",
      "metadata": {
        "colab": {
          "base_uri": "https://localhost:8080/",
          "height": 166
        },
        "id": "G9GF-kOw53Gb",
        "outputId": "131fcc61-863c-48d0-cb95-3a28c5042a3c"
      },
      "source": [
        "df5.dropna(axis=1)"
      ],
      "execution_count": null,
      "outputs": [
        {
          "output_type": "execute_result",
          "data": {
            "text/html": [
              "<div>\n",
              "<style scoped>\n",
              "    .dataframe tbody tr th:only-of-type {\n",
              "        vertical-align: middle;\n",
              "    }\n",
              "\n",
              "    .dataframe tbody tr th {\n",
              "        vertical-align: top;\n",
              "    }\n",
              "\n",
              "    .dataframe thead th {\n",
              "        text-align: right;\n",
              "    }\n",
              "</style>\n",
              "<table border=\"1\" class=\"dataframe\">\n",
              "  <thead>\n",
              "    <tr style=\"text-align: right;\">\n",
              "      <th></th>\n",
              "      <th>c</th>\n",
              "    </tr>\n",
              "  </thead>\n",
              "  <tbody>\n",
              "    <tr>\n",
              "      <th>0</th>\n",
              "      <td>3</td>\n",
              "    </tr>\n",
              "    <tr>\n",
              "      <th>1</th>\n",
              "      <td>7</td>\n",
              "    </tr>\n",
              "    <tr>\n",
              "      <th>2</th>\n",
              "      <td>90</td>\n",
              "    </tr>\n",
              "    <tr>\n",
              "      <th>3</th>\n",
              "      <td>53</td>\n",
              "    </tr>\n",
              "  </tbody>\n",
              "</table>\n",
              "</div>"
            ],
            "text/plain": [
              "    c\n",
              "0   3\n",
              "1   7\n",
              "2  90\n",
              "3  53"
            ]
          },
          "metadata": {
            "tags": []
          },
          "execution_count": 176
        }
      ]
    },
    {
      "cell_type": "code",
      "metadata": {
        "colab": {
          "base_uri": "https://localhost:8080/",
          "height": 166
        },
        "id": "bEXaQnoa5ke5",
        "outputId": "1d812652-58be-41ff-c333-1e6a1e46940c"
      },
      "source": [
        "df5.dropna(thresh=2) # Drop sólo si faltan 2 o más variables"
      ],
      "execution_count": null,
      "outputs": [
        {
          "output_type": "execute_result",
          "data": {
            "text/html": [
              "<div>\n",
              "<style scoped>\n",
              "    .dataframe tbody tr th:only-of-type {\n",
              "        vertical-align: middle;\n",
              "    }\n",
              "\n",
              "    .dataframe tbody tr th {\n",
              "        vertical-align: top;\n",
              "    }\n",
              "\n",
              "    .dataframe thead th {\n",
              "        text-align: right;\n",
              "    }\n",
              "</style>\n",
              "<table border=\"1\" class=\"dataframe\">\n",
              "  <thead>\n",
              "    <tr style=\"text-align: right;\">\n",
              "      <th></th>\n",
              "      <th>a</th>\n",
              "      <th>b</th>\n",
              "      <th>c</th>\n",
              "    </tr>\n",
              "  </thead>\n",
              "  <tbody>\n",
              "    <tr>\n",
              "      <th>0</th>\n",
              "      <td>1.0</td>\n",
              "      <td>2.0</td>\n",
              "      <td>3</td>\n",
              "    </tr>\n",
              "    <tr>\n",
              "      <th>1</th>\n",
              "      <td>NaN</td>\n",
              "      <td>8.0</td>\n",
              "      <td>7</td>\n",
              "    </tr>\n",
              "    <tr>\n",
              "      <th>2</th>\n",
              "      <td>4.0</td>\n",
              "      <td>NaN</td>\n",
              "      <td>90</td>\n",
              "    </tr>\n",
              "    <tr>\n",
              "      <th>3</th>\n",
              "      <td>67.0</td>\n",
              "      <td>42.0</td>\n",
              "      <td>53</td>\n",
              "    </tr>\n",
              "  </tbody>\n",
              "</table>\n",
              "</div>"
            ],
            "text/plain": [
              "      a     b   c\n",
              "0   1.0   2.0   3\n",
              "1   NaN   8.0   7\n",
              "2   4.0   NaN  90\n",
              "3  67.0  42.0  53"
            ]
          },
          "metadata": {
            "tags": []
          },
          "execution_count": 177
        }
      ]
    },
    {
      "cell_type": "code",
      "metadata": {
        "colab": {
          "base_uri": "https://localhost:8080/",
          "height": 166
        },
        "id": "MLJAWTp65khW",
        "outputId": "ba65ae76-6406-49d9-8aaa-ddaadd16eb70"
      },
      "source": [
        "df5.fillna(0)"
      ],
      "execution_count": null,
      "outputs": [
        {
          "output_type": "execute_result",
          "data": {
            "text/html": [
              "<div>\n",
              "<style scoped>\n",
              "    .dataframe tbody tr th:only-of-type {\n",
              "        vertical-align: middle;\n",
              "    }\n",
              "\n",
              "    .dataframe tbody tr th {\n",
              "        vertical-align: top;\n",
              "    }\n",
              "\n",
              "    .dataframe thead th {\n",
              "        text-align: right;\n",
              "    }\n",
              "</style>\n",
              "<table border=\"1\" class=\"dataframe\">\n",
              "  <thead>\n",
              "    <tr style=\"text-align: right;\">\n",
              "      <th></th>\n",
              "      <th>a</th>\n",
              "      <th>b</th>\n",
              "      <th>c</th>\n",
              "    </tr>\n",
              "  </thead>\n",
              "  <tbody>\n",
              "    <tr>\n",
              "      <th>0</th>\n",
              "      <td>1.0</td>\n",
              "      <td>2.0</td>\n",
              "      <td>3</td>\n",
              "    </tr>\n",
              "    <tr>\n",
              "      <th>1</th>\n",
              "      <td>0.0</td>\n",
              "      <td>8.0</td>\n",
              "      <td>7</td>\n",
              "    </tr>\n",
              "    <tr>\n",
              "      <th>2</th>\n",
              "      <td>4.0</td>\n",
              "      <td>0.0</td>\n",
              "      <td>90</td>\n",
              "    </tr>\n",
              "    <tr>\n",
              "      <th>3</th>\n",
              "      <td>67.0</td>\n",
              "      <td>42.0</td>\n",
              "      <td>53</td>\n",
              "    </tr>\n",
              "  </tbody>\n",
              "</table>\n",
              "</div>"
            ],
            "text/plain": [
              "      a     b   c\n",
              "0   1.0   2.0   3\n",
              "1   0.0   8.0   7\n",
              "2   4.0   0.0  90\n",
              "3  67.0  42.0  53"
            ]
          },
          "metadata": {
            "tags": []
          },
          "execution_count": 178
        }
      ]
    },
    {
      "cell_type": "code",
      "metadata": {
        "colab": {
          "base_uri": "https://localhost:8080/",
          "height": 166
        },
        "id": "LCmvGcVk6K8Q",
        "outputId": "87aa3ce8-c3c0-4484-f341-d9c8d93861e5"
      },
      "source": [
        "df5.fillna({\r\n",
        "    'a': 0,\r\n",
        "    'b': 10,\r\n",
        "    'c': 20\r\n",
        "})"
      ],
      "execution_count": null,
      "outputs": [
        {
          "output_type": "execute_result",
          "data": {
            "text/html": [
              "<div>\n",
              "<style scoped>\n",
              "    .dataframe tbody tr th:only-of-type {\n",
              "        vertical-align: middle;\n",
              "    }\n",
              "\n",
              "    .dataframe tbody tr th {\n",
              "        vertical-align: top;\n",
              "    }\n",
              "\n",
              "    .dataframe thead th {\n",
              "        text-align: right;\n",
              "    }\n",
              "</style>\n",
              "<table border=\"1\" class=\"dataframe\">\n",
              "  <thead>\n",
              "    <tr style=\"text-align: right;\">\n",
              "      <th></th>\n",
              "      <th>a</th>\n",
              "      <th>b</th>\n",
              "      <th>c</th>\n",
              "    </tr>\n",
              "  </thead>\n",
              "  <tbody>\n",
              "    <tr>\n",
              "      <th>0</th>\n",
              "      <td>1.0</td>\n",
              "      <td>2.0</td>\n",
              "      <td>3</td>\n",
              "    </tr>\n",
              "    <tr>\n",
              "      <th>1</th>\n",
              "      <td>0.0</td>\n",
              "      <td>8.0</td>\n",
              "      <td>7</td>\n",
              "    </tr>\n",
              "    <tr>\n",
              "      <th>2</th>\n",
              "      <td>4.0</td>\n",
              "      <td>10.0</td>\n",
              "      <td>90</td>\n",
              "    </tr>\n",
              "    <tr>\n",
              "      <th>3</th>\n",
              "      <td>67.0</td>\n",
              "      <td>42.0</td>\n",
              "      <td>53</td>\n",
              "    </tr>\n",
              "  </tbody>\n",
              "</table>\n",
              "</div>"
            ],
            "text/plain": [
              "      a     b   c\n",
              "0   1.0   2.0   3\n",
              "1   0.0   8.0   7\n",
              "2   4.0  10.0  90\n",
              "3  67.0  42.0  53"
            ]
          },
          "metadata": {
            "tags": []
          },
          "execution_count": 179
        }
      ]
    },
    {
      "cell_type": "code",
      "metadata": {
        "colab": {
          "base_uri": "https://localhost:8080/",
          "height": 250
        },
        "id": "fYMcuUa-6K_E",
        "outputId": "926929df-bb05-4291-8dcc-3d49e014184e"
      },
      "source": [
        "print(df5)\r\n",
        "df5.fillna(method='ffill') # toma el valor anterior"
      ],
      "execution_count": null,
      "outputs": [
        {
          "output_type": "stream",
          "text": [
            "      a     b   c\n",
            "0   1.0   2.0   3\n",
            "1   NaN   8.0   7\n",
            "2   4.0   NaN  90\n",
            "3  67.0  42.0  53\n"
          ],
          "name": "stdout"
        },
        {
          "output_type": "execute_result",
          "data": {
            "text/html": [
              "<div>\n",
              "<style scoped>\n",
              "    .dataframe tbody tr th:only-of-type {\n",
              "        vertical-align: middle;\n",
              "    }\n",
              "\n",
              "    .dataframe tbody tr th {\n",
              "        vertical-align: top;\n",
              "    }\n",
              "\n",
              "    .dataframe thead th {\n",
              "        text-align: right;\n",
              "    }\n",
              "</style>\n",
              "<table border=\"1\" class=\"dataframe\">\n",
              "  <thead>\n",
              "    <tr style=\"text-align: right;\">\n",
              "      <th></th>\n",
              "      <th>a</th>\n",
              "      <th>b</th>\n",
              "      <th>c</th>\n",
              "    </tr>\n",
              "  </thead>\n",
              "  <tbody>\n",
              "    <tr>\n",
              "      <th>0</th>\n",
              "      <td>1.0</td>\n",
              "      <td>2.0</td>\n",
              "      <td>3</td>\n",
              "    </tr>\n",
              "    <tr>\n",
              "      <th>1</th>\n",
              "      <td>1.0</td>\n",
              "      <td>8.0</td>\n",
              "      <td>7</td>\n",
              "    </tr>\n",
              "    <tr>\n",
              "      <th>2</th>\n",
              "      <td>4.0</td>\n",
              "      <td>8.0</td>\n",
              "      <td>90</td>\n",
              "    </tr>\n",
              "    <tr>\n",
              "      <th>3</th>\n",
              "      <td>67.0</td>\n",
              "      <td>42.0</td>\n",
              "      <td>53</td>\n",
              "    </tr>\n",
              "  </tbody>\n",
              "</table>\n",
              "</div>"
            ],
            "text/plain": [
              "      a     b   c\n",
              "0   1.0   2.0   3\n",
              "1   1.0   8.0   7\n",
              "2   4.0   8.0  90\n",
              "3  67.0  42.0  53"
            ]
          },
          "metadata": {
            "tags": []
          },
          "execution_count": 181
        }
      ]
    },
    {
      "cell_type": "code",
      "metadata": {
        "colab": {
          "base_uri": "https://localhost:8080/",
          "height": 166
        },
        "id": "fjLi1ev16LBV",
        "outputId": "4500cd66-1823-43d9-afe7-6bb45a50d701"
      },
      "source": [
        "df5.fillna(df5.median())"
      ],
      "execution_count": null,
      "outputs": [
        {
          "output_type": "execute_result",
          "data": {
            "text/html": [
              "<div>\n",
              "<style scoped>\n",
              "    .dataframe tbody tr th:only-of-type {\n",
              "        vertical-align: middle;\n",
              "    }\n",
              "\n",
              "    .dataframe tbody tr th {\n",
              "        vertical-align: top;\n",
              "    }\n",
              "\n",
              "    .dataframe thead th {\n",
              "        text-align: right;\n",
              "    }\n",
              "</style>\n",
              "<table border=\"1\" class=\"dataframe\">\n",
              "  <thead>\n",
              "    <tr style=\"text-align: right;\">\n",
              "      <th></th>\n",
              "      <th>a</th>\n",
              "      <th>b</th>\n",
              "      <th>c</th>\n",
              "    </tr>\n",
              "  </thead>\n",
              "  <tbody>\n",
              "    <tr>\n",
              "      <th>0</th>\n",
              "      <td>1.0</td>\n",
              "      <td>2.0</td>\n",
              "      <td>3</td>\n",
              "    </tr>\n",
              "    <tr>\n",
              "      <th>1</th>\n",
              "      <td>4.0</td>\n",
              "      <td>8.0</td>\n",
              "      <td>7</td>\n",
              "    </tr>\n",
              "    <tr>\n",
              "      <th>2</th>\n",
              "      <td>4.0</td>\n",
              "      <td>8.0</td>\n",
              "      <td>90</td>\n",
              "    </tr>\n",
              "    <tr>\n",
              "      <th>3</th>\n",
              "      <td>67.0</td>\n",
              "      <td>42.0</td>\n",
              "      <td>53</td>\n",
              "    </tr>\n",
              "  </tbody>\n",
              "</table>\n",
              "</div>"
            ],
            "text/plain": [
              "      a     b   c\n",
              "0   1.0   2.0   3\n",
              "1   4.0   8.0   7\n",
              "2   4.0   8.0  90\n",
              "3  67.0  42.0  53"
            ]
          },
          "metadata": {
            "tags": []
          },
          "execution_count": 182
        }
      ]
    },
    {
      "cell_type": "code",
      "metadata": {
        "colab": {
          "base_uri": "https://localhost:8080/"
        },
        "id": "pR5PLeu56LEE",
        "outputId": "d3da2988-dbe7-4941-bc01-3c06c06e4f6b"
      },
      "source": [
        "!wget https://bit.ly/ks-pds-csv2 -O {files_loc}/T100_AIRLINES.csv"
      ],
      "execution_count": null,
      "outputs": [
        {
          "output_type": "stream",
          "text": [
            "--2020-12-12 12:39:20--  https://bit.ly/ks-pds-csv2\n",
            "Resolving bit.ly (bit.ly)... 67.199.248.10, 67.199.248.11\n",
            "Connecting to bit.ly (bit.ly)|67.199.248.10|:443... connected.\n",
            "HTTP request sent, awaiting response... 301 Moved Permanently\n",
            "Location: https://drive.google.com/uc?export=view&id=10TunyfQbYFZv8P0rStl4Z1okztqPa3S5 [following]\n",
            "--2020-12-12 12:39:20--  https://drive.google.com/uc?export=view&id=10TunyfQbYFZv8P0rStl4Z1okztqPa3S5\n",
            "Resolving drive.google.com (drive.google.com)... 172.217.204.138, 172.217.204.100, 172.217.204.113, ...\n",
            "Connecting to drive.google.com (drive.google.com)|172.217.204.138|:443... connected.\n",
            "HTTP request sent, awaiting response... 302 Moved Temporarily\n",
            "Location: https://doc-14-cc-docs.googleusercontent.com/docs/securesc/ha0ro937gcuc7l7deffksulhg5h7mbp1/9sgft2q82upru3b59u56cs1ov3d6r72v/1607776725000/09168289428562857012/*/10TunyfQbYFZv8P0rStl4Z1okztqPa3S5?e=view [following]\n",
            "Warning: wildcards not supported in HTTP.\n",
            "--2020-12-12 12:39:20--  https://doc-14-cc-docs.googleusercontent.com/docs/securesc/ha0ro937gcuc7l7deffksulhg5h7mbp1/9sgft2q82upru3b59u56cs1ov3d6r72v/1607776725000/09168289428562857012/*/10TunyfQbYFZv8P0rStl4Z1okztqPa3S5?e=view\n",
            "Resolving doc-14-cc-docs.googleusercontent.com (doc-14-cc-docs.googleusercontent.com)... 172.217.203.132, 2607:f8b0:400c:c07::84\n",
            "Connecting to doc-14-cc-docs.googleusercontent.com (doc-14-cc-docs.googleusercontent.com)|172.217.203.132|:443... connected.\n",
            "HTTP request sent, awaiting response... 200 OK\n",
            "Length: unspecified [text/csv]\n",
            "Saving to: ‘/content/gdrive/MyDrive/pythondsfiles/T100_AIRLINES.csv’\n",
            "\n",
            "/content/gdrive/MyD     [  <=>               ]   9.32M  45.3MB/s    in 0.2s    \n",
            "\n",
            "2020-12-12 12:39:20 (45.3 MB/s) - ‘/content/gdrive/MyDrive/pythondsfiles/T100_AIRLINES.csv’ saved [9777233]\n",
            "\n"
          ],
          "name": "stdout"
        }
      ]
    },
    {
      "cell_type": "code",
      "metadata": {
        "colab": {
          "base_uri": "https://localhost:8080/"
        },
        "id": "tR2QE0xP7CCm",
        "outputId": "fc178cda-2112-4f94-cb94-d340b5c67aa0"
      },
      "source": [
        "!ls {files_loc}"
      ],
      "execution_count": null,
      "outputs": [
        {
          "output_type": "stream",
          "text": [
            "s3.pkl\tT100_AIRLINES.csv\n"
          ],
          "name": "stdout"
        }
      ]
    },
    {
      "cell_type": "code",
      "metadata": {
        "colab": {
          "base_uri": "https://localhost:8080/"
        },
        "id": "auxTa1kk7CE7",
        "outputId": "d1b92034-a6e3-4622-9943-8f70476e7fc2"
      },
      "source": [
        "contents = !ls {files_loc}/*T100*\r\n",
        "contents"
      ],
      "execution_count": null,
      "outputs": [
        {
          "output_type": "execute_result",
          "data": {
            "text/plain": [
              "['/content/gdrive/MyDrive/pythondsfiles/T100_AIRLINES.csv']"
            ]
          },
          "metadata": {
            "tags": []
          },
          "execution_count": 194
        }
      ]
    },
    {
      "cell_type": "code",
      "metadata": {
        "id": "CbBzF-Jg7CHl"
      },
      "source": [
        "trafficDf = pd.read_csv(contents[0])"
      ],
      "execution_count": null,
      "outputs": []
    },
    {
      "cell_type": "code",
      "metadata": {
        "colab": {
          "base_uri": "https://localhost:8080/",
          "height": 282
        },
        "id": "3C4xLerP7CKp",
        "outputId": "15490c48-712d-4cc5-ab7d-d949cb30e7c7"
      },
      "source": [
        "trafficDf.head()"
      ],
      "execution_count": null,
      "outputs": [
        {
          "output_type": "execute_result",
          "data": {
            "text/html": [
              "<div>\n",
              "<style scoped>\n",
              "    .dataframe tbody tr th:only-of-type {\n",
              "        vertical-align: middle;\n",
              "    }\n",
              "\n",
              "    .dataframe tbody tr th {\n",
              "        vertical-align: top;\n",
              "    }\n",
              "\n",
              "    .dataframe thead th {\n",
              "        text-align: right;\n",
              "    }\n",
              "</style>\n",
              "<table border=\"1\" class=\"dataframe\">\n",
              "  <thead>\n",
              "    <tr style=\"text-align: right;\">\n",
              "      <th></th>\n",
              "      <th>DEPARTURES_SCHEDULED</th>\n",
              "      <th>DEPARTURES_PERFORMED</th>\n",
              "      <th>PAYLOAD</th>\n",
              "      <th>SEATS</th>\n",
              "      <th>PASSENGERS</th>\n",
              "      <th>FREIGHT</th>\n",
              "      <th>MAIL</th>\n",
              "      <th>DISTANCE</th>\n",
              "      <th>RAMP_TO_RAMP</th>\n",
              "      <th>AIR_TIME</th>\n",
              "      <th>UNIQUE_CARRIER</th>\n",
              "      <th>AIRLINE_ID</th>\n",
              "      <th>UNIQUE_CARRIER_NAME</th>\n",
              "      <th>UNIQUE_CARRIER_ENTITY</th>\n",
              "      <th>REGION</th>\n",
              "      <th>CARRIER</th>\n",
              "      <th>CARRIER_NAME</th>\n",
              "      <th>CARRIER_GROUP</th>\n",
              "      <th>CARRIER_GROUP_NEW</th>\n",
              "      <th>ORIGIN_AIRPORT_ID</th>\n",
              "      <th>ORIGIN_AIRPORT_SEQ_ID</th>\n",
              "      <th>ORIGIN_CITY_MARKET_ID</th>\n",
              "      <th>ORIGIN</th>\n",
              "      <th>ORIGIN_CITY_NAME</th>\n",
              "      <th>ORIGIN_COUNTRY</th>\n",
              "      <th>ORIGIN_COUNTRY_NAME</th>\n",
              "      <th>ORIGIN_WAC</th>\n",
              "      <th>DEST_AIRPORT_ID</th>\n",
              "      <th>DEST_AIRPORT_SEQ_ID</th>\n",
              "      <th>DEST_CITY_MARKET_ID</th>\n",
              "      <th>DEST</th>\n",
              "      <th>DEST_CITY_NAME</th>\n",
              "      <th>DEST_COUNTRY</th>\n",
              "      <th>DEST_COUNTRY_NAME</th>\n",
              "      <th>DEST_WAC</th>\n",
              "      <th>AIRCRAFT_GROUP</th>\n",
              "      <th>AIRCRAFT_TYPE</th>\n",
              "      <th>AIRCRAFT_CONFIG</th>\n",
              "      <th>YEAR</th>\n",
              "      <th>QUARTER</th>\n",
              "      <th>MONTH</th>\n",
              "      <th>DISTANCE_GROUP</th>\n",
              "      <th>CLASS</th>\n",
              "      <th>Unnamed: 43</th>\n",
              "    </tr>\n",
              "  </thead>\n",
              "  <tbody>\n",
              "    <tr>\n",
              "      <th>0</th>\n",
              "      <td>0.0</td>\n",
              "      <td>1.0</td>\n",
              "      <td>26543.0</td>\n",
              "      <td>76.0</td>\n",
              "      <td>76.0</td>\n",
              "      <td>0.0</td>\n",
              "      <td>0.0</td>\n",
              "      <td>3160.0</td>\n",
              "      <td>0.0</td>\n",
              "      <td>0.0</td>\n",
              "      <td>02Q</td>\n",
              "      <td>21040.0</td>\n",
              "      <td>Titan Airways</td>\n",
              "      <td>71004</td>\n",
              "      <td>I</td>\n",
              "      <td>02Q</td>\n",
              "      <td>Titan Airways</td>\n",
              "      <td>0</td>\n",
              "      <td>0.0</td>\n",
              "      <td>15174</td>\n",
              "      <td>1517403</td>\n",
              "      <td>32946</td>\n",
              "      <td>TER</td>\n",
              "      <td>Lajes, Portugal</td>\n",
              "      <td>PT</td>\n",
              "      <td>Portugal</td>\n",
              "      <td>469</td>\n",
              "      <td>13204</td>\n",
              "      <td>1320402</td>\n",
              "      <td>31454</td>\n",
              "      <td>MCO</td>\n",
              "      <td>Orlando, FL</td>\n",
              "      <td>US</td>\n",
              "      <td>United States</td>\n",
              "      <td>33</td>\n",
              "      <td>6</td>\n",
              "      <td>622</td>\n",
              "      <td>1</td>\n",
              "      <td>2020</td>\n",
              "      <td>1</td>\n",
              "      <td>1</td>\n",
              "      <td>7</td>\n",
              "      <td>L</td>\n",
              "      <td>NaN</td>\n",
              "    </tr>\n",
              "    <tr>\n",
              "      <th>1</th>\n",
              "      <td>0.0</td>\n",
              "      <td>1.0</td>\n",
              "      <td>26543.0</td>\n",
              "      <td>76.0</td>\n",
              "      <td>0.0</td>\n",
              "      <td>0.0</td>\n",
              "      <td>0.0</td>\n",
              "      <td>4360.0</td>\n",
              "      <td>0.0</td>\n",
              "      <td>0.0</td>\n",
              "      <td>02Q</td>\n",
              "      <td>21040.0</td>\n",
              "      <td>Titan Airways</td>\n",
              "      <td>71004</td>\n",
              "      <td>I</td>\n",
              "      <td>02Q</td>\n",
              "      <td>Titan Airways</td>\n",
              "      <td>0</td>\n",
              "      <td>0.0</td>\n",
              "      <td>13204</td>\n",
              "      <td>1320402</td>\n",
              "      <td>31454</td>\n",
              "      <td>MCO</td>\n",
              "      <td>Orlando, FL</td>\n",
              "      <td>US</td>\n",
              "      <td>United States</td>\n",
              "      <td>33</td>\n",
              "      <td>15018</td>\n",
              "      <td>1501806</td>\n",
              "      <td>30730</td>\n",
              "      <td>STN</td>\n",
              "      <td>London, United Kingdom</td>\n",
              "      <td>GB</td>\n",
              "      <td>United Kingdom</td>\n",
              "      <td>493</td>\n",
              "      <td>6</td>\n",
              "      <td>622</td>\n",
              "      <td>1</td>\n",
              "      <td>2020</td>\n",
              "      <td>1</td>\n",
              "      <td>1</td>\n",
              "      <td>9</td>\n",
              "      <td>L</td>\n",
              "      <td>NaN</td>\n",
              "    </tr>\n",
              "    <tr>\n",
              "      <th>2</th>\n",
              "      <td>0.0</td>\n",
              "      <td>1.0</td>\n",
              "      <td>7198.0</td>\n",
              "      <td>16.0</td>\n",
              "      <td>2.0</td>\n",
              "      <td>0.0</td>\n",
              "      <td>0.0</td>\n",
              "      <td>3925.0</td>\n",
              "      <td>0.0</td>\n",
              "      <td>0.0</td>\n",
              "      <td>0BQ</td>\n",
              "      <td>21186.0</td>\n",
              "      <td>DCA</td>\n",
              "      <td>71033</td>\n",
              "      <td>I</td>\n",
              "      <td>0BQ</td>\n",
              "      <td>DCA</td>\n",
              "      <td>0</td>\n",
              "      <td>0.0</td>\n",
              "      <td>15022</td>\n",
              "      <td>1502203</td>\n",
              "      <td>35022</td>\n",
              "      <td>STR</td>\n",
              "      <td>Stuttgart, Germany</td>\n",
              "      <td>DE</td>\n",
              "      <td>Germany</td>\n",
              "      <td>429</td>\n",
              "      <td>15167</td>\n",
              "      <td>1516702</td>\n",
              "      <td>35167</td>\n",
              "      <td>TEB</td>\n",
              "      <td>Teterboro, NJ</td>\n",
              "      <td>US</td>\n",
              "      <td>United States</td>\n",
              "      <td>21</td>\n",
              "      <td>6</td>\n",
              "      <td>667</td>\n",
              "      <td>1</td>\n",
              "      <td>2020</td>\n",
              "      <td>1</td>\n",
              "      <td>1</td>\n",
              "      <td>8</td>\n",
              "      <td>L</td>\n",
              "      <td>NaN</td>\n",
              "    </tr>\n",
              "    <tr>\n",
              "      <th>3</th>\n",
              "      <td>0.0</td>\n",
              "      <td>1.0</td>\n",
              "      <td>7198.0</td>\n",
              "      <td>16.0</td>\n",
              "      <td>2.0</td>\n",
              "      <td>0.0</td>\n",
              "      <td>0.0</td>\n",
              "      <td>3925.0</td>\n",
              "      <td>0.0</td>\n",
              "      <td>0.0</td>\n",
              "      <td>0BQ</td>\n",
              "      <td>21186.0</td>\n",
              "      <td>DCA</td>\n",
              "      <td>71033</td>\n",
              "      <td>I</td>\n",
              "      <td>0BQ</td>\n",
              "      <td>DCA</td>\n",
              "      <td>0</td>\n",
              "      <td>0.0</td>\n",
              "      <td>15167</td>\n",
              "      <td>1516702</td>\n",
              "      <td>35167</td>\n",
              "      <td>TEB</td>\n",
              "      <td>Teterboro, NJ</td>\n",
              "      <td>US</td>\n",
              "      <td>United States</td>\n",
              "      <td>21</td>\n",
              "      <td>15022</td>\n",
              "      <td>1502203</td>\n",
              "      <td>35022</td>\n",
              "      <td>STR</td>\n",
              "      <td>Stuttgart, Germany</td>\n",
              "      <td>DE</td>\n",
              "      <td>Germany</td>\n",
              "      <td>429</td>\n",
              "      <td>6</td>\n",
              "      <td>667</td>\n",
              "      <td>1</td>\n",
              "      <td>2020</td>\n",
              "      <td>1</td>\n",
              "      <td>1</td>\n",
              "      <td>8</td>\n",
              "      <td>L</td>\n",
              "      <td>NaN</td>\n",
              "    </tr>\n",
              "    <tr>\n",
              "      <th>4</th>\n",
              "      <td>0.0</td>\n",
              "      <td>1.0</td>\n",
              "      <td>17079.0</td>\n",
              "      <td>92.0</td>\n",
              "      <td>0.0</td>\n",
              "      <td>0.0</td>\n",
              "      <td>0.0</td>\n",
              "      <td>3896.0</td>\n",
              "      <td>0.0</td>\n",
              "      <td>0.0</td>\n",
              "      <td>0QQ</td>\n",
              "      <td>21308.0</td>\n",
              "      <td>TAG Aviation (UK) Ltd.</td>\n",
              "      <td>71062</td>\n",
              "      <td>I</td>\n",
              "      <td>0QQ</td>\n",
              "      <td>TAG Aviation (UK) Ltd.</td>\n",
              "      <td>0</td>\n",
              "      <td>0.0</td>\n",
              "      <td>15018</td>\n",
              "      <td>1501806</td>\n",
              "      <td>30730</td>\n",
              "      <td>STN</td>\n",
              "      <td>London, United Kingdom</td>\n",
              "      <td>GB</td>\n",
              "      <td>United Kingdom</td>\n",
              "      <td>493</td>\n",
              "      <td>11337</td>\n",
              "      <td>1133705</td>\n",
              "      <td>31337</td>\n",
              "      <td>DLH</td>\n",
              "      <td>Duluth, MN</td>\n",
              "      <td>US</td>\n",
              "      <td>United States</td>\n",
              "      <td>63</td>\n",
              "      <td>6</td>\n",
              "      <td>622</td>\n",
              "      <td>1</td>\n",
              "      <td>2020</td>\n",
              "      <td>1</td>\n",
              "      <td>1</td>\n",
              "      <td>8</td>\n",
              "      <td>L</td>\n",
              "      <td>NaN</td>\n",
              "    </tr>\n",
              "  </tbody>\n",
              "</table>\n",
              "</div>"
            ],
            "text/plain": [
              "   DEPARTURES_SCHEDULED  DEPARTURES_PERFORMED  ...  CLASS  Unnamed: 43\n",
              "0                   0.0                   1.0  ...      L          NaN\n",
              "1                   0.0                   1.0  ...      L          NaN\n",
              "2                   0.0                   1.0  ...      L          NaN\n",
              "3                   0.0                   1.0  ...      L          NaN\n",
              "4                   0.0                   1.0  ...      L          NaN\n",
              "\n",
              "[5 rows x 44 columns]"
            ]
          },
          "metadata": {
            "tags": []
          },
          "execution_count": 196
        }
      ]
    },
    {
      "cell_type": "code",
      "metadata": {
        "colab": {
          "base_uri": "https://localhost:8080/"
        },
        "id": "TbR3utO_qePg",
        "outputId": "189d8791-51bb-42be-c012-35a927b7897f"
      },
      "source": [
        "trafficDf.info()"
      ],
      "execution_count": null,
      "outputs": [
        {
          "output_type": "stream",
          "text": [
            "<class 'pandas.core.frame.DataFrame'>\n",
            "RangeIndex: 31482 entries, 0 to 31481\n",
            "Data columns (total 44 columns):\n",
            " #   Column                 Non-Null Count  Dtype  \n",
            "---  ------                 --------------  -----  \n",
            " 0   DEPARTURES_SCHEDULED   31482 non-null  float64\n",
            " 1   DEPARTURES_PERFORMED   31482 non-null  float64\n",
            " 2   PAYLOAD                31482 non-null  float64\n",
            " 3   SEATS                  31482 non-null  float64\n",
            " 4   PASSENGERS             31482 non-null  float64\n",
            " 5   FREIGHT                31482 non-null  float64\n",
            " 6   MAIL                   31482 non-null  float64\n",
            " 7   DISTANCE               31482 non-null  float64\n",
            " 8   RAMP_TO_RAMP           31482 non-null  float64\n",
            " 9   AIR_TIME               31482 non-null  float64\n",
            " 10  UNIQUE_CARRIER         31478 non-null  object \n",
            " 11  AIRLINE_ID             31478 non-null  float64\n",
            " 12  UNIQUE_CARRIER_NAME    31478 non-null  object \n",
            " 13  UNIQUE_CARRIER_ENTITY  31478 non-null  object \n",
            " 14  REGION                 31478 non-null  object \n",
            " 15  CARRIER                31482 non-null  object \n",
            " 16  CARRIER_NAME           31478 non-null  object \n",
            " 17  CARRIER_GROUP          31482 non-null  int64  \n",
            " 18  CARRIER_GROUP_NEW      31478 non-null  float64\n",
            " 19  ORIGIN_AIRPORT_ID      31482 non-null  int64  \n",
            " 20  ORIGIN_AIRPORT_SEQ_ID  31482 non-null  int64  \n",
            " 21  ORIGIN_CITY_MARKET_ID  31482 non-null  int64  \n",
            " 22  ORIGIN                 31482 non-null  object \n",
            " 23  ORIGIN_CITY_NAME       31482 non-null  object \n",
            " 24  ORIGIN_COUNTRY         31482 non-null  object \n",
            " 25  ORIGIN_COUNTRY_NAME    31482 non-null  object \n",
            " 26  ORIGIN_WAC             31482 non-null  int64  \n",
            " 27  DEST_AIRPORT_ID        31482 non-null  int64  \n",
            " 28  DEST_AIRPORT_SEQ_ID    31482 non-null  int64  \n",
            " 29  DEST_CITY_MARKET_ID    31482 non-null  int64  \n",
            " 30  DEST                   31482 non-null  object \n",
            " 31  DEST_CITY_NAME         31482 non-null  object \n",
            " 32  DEST_COUNTRY           31482 non-null  object \n",
            " 33  DEST_COUNTRY_NAME      31482 non-null  object \n",
            " 34  DEST_WAC               31482 non-null  int64  \n",
            " 35  AIRCRAFT_GROUP         31482 non-null  int64  \n",
            " 36  AIRCRAFT_TYPE          31482 non-null  int64  \n",
            " 37  AIRCRAFT_CONFIG        31482 non-null  int64  \n",
            " 38  YEAR                   31482 non-null  int64  \n",
            " 39  QUARTER                31482 non-null  int64  \n",
            " 40  MONTH                  31482 non-null  int64  \n",
            " 41  DISTANCE_GROUP         31482 non-null  int64  \n",
            " 42  CLASS                  31482 non-null  object \n",
            " 43  Unnamed: 43            0 non-null      float64\n",
            "dtypes: float64(13), int64(16), object(15)\n",
            "memory usage: 10.6+ MB\n"
          ],
          "name": "stdout"
        }
      ]
    },
    {
      "cell_type": "code",
      "metadata": {
        "colab": {
          "base_uri": "https://localhost:8080/",
          "height": 321
        },
        "id": "SlRDk42c-RQk",
        "outputId": "69f41928-b096-430a-afcf-3ee74912c785"
      },
      "source": [
        "trafficDf.describe()"
      ],
      "execution_count": null,
      "outputs": [
        {
          "output_type": "execute_result",
          "data": {
            "text/html": [
              "<div>\n",
              "<style scoped>\n",
              "    .dataframe tbody tr th:only-of-type {\n",
              "        vertical-align: middle;\n",
              "    }\n",
              "\n",
              "    .dataframe tbody tr th {\n",
              "        vertical-align: top;\n",
              "    }\n",
              "\n",
              "    .dataframe thead th {\n",
              "        text-align: right;\n",
              "    }\n",
              "</style>\n",
              "<table border=\"1\" class=\"dataframe\">\n",
              "  <thead>\n",
              "    <tr style=\"text-align: right;\">\n",
              "      <th></th>\n",
              "      <th>DEPARTURES_SCHEDULED</th>\n",
              "      <th>DEPARTURES_PERFORMED</th>\n",
              "      <th>PAYLOAD</th>\n",
              "      <th>SEATS</th>\n",
              "      <th>PASSENGERS</th>\n",
              "      <th>FREIGHT</th>\n",
              "      <th>MAIL</th>\n",
              "      <th>DISTANCE</th>\n",
              "      <th>RAMP_TO_RAMP</th>\n",
              "      <th>AIR_TIME</th>\n",
              "      <th>AIRLINE_ID</th>\n",
              "      <th>CARRIER_GROUP</th>\n",
              "      <th>CARRIER_GROUP_NEW</th>\n",
              "      <th>ORIGIN_AIRPORT_ID</th>\n",
              "      <th>ORIGIN_AIRPORT_SEQ_ID</th>\n",
              "      <th>ORIGIN_CITY_MARKET_ID</th>\n",
              "      <th>ORIGIN_WAC</th>\n",
              "      <th>DEST_AIRPORT_ID</th>\n",
              "      <th>DEST_AIRPORT_SEQ_ID</th>\n",
              "      <th>DEST_CITY_MARKET_ID</th>\n",
              "      <th>DEST_WAC</th>\n",
              "      <th>AIRCRAFT_GROUP</th>\n",
              "      <th>AIRCRAFT_TYPE</th>\n",
              "      <th>AIRCRAFT_CONFIG</th>\n",
              "      <th>YEAR</th>\n",
              "      <th>QUARTER</th>\n",
              "      <th>MONTH</th>\n",
              "      <th>DISTANCE_GROUP</th>\n",
              "      <th>Unnamed: 43</th>\n",
              "    </tr>\n",
              "  </thead>\n",
              "  <tbody>\n",
              "    <tr>\n",
              "      <th>count</th>\n",
              "      <td>31482.000000</td>\n",
              "      <td>31482.00000</td>\n",
              "      <td>3.148200e+04</td>\n",
              "      <td>31482.000000</td>\n",
              "      <td>31482.000000</td>\n",
              "      <td>3.148200e+04</td>\n",
              "      <td>3.148200e+04</td>\n",
              "      <td>31482.000000</td>\n",
              "      <td>31482.000000</td>\n",
              "      <td>31482.000000</td>\n",
              "      <td>31478.000000</td>\n",
              "      <td>31482.000000</td>\n",
              "      <td>31478.000000</td>\n",
              "      <td>31482.000000</td>\n",
              "      <td>3.148200e+04</td>\n",
              "      <td>31482.000000</td>\n",
              "      <td>31482.000000</td>\n",
              "      <td>31482.000000</td>\n",
              "      <td>3.148200e+04</td>\n",
              "      <td>31482.000000</td>\n",
              "      <td>31482.000000</td>\n",
              "      <td>31482.000000</td>\n",
              "      <td>31482.000000</td>\n",
              "      <td>31482.000000</td>\n",
              "      <td>31482.0</td>\n",
              "      <td>31482.000000</td>\n",
              "      <td>31482.000000</td>\n",
              "      <td>31482.000000</td>\n",
              "      <td>0.0</td>\n",
              "    </tr>\n",
              "    <tr>\n",
              "      <th>mean</th>\n",
              "      <td>7.679881</td>\n",
              "      <td>14.23874</td>\n",
              "      <td>1.109960e+06</td>\n",
              "      <td>2103.509466</td>\n",
              "      <td>1447.450289</td>\n",
              "      <td>3.120796e+05</td>\n",
              "      <td>2.199702e+03</td>\n",
              "      <td>2705.964964</td>\n",
              "      <td>2206.941681</td>\n",
              "      <td>1992.610190</td>\n",
              "      <td>20238.839189</td>\n",
              "      <td>1.500191</td>\n",
              "      <td>1.626183</td>\n",
              "      <td>13103.866241</td>\n",
              "      <td>1.310391e+06</td>\n",
              "      <td>32445.497649</td>\n",
              "      <td>255.427292</td>\n",
              "      <td>13075.807890</td>\n",
              "      <td>1.307585e+06</td>\n",
              "      <td>32428.210978</td>\n",
              "      <td>263.832126</td>\n",
              "      <td>6.109142</td>\n",
              "      <td>683.263357</td>\n",
              "      <td>1.271552</td>\n",
              "      <td>2020.0</td>\n",
              "      <td>1.255003</td>\n",
              "      <td>2.766057</td>\n",
              "      <td>5.921670</td>\n",
              "      <td>NaN</td>\n",
              "    </tr>\n",
              "    <tr>\n",
              "      <th>std</th>\n",
              "      <td>16.939749</td>\n",
              "      <td>19.76649</td>\n",
              "      <td>1.981188e+06</td>\n",
              "      <td>3477.887080</td>\n",
              "      <td>2630.820752</td>\n",
              "      <td>1.095827e+06</td>\n",
              "      <td>2.245255e+04</td>\n",
              "      <td>2082.223653</td>\n",
              "      <td>4684.277883</td>\n",
              "      <td>4357.114296</td>\n",
              "      <td>669.811405</td>\n",
              "      <td>1.405364</td>\n",
              "      <td>1.568205</td>\n",
              "      <td>1698.177108</td>\n",
              "      <td>1.698175e+05</td>\n",
              "      <td>1677.112564</td>\n",
              "      <td>295.816180</td>\n",
              "      <td>1714.604274</td>\n",
              "      <td>1.714602e+05</td>\n",
              "      <td>1688.271589</td>\n",
              "      <td>299.161400</td>\n",
              "      <td>0.898258</td>\n",
              "      <td>120.388805</td>\n",
              "      <td>0.520886</td>\n",
              "      <td>0.0</td>\n",
              "      <td>0.435870</td>\n",
              "      <td>1.552057</td>\n",
              "      <td>4.145716</td>\n",
              "      <td>NaN</td>\n",
              "    </tr>\n",
              "    <tr>\n",
              "      <th>min</th>\n",
              "      <td>0.000000</td>\n",
              "      <td>0.00000</td>\n",
              "      <td>0.000000e+00</td>\n",
              "      <td>0.000000</td>\n",
              "      <td>0.000000</td>\n",
              "      <td>0.000000e+00</td>\n",
              "      <td>0.000000e+00</td>\n",
              "      <td>18.000000</td>\n",
              "      <td>0.000000</td>\n",
              "      <td>0.000000</td>\n",
              "      <td>19393.000000</td>\n",
              "      <td>0.000000</td>\n",
              "      <td>0.000000</td>\n",
              "      <td>10140.000000</td>\n",
              "      <td>1.014005e+06</td>\n",
              "      <td>30082.000000</td>\n",
              "      <td>1.000000</td>\n",
              "      <td>10140.000000</td>\n",
              "      <td>1.014005e+06</td>\n",
              "      <td>30140.000000</td>\n",
              "      <td>1.000000</td>\n",
              "      <td>0.000000</td>\n",
              "      <td>40.000000</td>\n",
              "      <td>1.000000</td>\n",
              "      <td>2020.0</td>\n",
              "      <td>1.000000</td>\n",
              "      <td>1.000000</td>\n",
              "      <td>1.000000</td>\n",
              "      <td>NaN</td>\n",
              "    </tr>\n",
              "    <tr>\n",
              "      <th>25%</th>\n",
              "      <td>0.000000</td>\n",
              "      <td>2.00000</td>\n",
              "      <td>1.038000e+05</td>\n",
              "      <td>6.000000</td>\n",
              "      <td>0.000000</td>\n",
              "      <td>0.000000e+00</td>\n",
              "      <td>0.000000e+00</td>\n",
              "      <td>1101.000000</td>\n",
              "      <td>0.000000</td>\n",
              "      <td>0.000000</td>\n",
              "      <td>19790.000000</td>\n",
              "      <td>0.000000</td>\n",
              "      <td>0.000000</td>\n",
              "      <td>11760.000000</td>\n",
              "      <td>1.176004e+06</td>\n",
              "      <td>31032.000000</td>\n",
              "      <td>34.000000</td>\n",
              "      <td>11697.000000</td>\n",
              "      <td>1.169706e+06</td>\n",
              "      <td>31000.000000</td>\n",
              "      <td>36.000000</td>\n",
              "      <td>6.000000</td>\n",
              "      <td>625.000000</td>\n",
              "      <td>1.000000</td>\n",
              "      <td>2020.0</td>\n",
              "      <td>1.000000</td>\n",
              "      <td>1.000000</td>\n",
              "      <td>3.000000</td>\n",
              "      <td>NaN</td>\n",
              "    </tr>\n",
              "    <tr>\n",
              "      <th>50%</th>\n",
              "      <td>0.000000</td>\n",
              "      <td>7.00000</td>\n",
              "      <td>4.289430e+05</td>\n",
              "      <td>477.000000</td>\n",
              "      <td>245.000000</td>\n",
              "      <td>1.039000e+03</td>\n",
              "      <td>0.000000e+00</td>\n",
              "      <td>1782.000000</td>\n",
              "      <td>181.000000</td>\n",
              "      <td>153.000000</td>\n",
              "      <td>20005.000000</td>\n",
              "      <td>2.000000</td>\n",
              "      <td>2.000000</td>\n",
              "      <td>13043.000000</td>\n",
              "      <td>1.304308e+06</td>\n",
              "      <td>32134.000000</td>\n",
              "      <td>93.000000</td>\n",
              "      <td>12986.000000</td>\n",
              "      <td>1.298602e+06</td>\n",
              "      <td>32105.000000</td>\n",
              "      <td>110.000000</td>\n",
              "      <td>6.000000</td>\n",
              "      <td>678.000000</td>\n",
              "      <td>1.000000</td>\n",
              "      <td>2020.0</td>\n",
              "      <td>1.000000</td>\n",
              "      <td>3.000000</td>\n",
              "      <td>4.000000</td>\n",
              "      <td>NaN</td>\n",
              "    </tr>\n",
              "    <tr>\n",
              "      <th>75%</th>\n",
              "      <td>7.000000</td>\n",
              "      <td>21.00000</td>\n",
              "      <td>1.331000e+06</td>\n",
              "      <td>2914.000000</td>\n",
              "      <td>1777.000000</td>\n",
              "      <td>1.797350e+05</td>\n",
              "      <td>0.000000e+00</td>\n",
              "      <td>4278.000000</td>\n",
              "      <td>1967.750000</td>\n",
              "      <td>1698.750000</td>\n",
              "      <td>20409.000000</td>\n",
              "      <td>3.000000</td>\n",
              "      <td>3.000000</td>\n",
              "      <td>14309.000000</td>\n",
              "      <td>1.430902e+06</td>\n",
              "      <td>33252.000000</td>\n",
              "      <td>427.000000</td>\n",
              "      <td>14293.000000</td>\n",
              "      <td>1.429304e+06</td>\n",
              "      <td>33252.000000</td>\n",
              "      <td>429.000000</td>\n",
              "      <td>6.000000</td>\n",
              "      <td>722.000000</td>\n",
              "      <td>1.000000</td>\n",
              "      <td>2020.0</td>\n",
              "      <td>2.000000</td>\n",
              "      <td>4.000000</td>\n",
              "      <td>9.000000</td>\n",
              "      <td>NaN</td>\n",
              "    </tr>\n",
              "    <tr>\n",
              "      <th>max</th>\n",
              "      <td>248.000000</td>\n",
              "      <td>316.00000</td>\n",
              "      <td>4.589640e+07</td>\n",
              "      <td>37185.000000</td>\n",
              "      <td>31227.000000</td>\n",
              "      <td>4.179092e+07</td>\n",
              "      <td>1.500465e+06</td>\n",
              "      <td>9779.000000</td>\n",
              "      <td>64994.000000</td>\n",
              "      <td>62231.000000</td>\n",
              "      <td>22067.000000</td>\n",
              "      <td>3.000000</td>\n",
              "      <td>6.000000</td>\n",
              "      <td>16880.000000</td>\n",
              "      <td>1.688001e+06</td>\n",
              "      <td>36847.000000</td>\n",
              "      <td>975.000000</td>\n",
              "      <td>16881.000000</td>\n",
              "      <td>1.688101e+06</td>\n",
              "      <td>36848.000000</td>\n",
              "      <td>961.000000</td>\n",
              "      <td>8.000000</td>\n",
              "      <td>889.000000</td>\n",
              "      <td>4.000000</td>\n",
              "      <td>2020.0</td>\n",
              "      <td>2.000000</td>\n",
              "      <td>6.000000</td>\n",
              "      <td>20.000000</td>\n",
              "      <td>NaN</td>\n",
              "    </tr>\n",
              "  </tbody>\n",
              "</table>\n",
              "</div>"
            ],
            "text/plain": [
              "       DEPARTURES_SCHEDULED  DEPARTURES_PERFORMED  ...  DISTANCE_GROUP  Unnamed: 43\n",
              "count          31482.000000           31482.00000  ...    31482.000000          0.0\n",
              "mean               7.679881              14.23874  ...        5.921670          NaN\n",
              "std               16.939749              19.76649  ...        4.145716          NaN\n",
              "min                0.000000               0.00000  ...        1.000000          NaN\n",
              "25%                0.000000               2.00000  ...        3.000000          NaN\n",
              "50%                0.000000               7.00000  ...        4.000000          NaN\n",
              "75%                7.000000              21.00000  ...        9.000000          NaN\n",
              "max              248.000000             316.00000  ...       20.000000          NaN\n",
              "\n",
              "[8 rows x 29 columns]"
            ]
          },
          "metadata": {
            "tags": []
          },
          "execution_count": 199
        }
      ]
    },
    {
      "cell_type": "code",
      "metadata": {
        "colab": {
          "base_uri": "https://localhost:8080/"
        },
        "id": "o-wkIsMN-RT0",
        "outputId": "dd575fec-b1c4-44d0-b979-552a349e7b30"
      },
      "source": [
        "trafficDf.shape"
      ],
      "execution_count": null,
      "outputs": [
        {
          "output_type": "execute_result",
          "data": {
            "text/plain": [
              "(31482, 44)"
            ]
          },
          "metadata": {
            "tags": []
          },
          "execution_count": 201
        }
      ]
    },
    {
      "cell_type": "code",
      "metadata": {
        "id": "t7f7-QKR_XRH"
      },
      "source": [
        "trafficDf.head(1000).to_excel(os.path.join(files_loc, \"excel_output.xls\"))"
      ],
      "execution_count": null,
      "outputs": []
    },
    {
      "cell_type": "code",
      "metadata": {
        "colab": {
          "base_uri": "https://localhost:8080/"
        },
        "id": "i4LHCtKi-4m3",
        "outputId": "4dd8c113-d669-405d-f840-7bd017d91286"
      },
      "source": [
        "!ls {files_loc}"
      ],
      "execution_count": null,
      "outputs": [
        {
          "output_type": "stream",
          "text": [
            "excel_output.xls  s3.pkl  T100_AIRLINES.csv\n"
          ],
          "name": "stdout"
        }
      ]
    },
    {
      "cell_type": "code",
      "metadata": {
        "id": "DL3tDQtl-4vf"
      },
      "source": [
        "trafficDf.head(100).to_csv(os.path.join(files_loc, \"csv_output.csv\"))"
      ],
      "execution_count": null,
      "outputs": []
    },
    {
      "cell_type": "code",
      "metadata": {
        "colab": {
          "base_uri": "https://localhost:8080/"
        },
        "id": "wsHY-4Wn-4yT",
        "outputId": "3ea4ea48-8a60-4dd3-be5b-5034e7085297"
      },
      "source": [
        "!ls {files_loc}"
      ],
      "execution_count": null,
      "outputs": [
        {
          "output_type": "stream",
          "text": [
            "csv_output.csv\texcel_output.xls  s3.pkl  T100_AIRLINES.csv\n"
          ],
          "name": "stdout"
        }
      ]
    },
    {
      "cell_type": "code",
      "metadata": {
        "id": "SfWE3Jvg-41t"
      },
      "source": [
        "import sqlite3\r\n",
        "conn = sqlite3.connect(os.path.join(files_loc, 'example.db'))"
      ],
      "execution_count": null,
      "outputs": []
    },
    {
      "cell_type": "code",
      "metadata": {
        "colab": {
          "base_uri": "https://localhost:8080/"
        },
        "id": "dfAhWTP9_4vw",
        "outputId": "d7a77b15-08ba-4027-9e03-84a51c379a72"
      },
      "source": [
        "trafficDf.to_sql('traffic', conn, if_exists='replace')"
      ],
      "execution_count": null,
      "outputs": [
        {
          "output_type": "stream",
          "text": [
            "/usr/local/lib/python3.6/dist-packages/pandas/core/generic.py:2615: UserWarning: The spaces in these column names will not be changed. In pandas versions < 0.14, spaces were converted to underscores.\n",
            "  method=method,\n"
          ],
          "name": "stderr"
        }
      ]
    },
    {
      "cell_type": "code",
      "metadata": {
        "colab": {
          "base_uri": "https://localhost:8080/"
        },
        "id": "Qi-edxyN_4yi",
        "outputId": "a33d2fe6-161a-459d-9720-ca1b5408e7a3"
      },
      "source": [
        "!ls -al {files_loc}/example.db"
      ],
      "execution_count": null,
      "outputs": [
        {
          "output_type": "stream",
          "text": [
            "-rw------- 1 root root 7315456 Dec 12 12:50 /content/gdrive/MyDrive/pythondsfiles/example.db\n"
          ],
          "name": "stdout"
        }
      ]
    },
    {
      "cell_type": "code",
      "metadata": {
        "colab": {
          "base_uri": "https://localhost:8080/"
        },
        "id": "zxu5suyX_40j",
        "outputId": "bedcbe19-752e-4fb8-b6e4-64c0e5f1283c"
      },
      "source": [
        "trafficDf.head(2).to_dict(orient='records')"
      ],
      "execution_count": null,
      "outputs": [
        {
          "output_type": "execute_result",
          "data": {
            "text/plain": [
              "[{'AIRCRAFT_CONFIG': 1,\n",
              "  'AIRCRAFT_GROUP': 6,\n",
              "  'AIRCRAFT_TYPE': 622,\n",
              "  'AIRLINE_ID': 21040.0,\n",
              "  'AIR_TIME': 0.0,\n",
              "  'CARRIER': '02Q',\n",
              "  'CARRIER_GROUP': 0,\n",
              "  'CARRIER_GROUP_NEW': 0.0,\n",
              "  'CARRIER_NAME': 'Titan Airways',\n",
              "  'CLASS': 'L',\n",
              "  'DEPARTURES_PERFORMED': 1.0,\n",
              "  'DEPARTURES_SCHEDULED': 0.0,\n",
              "  'DEST': 'MCO',\n",
              "  'DEST_AIRPORT_ID': 13204,\n",
              "  'DEST_AIRPORT_SEQ_ID': 1320402,\n",
              "  'DEST_CITY_MARKET_ID': 31454,\n",
              "  'DEST_CITY_NAME': 'Orlando, FL',\n",
              "  'DEST_COUNTRY': 'US',\n",
              "  'DEST_COUNTRY_NAME': 'United States',\n",
              "  'DEST_WAC': 33,\n",
              "  'DISTANCE': 3160.0,\n",
              "  'DISTANCE_GROUP': 7,\n",
              "  'FREIGHT': 0.0,\n",
              "  'MAIL': 0.0,\n",
              "  'MONTH': 1,\n",
              "  'ORIGIN': 'TER',\n",
              "  'ORIGIN_AIRPORT_ID': 15174,\n",
              "  'ORIGIN_AIRPORT_SEQ_ID': 1517403,\n",
              "  'ORIGIN_CITY_MARKET_ID': 32946,\n",
              "  'ORIGIN_CITY_NAME': 'Lajes, Portugal',\n",
              "  'ORIGIN_COUNTRY': 'PT',\n",
              "  'ORIGIN_COUNTRY_NAME': 'Portugal',\n",
              "  'ORIGIN_WAC': 469,\n",
              "  'PASSENGERS': 76.0,\n",
              "  'PAYLOAD': 26543.0,\n",
              "  'QUARTER': 1,\n",
              "  'RAMP_TO_RAMP': 0.0,\n",
              "  'REGION': 'I',\n",
              "  'SEATS': 76.0,\n",
              "  'UNIQUE_CARRIER': '02Q',\n",
              "  'UNIQUE_CARRIER_ENTITY': '71004',\n",
              "  'UNIQUE_CARRIER_NAME': 'Titan Airways',\n",
              "  'Unnamed: 43': nan,\n",
              "  'YEAR': 2020},\n",
              " {'AIRCRAFT_CONFIG': 1,\n",
              "  'AIRCRAFT_GROUP': 6,\n",
              "  'AIRCRAFT_TYPE': 622,\n",
              "  'AIRLINE_ID': 21040.0,\n",
              "  'AIR_TIME': 0.0,\n",
              "  'CARRIER': '02Q',\n",
              "  'CARRIER_GROUP': 0,\n",
              "  'CARRIER_GROUP_NEW': 0.0,\n",
              "  'CARRIER_NAME': 'Titan Airways',\n",
              "  'CLASS': 'L',\n",
              "  'DEPARTURES_PERFORMED': 1.0,\n",
              "  'DEPARTURES_SCHEDULED': 0.0,\n",
              "  'DEST': 'STN',\n",
              "  'DEST_AIRPORT_ID': 15018,\n",
              "  'DEST_AIRPORT_SEQ_ID': 1501806,\n",
              "  'DEST_CITY_MARKET_ID': 30730,\n",
              "  'DEST_CITY_NAME': 'London, United Kingdom',\n",
              "  'DEST_COUNTRY': 'GB',\n",
              "  'DEST_COUNTRY_NAME': 'United Kingdom',\n",
              "  'DEST_WAC': 493,\n",
              "  'DISTANCE': 4360.0,\n",
              "  'DISTANCE_GROUP': 9,\n",
              "  'FREIGHT': 0.0,\n",
              "  'MAIL': 0.0,\n",
              "  'MONTH': 1,\n",
              "  'ORIGIN': 'MCO',\n",
              "  'ORIGIN_AIRPORT_ID': 13204,\n",
              "  'ORIGIN_AIRPORT_SEQ_ID': 1320402,\n",
              "  'ORIGIN_CITY_MARKET_ID': 31454,\n",
              "  'ORIGIN_CITY_NAME': 'Orlando, FL',\n",
              "  'ORIGIN_COUNTRY': 'US',\n",
              "  'ORIGIN_COUNTRY_NAME': 'United States',\n",
              "  'ORIGIN_WAC': 33,\n",
              "  'PASSENGERS': 0.0,\n",
              "  'PAYLOAD': 26543.0,\n",
              "  'QUARTER': 1,\n",
              "  'RAMP_TO_RAMP': 0.0,\n",
              "  'REGION': 'I',\n",
              "  'SEATS': 76.0,\n",
              "  'UNIQUE_CARRIER': '02Q',\n",
              "  'UNIQUE_CARRIER_ENTITY': '71004',\n",
              "  'UNIQUE_CARRIER_NAME': 'Titan Airways',\n",
              "  'Unnamed: 43': nan,\n",
              "  'YEAR': 2020}]"
            ]
          },
          "metadata": {
            "tags": []
          },
          "execution_count": 211
        }
      ]
    },
    {
      "cell_type": "code",
      "metadata": {
        "colab": {
          "base_uri": "https://localhost:8080/",
          "height": 120
        },
        "id": "NUqXB3VI-RWr",
        "outputId": "1dbc68a9-bd0a-47b2-822b-8373f6cdabc0"
      },
      "source": [
        "trafficDf.head(2).to_json(orient='records')"
      ],
      "execution_count": null,
      "outputs": [
        {
          "output_type": "execute_result",
          "data": {
            "application/vnd.google.colaboratory.intrinsic+json": {
              "type": "string"
            },
            "text/plain": [
              "'[{\"DEPARTURES_SCHEDULED\":0.0,\"DEPARTURES_PERFORMED\":1.0,\"PAYLOAD\":26543.0,\"SEATS\":76.0,\"PASSENGERS\":76.0,\"FREIGHT\":0.0,\"MAIL\":0.0,\"DISTANCE\":3160.0,\"RAMP_TO_RAMP\":0.0,\"AIR_TIME\":0.0,\"UNIQUE_CARRIER\":\"02Q\",\"AIRLINE_ID\":21040.0,\"UNIQUE_CARRIER_NAME\":\"Titan Airways\",\"UNIQUE_CARRIER_ENTITY\":\"71004\",\"REGION\":\"I\",\"CARRIER\":\"02Q\",\"CARRIER_NAME\":\"Titan Airways\",\"CARRIER_GROUP\":0,\"CARRIER_GROUP_NEW\":0.0,\"ORIGIN_AIRPORT_ID\":15174,\"ORIGIN_AIRPORT_SEQ_ID\":1517403,\"ORIGIN_CITY_MARKET_ID\":32946,\"ORIGIN\":\"TER\",\"ORIGIN_CITY_NAME\":\"Lajes, Portugal\",\"ORIGIN_COUNTRY\":\"PT\",\"ORIGIN_COUNTRY_NAME\":\"Portugal\",\"ORIGIN_WAC\":469,\"DEST_AIRPORT_ID\":13204,\"DEST_AIRPORT_SEQ_ID\":1320402,\"DEST_CITY_MARKET_ID\":31454,\"DEST\":\"MCO\",\"DEST_CITY_NAME\":\"Orlando, FL\",\"DEST_COUNTRY\":\"US\",\"DEST_COUNTRY_NAME\":\"United States\",\"DEST_WAC\":33,\"AIRCRAFT_GROUP\":6,\"AIRCRAFT_TYPE\":622,\"AIRCRAFT_CONFIG\":1,\"YEAR\":2020,\"QUARTER\":1,\"MONTH\":1,\"DISTANCE_GROUP\":7,\"CLASS\":\"L\",\"Unnamed: 43\":null},{\"DEPARTURES_SCHEDULED\":0.0,\"DEPARTURES_PERFORMED\":1.0,\"PAYLOAD\":26543.0,\"SEATS\":76.0,\"PASSENGERS\":0.0,\"FREIGHT\":0.0,\"MAIL\":0.0,\"DISTANCE\":4360.0,\"RAMP_TO_RAMP\":0.0,\"AIR_TIME\":0.0,\"UNIQUE_CARRIER\":\"02Q\",\"AIRLINE_ID\":21040.0,\"UNIQUE_CARRIER_NAME\":\"Titan Airways\",\"UNIQUE_CARRIER_ENTITY\":\"71004\",\"REGION\":\"I\",\"CARRIER\":\"02Q\",\"CARRIER_NAME\":\"Titan Airways\",\"CARRIER_GROUP\":0,\"CARRIER_GROUP_NEW\":0.0,\"ORIGIN_AIRPORT_ID\":13204,\"ORIGIN_AIRPORT_SEQ_ID\":1320402,\"ORIGIN_CITY_MARKET_ID\":31454,\"ORIGIN\":\"MCO\",\"ORIGIN_CITY_NAME\":\"Orlando, FL\",\"ORIGIN_COUNTRY\":\"US\",\"ORIGIN_COUNTRY_NAME\":\"United States\",\"ORIGIN_WAC\":33,\"DEST_AIRPORT_ID\":15018,\"DEST_AIRPORT_SEQ_ID\":1501806,\"DEST_CITY_MARKET_ID\":30730,\"DEST\":\"STN\",\"DEST_CITY_NAME\":\"London, United Kingdom\",\"DEST_COUNTRY\":\"GB\",\"DEST_COUNTRY_NAME\":\"United Kingdom\",\"DEST_WAC\":493,\"AIRCRAFT_GROUP\":6,\"AIRCRAFT_TYPE\":622,\"AIRCRAFT_CONFIG\":1,\"YEAR\":2020,\"QUARTER\":1,\"MONTH\":1,\"DISTANCE_GROUP\":9,\"CLASS\":\"L\",\"Unnamed: 43\":null}]'"
            ]
          },
          "metadata": {
            "tags": []
          },
          "execution_count": 212
        }
      ]
    },
    {
      "cell_type": "code",
      "metadata": {
        "id": "pooIcXm6Al9-"
      },
      "source": [
        "df2 = pd.read_excel(os.path.join(files_loc, \"excel_output.xls\"))"
      ],
      "execution_count": null,
      "outputs": []
    },
    {
      "cell_type": "code",
      "metadata": {
        "colab": {
          "base_uri": "https://localhost:8080/",
          "height": 282
        },
        "id": "f-NffgqEAmAm",
        "outputId": "d1107fea-84a4-4343-8a76-3f6db9513261"
      },
      "source": [
        "df2.head()"
      ],
      "execution_count": null,
      "outputs": [
        {
          "output_type": "execute_result",
          "data": {
            "text/html": [
              "<div>\n",
              "<style scoped>\n",
              "    .dataframe tbody tr th:only-of-type {\n",
              "        vertical-align: middle;\n",
              "    }\n",
              "\n",
              "    .dataframe tbody tr th {\n",
              "        vertical-align: top;\n",
              "    }\n",
              "\n",
              "    .dataframe thead th {\n",
              "        text-align: right;\n",
              "    }\n",
              "</style>\n",
              "<table border=\"1\" class=\"dataframe\">\n",
              "  <thead>\n",
              "    <tr style=\"text-align: right;\">\n",
              "      <th></th>\n",
              "      <th>Unnamed: 0</th>\n",
              "      <th>DEPARTURES_SCHEDULED</th>\n",
              "      <th>DEPARTURES_PERFORMED</th>\n",
              "      <th>PAYLOAD</th>\n",
              "      <th>SEATS</th>\n",
              "      <th>PASSENGERS</th>\n",
              "      <th>FREIGHT</th>\n",
              "      <th>MAIL</th>\n",
              "      <th>DISTANCE</th>\n",
              "      <th>RAMP_TO_RAMP</th>\n",
              "      <th>AIR_TIME</th>\n",
              "      <th>UNIQUE_CARRIER</th>\n",
              "      <th>AIRLINE_ID</th>\n",
              "      <th>UNIQUE_CARRIER_NAME</th>\n",
              "      <th>UNIQUE_CARRIER_ENTITY</th>\n",
              "      <th>REGION</th>\n",
              "      <th>CARRIER</th>\n",
              "      <th>CARRIER_NAME</th>\n",
              "      <th>CARRIER_GROUP</th>\n",
              "      <th>CARRIER_GROUP_NEW</th>\n",
              "      <th>ORIGIN_AIRPORT_ID</th>\n",
              "      <th>ORIGIN_AIRPORT_SEQ_ID</th>\n",
              "      <th>ORIGIN_CITY_MARKET_ID</th>\n",
              "      <th>ORIGIN</th>\n",
              "      <th>ORIGIN_CITY_NAME</th>\n",
              "      <th>ORIGIN_COUNTRY</th>\n",
              "      <th>ORIGIN_COUNTRY_NAME</th>\n",
              "      <th>ORIGIN_WAC</th>\n",
              "      <th>DEST_AIRPORT_ID</th>\n",
              "      <th>DEST_AIRPORT_SEQ_ID</th>\n",
              "      <th>DEST_CITY_MARKET_ID</th>\n",
              "      <th>DEST</th>\n",
              "      <th>DEST_CITY_NAME</th>\n",
              "      <th>DEST_COUNTRY</th>\n",
              "      <th>DEST_COUNTRY_NAME</th>\n",
              "      <th>DEST_WAC</th>\n",
              "      <th>AIRCRAFT_GROUP</th>\n",
              "      <th>AIRCRAFT_TYPE</th>\n",
              "      <th>AIRCRAFT_CONFIG</th>\n",
              "      <th>YEAR</th>\n",
              "      <th>QUARTER</th>\n",
              "      <th>MONTH</th>\n",
              "      <th>DISTANCE_GROUP</th>\n",
              "      <th>CLASS</th>\n",
              "      <th>Unnamed: 43</th>\n",
              "    </tr>\n",
              "  </thead>\n",
              "  <tbody>\n",
              "    <tr>\n",
              "      <th>0</th>\n",
              "      <td>0</td>\n",
              "      <td>0</td>\n",
              "      <td>1</td>\n",
              "      <td>26543</td>\n",
              "      <td>76</td>\n",
              "      <td>76</td>\n",
              "      <td>0</td>\n",
              "      <td>0</td>\n",
              "      <td>3160</td>\n",
              "      <td>0</td>\n",
              "      <td>0</td>\n",
              "      <td>02Q</td>\n",
              "      <td>21040</td>\n",
              "      <td>Titan Airways</td>\n",
              "      <td>71004</td>\n",
              "      <td>I</td>\n",
              "      <td>02Q</td>\n",
              "      <td>Titan Airways</td>\n",
              "      <td>0</td>\n",
              "      <td>0</td>\n",
              "      <td>15174</td>\n",
              "      <td>1517403</td>\n",
              "      <td>32946</td>\n",
              "      <td>TER</td>\n",
              "      <td>Lajes, Portugal</td>\n",
              "      <td>PT</td>\n",
              "      <td>Portugal</td>\n",
              "      <td>469</td>\n",
              "      <td>13204</td>\n",
              "      <td>1320402</td>\n",
              "      <td>31454</td>\n",
              "      <td>MCO</td>\n",
              "      <td>Orlando, FL</td>\n",
              "      <td>US</td>\n",
              "      <td>United States</td>\n",
              "      <td>33</td>\n",
              "      <td>6</td>\n",
              "      <td>622</td>\n",
              "      <td>1</td>\n",
              "      <td>2020</td>\n",
              "      <td>1</td>\n",
              "      <td>1</td>\n",
              "      <td>7</td>\n",
              "      <td>L</td>\n",
              "      <td>NaN</td>\n",
              "    </tr>\n",
              "    <tr>\n",
              "      <th>1</th>\n",
              "      <td>1</td>\n",
              "      <td>0</td>\n",
              "      <td>1</td>\n",
              "      <td>26543</td>\n",
              "      <td>76</td>\n",
              "      <td>0</td>\n",
              "      <td>0</td>\n",
              "      <td>0</td>\n",
              "      <td>4360</td>\n",
              "      <td>0</td>\n",
              "      <td>0</td>\n",
              "      <td>02Q</td>\n",
              "      <td>21040</td>\n",
              "      <td>Titan Airways</td>\n",
              "      <td>71004</td>\n",
              "      <td>I</td>\n",
              "      <td>02Q</td>\n",
              "      <td>Titan Airways</td>\n",
              "      <td>0</td>\n",
              "      <td>0</td>\n",
              "      <td>13204</td>\n",
              "      <td>1320402</td>\n",
              "      <td>31454</td>\n",
              "      <td>MCO</td>\n",
              "      <td>Orlando, FL</td>\n",
              "      <td>US</td>\n",
              "      <td>United States</td>\n",
              "      <td>33</td>\n",
              "      <td>15018</td>\n",
              "      <td>1501806</td>\n",
              "      <td>30730</td>\n",
              "      <td>STN</td>\n",
              "      <td>London, United Kingdom</td>\n",
              "      <td>GB</td>\n",
              "      <td>United Kingdom</td>\n",
              "      <td>493</td>\n",
              "      <td>6</td>\n",
              "      <td>622</td>\n",
              "      <td>1</td>\n",
              "      <td>2020</td>\n",
              "      <td>1</td>\n",
              "      <td>1</td>\n",
              "      <td>9</td>\n",
              "      <td>L</td>\n",
              "      <td>NaN</td>\n",
              "    </tr>\n",
              "    <tr>\n",
              "      <th>2</th>\n",
              "      <td>2</td>\n",
              "      <td>0</td>\n",
              "      <td>1</td>\n",
              "      <td>7198</td>\n",
              "      <td>16</td>\n",
              "      <td>2</td>\n",
              "      <td>0</td>\n",
              "      <td>0</td>\n",
              "      <td>3925</td>\n",
              "      <td>0</td>\n",
              "      <td>0</td>\n",
              "      <td>0BQ</td>\n",
              "      <td>21186</td>\n",
              "      <td>DCA</td>\n",
              "      <td>71033</td>\n",
              "      <td>I</td>\n",
              "      <td>0BQ</td>\n",
              "      <td>DCA</td>\n",
              "      <td>0</td>\n",
              "      <td>0</td>\n",
              "      <td>15022</td>\n",
              "      <td>1502203</td>\n",
              "      <td>35022</td>\n",
              "      <td>STR</td>\n",
              "      <td>Stuttgart, Germany</td>\n",
              "      <td>DE</td>\n",
              "      <td>Germany</td>\n",
              "      <td>429</td>\n",
              "      <td>15167</td>\n",
              "      <td>1516702</td>\n",
              "      <td>35167</td>\n",
              "      <td>TEB</td>\n",
              "      <td>Teterboro, NJ</td>\n",
              "      <td>US</td>\n",
              "      <td>United States</td>\n",
              "      <td>21</td>\n",
              "      <td>6</td>\n",
              "      <td>667</td>\n",
              "      <td>1</td>\n",
              "      <td>2020</td>\n",
              "      <td>1</td>\n",
              "      <td>1</td>\n",
              "      <td>8</td>\n",
              "      <td>L</td>\n",
              "      <td>NaN</td>\n",
              "    </tr>\n",
              "    <tr>\n",
              "      <th>3</th>\n",
              "      <td>3</td>\n",
              "      <td>0</td>\n",
              "      <td>1</td>\n",
              "      <td>7198</td>\n",
              "      <td>16</td>\n",
              "      <td>2</td>\n",
              "      <td>0</td>\n",
              "      <td>0</td>\n",
              "      <td>3925</td>\n",
              "      <td>0</td>\n",
              "      <td>0</td>\n",
              "      <td>0BQ</td>\n",
              "      <td>21186</td>\n",
              "      <td>DCA</td>\n",
              "      <td>71033</td>\n",
              "      <td>I</td>\n",
              "      <td>0BQ</td>\n",
              "      <td>DCA</td>\n",
              "      <td>0</td>\n",
              "      <td>0</td>\n",
              "      <td>15167</td>\n",
              "      <td>1516702</td>\n",
              "      <td>35167</td>\n",
              "      <td>TEB</td>\n",
              "      <td>Teterboro, NJ</td>\n",
              "      <td>US</td>\n",
              "      <td>United States</td>\n",
              "      <td>21</td>\n",
              "      <td>15022</td>\n",
              "      <td>1502203</td>\n",
              "      <td>35022</td>\n",
              "      <td>STR</td>\n",
              "      <td>Stuttgart, Germany</td>\n",
              "      <td>DE</td>\n",
              "      <td>Germany</td>\n",
              "      <td>429</td>\n",
              "      <td>6</td>\n",
              "      <td>667</td>\n",
              "      <td>1</td>\n",
              "      <td>2020</td>\n",
              "      <td>1</td>\n",
              "      <td>1</td>\n",
              "      <td>8</td>\n",
              "      <td>L</td>\n",
              "      <td>NaN</td>\n",
              "    </tr>\n",
              "    <tr>\n",
              "      <th>4</th>\n",
              "      <td>4</td>\n",
              "      <td>0</td>\n",
              "      <td>1</td>\n",
              "      <td>17079</td>\n",
              "      <td>92</td>\n",
              "      <td>0</td>\n",
              "      <td>0</td>\n",
              "      <td>0</td>\n",
              "      <td>3896</td>\n",
              "      <td>0</td>\n",
              "      <td>0</td>\n",
              "      <td>0QQ</td>\n",
              "      <td>21308</td>\n",
              "      <td>TAG Aviation (UK) Ltd.</td>\n",
              "      <td>71062</td>\n",
              "      <td>I</td>\n",
              "      <td>0QQ</td>\n",
              "      <td>TAG Aviation (UK) Ltd.</td>\n",
              "      <td>0</td>\n",
              "      <td>0</td>\n",
              "      <td>15018</td>\n",
              "      <td>1501806</td>\n",
              "      <td>30730</td>\n",
              "      <td>STN</td>\n",
              "      <td>London, United Kingdom</td>\n",
              "      <td>GB</td>\n",
              "      <td>United Kingdom</td>\n",
              "      <td>493</td>\n",
              "      <td>11337</td>\n",
              "      <td>1133705</td>\n",
              "      <td>31337</td>\n",
              "      <td>DLH</td>\n",
              "      <td>Duluth, MN</td>\n",
              "      <td>US</td>\n",
              "      <td>United States</td>\n",
              "      <td>63</td>\n",
              "      <td>6</td>\n",
              "      <td>622</td>\n",
              "      <td>1</td>\n",
              "      <td>2020</td>\n",
              "      <td>1</td>\n",
              "      <td>1</td>\n",
              "      <td>8</td>\n",
              "      <td>L</td>\n",
              "      <td>NaN</td>\n",
              "    </tr>\n",
              "  </tbody>\n",
              "</table>\n",
              "</div>"
            ],
            "text/plain": [
              "   Unnamed: 0  DEPARTURES_SCHEDULED  ...  CLASS  Unnamed: 43\n",
              "0           0                     0  ...      L          NaN\n",
              "1           1                     0  ...      L          NaN\n",
              "2           2                     0  ...      L          NaN\n",
              "3           3                     0  ...      L          NaN\n",
              "4           4                     0  ...      L          NaN\n",
              "\n",
              "[5 rows x 45 columns]"
            ]
          },
          "metadata": {
            "tags": []
          },
          "execution_count": 214
        }
      ]
    },
    {
      "cell_type": "code",
      "metadata": {
        "id": "VJk6KtDeAmDm"
      },
      "source": [
        "# Eliminar la primera columna"
      ],
      "execution_count": null,
      "outputs": []
    },
    {
      "cell_type": "code",
      "metadata": {
        "id": "LzIwGS_bAmGj"
      },
      "source": [
        ""
      ],
      "execution_count": null,
      "outputs": []
    },
    {
      "cell_type": "code",
      "metadata": {
        "id": "RTShjKlr-Raw"
      },
      "source": [
        ""
      ],
      "execution_count": null,
      "outputs": []
    },
    {
      "cell_type": "code",
      "metadata": {
        "id": "pHJYRJBaBMJ8"
      },
      "source": [
        ""
      ],
      "execution_count": null,
      "outputs": []
    },
    {
      "cell_type": "code",
      "metadata": {
        "id": "w1K1lrONBMMg"
      },
      "source": [
        ""
      ],
      "execution_count": null,
      "outputs": []
    },
    {
      "cell_type": "code",
      "metadata": {
        "id": "iOIsRWb4BMPL"
      },
      "source": [
        ""
      ],
      "execution_count": null,
      "outputs": []
    },
    {
      "cell_type": "code",
      "metadata": {
        "id": "7Gs2rGEzBMSA"
      },
      "source": [
        ""
      ],
      "execution_count": null,
      "outputs": []
    }
  ]
}